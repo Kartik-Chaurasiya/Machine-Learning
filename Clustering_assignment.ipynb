{
  "nbformat": 4,
  "nbformat_minor": 0,
  "metadata": {
    "colab": {
      "name": "Clustering_assignment.ipynb",
      "provenance": [],
      "collapsed_sections": [],
      "authorship_tag": "ABX9TyOZoT3hbwFCNKsZ8RR1pe3C",
      "include_colab_link": true
    },
    "kernelspec": {
      "name": "python3",
      "display_name": "Python 3"
    },
    "language_info": {
      "name": "python"
    }
  },
  "cells": [
    {
      "cell_type": "markdown",
      "metadata": {
        "id": "view-in-github",
        "colab_type": "text"
      },
      "source": [
        "<a href=\"https://colab.research.google.com/github/Kartik-Chaurasiya/Machine-Learning/blob/master/Clustering_assignment.ipynb\" target=\"_parent\"><img src=\"https://colab.research.google.com/assets/colab-badge.svg\" alt=\"Open In Colab\"/></a>"
      ]
    },
    {
      "cell_type": "code",
      "metadata": {
        "colab": {
          "base_uri": "https://localhost:8080/"
        },
        "id": "mUsGJG8n1mJP",
        "outputId": "7e15ada1-6498-42e1-dfa8-3f46836abb20"
      },
      "source": [
        "from google.colab import drive\n",
        "drive.mount('/gdrive')\n",
        "%cd /gdrive"
      ],
      "execution_count": 1,
      "outputs": [
        {
          "output_type": "stream",
          "name": "stdout",
          "text": [
            "Mounted at /gdrive\n",
            "/gdrive\n"
          ]
        }
      ]
    },
    {
      "cell_type": "code",
      "metadata": {
        "id": "cDTbkiXi2I7P"
      },
      "source": [
        "import pandas as pd\n",
        "import numpy as np\n",
        "import matplotlib.pyplot as plt\n",
        "import seaborn as sns\n",
        "%matplotlib inline"
      ],
      "execution_count": 2,
      "outputs": []
    },
    {
      "cell_type": "code",
      "metadata": {
        "colab": {
          "base_uri": "https://localhost:8080/",
          "height": 389
        },
        "id": "5Fx27X8x1vM8",
        "outputId": "5f5b6a96-d650-46a8-e09c-290a4c21d66c"
      },
      "source": [
        "#importing data\n",
        "data = pd.read_csv('/gdrive/MyDrive/csv/hyderabad-salaried-employees.csv')\n",
        "data.head()"
      ],
      "execution_count": 3,
      "outputs": [
        {
          "output_type": "execute_result",
          "data": {
            "text/html": [
              "<div>\n",
              "<style scoped>\n",
              "    .dataframe tbody tr th:only-of-type {\n",
              "        vertical-align: middle;\n",
              "    }\n",
              "\n",
              "    .dataframe tbody tr th {\n",
              "        vertical-align: top;\n",
              "    }\n",
              "\n",
              "    .dataframe thead th {\n",
              "        text-align: right;\n",
              "    }\n",
              "</style>\n",
              "<table border=\"1\" class=\"dataframe\">\n",
              "  <thead>\n",
              "    <tr style=\"text-align: right;\">\n",
              "      <th></th>\n",
              "      <th>candidateName</th>\n",
              "      <th>companyName</th>\n",
              "      <th>designation</th>\n",
              "      <th>emailAddress</th>\n",
              "      <th>experienceMas</th>\n",
              "      <th>locationCurrentMas</th>\n",
              "      <th>qualificationMas</th>\n",
              "      <th>qualificationMas2</th>\n",
              "      <th>salary</th>\n",
              "      <th>tel_Other</th>\n",
              "      <th>Category</th>\n",
              "    </tr>\n",
              "  </thead>\n",
              "  <tbody>\n",
              "    <tr>\n",
              "      <th>0</th>\n",
              "      <td>Ruchismita Dash</td>\n",
              "      <td>Amdocs</td>\n",
              "      <td>Software Developer</td>\n",
              "      <td>ruchidash89@gmail.com</td>\n",
              "      <td>2 Year(s) 1 Month(s)</td>\n",
              "      <td>Hyderabad/ Secunderabad</td>\n",
              "      <td>BE/ B.Tech (Engineering)</td>\n",
              "      <td>NaN</td>\n",
              "      <td>Rs. 6.71 lacs</td>\n",
              "      <td>8390909230</td>\n",
              "      <td>HYDERABAD-SALARIED</td>\n",
              "    </tr>\n",
              "    <tr>\n",
              "      <th>1</th>\n",
              "      <td>MANISHA DAS</td>\n",
              "      <td>APOLLO HOSPITALS ENTERPRISES LIMITED</td>\n",
              "      <td>SENIOR EXECUTIVE-OPERATIONS</td>\n",
              "      <td>manisha.das82@gmail.com</td>\n",
              "      <td>5 Year(s) 9 Month(s)</td>\n",
              "      <td>Hyderabad/ Secunderabad</td>\n",
              "      <td>MBA/ PGDM</td>\n",
              "      <td>B.Pharm. (Pharmacy)</td>\n",
              "      <td>Rs. 5.0 lacs</td>\n",
              "      <td>9701900131</td>\n",
              "      <td>HYDERABAD-SALARIED</td>\n",
              "    </tr>\n",
              "    <tr>\n",
              "      <th>2</th>\n",
              "      <td>C J GEETHA PRIYA</td>\n",
              "      <td>propertyoneshop.com</td>\n",
              "      <td>System Administrator</td>\n",
              "      <td>geethapriya89@gmail.com</td>\n",
              "      <td>4 Year(s) 4 Month(s)</td>\n",
              "      <td>Hyderabad/ Secunderabad</td>\n",
              "      <td>B.Com. (Commerce)</td>\n",
              "      <td>NaN</td>\n",
              "      <td>Rs. 84.0 lacs</td>\n",
              "      <td>9705407817</td>\n",
              "      <td>HYDERABAD-SALARIED</td>\n",
              "    </tr>\n",
              "    <tr>\n",
              "      <th>3</th>\n",
              "      <td>SRIKANTH</td>\n",
              "      <td>Axis Bank Ltd</td>\n",
              "      <td>NaN</td>\n",
              "      <td>sburisetty@gmail.com</td>\n",
              "      <td>7 Year(s) 11 Month(s)</td>\n",
              "      <td>Hyderabad/ Secunderabad</td>\n",
              "      <td>NaN</td>\n",
              "      <td>MBA/ PGDM</td>\n",
              "      <td>Rs. 7.0 lacs</td>\n",
              "      <td>8142444544</td>\n",
              "      <td>HYDERABAD-SALARIED</td>\n",
              "    </tr>\n",
              "    <tr>\n",
              "      <th>4</th>\n",
              "      <td>Madduri Srinivas</td>\n",
              "      <td>CTS</td>\n",
              "      <td>Associate Projects</td>\n",
              "      <td>madduri12@gmail.com</td>\n",
              "      <td>6 Year(s) 8 Month(s)</td>\n",
              "      <td>Hyderabad/ Secunderabad</td>\n",
              "      <td>B.Com. (Commerce)</td>\n",
              "      <td>MCA/ PGDCA</td>\n",
              "      <td>Rs. 8.05 lacs</td>\n",
              "      <td>9581812128</td>\n",
              "      <td>HYDERABAD-SALARIED</td>\n",
              "    </tr>\n",
              "  </tbody>\n",
              "</table>\n",
              "</div>"
            ],
            "text/plain": [
              "      candidateName  ...            Category\n",
              "0   Ruchismita Dash  ...  HYDERABAD-SALARIED\n",
              "1       MANISHA DAS  ...  HYDERABAD-SALARIED\n",
              "2  C J GEETHA PRIYA  ...  HYDERABAD-SALARIED\n",
              "3          SRIKANTH  ...  HYDERABAD-SALARIED\n",
              "4  Madduri Srinivas  ...  HYDERABAD-SALARIED\n",
              "\n",
              "[5 rows x 11 columns]"
            ]
          },
          "metadata": {},
          "execution_count": 3
        }
      ]
    },
    {
      "cell_type": "code",
      "metadata": {
        "colab": {
          "base_uri": "https://localhost:8080/"
        },
        "id": "2BBNGv-c2ett",
        "outputId": "ab9d287f-1003-41da-f190-ed4fdf35df26"
      },
      "source": [
        "data.shape"
      ],
      "execution_count": 4,
      "outputs": [
        {
          "output_type": "execute_result",
          "data": {
            "text/plain": [
              "(28847, 11)"
            ]
          },
          "metadata": {},
          "execution_count": 4
        }
      ]
    },
    {
      "cell_type": "code",
      "metadata": {
        "colab": {
          "base_uri": "https://localhost:8080/"
        },
        "id": "2t_CaI3H2jZB",
        "outputId": "122cf244-d37e-499a-a074-503c3051027e"
      },
      "source": [
        "data.dtypes"
      ],
      "execution_count": 5,
      "outputs": [
        {
          "output_type": "execute_result",
          "data": {
            "text/plain": [
              "candidateName         object\n",
              "companyName           object\n",
              "designation           object\n",
              "emailAddress          object\n",
              "experienceMas         object\n",
              "locationCurrentMas    object\n",
              "qualificationMas      object\n",
              "qualificationMas2     object\n",
              "salary                object\n",
              "tel_Other              int64\n",
              "Category              object\n",
              "dtype: object"
            ]
          },
          "metadata": {},
          "execution_count": 5
        }
      ]
    },
    {
      "cell_type": "code",
      "metadata": {
        "colab": {
          "base_uri": "https://localhost:8080/"
        },
        "id": "REvsap-i4Wat",
        "outputId": "b1599a4e-8b70-49ef-9f31-d2fca6937a5a"
      },
      "source": [
        "#check for null values\n",
        "data.isnull().sum().sort_values(ascending = False)/len(data)"
      ],
      "execution_count": 6,
      "outputs": [
        {
          "output_type": "execute_result",
          "data": {
            "text/plain": [
              "qualificationMas2     0.464450\n",
              "qualificationMas      0.169030\n",
              "designation           0.160502\n",
              "companyName           0.001421\n",
              "emailAddress          0.000416\n",
              "candidateName         0.000139\n",
              "Category              0.000000\n",
              "tel_Other             0.000000\n",
              "salary                0.000000\n",
              "locationCurrentMas    0.000000\n",
              "experienceMas         0.000000\n",
              "dtype: float64"
            ]
          },
          "metadata": {},
          "execution_count": 6
        }
      ]
    },
    {
      "cell_type": "code",
      "metadata": {
        "colab": {
          "base_uri": "https://localhost:8080/"
        },
        "id": "dwTdw9ak5HQg",
        "outputId": "828e0cd0-f2e8-42dd-e3cc-ac88c5048f3e"
      },
      "source": [
        "#unique values in each column\n",
        "data.nunique()"
      ],
      "execution_count": 7,
      "outputs": [
        {
          "output_type": "execute_result",
          "data": {
            "text/plain": [
              "candidateName         27288\n",
              "companyName           15153\n",
              "designation           12636\n",
              "emailAddress          28806\n",
              "experienceMas           492\n",
              "locationCurrentMas        3\n",
              "qualificationMas         51\n",
              "qualificationMas2        48\n",
              "salary                 1560\n",
              "tel_Other             28847\n",
              "Category                  1\n",
              "dtype: int64"
            ]
          },
          "metadata": {},
          "execution_count": 7
        }
      ]
    },
    {
      "cell_type": "code",
      "metadata": {
        "colab": {
          "base_uri": "https://localhost:8080/"
        },
        "id": "0h3U0K2V6JW4",
        "outputId": "c4eaa2c2-e5d4-41a9-edba-2cb576f76074"
      },
      "source": [
        "data.locationCurrentMas.unique()"
      ],
      "execution_count": 40,
      "outputs": [
        {
          "output_type": "execute_result",
          "data": {
            "text/plain": [
              "array(['Hyderabad/ Secunderabad', 'Hyderabad', 'Hyderabad '], dtype=object)"
            ]
          },
          "metadata": {},
          "execution_count": 40
        }
      ]
    },
    {
      "cell_type": "code",
      "metadata": {
        "id": "Ov95jN5hMefl"
      },
      "source": [
        "#droping other columns\n",
        "#candidateName -- no specific effect on clustering\n",
        "#companyName -- no specific effect on clustering\n",
        "#designation -- no specific effect on clustering\n",
        "#emailAddress -- no specific effect on clustering          \n",
        "#locationCurrentMas -- just as one value ['Hyderabad/ Secunderabad', 'Hyderabad', 'Hyderabad ']    \n",
        "#tel_Other -- no specific effect on clustering              \n",
        "#Category -- just as one value    \n",
        "#experienceMas -- it can be dropped cause without it there are same samples              \n",
        "data2 = data[['qualificationMas2', 'qualificationMas', 'experienceMas']]"
      ],
      "execution_count": 29,
      "outputs": []
    },
    {
      "cell_type": "code",
      "metadata": {
        "id": "wwgsYTa2W6ZV"
      },
      "source": [
        "#getting the salary value from salary column\n",
        "import re\n",
        "def get_sal(row):\n",
        "  for x in re.findall(\"\\d+\\.\\d+\", row):\n",
        "    return float(x)"
      ],
      "execution_count": 30,
      "outputs": []
    },
    {
      "cell_type": "code",
      "metadata": {
        "colab": {
          "base_uri": "https://localhost:8080/",
          "height": 302
        },
        "id": "7LgvECA1ayLT",
        "outputId": "5af1e962-363d-4aff-ce6e-edc8b5933473"
      },
      "source": [
        "data2['salary'] = data1['salary'].apply(get_sal)\n",
        "data2.head()"
      ],
      "execution_count": 31,
      "outputs": [
        {
          "output_type": "stream",
          "name": "stderr",
          "text": [
            "/usr/local/lib/python3.7/dist-packages/ipykernel_launcher.py:1: SettingWithCopyWarning: \n",
            "A value is trying to be set on a copy of a slice from a DataFrame.\n",
            "Try using .loc[row_indexer,col_indexer] = value instead\n",
            "\n",
            "See the caveats in the documentation: https://pandas.pydata.org/pandas-docs/stable/user_guide/indexing.html#returning-a-view-versus-a-copy\n",
            "  \"\"\"Entry point for launching an IPython kernel.\n"
          ]
        },
        {
          "output_type": "execute_result",
          "data": {
            "text/html": [
              "<div>\n",
              "<style scoped>\n",
              "    .dataframe tbody tr th:only-of-type {\n",
              "        vertical-align: middle;\n",
              "    }\n",
              "\n",
              "    .dataframe tbody tr th {\n",
              "        vertical-align: top;\n",
              "    }\n",
              "\n",
              "    .dataframe thead th {\n",
              "        text-align: right;\n",
              "    }\n",
              "</style>\n",
              "<table border=\"1\" class=\"dataframe\">\n",
              "  <thead>\n",
              "    <tr style=\"text-align: right;\">\n",
              "      <th></th>\n",
              "      <th>qualificationMas2</th>\n",
              "      <th>qualificationMas</th>\n",
              "      <th>experienceMas</th>\n",
              "      <th>salary</th>\n",
              "    </tr>\n",
              "  </thead>\n",
              "  <tbody>\n",
              "    <tr>\n",
              "      <th>0</th>\n",
              "      <td>NaN</td>\n",
              "      <td>BE/ B.Tech (Engineering)</td>\n",
              "      <td>2 Year(s) 1 Month(s)</td>\n",
              "      <td>6.71</td>\n",
              "    </tr>\n",
              "    <tr>\n",
              "      <th>1</th>\n",
              "      <td>B.Pharm. (Pharmacy)</td>\n",
              "      <td>MBA/ PGDM</td>\n",
              "      <td>5 Year(s) 9 Month(s)</td>\n",
              "      <td>5.00</td>\n",
              "    </tr>\n",
              "    <tr>\n",
              "      <th>2</th>\n",
              "      <td>NaN</td>\n",
              "      <td>B.Com. (Commerce)</td>\n",
              "      <td>4 Year(s) 4 Month(s)</td>\n",
              "      <td>84.00</td>\n",
              "    </tr>\n",
              "    <tr>\n",
              "      <th>3</th>\n",
              "      <td>MBA/ PGDM</td>\n",
              "      <td>NaN</td>\n",
              "      <td>7 Year(s) 11 Month(s)</td>\n",
              "      <td>7.00</td>\n",
              "    </tr>\n",
              "    <tr>\n",
              "      <th>4</th>\n",
              "      <td>MCA/ PGDCA</td>\n",
              "      <td>B.Com. (Commerce)</td>\n",
              "      <td>6 Year(s) 8 Month(s)</td>\n",
              "      <td>8.05</td>\n",
              "    </tr>\n",
              "  </tbody>\n",
              "</table>\n",
              "</div>"
            ],
            "text/plain": [
              "     qualificationMas2          qualificationMas          experienceMas  salary\n",
              "0                  NaN  BE/ B.Tech (Engineering)   2 Year(s) 1 Month(s)    6.71\n",
              "1  B.Pharm. (Pharmacy)                 MBA/ PGDM   5 Year(s) 9 Month(s)    5.00\n",
              "2                  NaN         B.Com. (Commerce)   4 Year(s) 4 Month(s)   84.00\n",
              "3            MBA/ PGDM                       NaN  7 Year(s) 11 Month(s)    7.00\n",
              "4           MCA/ PGDCA         B.Com. (Commerce)   6 Year(s) 8 Month(s)    8.05"
            ]
          },
          "metadata": {},
          "execution_count": 31
        }
      ]
    },
    {
      "cell_type": "code",
      "metadata": {
        "id": "23rTvDm4J4Ck"
      },
      "source": [
        "#getting dummy values for columns ['qualificationMas2', 'qualificationMas', 'experienceMas']\n",
        "data3 = pd.get_dummies(data2)"
      ],
      "execution_count": 32,
      "outputs": []
    },
    {
      "cell_type": "code",
      "metadata": {
        "colab": {
          "base_uri": "https://localhost:8080/",
          "height": 285
        },
        "id": "my3O-A1JXYpN",
        "outputId": "91f7a361-0dfc-41e2-eea2-4dd6a1b29764"
      },
      "source": [
        "data3.head()"
      ],
      "execution_count": 33,
      "outputs": [
        {
          "output_type": "execute_result",
          "data": {
            "text/html": [
              "<div>\n",
              "<style scoped>\n",
              "    .dataframe tbody tr th:only-of-type {\n",
              "        vertical-align: middle;\n",
              "    }\n",
              "\n",
              "    .dataframe tbody tr th {\n",
              "        vertical-align: top;\n",
              "    }\n",
              "\n",
              "    .dataframe thead th {\n",
              "        text-align: right;\n",
              "    }\n",
              "</style>\n",
              "<table border=\"1\" class=\"dataframe\">\n",
              "  <thead>\n",
              "    <tr style=\"text-align: right;\">\n",
              "      <th></th>\n",
              "      <th>salary</th>\n",
              "      <th>qualificationMas2_12th &amp; Not Pursuing Graduation</th>\n",
              "      <th>qualificationMas2_B.Arch. (Architecture)</th>\n",
              "      <th>qualificationMas2_B.Com. (Commerce)</th>\n",
              "      <th>qualificationMas2_B.Ed. (Education)</th>\n",
              "      <th>qualificationMas2_B.Pharm. (Pharmacy)</th>\n",
              "      <th>qualificationMas2_B.Sc. (Science)</th>\n",
              "      <th>qualificationMas2_B.V.Sc. (Veterinary Science)</th>\n",
              "      <th>qualificationMas2_BA (Arts)</th>\n",
              "      <th>qualificationMas2_BBA/ BBM/ BBS</th>\n",
              "      <th>qualificationMas2_BCA (Computer Application)</th>\n",
              "      <th>qualificationMas2_BDS (Dental Surgery)</th>\n",
              "      <th>qualificationMas2_BE/ B.Tech (Engineering)</th>\n",
              "      <th>qualificationMas2_BHM (Hotel Management)</th>\n",
              "      <th>qualificationMas2_BL/LLB</th>\n",
              "      <th>qualificationMas2_CA (Chartered Accountant)</th>\n",
              "      <th>qualificationMas2_CFA (Chartered Financial Analyst)</th>\n",
              "      <th>qualificationMas2_CS (Company Secretary)</th>\n",
              "      <th>qualificationMas2_Diploma-Engineering</th>\n",
              "      <th>qualificationMas2_Diploma-Other Diploma</th>\n",
              "      <th>qualificationMas2_ICWA</th>\n",
              "      <th>qualificationMas2_Integrated PG Course</th>\n",
              "      <th>qualificationMas2_M.Arch. (Architecture)</th>\n",
              "      <th>qualificationMas2_M.Com. (Commerce)</th>\n",
              "      <th>qualificationMas2_M.Ed. (Education)</th>\n",
              "      <th>qualificationMas2_M.Lib.Sc. (Library Sciences)</th>\n",
              "      <th>qualificationMas2_M.Pharm. (Pharmacy)</th>\n",
              "      <th>qualificationMas2_M.Phil. (Philosophy)</th>\n",
              "      <th>qualificationMas2_M.Plan. (Planning)</th>\n",
              "      <th>qualificationMas2_M.Sc. (Science)</th>\n",
              "      <th>qualificationMas2_M.V.Sc. (Veterinary Science)</th>\n",
              "      <th>qualificationMas2_MA (Arts)</th>\n",
              "      <th>qualificationMas2_MBA/ PGDM</th>\n",
              "      <th>qualificationMas2_MBBS</th>\n",
              "      <th>qualificationMas2_MCA/ PGDCA</th>\n",
              "      <th>qualificationMas2_MD/ MS (Medicine)</th>\n",
              "      <th>qualificationMas2_ME/ M.Tech./ MS (Engg/ Sciences)</th>\n",
              "      <th>qualificationMas2_MFA (Fine Arts)</th>\n",
              "      <th>qualificationMas2_ML/ LLM (Law)</th>\n",
              "      <th>qualificationMas2_MPT (Physiotherapy)</th>\n",
              "      <th>...</th>\n",
              "      <th>experienceMas_7 Year(s) 8 Month(s)</th>\n",
              "      <th>experienceMas_7 Year(s) 9 Month(s)</th>\n",
              "      <th>experienceMas_75 Year(s)</th>\n",
              "      <th>experienceMas_8 Month(s)</th>\n",
              "      <th>experienceMas_8 Year(s)</th>\n",
              "      <th>experienceMas_8 Year(s) 1 Month(s)</th>\n",
              "      <th>experienceMas_8 Year(s) 10 Month(s)</th>\n",
              "      <th>experienceMas_8 Year(s) 11 Month(s)</th>\n",
              "      <th>experienceMas_8 Year(s) 2 Month(s)</th>\n",
              "      <th>experienceMas_8 Year(s) 3 Month(s)</th>\n",
              "      <th>experienceMas_8 Year(s) 4 Month(s)</th>\n",
              "      <th>experienceMas_8 Year(s) 5 Month(s)</th>\n",
              "      <th>experienceMas_8 Year(s) 6 Month(s)</th>\n",
              "      <th>experienceMas_8 Year(s) 7 Month(s)</th>\n",
              "      <th>experienceMas_8 Year(s) 8 Month(s)</th>\n",
              "      <th>experienceMas_8 Year(s) 9 Month(s)</th>\n",
              "      <th>experienceMas_80 Year(s)</th>\n",
              "      <th>experienceMas_80 Year(s) 10 Month(s)</th>\n",
              "      <th>experienceMas_80 Year(s) 3 Month(s)</th>\n",
              "      <th>experienceMas_80 Year(s) 4 Month(s)</th>\n",
              "      <th>experienceMas_80 Year(s) 5 Month(s)</th>\n",
              "      <th>experienceMas_81 Year(s)</th>\n",
              "      <th>experienceMas_81 Year(s) 9 Month(s)</th>\n",
              "      <th>experienceMas_85 Year(s) 8 Month(s)</th>\n",
              "      <th>experienceMas_9 Month(s)</th>\n",
              "      <th>experienceMas_9 Year(s)</th>\n",
              "      <th>experienceMas_9 Year(s) 1 Month(s)</th>\n",
              "      <th>experienceMas_9 Year(s) 10 Month(s)</th>\n",
              "      <th>experienceMas_9 Year(s) 11 Month(s)</th>\n",
              "      <th>experienceMas_9 Year(s) 2 Month(s)</th>\n",
              "      <th>experienceMas_9 Year(s) 3 Month(s)</th>\n",
              "      <th>experienceMas_9 Year(s) 4 Month(s)</th>\n",
              "      <th>experienceMas_9 Year(s) 5 Month(s)</th>\n",
              "      <th>experienceMas_9 Year(s) 6 Month(s)</th>\n",
              "      <th>experienceMas_9 Year(s) 7 Month(s)</th>\n",
              "      <th>experienceMas_9 Year(s) 8 Month(s)</th>\n",
              "      <th>experienceMas_9 Year(s) 9 Month(s)</th>\n",
              "      <th>experienceMas_90 Year(s)</th>\n",
              "      <th>experienceMas_90 Year(s) 10 Month(s)</th>\n",
              "      <th>experienceMas_Fresher</th>\n",
              "    </tr>\n",
              "  </thead>\n",
              "  <tbody>\n",
              "    <tr>\n",
              "      <th>0</th>\n",
              "      <td>6.71</td>\n",
              "      <td>0</td>\n",
              "      <td>0</td>\n",
              "      <td>0</td>\n",
              "      <td>0</td>\n",
              "      <td>0</td>\n",
              "      <td>0</td>\n",
              "      <td>0</td>\n",
              "      <td>0</td>\n",
              "      <td>0</td>\n",
              "      <td>0</td>\n",
              "      <td>0</td>\n",
              "      <td>0</td>\n",
              "      <td>0</td>\n",
              "      <td>0</td>\n",
              "      <td>0</td>\n",
              "      <td>0</td>\n",
              "      <td>0</td>\n",
              "      <td>0</td>\n",
              "      <td>0</td>\n",
              "      <td>0</td>\n",
              "      <td>0</td>\n",
              "      <td>0</td>\n",
              "      <td>0</td>\n",
              "      <td>0</td>\n",
              "      <td>0</td>\n",
              "      <td>0</td>\n",
              "      <td>0</td>\n",
              "      <td>0</td>\n",
              "      <td>0</td>\n",
              "      <td>0</td>\n",
              "      <td>0</td>\n",
              "      <td>0</td>\n",
              "      <td>0</td>\n",
              "      <td>0</td>\n",
              "      <td>0</td>\n",
              "      <td>0</td>\n",
              "      <td>0</td>\n",
              "      <td>0</td>\n",
              "      <td>0</td>\n",
              "      <td>...</td>\n",
              "      <td>0</td>\n",
              "      <td>0</td>\n",
              "      <td>0</td>\n",
              "      <td>0</td>\n",
              "      <td>0</td>\n",
              "      <td>0</td>\n",
              "      <td>0</td>\n",
              "      <td>0</td>\n",
              "      <td>0</td>\n",
              "      <td>0</td>\n",
              "      <td>0</td>\n",
              "      <td>0</td>\n",
              "      <td>0</td>\n",
              "      <td>0</td>\n",
              "      <td>0</td>\n",
              "      <td>0</td>\n",
              "      <td>0</td>\n",
              "      <td>0</td>\n",
              "      <td>0</td>\n",
              "      <td>0</td>\n",
              "      <td>0</td>\n",
              "      <td>0</td>\n",
              "      <td>0</td>\n",
              "      <td>0</td>\n",
              "      <td>0</td>\n",
              "      <td>0</td>\n",
              "      <td>0</td>\n",
              "      <td>0</td>\n",
              "      <td>0</td>\n",
              "      <td>0</td>\n",
              "      <td>0</td>\n",
              "      <td>0</td>\n",
              "      <td>0</td>\n",
              "      <td>0</td>\n",
              "      <td>0</td>\n",
              "      <td>0</td>\n",
              "      <td>0</td>\n",
              "      <td>0</td>\n",
              "      <td>0</td>\n",
              "      <td>0</td>\n",
              "    </tr>\n",
              "    <tr>\n",
              "      <th>1</th>\n",
              "      <td>5.00</td>\n",
              "      <td>0</td>\n",
              "      <td>0</td>\n",
              "      <td>0</td>\n",
              "      <td>0</td>\n",
              "      <td>1</td>\n",
              "      <td>0</td>\n",
              "      <td>0</td>\n",
              "      <td>0</td>\n",
              "      <td>0</td>\n",
              "      <td>0</td>\n",
              "      <td>0</td>\n",
              "      <td>0</td>\n",
              "      <td>0</td>\n",
              "      <td>0</td>\n",
              "      <td>0</td>\n",
              "      <td>0</td>\n",
              "      <td>0</td>\n",
              "      <td>0</td>\n",
              "      <td>0</td>\n",
              "      <td>0</td>\n",
              "      <td>0</td>\n",
              "      <td>0</td>\n",
              "      <td>0</td>\n",
              "      <td>0</td>\n",
              "      <td>0</td>\n",
              "      <td>0</td>\n",
              "      <td>0</td>\n",
              "      <td>0</td>\n",
              "      <td>0</td>\n",
              "      <td>0</td>\n",
              "      <td>0</td>\n",
              "      <td>0</td>\n",
              "      <td>0</td>\n",
              "      <td>0</td>\n",
              "      <td>0</td>\n",
              "      <td>0</td>\n",
              "      <td>0</td>\n",
              "      <td>0</td>\n",
              "      <td>0</td>\n",
              "      <td>...</td>\n",
              "      <td>0</td>\n",
              "      <td>0</td>\n",
              "      <td>0</td>\n",
              "      <td>0</td>\n",
              "      <td>0</td>\n",
              "      <td>0</td>\n",
              "      <td>0</td>\n",
              "      <td>0</td>\n",
              "      <td>0</td>\n",
              "      <td>0</td>\n",
              "      <td>0</td>\n",
              "      <td>0</td>\n",
              "      <td>0</td>\n",
              "      <td>0</td>\n",
              "      <td>0</td>\n",
              "      <td>0</td>\n",
              "      <td>0</td>\n",
              "      <td>0</td>\n",
              "      <td>0</td>\n",
              "      <td>0</td>\n",
              "      <td>0</td>\n",
              "      <td>0</td>\n",
              "      <td>0</td>\n",
              "      <td>0</td>\n",
              "      <td>0</td>\n",
              "      <td>0</td>\n",
              "      <td>0</td>\n",
              "      <td>0</td>\n",
              "      <td>0</td>\n",
              "      <td>0</td>\n",
              "      <td>0</td>\n",
              "      <td>0</td>\n",
              "      <td>0</td>\n",
              "      <td>0</td>\n",
              "      <td>0</td>\n",
              "      <td>0</td>\n",
              "      <td>0</td>\n",
              "      <td>0</td>\n",
              "      <td>0</td>\n",
              "      <td>0</td>\n",
              "    </tr>\n",
              "    <tr>\n",
              "      <th>2</th>\n",
              "      <td>84.00</td>\n",
              "      <td>0</td>\n",
              "      <td>0</td>\n",
              "      <td>0</td>\n",
              "      <td>0</td>\n",
              "      <td>0</td>\n",
              "      <td>0</td>\n",
              "      <td>0</td>\n",
              "      <td>0</td>\n",
              "      <td>0</td>\n",
              "      <td>0</td>\n",
              "      <td>0</td>\n",
              "      <td>0</td>\n",
              "      <td>0</td>\n",
              "      <td>0</td>\n",
              "      <td>0</td>\n",
              "      <td>0</td>\n",
              "      <td>0</td>\n",
              "      <td>0</td>\n",
              "      <td>0</td>\n",
              "      <td>0</td>\n",
              "      <td>0</td>\n",
              "      <td>0</td>\n",
              "      <td>0</td>\n",
              "      <td>0</td>\n",
              "      <td>0</td>\n",
              "      <td>0</td>\n",
              "      <td>0</td>\n",
              "      <td>0</td>\n",
              "      <td>0</td>\n",
              "      <td>0</td>\n",
              "      <td>0</td>\n",
              "      <td>0</td>\n",
              "      <td>0</td>\n",
              "      <td>0</td>\n",
              "      <td>0</td>\n",
              "      <td>0</td>\n",
              "      <td>0</td>\n",
              "      <td>0</td>\n",
              "      <td>0</td>\n",
              "      <td>...</td>\n",
              "      <td>0</td>\n",
              "      <td>0</td>\n",
              "      <td>0</td>\n",
              "      <td>0</td>\n",
              "      <td>0</td>\n",
              "      <td>0</td>\n",
              "      <td>0</td>\n",
              "      <td>0</td>\n",
              "      <td>0</td>\n",
              "      <td>0</td>\n",
              "      <td>0</td>\n",
              "      <td>0</td>\n",
              "      <td>0</td>\n",
              "      <td>0</td>\n",
              "      <td>0</td>\n",
              "      <td>0</td>\n",
              "      <td>0</td>\n",
              "      <td>0</td>\n",
              "      <td>0</td>\n",
              "      <td>0</td>\n",
              "      <td>0</td>\n",
              "      <td>0</td>\n",
              "      <td>0</td>\n",
              "      <td>0</td>\n",
              "      <td>0</td>\n",
              "      <td>0</td>\n",
              "      <td>0</td>\n",
              "      <td>0</td>\n",
              "      <td>0</td>\n",
              "      <td>0</td>\n",
              "      <td>0</td>\n",
              "      <td>0</td>\n",
              "      <td>0</td>\n",
              "      <td>0</td>\n",
              "      <td>0</td>\n",
              "      <td>0</td>\n",
              "      <td>0</td>\n",
              "      <td>0</td>\n",
              "      <td>0</td>\n",
              "      <td>0</td>\n",
              "    </tr>\n",
              "    <tr>\n",
              "      <th>3</th>\n",
              "      <td>7.00</td>\n",
              "      <td>0</td>\n",
              "      <td>0</td>\n",
              "      <td>0</td>\n",
              "      <td>0</td>\n",
              "      <td>0</td>\n",
              "      <td>0</td>\n",
              "      <td>0</td>\n",
              "      <td>0</td>\n",
              "      <td>0</td>\n",
              "      <td>0</td>\n",
              "      <td>0</td>\n",
              "      <td>0</td>\n",
              "      <td>0</td>\n",
              "      <td>0</td>\n",
              "      <td>0</td>\n",
              "      <td>0</td>\n",
              "      <td>0</td>\n",
              "      <td>0</td>\n",
              "      <td>0</td>\n",
              "      <td>0</td>\n",
              "      <td>0</td>\n",
              "      <td>0</td>\n",
              "      <td>0</td>\n",
              "      <td>0</td>\n",
              "      <td>0</td>\n",
              "      <td>0</td>\n",
              "      <td>0</td>\n",
              "      <td>0</td>\n",
              "      <td>0</td>\n",
              "      <td>0</td>\n",
              "      <td>0</td>\n",
              "      <td>1</td>\n",
              "      <td>0</td>\n",
              "      <td>0</td>\n",
              "      <td>0</td>\n",
              "      <td>0</td>\n",
              "      <td>0</td>\n",
              "      <td>0</td>\n",
              "      <td>0</td>\n",
              "      <td>...</td>\n",
              "      <td>0</td>\n",
              "      <td>0</td>\n",
              "      <td>0</td>\n",
              "      <td>0</td>\n",
              "      <td>0</td>\n",
              "      <td>0</td>\n",
              "      <td>0</td>\n",
              "      <td>0</td>\n",
              "      <td>0</td>\n",
              "      <td>0</td>\n",
              "      <td>0</td>\n",
              "      <td>0</td>\n",
              "      <td>0</td>\n",
              "      <td>0</td>\n",
              "      <td>0</td>\n",
              "      <td>0</td>\n",
              "      <td>0</td>\n",
              "      <td>0</td>\n",
              "      <td>0</td>\n",
              "      <td>0</td>\n",
              "      <td>0</td>\n",
              "      <td>0</td>\n",
              "      <td>0</td>\n",
              "      <td>0</td>\n",
              "      <td>0</td>\n",
              "      <td>0</td>\n",
              "      <td>0</td>\n",
              "      <td>0</td>\n",
              "      <td>0</td>\n",
              "      <td>0</td>\n",
              "      <td>0</td>\n",
              "      <td>0</td>\n",
              "      <td>0</td>\n",
              "      <td>0</td>\n",
              "      <td>0</td>\n",
              "      <td>0</td>\n",
              "      <td>0</td>\n",
              "      <td>0</td>\n",
              "      <td>0</td>\n",
              "      <td>0</td>\n",
              "    </tr>\n",
              "    <tr>\n",
              "      <th>4</th>\n",
              "      <td>8.05</td>\n",
              "      <td>0</td>\n",
              "      <td>0</td>\n",
              "      <td>0</td>\n",
              "      <td>0</td>\n",
              "      <td>0</td>\n",
              "      <td>0</td>\n",
              "      <td>0</td>\n",
              "      <td>0</td>\n",
              "      <td>0</td>\n",
              "      <td>0</td>\n",
              "      <td>0</td>\n",
              "      <td>0</td>\n",
              "      <td>0</td>\n",
              "      <td>0</td>\n",
              "      <td>0</td>\n",
              "      <td>0</td>\n",
              "      <td>0</td>\n",
              "      <td>0</td>\n",
              "      <td>0</td>\n",
              "      <td>0</td>\n",
              "      <td>0</td>\n",
              "      <td>0</td>\n",
              "      <td>0</td>\n",
              "      <td>0</td>\n",
              "      <td>0</td>\n",
              "      <td>0</td>\n",
              "      <td>0</td>\n",
              "      <td>0</td>\n",
              "      <td>0</td>\n",
              "      <td>0</td>\n",
              "      <td>0</td>\n",
              "      <td>0</td>\n",
              "      <td>0</td>\n",
              "      <td>1</td>\n",
              "      <td>0</td>\n",
              "      <td>0</td>\n",
              "      <td>0</td>\n",
              "      <td>0</td>\n",
              "      <td>0</td>\n",
              "      <td>...</td>\n",
              "      <td>0</td>\n",
              "      <td>0</td>\n",
              "      <td>0</td>\n",
              "      <td>0</td>\n",
              "      <td>0</td>\n",
              "      <td>0</td>\n",
              "      <td>0</td>\n",
              "      <td>0</td>\n",
              "      <td>0</td>\n",
              "      <td>0</td>\n",
              "      <td>0</td>\n",
              "      <td>0</td>\n",
              "      <td>0</td>\n",
              "      <td>0</td>\n",
              "      <td>0</td>\n",
              "      <td>0</td>\n",
              "      <td>0</td>\n",
              "      <td>0</td>\n",
              "      <td>0</td>\n",
              "      <td>0</td>\n",
              "      <td>0</td>\n",
              "      <td>0</td>\n",
              "      <td>0</td>\n",
              "      <td>0</td>\n",
              "      <td>0</td>\n",
              "      <td>0</td>\n",
              "      <td>0</td>\n",
              "      <td>0</td>\n",
              "      <td>0</td>\n",
              "      <td>0</td>\n",
              "      <td>0</td>\n",
              "      <td>0</td>\n",
              "      <td>0</td>\n",
              "      <td>0</td>\n",
              "      <td>0</td>\n",
              "      <td>0</td>\n",
              "      <td>0</td>\n",
              "      <td>0</td>\n",
              "      <td>0</td>\n",
              "      <td>0</td>\n",
              "    </tr>\n",
              "  </tbody>\n",
              "</table>\n",
              "<p>5 rows × 592 columns</p>\n",
              "</div>"
            ],
            "text/plain": [
              "   salary  ...  experienceMas_Fresher\n",
              "0    6.71  ...                      0\n",
              "1    5.00  ...                      0\n",
              "2   84.00  ...                      0\n",
              "3    7.00  ...                      0\n",
              "4    8.05  ...                      0\n",
              "\n",
              "[5 rows x 592 columns]"
            ]
          },
          "metadata": {},
          "execution_count": 33
        }
      ]
    },
    {
      "cell_type": "code",
      "metadata": {
        "colab": {
          "base_uri": "https://localhost:8080/"
        },
        "id": "Cvu6_eHObTnK",
        "outputId": "7ff9d467-da4d-4004-bce9-178abe8dc265"
      },
      "source": [
        "data3.shape"
      ],
      "execution_count": 34,
      "outputs": [
        {
          "output_type": "execute_result",
          "data": {
            "text/plain": [
              "(28847, 592)"
            ]
          },
          "metadata": {},
          "execution_count": 34
        }
      ]
    },
    {
      "cell_type": "code",
      "metadata": {
        "id": "B7UJGBDwOq8B"
      },
      "source": [
        "from sklearn.cluster import KMeans"
      ],
      "execution_count": 15,
      "outputs": []
    },
    {
      "cell_type": "code",
      "metadata": {
        "id": "SSOD0lSXPPLT"
      },
      "source": [
        "#Kmeans\n",
        "from sklearn.cluster import KMeans\n",
        "wcss = [] \n",
        "for i in range(1, 10): \n",
        "    kmeans = KMeans(n_clusters = i, init = 'k-means++', random_state = 42)\n",
        "    kmeans.fit(data3) \n",
        "    wcss.append(kmeans.inertia_)"
      ],
      "execution_count": 35,
      "outputs": []
    },
    {
      "cell_type": "code",
      "metadata": {
        "colab": {
          "base_uri": "https://localhost:8080/",
          "height": 290
        },
        "id": "1RD22osgPokB",
        "outputId": "e91fe8c9-cd53-4aba-d87a-1acb531744c9"
      },
      "source": [
        "#elbow method shows that there could be 3 clusters\n",
        "plt.plot(range(1, 10), wcss)\n",
        "plt.xlabel('Number of clusters')\n",
        "plt.ylabel('WCSS') \n",
        "plt.show();"
      ],
      "execution_count": 36,
      "outputs": [
        {
          "output_type": "display_data",
          "data": {
            "image/png": "[encoded data removed]",
            "text/plain": [
              "<Figure size 432x288 with 1 Axes>"
            ]
          },
          "metadata": {
            "needs_background": "light"
          }
        }
      ]
    },
    {
      "cell_type": "code",
      "metadata": {
        "id": "uoz56chwO8tL",
        "colab": {
          "base_uri": "https://localhost:8080/",
          "height": 385
        },
        "outputId": "2277ecf7-a3ff-4dc0-f8e9-3b7f0a187e29"
      },
      "source": [
        "#qualificationMas vs salary\n",
        "sns.catplot(x=\"qualificationMas\", y=\"salary\", jitter=False, data=data2)"
      ],
      "execution_count": 37,
      "outputs": [
        {
          "output_type": "execute_result",
          "data": {
            "text/plain": [
              "<seaborn.axisgrid.FacetGrid at 0x7f3b87ea8850>"
            ]
          },
          "metadata": {},
          "execution_count": 37
        },
        {
          "output_type": "display_data",
          "data": {
            "image/png": "[encoded data removed]",
            "text/plain": [
              "<Figure size 360x360 with 1 Axes>"
            ]
          },
          "metadata": {
            "needs_background": "light"
          }
        }
      ]
    },
    {
      "cell_type": "code",
      "metadata": {
        "colab": {
          "base_uri": "https://localhost:8080/",
          "height": 385
        },
        "id": "YZm1hiyptrpC",
        "outputId": "bdb4ea00-4916-4f96-ba30-fb21251e8526"
      },
      "source": [
        "#qualificationMas2 vs salary\n",
        "sns.catplot(x=\"qualificationMas2\", y=\"salary\", jitter=False, data=data2)"
      ],
      "execution_count": 38,
      "outputs": [
        {
          "output_type": "execute_result",
          "data": {
            "text/plain": [
              "<seaborn.axisgrid.FacetGrid at 0x7f3b87ea8310>"
            ]
          },
          "metadata": {},
          "execution_count": 38
        },
        {
          "output_type": "display_data",
          "data": {
            "image/png": "[encoded data removed]",
            "text/plain": [
              "<Figure size 360x360 with 1 Axes>"
            ]
          },
          "metadata": {
            "needs_background": "light"
          }
        }
      ]
    },
    {
      "cell_type": "code",
      "metadata": {
        "colab": {
          "base_uri": "https://localhost:8080/",
          "height": 366
        },
        "id": "aLdqO_S0v6Yt",
        "outputId": "e5e933c4-f6b2-4505-af1d-38f855555780"
      },
      "source": [
        "#boxplot\n",
        "plt.figure(figsize=(8,5))\n",
        "sns.barplot(x=\"qualificationMas2\", y=\"salary\",data=data2, palette='rainbow')\n",
        "plt.title(\"Fare of Passenger by Embarked Town\")"
      ],
      "execution_count": 39,
      "outputs": [
        {
          "output_type": "execute_result",
          "data": {
            "text/plain": [
              "Text(0.5, 1.0, 'Fare of Passenger by Embarked Town')"
            ]
          },
          "metadata": {},
          "execution_count": 39
        },
        {
          "output_type": "display_data",
          "data": {
            "image/png": "[encoded data removed]",
            "text/plain": [
              "<Figure size 576x360 with 1 Axes>"
            ]
          },
          "metadata": {
            "needs_background": "light"
          }
        }
      ]
    }
  ]
}