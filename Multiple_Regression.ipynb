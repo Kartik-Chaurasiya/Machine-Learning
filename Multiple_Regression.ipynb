{
  "nbformat": 4,
  "nbformat_minor": 0,
  "metadata": {
    "colab": {
      "name": "Multiple Regression.ipynb",
      "provenance": [],
      "authorship_tag": "ABX9TyM4tZwjNNQ1H90+2t+U2exU",
      "include_colab_link": true
    },
    "kernelspec": {
      "name": "python3",
      "display_name": "Python 3"
    }
  },
  "cells": [
    {
      "cell_type": "markdown",
      "metadata": {
        "id": "view-in-github",
        "colab_type": "text"
      },
      "source": [
        "<a href=\"https://colab.research.google.com/github/Syntax-code/Machine-Learning/blob/master/Multiple_Regression.ipynb\" target=\"_parent\"><img src=\"https://colab.research.google.com/assets/colab-badge.svg\" alt=\"Open In Colab\"/></a>"
      ]
    },
    {
      "cell_type": "markdown",
      "metadata": {
        "id": "pHaJKjYP-udI",
        "colab_type": "text"
      },
      "source": [
        "<h2>ŷ = b0 + b1x1 + b2x2 + … + bk-1xk-1 + bkxk\n",
        "\n",
        "y_hat = b0 + b1*x1 + b2*x2 ..... bn*xn\n",
        "\n",
        "y_hat is the model prediction\n",
        "\n",
        "b0 …bn are coefficients of the model, with b0 as the intercept or bias unit, And b1 …bn are gradients or slopes of the independent variables(x1…xn).\n",
        "\n",
        "b0 is Y intercept\n",
        "\n",
        "b1 to bn are slopes with respect to feature xi"
      ]
    },
    {
      "cell_type": "markdown",
      "metadata": {
        "id": "Om0oOnJWBMbC",
        "colab_type": "text"
      },
      "source": [
        "X is an (m * n feature matrix) and y is an(m* 1 column vector)\n",
        "\n",
        "Where:\n",
        "\n",
        "m is the number of observations or rows in the data set\n",
        "\n",
        "n is the number of attributes or variables selected for the prediction\n",
        "\n",
        "X is the m * n feature matrix of independent variables\n",
        "\n",
        "y is the target or dependent variable"
      ]
    },
    {
      "cell_type": "code",
      "metadata": {
        "id": "oxIhnkv6-njK",
        "colab_type": "code",
        "colab": {}
      },
      "source": [
        ""
      ],
      "execution_count": 0,
      "outputs": []
    }
  ]
}