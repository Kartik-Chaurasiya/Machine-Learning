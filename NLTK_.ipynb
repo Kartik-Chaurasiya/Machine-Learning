{
  "nbformat": 4,
  "nbformat_minor": 0,
  "metadata": {
    "colab": {
      "name": "NLTK .ipynb",
      "provenance": [],
      "authorship_tag": "ABX9TyP0xfEEWIYjSF1P+BHYpAQm",
      "include_colab_link": true
    },
    "kernelspec": {
      "name": "python3",
      "display_name": "Python 3"
    }
  },
  "cells": [
    {
      "cell_type": "markdown",
      "metadata": {
        "id": "view-in-github",
        "colab_type": "text"
      },
      "source": [
        "<a href=\"https://colab.research.google.com/github/Syntax-code/Machine-Learning/blob/master/NLTK_.ipynb\" target=\"_parent\"><img src=\"https://colab.research.google.com/assets/colab-badge.svg\" alt=\"Open In Colab\"/></a>"
      ]
    },
    {
      "cell_type": "code",
      "metadata": {
        "id": "pCwaRHFXrkMI",
        "colab_type": "code",
        "colab": {
          "base_uri": "https://localhost:8080/",
          "height": 50
        },
        "outputId": "48576fd9-9019-491c-f587-98394c97ab22"
      },
      "source": [
        "pip install nltk"
      ],
      "execution_count": 3,
      "outputs": [
        {
          "output_type": "stream",
          "text": [
            "Requirement already satisfied: nltk in /usr/local/lib/python3.6/dist-packages (3.2.5)\n",
            "Requirement already satisfied: six in /usr/local/lib/python3.6/dist-packages (from nltk) (1.12.0)\n"
          ],
          "name": "stdout"
        }
      ]
    },
    {
      "cell_type": "code",
      "metadata": {
        "id": "ctYOSewZx1Ce",
        "colab_type": "code",
        "colab": {}
      },
      "source": [
        "import nltk\n",
        "nltk.download()"
      ],
      "execution_count": 0,
      "outputs": []
    },
    {
      "cell_type": "markdown",
      "metadata": {
        "id": "r-9UDQ5AU-94",
        "colab_type": "text"
      },
      "source": [
        "#tokenizer"
      ]
    },
    {
      "cell_type": "code",
      "metadata": {
        "id": "zEoGSN5fyE-9",
        "colab_type": "code",
        "colab": {
          "base_uri": "https://localhost:8080/",
          "height": 0
        },
        "outputId": "bbb3ab66-2ba9-488c-f5c5-bb5b522e32a9"
      },
      "source": [
        "from nltk.tokenize import sent_tokenize, word_tokenize\n",
        "\n",
        "s ='Hello world!, what is your matter. please speak clearly?'\n",
        "print(sent_tokenize(s))"
      ],
      "execution_count": 7,
      "outputs": [
        {
          "output_type": "stream",
          "text": [
            "['Hello world!, what is your matter.', 'please speak clearly?']\n"
          ],
          "name": "stdout"
        }
      ]
    },
    {
      "cell_type": "code",
      "metadata": {
        "id": "4qLodLT201V2",
        "colab_type": "code",
        "colab": {}
      },
      "source": [
        "for i in word_tokenize(s):\n",
        "  print(i)"
      ],
      "execution_count": 0,
      "outputs": []
    },
    {
      "cell_type": "markdown",
      "metadata": {
        "id": "aTi6Z2V9VFzm",
        "colab_type": "text"
      },
      "source": [
        "#stopwords"
      ]
    },
    {
      "cell_type": "code",
      "metadata": {
        "id": "QB3YWIlM07tm",
        "colab_type": "code",
        "colab": {
          "base_uri": "https://localhost:8080/",
          "height": 0
        },
        "outputId": "b1ed36b7-72d7-4035-beed-96e02f1d2d3f"
      },
      "source": [
        "from nltk.corpus import stopwords\n",
        "words = set(stopwords.words('english'))\n",
        "print(words)"
      ],
      "execution_count": 13,
      "outputs": [
        {
          "output_type": "stream",
          "text": [
            "{'re', 'wasn', 'his', \"should've\", 'your', 'a', 'ourselves', 'up', 'to', 'each', 'all', 't', 'have', 'are', 'don', 'shan', 'i', \"you'll\", 'will', 'haven', 'before', 'such', 'won', 'here', 'itself', 'mightn', \"mustn't\", 'into', \"you've\", 'me', 'yours', 'own', 'll', 'were', 'how', 'with', 'not', 'then', 'what', \"shouldn't\", 'theirs', 'of', 'and', 'myself', 'there', 'above', 'or', 'once', 'any', 'himself', 'during', 'these', 'both', 'doesn', 'our', 'which', 'through', 'their', 'more', 'mustn', 'we', 'an', 'so', 'it', 'no', 'the', 'didn', 'against', 'very', 'until', 'was', 'yourself', 'after', 'from', 'y', 'where', 'too', 'whom', 'but', 'at', 'out', \"that'll\", 'this', 'some', 'doing', 'needn', 'over', 'most', 've', 'herself', 'couldn', 'if', 'about', 'be', \"hadn't\", 'because', \"wouldn't\", 'has', 'him', \"aren't\", \"hasn't\", 'o', 'while', 'just', 'can', 'in', 'themselves', 'did', 'under', 'who', 'my', 'yourselves', 'other', 'hers', 'do', 'should', 'she', 'by', 'shouldn', 'been', 'that', 'same', 'they', 'wouldn', 'again', 'isn', 'ours', 'as', 's', 'ain', \"you'd\", 'now', \"isn't\", \"haven't\", 'he', 'had', 'further', 'than', \"mightn't\", \"she's\", 'down', 'when', 'nor', 'her', 'does', 'hasn', 'those', \"you're\", 'hadn', 'only', \"doesn't\", 'for', 'm', 'aren', 'ma', \"don't\", \"won't\", 'am', 'few', \"weren't\", \"it's\", 'between', \"couldn't\", 'having', 'weren', 'is', \"shan't\", 'why', 'them', 'below', 'being', \"didn't\", 'its', 'd', 'off', 'on', 'you', \"needn't\", \"wasn't\"}\n"
          ],
          "name": "stdout"
        }
      ]
    },
    {
      "cell_type": "code",
      "metadata": {
        "id": "8v27HwaeF9Cq",
        "colab_type": "code",
        "colab": {
          "base_uri": "https://localhost:8080/",
          "height": 0
        },
        "outputId": "509a81c1-c770-41f6-e089-b67295226dc8"
      },
      "source": [
        "filtered = [w for w in word_tokenize(s) if w not in words]\n",
        "filtered"
      ],
      "execution_count": 15,
      "outputs": [
        {
          "output_type": "execute_result",
          "data": {
            "text/plain": [
              "['Hello', 'world', '!', ',', 'matter', '.', 'please', 'speak', 'clearly', '?']"
            ]
          },
          "metadata": {
            "tags": []
          },
          "execution_count": 15
        }
      ]
    },
    {
      "cell_type": "markdown",
      "metadata": {
        "id": "TW93gA2iVg8_",
        "colab_type": "text"
      },
      "source": [
        "#stemmer\n"
      ]
    },
    {
      "cell_type": "code",
      "metadata": {
        "id": "6C4MDhJSVi7G",
        "colab_type": "code",
        "colab": {}
      },
      "source": [
        "from nltk.stem import PorterStemmer"
      ],
      "execution_count": 0,
      "outputs": []
    },
    {
      "cell_type": "code",
      "metadata": {
        "id": "SpPAEN-wVww-",
        "colab_type": "code",
        "colab": {
          "base_uri": "https://localhost:8080/",
          "height": 0
        },
        "outputId": "641b47bc-665c-4aae-f7e4-63f9fbc426fa"
      },
      "source": [
        "stems = ['scating', 'scated', 'scatindingly', 'scated', 'scater']\n",
        "stemmer = PorterStemmer()\n",
        "for w in stems:\n",
        "  print(stemmer.stem(w))"
      ],
      "execution_count": 18,
      "outputs": [
        {
          "output_type": "stream",
          "text": [
            "scate\n",
            "scate\n",
            "scatindingli\n",
            "scate\n",
            "scater\n"
          ],
          "name": "stdout"
        }
      ]
    },
    {
      "cell_type": "code",
      "metadata": {
        "id": "NIBIyvLEW4Tw",
        "colab_type": "code",
        "colab": {
          "base_uri": "https://localhost:8080/",
          "height": 0
        },
        "outputId": "1666f0bb-c938-47b3-8385-f63d863c3afb"
      },
      "source": [
        "stem_s = \"It is important to by very pythonly while you are pythoning with python. All pythoners have pythoned poorly at least once.\"\n",
        "words = word_tokenize(stem_s)\n",
        "nstem = ''\n",
        "for w in words:\n",
        "  nstem += stemmer.stem(w) + ' '\n",
        "print(nstem)"
      ],
      "execution_count": 19,
      "outputs": [
        {
          "output_type": "stream",
          "text": [
            "It is import to by veri pythonli while you are python with python . all python have python poorli at least onc . \n"
          ],
          "name": "stdout"
        }
      ]
    },
    {
      "cell_type": "markdown",
      "metadata": {
        "id": "n6E752R4YCY-",
        "colab_type": "text"
      },
      "source": [
        "#part of speech "
      ]
    },
    {
      "cell_type": "markdown",
      "metadata": {
        "id": "rLtTifhNcOwX",
        "colab_type": "text"
      },
      "source": [
        "This means labeling words in a sentence as nouns, adjectives, verbs...etc.\n",
        "i.e <h1>Grammering"
      ]
    },
    {
      "cell_type": "code",
      "metadata": {
        "id": "PVg-tTzrX8cu",
        "colab_type": "code",
        "colab": {}
      },
      "source": [
        "from nltk.corpus import state_union\n",
        "from nltk.tokenize import PunktSentenceTokenizer                 #another unsupervied sentence tokenizer which can be trained"
      ],
      "execution_count": 0,
      "outputs": []
    },
    {
      "cell_type": "code",
      "metadata": {
        "id": "GIjNtYgGdHX2",
        "colab_type": "code",
        "colab": {}
      },
      "source": [
        "train_text = state_union.raw(\"2005-GWBush.txt\")\n",
        "sample_text = state_union.raw(\"2006-GWBush.txt\")"
      ],
      "execution_count": 0,
      "outputs": []
    },
    {
      "cell_type": "code",
      "metadata": {
        "id": "pKBzjxvndRT9",
        "colab_type": "code",
        "colab": {}
      },
      "source": [
        "newTokenizer = PunktSentenceTokenizer(train_text)\n",
        "tokenized = newTokenizer.tokenize(sample_text)"
      ],
      "execution_count": 0,
      "outputs": []
    },
    {
      "cell_type": "code",
      "metadata": {
        "id": "Wsc2XZYWePjc",
        "colab_type": "code",
        "colab": {
          "base_uri": "https://localhost:8080/",
          "height": 121
        },
        "outputId": "e0a1542e-cd92-4778-eddb-34584082a7e8"
      },
      "source": [
        "def process_content():\n",
        "    try:\n",
        "        for i in tokenized[:5]:\n",
        "            words = nltk.word_tokenize(i)\n",
        "            tagged = nltk.pos_tag(words)\n",
        "            print(tagged)\n",
        "\n",
        "    except Exception as e:\n",
        "        print(str(e))\n",
        "\n",
        "\n",
        "process_content()"
      ],
      "execution_count": 34,
      "outputs": [
        {
          "output_type": "stream",
          "text": [
            "[('PRESIDENT', 'NNP'), ('GEORGE', 'NNP'), ('W.', 'NNP'), ('BUSH', 'NNP'), (\"'S\", 'POS'), ('ADDRESS', 'NNP'), ('BEFORE', 'IN'), ('A', 'NNP'), ('JOINT', 'NNP'), ('SESSION', 'NNP'), ('OF', 'IN'), ('THE', 'NNP'), ('CONGRESS', 'NNP'), ('ON', 'NNP'), ('THE', 'NNP'), ('STATE', 'NNP'), ('OF', 'IN'), ('THE', 'NNP'), ('UNION', 'NNP'), ('January', 'NNP'), ('31', 'CD'), (',', ','), ('2006', 'CD'), ('THE', 'NNP'), ('PRESIDENT', 'NNP'), (':', ':'), ('Thank', 'NNP'), ('you', 'PRP'), ('all', 'DT'), ('.', '.')]\n",
            "[('Mr.', 'NNP'), ('Speaker', 'NNP'), (',', ','), ('Vice', 'NNP'), ('President', 'NNP'), ('Cheney', 'NNP'), (',', ','), ('members', 'NNS'), ('of', 'IN'), ('Congress', 'NNP'), (',', ','), ('members', 'NNS'), ('of', 'IN'), ('the', 'DT'), ('Supreme', 'NNP'), ('Court', 'NNP'), ('and', 'CC'), ('diplomatic', 'JJ'), ('corps', 'NN'), (',', ','), ('distinguished', 'JJ'), ('guests', 'NNS'), (',', ','), ('and', 'CC'), ('fellow', 'JJ'), ('citizens', 'NNS'), (':', ':'), ('Today', 'VB'), ('our', 'PRP$'), ('nation', 'NN'), ('lost', 'VBD'), ('a', 'DT'), ('beloved', 'VBN'), (',', ','), ('graceful', 'JJ'), (',', ','), ('courageous', 'JJ'), ('woman', 'NN'), ('who', 'WP'), ('called', 'VBD'), ('America', 'NNP'), ('to', 'TO'), ('its', 'PRP$'), ('founding', 'NN'), ('ideals', 'NNS'), ('and', 'CC'), ('carried', 'VBD'), ('on', 'IN'), ('a', 'DT'), ('noble', 'JJ'), ('dream', 'NN'), ('.', '.')]\n",
            "[('Tonight', 'NN'), ('we', 'PRP'), ('are', 'VBP'), ('comforted', 'VBN'), ('by', 'IN'), ('the', 'DT'), ('hope', 'NN'), ('of', 'IN'), ('a', 'DT'), ('glad', 'JJ'), ('reunion', 'NN'), ('with', 'IN'), ('the', 'DT'), ('husband', 'NN'), ('who', 'WP'), ('was', 'VBD'), ('taken', 'VBN'), ('so', 'RB'), ('long', 'RB'), ('ago', 'RB'), (',', ','), ('and', 'CC'), ('we', 'PRP'), ('are', 'VBP'), ('grateful', 'JJ'), ('for', 'IN'), ('the', 'DT'), ('good', 'JJ'), ('life', 'NN'), ('of', 'IN'), ('Coretta', 'NNP'), ('Scott', 'NNP'), ('King', 'NNP'), ('.', '.')]\n",
            "[('(', '('), ('Applause', 'NNP'), ('.', '.'), (')', ')')]\n",
            "[('President', 'NNP'), ('George', 'NNP'), ('W.', 'NNP'), ('Bush', 'NNP'), ('reacts', 'VBZ'), ('to', 'TO'), ('applause', 'VB'), ('during', 'IN'), ('his', 'PRP$'), ('State', 'NNP'), ('of', 'IN'), ('the', 'DT'), ('Union', 'NNP'), ('Address', 'NNP'), ('at', 'IN'), ('the', 'DT'), ('Capitol', 'NNP'), (',', ','), ('Tuesday', 'NNP'), (',', ','), ('Jan', 'NNP'), ('.', '.')]\n"
          ],
          "name": "stdout"
        }
      ]
    },
    {
      "cell_type": "markdown",
      "metadata": {
        "id": "d-f5PEppewmF",
        "colab_type": "text"
      },
      "source": [
        "#Named Entity Recognition\n",
        "somethig is wrong with it"
      ]
    },
    {
      "cell_type": "code",
      "metadata": {
        "id": "hXFLNZpI1Ig6",
        "colab_type": "code",
        "colab": {}
      },
      "source": [
        "import matplotlib\n",
        "matplotlib.use('Agg')"
      ],
      "execution_count": 0,
      "outputs": []
    },
    {
      "cell_type": "code",
      "metadata": {
        "id": "B6L-IvsnkOEr",
        "colab_type": "code",
        "colab": {}
      },
      "source": [
        "def process_content():\n",
        "  try :\n",
        "    for i in tokenized[:5]:\n",
        "      words = nltk.word_tokenize(i)\n",
        "      tagged = nltk.pos_tag(words)\n",
        "      namedEnt = nltk.ne_chunk(tagged, binary = True)\n",
        "      namedEnt.draw()\n",
        "  except Exception as e:\n",
        "    print(str(e))"
      ],
      "execution_count": 0,
      "outputs": []
    },
    {
      "cell_type": "code",
      "metadata": {
        "id": "kIFCkFnD0ggB",
        "colab_type": "code",
        "colab": {
          "base_uri": "https://localhost:8080/",
          "height": 0
        },
        "outputId": "b0f5a560-21dd-4105-c1a3-7a5118d60f63"
      },
      "source": [
        "process_content()"
      ],
      "execution_count": 5,
      "outputs": [
        {
          "output_type": "stream",
          "text": [
            "no display name and no $DISPLAY environment variable\n"
          ],
          "name": "stdout"
        }
      ]
    },
    {
      "cell_type": "markdown",
      "metadata": {
        "id": "w8rbHlIP2c8K",
        "colab_type": "text"
      },
      "source": [
        "#Lemmatizer\n",
        "like stemmer"
      ]
    },
    {
      "cell_type": "code",
      "metadata": {
        "id": "1sdQOT356AV5",
        "colab_type": "code",
        "colab": {
          "base_uri": "https://localhost:8080/",
          "height": 34
        },
        "outputId": "b6d78c64-2f36-4bc1-fbcc-598bd0239057"
      },
      "source": [
        "from nltk.stem import WordNetLemmatizer\n",
        "lemmatizer = WordNetLemmatizer()\n",
        "print(lemmatizer.lemmatize('bones'))"
      ],
      "execution_count": 6,
      "outputs": [
        {
          "output_type": "stream",
          "text": [
            "bone\n"
          ],
          "name": "stdout"
        }
      ]
    },
    {
      "cell_type": "markdown",
      "metadata": {
        "id": "YqLu3XeVSvaO",
        "colab_type": "text"
      },
      "source": [
        "#Wordnet "
      ]
    },
    {
      "cell_type": "code",
      "metadata": {
        "id": "tdshxVh16fYA",
        "colab_type": "code",
        "colab": {}
      },
      "source": [
        "from nltk.corpus import wordnet"
      ],
      "execution_count": 0,
      "outputs": []
    },
    {
      "cell_type": "code",
      "metadata": {
        "id": "FMb4m25dS_Dd",
        "colab_type": "code",
        "colab": {
          "base_uri": "https://localhost:8080/",
          "height": 70
        },
        "outputId": "0bfeffcb-b46e-4d2c-e531-8e4d05afc57b"
      },
      "source": [
        "synonyms = []\n",
        "antonyms = []\n",
        "\n",
        "for syn in wordnet.synsets(\"good\"):                                   # words related to good\n",
        "    for l in syn.lemmas():                                            #lemmas is synonym\n",
        "        synonyms.append(l.name())\n",
        "        if l.antonyms():                                              # .antonyms is for antonym\n",
        "            antonyms.append(l.antonyms()[0].name())\n",
        "\n",
        "print(set(synonyms))\n",
        "print(set(antonyms))"
      ],
      "execution_count": 8,
      "outputs": [
        {
          "output_type": "stream",
          "text": [
            "{'secure', 'near', 'dependable', 'honest', 'in_effect', 'beneficial', 'dear', 'commodity', 'goodness', 'respectable', 'just', 'adept', 'salutary', 'safe', 'upright', 'right', 'well', 'thoroughly', 'full', 'skillful', 'ripe', 'skilful', 'expert', 'undecomposed', 'effective', 'soundly', 'practiced', 'in_force', 'estimable', 'sound', 'good', 'trade_good', 'proficient', 'honorable', 'unspoiled', 'serious', 'unspoilt'}\n",
            "{'evilness', 'ill', 'bad', 'evil', 'badness'}\n"
          ],
          "name": "stdout"
        }
      ]
    },
    {
      "cell_type": "markdown",
      "metadata": {
        "id": "UlWcONvYT1v6",
        "colab_type": "text"
      },
      "source": [
        "Compare words"
      ]
    },
    {
      "cell_type": "code",
      "metadata": {
        "id": "O6nH4mXOTNEq",
        "colab_type": "code",
        "colab": {
          "base_uri": "https://localhost:8080/",
          "height": 34
        },
        "outputId": "b2b7550c-31c2-4747-a1c2-0ad026f990e4"
      },
      "source": [
        "w1 = wordnet.synset('ship.n.01')\n",
        "w2 = wordnet.synset('boat.n.01')\n",
        "print(w1.wup_similarity(w2))"
      ],
      "execution_count": 9,
      "outputs": [
        {
          "output_type": "stream",
          "text": [
            "0.9090909090909091\n"
          ],
          "name": "stdout"
        }
      ]
    },
    {
      "cell_type": "code",
      "metadata": {
        "id": "zOMORiVaT6Pa",
        "colab_type": "code",
        "colab": {
          "base_uri": "https://localhost:8080/",
          "height": 34
        },
        "outputId": "8b05a292-a3ba-4040-998d-1c3c770019ab"
      },
      "source": [
        "w1 = wordnet.synset('ship.n.01')\n",
        "w2 = wordnet.synset('cat.n.01')\n",
        "print(w1.wup_similarity(w2))"
      ],
      "execution_count": 10,
      "outputs": [
        {
          "output_type": "stream",
          "text": [
            "0.32\n"
          ],
          "name": "stdout"
        }
      ]
    },
    {
      "cell_type": "markdown",
      "metadata": {
        "id": "4PAc5qrDT-TT",
        "colab_type": "text"
      },
      "source": [
        "#Text Classification with NLTK"
      ]
    },
    {
      "cell_type": "code",
      "metadata": {
        "id": "-udLZ69CT8_y",
        "colab_type": "code",
        "colab": {
          "base_uri": "https://localhost:8080/",
          "height": 87
        },
        "outputId": "851011e3-67c6-4374-f291-ec9cf7e5b443"
      },
      "source": [
        "import nltk\n",
        "import random\n",
        "from nltk.corpus import movie_reviews\n",
        "\n",
        "documents = [(list(movie_reviews.words(fileid)), category)\n",
        "             for category in movie_reviews.categories()\n",
        "             for fileid in movie_reviews.fileids(category)]\n",
        "\n",
        "random.shuffle(documents)\n",
        "\n",
        "print(documents[1])\n",
        "\n",
        "all_words = []\n",
        "for w in movie_reviews.words():\n",
        "    all_words.append(w.lower())\n",
        "\n",
        "all_words = nltk.FreqDist(all_words)\n",
        "print(all_words.most_common(15))\n",
        "print(all_words[\"stupid\"])"
      ],
      "execution_count": 11,
      "outputs": [
        {
          "output_type": "stream",
          "text": [
            "(['the', 'art', 'of', 'woo', 'attempts', 'to', 'be', 'one', 'of', 'those', 'films', 'like', 'breakfast', 'at', 'tiffany', \"'\", 's', 'in', 'which', 'the', 'audience', 'is', 'rooting', 'for', 'some', 'sweet', ',', 'vulnerable', ',', 'irresistible', 'woman', 'to', 'work', 'out', 'her', 'problems', 'and', 'to', 'find', 'happiness', '.', 'the', 'problem', 'is', 'that', 'helen', 'lee', 'who', 'writes', 'and', 'directs', 'seems', 'to', 'have', 'written', 'alessa', 'woo', '(', 'played', 'by', 'sook', '-', 'yin', 'lee', ')', 'as', 'neither', 'sweet', 'nor', 'vulnerable', 'and', 'she', 'is', 'quite', 'resistible', '.', 'alessa', 'is', 'a', 'young', 'woman', 'who', 'happens', 'to', 'be', 'a', 'brilliant', 'art', 'dealer', 'in', 'the', 'toronto', 'art', 'scene', '.', 'this', 'is', 'some', 'sort', 'of', 'alternate', 'world', 'art', 'scene', 'where', 'people', 'pay', 'tens', 'of', 'thousands', 'of', 'dollars', 'for', 'paintings', 'by', 'talented', 'beginners', 'and', 'dealers', 'in', 'these', 'paintings', 'fly', 'back', 'and', 'forth', 'to', 'places', 'like', 'switzerland', '.', 'one', 'of', 'the', 'most', 'knowledgeable', 'of', 'the', 'art', 'dealers', 'is', 'alessa', '.', 'she', 'also', 'happens', 'to', 'be', 'the', 'center', 'of', 'adulation', 'of', 'her', 'friends', 'and', 'every', 'party', 'has', 'suitors', 'camped', 'outside', 'her', 'window', '.', 'next', 'door', 'to', 'alessa', 'moves', 'struggling', 'genius', 'artist', 'and', 'native', 'american', 'ben', 'crowchild', '(', 'adam', 'beach', ')', '.', 'he', 'sees', 'that', 'behind', 'the', 'facade', 'that', 'there', 'is', 'really', 'a', 'sad', 'little', 'girl', 'within', 'alessa', 'who', 'really', 'will', 'not', 'be', 'happy', 'with', 'the', 'rich', 'art', 'collector', 'she', 'is', 'dating', '.', 'ben', 'gets', 'emotionally', 'involved', 'with', 'alessa', '.', '(', 'as', 'alessa', 'so', 'delicately', 'puts', 'it', ',', '\"', 'we', 'were', 'bosom', 'buddies', ',', 'now', 'we', \"'\", 're', 'fuck', 'buddies', '.', '\"', ')', 'but', 'alessa', 'will', 'have', 'to', 'decide', 'whether', 'she', 'wants', 'love', 'with', 'ben', 'or', 'wealth', 'with', 'her', 'rich', 'suitor', '.', 'the', 'real', 'problem', 'with', 'the', 'film', 'seems', 'to', 'be', 'helen', 'lee', \"'\", 's', 'inability', 'to', 'decide', 'what', 'she', 'wants', 'to', 'be', 'saying', '.', 'she', 'undercuts', 'nearly', 'everything', 'she', 'wants', 'us', 'to', 'believe', 'about', 'alessa', '.', 'alessa', 'is', 'looking', 'for', 'financial', 'security', 'but', 'she', 'makes', 'decisions', 'about', 'large', 'sums', 'of', 'money', 'for', 'her', 'clients', '.', 'this', 'appears', 'to', 'be', 'a', 'high', 'profile', 'and', 'well', '-', 'paid', 'job', '.', 'we', 'are', 'supposed', 'to', 'care', 'about', 'alessa', \"'\", 's', 'feelings', ',', 'but', 'she', 'coldly', 'refuses', 'to', 'visit', 'her', 'own', 'ailing', 'father', '.', 'alessa', 'cannot', 'be', 'portrayed', 'as', 'sweet', 'and', 'vulnerable', 'if', 'at', 'an', 'art', 'auction', 'she', 'turns', 'into', 'our', 'man', 'flint', '.', 'this', 'is', 'a', 'charmless', 'romantic', 'comedy', 'that', 'bets', 'everything', 'it', 'has', 'on', 'the', 'appeal', 'of', 'its', 'main', 'character', 'and', 'comes', 'up', 'double', '-', 'zero', '.', 'i', 'rate', 'it', 'a', '3', 'on', 'the', '0', 'to', '10', 'scale', 'and', 'a', '-', '1', 'on', 'the', '-', '4', 'to', '+', '4', 'scale', '.'], 'neg')\n",
            "[(',', 77717), ('the', 76529), ('.', 65876), ('a', 38106), ('and', 35576), ('of', 34123), ('to', 31937), (\"'\", 30585), ('is', 25195), ('in', 21822), ('s', 18513), ('\"', 17612), ('it', 16107), ('that', 15924), ('-', 15595)]\n",
            "253\n"
          ],
          "name": "stdout"
        }
      ]
    },
    {
      "cell_type": "markdown",
      "metadata": {
        "id": "C6UXqSH0h2vi",
        "colab_type": "text"
      },
      "source": [
        ""
      ]
    }
  ]
}