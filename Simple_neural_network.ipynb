{
  "nbformat": 4,
  "nbformat_minor": 0,
  "metadata": {
    "colab": {
      "name": "Simple neural network.ipynb",
      "provenance": [],
      "authorship_tag": "ABX9TyOU2mcy6lBXNRPcdhEEeZIu",
      "include_colab_link": true
    },
    "kernelspec": {
      "name": "python3",
      "display_name": "Python 3"
    }
  },
  "cells": [
    {
      "cell_type": "markdown",
      "metadata": {
        "id": "view-in-github",
        "colab_type": "text"
      },
      "source": [
        "<a href=\"https://colab.research.google.com/github/Syntax-code/Machine-Learning/blob/master/Simple_neural_network.ipynb\" target=\"_parent\"><img src=\"https://colab.research.google.com/assets/colab-badge.svg\" alt=\"Open In Colab\"/></a>"
      ]
    },
    {
      "cell_type": "code",
      "metadata": {
        "id": "ChbUfrutnaDR",
        "colab_type": "code",
        "outputId": "7e479621-3739-43ec-bee2-cfa7826e84b8",
        "colab": {
          "base_uri": "https://localhost:8080/",
          "height": 34
        }
      },
      "source": [
        "from tqdm import tqdm\n",
        "for i in tqdm(range(100000)):\n",
        "    pass"
      ],
      "execution_count": 1,
      "outputs": [
        {
          "output_type": "stream",
          "text": [
            "100%|██████████| 100000/100000 [00:00<00:00, 3290243.73it/s]\n"
          ],
          "name": "stderr"
        }
      ]
    },
    {
      "cell_type": "code",
      "metadata": {
        "id": "QjEE58qXPhNg",
        "colab_type": "code",
        "colab": {}
      },
      "source": [
        "import numpy, random, os\n",
        "lr = 1 #learning rate\n",
        "bias = 1 #value of bias\n",
        "weights = [random.random(),random.random(),random.random()]"
      ],
      "execution_count": 0,
      "outputs": []
    },
    {
      "cell_type": "code",
      "metadata": {
        "id": "NtwtUq03PakE",
        "colab_type": "code",
        "colab": {}
      },
      "source": [
        "def Perceptron(input1, input2, output) :\n",
        "   outputP = input1*weights[0]+input2*weights[1]+bias*weights[2]              #Forward propagation\n",
        "   if outputP > 0 : #activation function (here Heaviside)\n",
        "      outputP = 1\n",
        "   else :\n",
        "      outputP = 0\n",
        "   error = output - outputP\n",
        "   weights[0] += error * input1 * lr                                   #backward propagation\n",
        "   weights[1] += error * input2 * lr\n",
        "   weights[2] += error * bias * lr"
      ],
      "execution_count": 0,
      "outputs": []
    },
    {
      "cell_type": "markdown",
      "metadata": {
        "id": "EwHiM-deHtdS",
        "colab_type": "text"
      },
      "source": [
        "Train"
      ]
    },
    {
      "cell_type": "code",
      "metadata": {
        "id": "w7ByJg6TFKmm",
        "colab_type": "code",
        "colab": {}
      },
      "source": [
        "for i in range(50) :\n",
        "   Perceptron(1,1,1) #True or true\n",
        "   Perceptron(1,0,1) #True or false\n",
        "   Perceptron(0,1,1) #False or true\n",
        "   Perceptron(0,0,0) #False or false"
      ],
      "execution_count": 0,
      "outputs": []
    },
    {
      "cell_type": "markdown",
      "metadata": {
        "id": "qxI80KRcHr60",
        "colab_type": "text"
      },
      "source": [
        "Test"
      ]
    },
    {
      "cell_type": "code",
      "metadata": {
        "id": "aszmkIOCFZAL",
        "colab_type": "code",
        "colab": {
          "base_uri": "https://localhost:8080/",
          "height": 67
        },
        "outputId": "087e241b-bc2b-4e35-de93-c6018758ff1e"
      },
      "source": [
        "x = int(input('x'))\n",
        "y = int(input('y'))\n",
        "outputP = x*weights[0] + y*weights[1] + bias*weights[2]\n",
        "if outputP > 0 : #activation function\n",
        "   outputP = 1\n",
        "else :\n",
        "   outputP = 0\n",
        "print(x, \"or\", y, \"is : \", outputP)"
      ],
      "execution_count": 5,
      "outputs": [
        {
          "output_type": "stream",
          "text": [
            "x1\n",
            "y1\n",
            "1 or 1 is :  1\n"
          ],
          "name": "stdout"
        }
      ]
    }
  ]
}