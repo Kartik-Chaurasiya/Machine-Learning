{
  "nbformat": 4,
  "nbformat_minor": 0,
  "metadata": {
    "colab": {
      "name": "Air pollution.ipynb",
      "provenance": [],
      "authorship_tag": "ABX9TyNBRovfsCcCi3+6Bi8x5lar",
      "include_colab_link": true
    },
    "kernelspec": {
      "name": "python3",
      "display_name": "Python 3"
    }
  },
  "cells": [
    {
      "cell_type": "markdown",
      "metadata": {
        "id": "view-in-github",
        "colab_type": "text"
      },
      "source": [
        "<a href=\"https://colab.research.google.com/github/Syntax-code/Machine-Learning/blob/master/Air_pollution.ipynb\" target=\"_parent\"><img src=\"https://colab.research.google.com/assets/colab-badge.svg\" alt=\"Open In Colab\"/></a>"
      ]
    },
    {
      "cell_type": "markdown",
      "metadata": {
        "id": "S_8tT8TyAHml",
        "colab_type": "text"
      },
      "source": [
        "Analyzed the data for pollutants in air in the yaer 2020 and in year 2019 between the date jan2019-may2019 and jan2020-may2020\n",
        "\n",
        "Dataset from kaggle"
      ]
    },
    {
      "cell_type": "code",
      "metadata": {
        "id": "wHM85a10VUrk",
        "colab_type": "code",
        "outputId": "af830e11-deed-4217-ab17-fe40343c073d",
        "colab": {
          "resources": {
            "http://localhost:8080/nbextensions/google.colab/files.js": {
              "data": "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",
              "ok": true,
              "headers": [
                [
                  "content-type",
                  "application/javascript"
                ]
              ],
              "status": 200,
              "status_text": ""
            }
          },
          "base_uri": "https://localhost:8080/",
          "height": 410
        }
      },
      "source": [
        "!pip install kaggle --upgrade\n",
        "!kaggle --version\n",
        "from google.colab import files\n",
        "files.upload()"
      ],
      "execution_count": 0,
      "outputs": [
        {
          "output_type": "stream",
          "text": [
            "Requirement already up-to-date: kaggle in /usr/local/lib/python3.6/dist-packages (1.5.6)\n",
            "Requirement already satisfied, skipping upgrade: six>=1.10 in /usr/local/lib/python3.6/dist-packages (from kaggle) (1.12.0)\n",
            "Requirement already satisfied, skipping upgrade: urllib3<1.25,>=1.21.1 in /usr/local/lib/python3.6/dist-packages (from kaggle) (1.24.3)\n",
            "Requirement already satisfied, skipping upgrade: python-slugify in /usr/local/lib/python3.6/dist-packages (from kaggle) (4.0.0)\n",
            "Requirement already satisfied, skipping upgrade: requests in /usr/local/lib/python3.6/dist-packages (from kaggle) (2.23.0)\n",
            "Requirement already satisfied, skipping upgrade: python-dateutil in /usr/local/lib/python3.6/dist-packages (from kaggle) (2.8.1)\n",
            "Requirement already satisfied, skipping upgrade: tqdm in /usr/local/lib/python3.6/dist-packages (from kaggle) (4.41.1)\n",
            "Requirement already satisfied, skipping upgrade: certifi in /usr/local/lib/python3.6/dist-packages (from kaggle) (2020.4.5.1)\n",
            "Requirement already satisfied, skipping upgrade: text-unidecode>=1.3 in /usr/local/lib/python3.6/dist-packages (from python-slugify->kaggle) (1.3)\n",
            "Requirement already satisfied, skipping upgrade: chardet<4,>=3.0.2 in /usr/local/lib/python3.6/dist-packages (from requests->kaggle) (3.0.4)\n",
            "Requirement already satisfied, skipping upgrade: idna<3,>=2.5 in /usr/local/lib/python3.6/dist-packages (from requests->kaggle) (2.9)\n",
            "Traceback (most recent call last):\n",
            "  File \"/usr/local/bin/kaggle\", line 5, in <module>\n",
            "    from kaggle.cli import main\n",
            "  File \"/usr/local/lib/python2.7/dist-packages/kaggle/__init__.py\", line 23, in <module>\n",
            "    api.authenticate()\n",
            "  File \"/usr/local/lib/python2.7/dist-packages/kaggle/api/kaggle_api_extended.py\", line 146, in authenticate\n",
            "    self.config_file, self.config_dir))\n",
            "IOError: Could not find kaggle.json. Make sure it's located in /root/.kaggle. Or use the environment method.\n"
          ],
          "name": "stdout"
        },
        {
          "output_type": "display_data",
          "data": {
            "text/html": [
              "\n",
              "     <input type=\"file\" id=\"files-aa8338d9-6188-4069-a8a3-9fee52012374\" name=\"files[]\" multiple disabled />\n",
              "     <output id=\"result-aa8338d9-6188-4069-a8a3-9fee52012374\">\n",
              "      Upload widget is only available when the cell has been executed in the\n",
              "      current browser session. Please rerun this cell to enable.\n",
              "      </output>\n",
              "      <script src=\"/nbextensions/google.colab/files.js\"></script> "
            ],
            "text/plain": [
              "<IPython.core.display.HTML object>"
            ]
          },
          "metadata": {
            "tags": []
          }
        },
        {
          "output_type": "stream",
          "text": [
            "Saving kaggle.json to kaggle.json\n"
          ],
          "name": "stdout"
        },
        {
          "output_type": "execute_result",
          "data": {
            "text/plain": [
              "{'kaggle.json': b'{\"username\":\"kartikchourasiya\",\"key\":\"807c8d14f49cd514a2015f84a2a567f1\"}'}"
            ]
          },
          "metadata": {
            "tags": []
          },
          "execution_count": 1
        }
      ]
    },
    {
      "cell_type": "code",
      "metadata": {
        "id": "r7rD5v1eVaL3",
        "colab_type": "code",
        "colab": {}
      },
      "source": [
        "!mkdir -p ~/.kaggle\n",
        "!cp kaggle.json ~/.kaggle/\n",
        "\n",
        "#chamge permission\n",
        "!chmod 600 ~/.kaggle/kaggle.json"
      ],
      "execution_count": 0,
      "outputs": []
    },
    {
      "cell_type": "code",
      "metadata": {
        "id": "B3i4FoBPV3tw",
        "colab_type": "code",
        "outputId": "d7e017ce-2825-4bc2-d754-a8e82fd8944d",
        "colab": {
          "base_uri": "https://localhost:8080/",
          "height": 67
        }
      },
      "source": [
        "!kaggle datasets download -d rohanrao/air-quality-data-in-india/city_day.csv"
      ],
      "execution_count": 0,
      "outputs": [
        {
          "output_type": "stream",
          "text": [
            "Downloading air-quality-data-in-india.zip to /content\n",
            " 74% 49.0M/66.4M [00:01<00:00, 24.8MB/s]\n",
            "100% 66.4M/66.4M [00:01<00:00, 44.4MB/s]\n"
          ],
          "name": "stdout"
        }
      ]
    },
    {
      "cell_type": "code",
      "metadata": {
        "id": "RpkMUVrXWcCm",
        "colab_type": "code",
        "outputId": "bfe5530f-ebe6-4133-be87-0700788e4aa5",
        "colab": {
          "base_uri": "https://localhost:8080/",
          "height": 118
        }
      },
      "source": [
        "!unzip air-quality-data-in-india.zip"
      ],
      "execution_count": 0,
      "outputs": [
        {
          "output_type": "stream",
          "text": [
            "Archive:  air-quality-data-in-india.zip\n",
            "  inflating: city_day.csv            \n",
            "  inflating: city_hour.csv           \n",
            "  inflating: station_day.csv         \n",
            "  inflating: station_hour.csv        \n",
            "  inflating: stations.csv            \n"
          ],
          "name": "stdout"
        }
      ]
    },
    {
      "cell_type": "code",
      "metadata": {
        "id": "pUGgOPc3Wnst",
        "colab_type": "code",
        "colab": {}
      },
      "source": [
        "import pandas as pd\n",
        "import numpy as np"
      ],
      "execution_count": 0,
      "outputs": []
    },
    {
      "cell_type": "code",
      "metadata": {
        "id": "lTd4qiXlWzeH",
        "colab_type": "code",
        "outputId": "f481f29e-eb3c-43f9-e6d0-781c6d7f94dd",
        "colab": {
          "base_uri": "https://localhost:8080/",
          "height": 195
        }
      },
      "source": [
        "dataset = pd.read_csv('city_day.csv')\n",
        "dataset.head()"
      ],
      "execution_count": 0,
      "outputs": [
        {
          "output_type": "execute_result",
          "data": {
            "text/html": [
              "<div>\n",
              "<style scoped>\n",
              "    .dataframe tbody tr th:only-of-type {\n",
              "        vertical-align: middle;\n",
              "    }\n",
              "\n",
              "    .dataframe tbody tr th {\n",
              "        vertical-align: top;\n",
              "    }\n",
              "\n",
              "    .dataframe thead th {\n",
              "        text-align: right;\n",
              "    }\n",
              "</style>\n",
              "<table border=\"1\" class=\"dataframe\">\n",
              "  <thead>\n",
              "    <tr style=\"text-align: right;\">\n",
              "      <th></th>\n",
              "      <th>City</th>\n",
              "      <th>Date</th>\n",
              "      <th>PM2.5</th>\n",
              "      <th>PM10</th>\n",
              "      <th>NO</th>\n",
              "      <th>NO2</th>\n",
              "      <th>NOx</th>\n",
              "      <th>NH3</th>\n",
              "      <th>CO</th>\n",
              "      <th>SO2</th>\n",
              "      <th>O3</th>\n",
              "      <th>Benzene</th>\n",
              "      <th>Toluene</th>\n",
              "      <th>Xylene</th>\n",
              "      <th>AQI</th>\n",
              "      <th>AQI_Bucket</th>\n",
              "    </tr>\n",
              "  </thead>\n",
              "  <tbody>\n",
              "    <tr>\n",
              "      <th>0</th>\n",
              "      <td>Ahmedabad</td>\n",
              "      <td>2015-01-01</td>\n",
              "      <td>NaN</td>\n",
              "      <td>NaN</td>\n",
              "      <td>0.92</td>\n",
              "      <td>18.22</td>\n",
              "      <td>17.15</td>\n",
              "      <td>NaN</td>\n",
              "      <td>0.92</td>\n",
              "      <td>27.64</td>\n",
              "      <td>133.36</td>\n",
              "      <td>0.00</td>\n",
              "      <td>0.02</td>\n",
              "      <td>0.00</td>\n",
              "      <td>NaN</td>\n",
              "      <td>NaN</td>\n",
              "    </tr>\n",
              "    <tr>\n",
              "      <th>1</th>\n",
              "      <td>Ahmedabad</td>\n",
              "      <td>2015-01-02</td>\n",
              "      <td>NaN</td>\n",
              "      <td>NaN</td>\n",
              "      <td>0.97</td>\n",
              "      <td>15.69</td>\n",
              "      <td>16.46</td>\n",
              "      <td>NaN</td>\n",
              "      <td>0.97</td>\n",
              "      <td>24.55</td>\n",
              "      <td>34.06</td>\n",
              "      <td>3.68</td>\n",
              "      <td>5.50</td>\n",
              "      <td>3.77</td>\n",
              "      <td>NaN</td>\n",
              "      <td>NaN</td>\n",
              "    </tr>\n",
              "    <tr>\n",
              "      <th>2</th>\n",
              "      <td>Ahmedabad</td>\n",
              "      <td>2015-01-03</td>\n",
              "      <td>NaN</td>\n",
              "      <td>NaN</td>\n",
              "      <td>17.40</td>\n",
              "      <td>19.30</td>\n",
              "      <td>29.70</td>\n",
              "      <td>NaN</td>\n",
              "      <td>17.40</td>\n",
              "      <td>29.07</td>\n",
              "      <td>30.70</td>\n",
              "      <td>6.80</td>\n",
              "      <td>16.40</td>\n",
              "      <td>2.25</td>\n",
              "      <td>NaN</td>\n",
              "      <td>NaN</td>\n",
              "    </tr>\n",
              "    <tr>\n",
              "      <th>3</th>\n",
              "      <td>Ahmedabad</td>\n",
              "      <td>2015-01-04</td>\n",
              "      <td>NaN</td>\n",
              "      <td>NaN</td>\n",
              "      <td>1.70</td>\n",
              "      <td>18.48</td>\n",
              "      <td>17.97</td>\n",
              "      <td>NaN</td>\n",
              "      <td>1.70</td>\n",
              "      <td>18.59</td>\n",
              "      <td>36.08</td>\n",
              "      <td>4.43</td>\n",
              "      <td>10.14</td>\n",
              "      <td>1.00</td>\n",
              "      <td>NaN</td>\n",
              "      <td>NaN</td>\n",
              "    </tr>\n",
              "    <tr>\n",
              "      <th>4</th>\n",
              "      <td>Ahmedabad</td>\n",
              "      <td>2015-01-05</td>\n",
              "      <td>NaN</td>\n",
              "      <td>NaN</td>\n",
              "      <td>22.10</td>\n",
              "      <td>21.42</td>\n",
              "      <td>37.76</td>\n",
              "      <td>NaN</td>\n",
              "      <td>22.10</td>\n",
              "      <td>39.33</td>\n",
              "      <td>39.31</td>\n",
              "      <td>7.01</td>\n",
              "      <td>18.89</td>\n",
              "      <td>2.78</td>\n",
              "      <td>NaN</td>\n",
              "      <td>NaN</td>\n",
              "    </tr>\n",
              "  </tbody>\n",
              "</table>\n",
              "</div>"
            ],
            "text/plain": [
              "        City        Date  PM2.5  PM10  ...  Toluene  Xylene  AQI  AQI_Bucket\n",
              "0  Ahmedabad  2015-01-01    NaN   NaN  ...     0.02    0.00  NaN         NaN\n",
              "1  Ahmedabad  2015-01-02    NaN   NaN  ...     5.50    3.77  NaN         NaN\n",
              "2  Ahmedabad  2015-01-03    NaN   NaN  ...    16.40    2.25  NaN         NaN\n",
              "3  Ahmedabad  2015-01-04    NaN   NaN  ...    10.14    1.00  NaN         NaN\n",
              "4  Ahmedabad  2015-01-05    NaN   NaN  ...    18.89    2.78  NaN         NaN\n",
              "\n",
              "[5 rows x 16 columns]"
            ]
          },
          "metadata": {
            "tags": []
          },
          "execution_count": 6
        }
      ]
    },
    {
      "cell_type": "code",
      "metadata": {
        "id": "qYgoWFtRXBF9",
        "colab_type": "code",
        "outputId": "5bb1652b-74bf-46be-bbf6-1fa06e91832b",
        "colab": {
          "base_uri": "https://localhost:8080/",
          "height": 34
        }
      },
      "source": [
        "dataset.shape"
      ],
      "execution_count": 0,
      "outputs": [
        {
          "output_type": "execute_result",
          "data": {
            "text/plain": [
              "(26219, 16)"
            ]
          },
          "metadata": {
            "tags": []
          },
          "execution_count": 7
        }
      ]
    },
    {
      "cell_type": "code",
      "metadata": {
        "id": "hFLoB2ptXC_N",
        "colab_type": "code",
        "outputId": "3dcedce2-b33b-4ecf-94d7-fbee8c2f58c6",
        "colab": {
          "base_uri": "https://localhost:8080/",
          "height": 403
        }
      },
      "source": [
        "dataset.info()"
      ],
      "execution_count": 0,
      "outputs": [
        {
          "output_type": "stream",
          "text": [
            "<class 'pandas.core.frame.DataFrame'>\n",
            "RangeIndex: 26219 entries, 0 to 26218\n",
            "Data columns (total 16 columns):\n",
            " #   Column      Non-Null Count  Dtype  \n",
            "---  ------      --------------  -----  \n",
            " 0   City        26219 non-null  object \n",
            " 1   Date        26219 non-null  object \n",
            " 2   PM2.5       21930 non-null  float64\n",
            " 3   PM10        15453 non-null  float64\n",
            " 4   NO          22986 non-null  float64\n",
            " 5   NO2         23002 non-null  float64\n",
            " 6   NOx         22176 non-null  float64\n",
            " 7   NH3         16372 non-null  float64\n",
            " 8   CO          24258 non-null  float64\n",
            " 9   SO2         22675 non-null  float64\n",
            " 10  O3          22559 non-null  float64\n",
            " 11  Benzene     20932 non-null  float64\n",
            " 12  Toluene     18664 non-null  float64\n",
            " 13  Xylene      9412 non-null   float64\n",
            " 14  AQI         21937 non-null  float64\n",
            " 15  AQI_Bucket  21937 non-null  object \n",
            "dtypes: float64(13), object(3)\n",
            "memory usage: 3.2+ MB\n"
          ],
          "name": "stdout"
        }
      ]
    },
    {
      "cell_type": "code",
      "metadata": {
        "id": "P8gu0vr5XFf9",
        "colab_type": "code",
        "outputId": "9367c805-4d11-4fab-ba1b-1d3fe2bc83a3",
        "colab": {
          "base_uri": "https://localhost:8080/",
          "height": 304
        }
      },
      "source": [
        "dataset.describe()"
      ],
      "execution_count": 0,
      "outputs": [
        {
          "output_type": "execute_result",
          "data": {
            "text/html": [
              "<div>\n",
              "<style scoped>\n",
              "    .dataframe tbody tr th:only-of-type {\n",
              "        vertical-align: middle;\n",
              "    }\n",
              "\n",
              "    .dataframe tbody tr th {\n",
              "        vertical-align: top;\n",
              "    }\n",
              "\n",
              "    .dataframe thead th {\n",
              "        text-align: right;\n",
              "    }\n",
              "</style>\n",
              "<table border=\"1\" class=\"dataframe\">\n",
              "  <thead>\n",
              "    <tr style=\"text-align: right;\">\n",
              "      <th></th>\n",
              "      <th>PM2.5</th>\n",
              "      <th>PM10</th>\n",
              "      <th>NO</th>\n",
              "      <th>NO2</th>\n",
              "      <th>NOx</th>\n",
              "      <th>NH3</th>\n",
              "      <th>CO</th>\n",
              "      <th>SO2</th>\n",
              "      <th>O3</th>\n",
              "      <th>Benzene</th>\n",
              "      <th>Toluene</th>\n",
              "      <th>Xylene</th>\n",
              "      <th>AQI</th>\n",
              "    </tr>\n",
              "  </thead>\n",
              "  <tbody>\n",
              "    <tr>\n",
              "      <th>count</th>\n",
              "      <td>21930.000000</td>\n",
              "      <td>15453.000000</td>\n",
              "      <td>22986.000000</td>\n",
              "      <td>23002.000000</td>\n",
              "      <td>22176.000000</td>\n",
              "      <td>16372.000000</td>\n",
              "      <td>24258.000000</td>\n",
              "      <td>22675.000000</td>\n",
              "      <td>22559.000000</td>\n",
              "      <td>20932.000000</td>\n",
              "      <td>18664.000000</td>\n",
              "      <td>9412.000000</td>\n",
              "      <td>21937.000000</td>\n",
              "    </tr>\n",
              "    <tr>\n",
              "      <th>mean</th>\n",
              "      <td>71.828907</td>\n",
              "      <td>125.492380</td>\n",
              "      <td>18.232528</td>\n",
              "      <td>29.009102</td>\n",
              "      <td>33.657667</td>\n",
              "      <td>25.336162</td>\n",
              "      <td>2.446235</td>\n",
              "      <td>14.988734</td>\n",
              "      <td>34.374248</td>\n",
              "      <td>3.300132</td>\n",
              "      <td>9.029794</td>\n",
              "      <td>3.155895</td>\n",
              "      <td>175.840908</td>\n",
              "    </tr>\n",
              "    <tr>\n",
              "      <th>std</th>\n",
              "      <td>67.161387</td>\n",
              "      <td>94.179918</td>\n",
              "      <td>23.081236</td>\n",
              "      <td>25.158322</td>\n",
              "      <td>32.695931</td>\n",
              "      <td>27.109244</td>\n",
              "      <td>7.385259</td>\n",
              "      <td>19.087561</td>\n",
              "      <td>21.388968</td>\n",
              "      <td>16.699933</td>\n",
              "      <td>21.137700</td>\n",
              "      <td>6.644018</td>\n",
              "      <td>146.143064</td>\n",
              "    </tr>\n",
              "    <tr>\n",
              "      <th>min</th>\n",
              "      <td>0.040000</td>\n",
              "      <td>0.010000</td>\n",
              "      <td>0.020000</td>\n",
              "      <td>0.010000</td>\n",
              "      <td>0.000000</td>\n",
              "      <td>0.010000</td>\n",
              "      <td>0.000000</td>\n",
              "      <td>0.010000</td>\n",
              "      <td>0.010000</td>\n",
              "      <td>0.000000</td>\n",
              "      <td>0.000000</td>\n",
              "      <td>0.000000</td>\n",
              "      <td>13.000000</td>\n",
              "    </tr>\n",
              "    <tr>\n",
              "      <th>25%</th>\n",
              "      <td>31.450000</td>\n",
              "      <td>60.990000</td>\n",
              "      <td>5.930000</td>\n",
              "      <td>11.850000</td>\n",
              "      <td>13.110000</td>\n",
              "      <td>9.197500</td>\n",
              "      <td>0.530000</td>\n",
              "      <td>5.560000</td>\n",
              "      <td>19.010000</td>\n",
              "      <td>0.130000</td>\n",
              "      <td>0.670000</td>\n",
              "      <td>0.120000</td>\n",
              "      <td>85.000000</td>\n",
              "    </tr>\n",
              "    <tr>\n",
              "      <th>50%</th>\n",
              "      <td>52.220000</td>\n",
              "      <td>100.950000</td>\n",
              "      <td>10.150000</td>\n",
              "      <td>21.830000</td>\n",
              "      <td>24.300000</td>\n",
              "      <td>17.820000</td>\n",
              "      <td>0.930000</td>\n",
              "      <td>9.120000</td>\n",
              "      <td>30.890000</td>\n",
              "      <td>0.980000</td>\n",
              "      <td>2.850000</td>\n",
              "      <td>0.820000</td>\n",
              "      <td>124.000000</td>\n",
              "    </tr>\n",
              "    <tr>\n",
              "      <th>75%</th>\n",
              "      <td>85.655000</td>\n",
              "      <td>158.460000</td>\n",
              "      <td>20.830000</td>\n",
              "      <td>37.890000</td>\n",
              "      <td>42.102500</td>\n",
              "      <td>32.600000</td>\n",
              "      <td>1.530000</td>\n",
              "      <td>15.595000</td>\n",
              "      <td>45.370000</td>\n",
              "      <td>2.850000</td>\n",
              "      <td>8.830000</td>\n",
              "      <td>3.232500</td>\n",
              "      <td>226.000000</td>\n",
              "    </tr>\n",
              "    <tr>\n",
              "      <th>max</th>\n",
              "      <td>949.990000</td>\n",
              "      <td>1000.000000</td>\n",
              "      <td>351.300000</td>\n",
              "      <td>362.210000</td>\n",
              "      <td>467.630000</td>\n",
              "      <td>352.890000</td>\n",
              "      <td>175.810000</td>\n",
              "      <td>193.860000</td>\n",
              "      <td>257.730000</td>\n",
              "      <td>455.030000</td>\n",
              "      <td>454.850000</td>\n",
              "      <td>170.370000</td>\n",
              "      <td>2049.000000</td>\n",
              "    </tr>\n",
              "  </tbody>\n",
              "</table>\n",
              "</div>"
            ],
            "text/plain": [
              "              PM2.5          PM10  ...       Xylene           AQI\n",
              "count  21930.000000  15453.000000  ...  9412.000000  21937.000000\n",
              "mean      71.828907    125.492380  ...     3.155895    175.840908\n",
              "std       67.161387     94.179918  ...     6.644018    146.143064\n",
              "min        0.040000      0.010000  ...     0.000000     13.000000\n",
              "25%       31.450000     60.990000  ...     0.120000     85.000000\n",
              "50%       52.220000    100.950000  ...     0.820000    124.000000\n",
              "75%       85.655000    158.460000  ...     3.232500    226.000000\n",
              "max      949.990000   1000.000000  ...   170.370000   2049.000000\n",
              "\n",
              "[8 rows x 13 columns]"
            ]
          },
          "metadata": {
            "tags": []
          },
          "execution_count": 9
        }
      ]
    },
    {
      "cell_type": "code",
      "metadata": {
        "id": "kfi2SpDUXhYe",
        "colab_type": "code",
        "outputId": "bfb957ef-7828-45e6-cd84-32331778331c",
        "colab": {
          "base_uri": "https://localhost:8080/",
          "height": 195
        }
      },
      "source": [
        "dataset_delhi = dataset[dataset['City'] == 'Delhi']\n",
        "dataset_delhi.head()"
      ],
      "execution_count": 0,
      "outputs": [
        {
          "output_type": "execute_result",
          "data": {
            "text/html": [
              "<div>\n",
              "<style scoped>\n",
              "    .dataframe tbody tr th:only-of-type {\n",
              "        vertical-align: middle;\n",
              "    }\n",
              "\n",
              "    .dataframe tbody tr th {\n",
              "        vertical-align: top;\n",
              "    }\n",
              "\n",
              "    .dataframe thead th {\n",
              "        text-align: right;\n",
              "    }\n",
              "</style>\n",
              "<table border=\"1\" class=\"dataframe\">\n",
              "  <thead>\n",
              "    <tr style=\"text-align: right;\">\n",
              "      <th></th>\n",
              "      <th>City</th>\n",
              "      <th>Date</th>\n",
              "      <th>PM2.5</th>\n",
              "      <th>PM10</th>\n",
              "      <th>NO</th>\n",
              "      <th>NO2</th>\n",
              "      <th>NOx</th>\n",
              "      <th>NH3</th>\n",
              "      <th>CO</th>\n",
              "      <th>SO2</th>\n",
              "      <th>O3</th>\n",
              "      <th>Benzene</th>\n",
              "      <th>Toluene</th>\n",
              "      <th>Xylene</th>\n",
              "      <th>AQI</th>\n",
              "      <th>AQI_Bucket</th>\n",
              "    </tr>\n",
              "  </thead>\n",
              "  <tbody>\n",
              "    <tr>\n",
              "      <th>9294</th>\n",
              "      <td>Delhi</td>\n",
              "      <td>2015-01-01</td>\n",
              "      <td>313.22</td>\n",
              "      <td>607.98</td>\n",
              "      <td>69.16</td>\n",
              "      <td>36.39</td>\n",
              "      <td>110.59</td>\n",
              "      <td>33.85</td>\n",
              "      <td>15.20</td>\n",
              "      <td>9.25</td>\n",
              "      <td>41.68</td>\n",
              "      <td>14.36</td>\n",
              "      <td>24.86</td>\n",
              "      <td>9.84</td>\n",
              "      <td>472.0</td>\n",
              "      <td>Severe</td>\n",
              "    </tr>\n",
              "    <tr>\n",
              "      <th>9295</th>\n",
              "      <td>Delhi</td>\n",
              "      <td>2015-01-02</td>\n",
              "      <td>186.18</td>\n",
              "      <td>269.55</td>\n",
              "      <td>62.09</td>\n",
              "      <td>32.87</td>\n",
              "      <td>88.14</td>\n",
              "      <td>31.83</td>\n",
              "      <td>9.54</td>\n",
              "      <td>6.65</td>\n",
              "      <td>29.97</td>\n",
              "      <td>10.55</td>\n",
              "      <td>20.09</td>\n",
              "      <td>4.29</td>\n",
              "      <td>454.0</td>\n",
              "      <td>Severe</td>\n",
              "    </tr>\n",
              "    <tr>\n",
              "      <th>9296</th>\n",
              "      <td>Delhi</td>\n",
              "      <td>2015-01-03</td>\n",
              "      <td>87.18</td>\n",
              "      <td>131.90</td>\n",
              "      <td>25.73</td>\n",
              "      <td>30.31</td>\n",
              "      <td>47.95</td>\n",
              "      <td>69.55</td>\n",
              "      <td>10.61</td>\n",
              "      <td>2.65</td>\n",
              "      <td>19.71</td>\n",
              "      <td>3.91</td>\n",
              "      <td>10.23</td>\n",
              "      <td>1.99</td>\n",
              "      <td>143.0</td>\n",
              "      <td>Moderate</td>\n",
              "    </tr>\n",
              "    <tr>\n",
              "      <th>9297</th>\n",
              "      <td>Delhi</td>\n",
              "      <td>2015-01-04</td>\n",
              "      <td>151.84</td>\n",
              "      <td>241.84</td>\n",
              "      <td>25.01</td>\n",
              "      <td>36.91</td>\n",
              "      <td>48.62</td>\n",
              "      <td>130.36</td>\n",
              "      <td>11.54</td>\n",
              "      <td>4.63</td>\n",
              "      <td>25.36</td>\n",
              "      <td>4.26</td>\n",
              "      <td>9.71</td>\n",
              "      <td>3.34</td>\n",
              "      <td>319.0</td>\n",
              "      <td>Very Poor</td>\n",
              "    </tr>\n",
              "    <tr>\n",
              "      <th>9298</th>\n",
              "      <td>Delhi</td>\n",
              "      <td>2015-01-05</td>\n",
              "      <td>146.60</td>\n",
              "      <td>219.13</td>\n",
              "      <td>14.01</td>\n",
              "      <td>34.92</td>\n",
              "      <td>38.25</td>\n",
              "      <td>122.88</td>\n",
              "      <td>9.20</td>\n",
              "      <td>3.33</td>\n",
              "      <td>23.20</td>\n",
              "      <td>2.80</td>\n",
              "      <td>6.21</td>\n",
              "      <td>2.96</td>\n",
              "      <td>325.0</td>\n",
              "      <td>Very Poor</td>\n",
              "    </tr>\n",
              "  </tbody>\n",
              "</table>\n",
              "</div>"
            ],
            "text/plain": [
              "       City        Date   PM2.5    PM10  ...  Toluene  Xylene    AQI  AQI_Bucket\n",
              "9294  Delhi  2015-01-01  313.22  607.98  ...    24.86    9.84  472.0      Severe\n",
              "9295  Delhi  2015-01-02  186.18  269.55  ...    20.09    4.29  454.0      Severe\n",
              "9296  Delhi  2015-01-03   87.18  131.90  ...    10.23    1.99  143.0    Moderate\n",
              "9297  Delhi  2015-01-04  151.84  241.84  ...     9.71    3.34  319.0   Very Poor\n",
              "9298  Delhi  2015-01-05  146.60  219.13  ...     6.21    2.96  325.0   Very Poor\n",
              "\n",
              "[5 rows x 16 columns]"
            ]
          },
          "metadata": {
            "tags": []
          },
          "execution_count": 7
        }
      ]
    },
    {
      "cell_type": "code",
      "metadata": {
        "id": "-ZFi_DXdX2zd",
        "colab_type": "code",
        "outputId": "ac007bfe-9578-48ac-c3d5-0f048f569481",
        "colab": {
          "base_uri": "https://localhost:8080/",
          "height": 34
        }
      },
      "source": [
        "dataset_delhi.shape"
      ],
      "execution_count": 0,
      "outputs": [
        {
          "output_type": "execute_result",
          "data": {
            "text/plain": [
              "(1948, 16)"
            ]
          },
          "metadata": {
            "tags": []
          },
          "execution_count": 11
        }
      ]
    },
    {
      "cell_type": "code",
      "metadata": {
        "id": "U7TnWA_JilKg",
        "colab_type": "code",
        "outputId": "ad9b8e38-cfcc-4e81-88fd-1a80917f15c8",
        "colab": {
          "base_uri": "https://localhost:8080/",
          "height": 302
        }
      },
      "source": [
        "dataset_delhi.isnull().sum()"
      ],
      "execution_count": 0,
      "outputs": [
        {
          "output_type": "execute_result",
          "data": {
            "text/plain": [
              "City            0\n",
              "Date            0\n",
              "PM2.5           2\n",
              "PM10           77\n",
              "NO              2\n",
              "NO2             2\n",
              "NOx             0\n",
              "NH3             9\n",
              "CO              0\n",
              "SO2           110\n",
              "O3             84\n",
              "Benzene         0\n",
              "Toluene         0\n",
              "Xylene        781\n",
              "AQI            10\n",
              "AQI_Bucket     10\n",
              "dtype: int64"
            ]
          },
          "metadata": {
            "tags": []
          },
          "execution_count": 12
        }
      ]
    },
    {
      "cell_type": "code",
      "metadata": {
        "id": "5NxxoNnJeikm",
        "colab_type": "code",
        "outputId": "43eb6dd2-b739-4b9f-a16c-7df3e891f43f",
        "colab": {
          "base_uri": "https://localhost:8080/",
          "height": 299
        }
      },
      "source": [
        "dataset_delhi.tail()"
      ],
      "execution_count": 0,
      "outputs": [
        {
          "output_type": "execute_result",
          "data": {
            "text/html": [
              "<div>\n",
              "<style scoped>\n",
              "    .dataframe tbody tr th:only-of-type {\n",
              "        vertical-align: middle;\n",
              "    }\n",
              "\n",
              "    .dataframe tbody tr th {\n",
              "        vertical-align: top;\n",
              "    }\n",
              "\n",
              "    .dataframe thead th {\n",
              "        text-align: right;\n",
              "    }\n",
              "</style>\n",
              "<table border=\"1\" class=\"dataframe\">\n",
              "  <thead>\n",
              "    <tr style=\"text-align: right;\">\n",
              "      <th></th>\n",
              "      <th>City</th>\n",
              "      <th>Date</th>\n",
              "      <th>PM2.5</th>\n",
              "      <th>PM10</th>\n",
              "      <th>NO</th>\n",
              "      <th>NO2</th>\n",
              "      <th>NOx</th>\n",
              "      <th>NH3</th>\n",
              "      <th>CO</th>\n",
              "      <th>SO2</th>\n",
              "      <th>O3</th>\n",
              "      <th>Benzene</th>\n",
              "      <th>Toluene</th>\n",
              "      <th>Xylene</th>\n",
              "      <th>AQI</th>\n",
              "      <th>AQI_Bucket</th>\n",
              "    </tr>\n",
              "  </thead>\n",
              "  <tbody>\n",
              "    <tr>\n",
              "      <th>11237</th>\n",
              "      <td>Delhi</td>\n",
              "      <td>2020-04-27</td>\n",
              "      <td>27.18</td>\n",
              "      <td>53.02</td>\n",
              "      <td>8.28</td>\n",
              "      <td>14.80</td>\n",
              "      <td>16.38</td>\n",
              "      <td>29.94</td>\n",
              "      <td>0.76</td>\n",
              "      <td>15.59</td>\n",
              "      <td>53.43</td>\n",
              "      <td>1.24</td>\n",
              "      <td>6.39</td>\n",
              "      <td>0.00</td>\n",
              "      <td>98.0</td>\n",
              "      <td>Satisfactory</td>\n",
              "    </tr>\n",
              "    <tr>\n",
              "      <th>11238</th>\n",
              "      <td>Delhi</td>\n",
              "      <td>2020-04-28</td>\n",
              "      <td>41.75</td>\n",
              "      <td>80.36</td>\n",
              "      <td>10.32</td>\n",
              "      <td>17.35</td>\n",
              "      <td>20.03</td>\n",
              "      <td>28.60</td>\n",
              "      <td>0.86</td>\n",
              "      <td>17.60</td>\n",
              "      <td>58.96</td>\n",
              "      <td>1.70</td>\n",
              "      <td>8.30</td>\n",
              "      <td>0.00</td>\n",
              "      <td>105.0</td>\n",
              "      <td>Moderate</td>\n",
              "    </tr>\n",
              "    <tr>\n",
              "      <th>11239</th>\n",
              "      <td>Delhi</td>\n",
              "      <td>2020-04-29</td>\n",
              "      <td>55.18</td>\n",
              "      <td>114.91</td>\n",
              "      <td>12.66</td>\n",
              "      <td>20.11</td>\n",
              "      <td>22.66</td>\n",
              "      <td>28.86</td>\n",
              "      <td>0.91</td>\n",
              "      <td>19.08</td>\n",
              "      <td>58.57</td>\n",
              "      <td>2.03</td>\n",
              "      <td>13.02</td>\n",
              "      <td>0.01</td>\n",
              "      <td>123.0</td>\n",
              "      <td>Moderate</td>\n",
              "    </tr>\n",
              "    <tr>\n",
              "      <th>11240</th>\n",
              "      <td>Delhi</td>\n",
              "      <td>2020-04-30</td>\n",
              "      <td>49.96</td>\n",
              "      <td>115.63</td>\n",
              "      <td>12.73</td>\n",
              "      <td>17.61</td>\n",
              "      <td>20.45</td>\n",
              "      <td>32.99</td>\n",
              "      <td>0.84</td>\n",
              "      <td>17.42</td>\n",
              "      <td>59.55</td>\n",
              "      <td>1.68</td>\n",
              "      <td>9.27</td>\n",
              "      <td>0.00</td>\n",
              "      <td>128.0</td>\n",
              "      <td>Moderate</td>\n",
              "    </tr>\n",
              "    <tr>\n",
              "      <th>11241</th>\n",
              "      <td>Delhi</td>\n",
              "      <td>2020-05-01</td>\n",
              "      <td>61.75</td>\n",
              "      <td>128.23</td>\n",
              "      <td>12.02</td>\n",
              "      <td>26.98</td>\n",
              "      <td>27.17</td>\n",
              "      <td>33.70</td>\n",
              "      <td>0.97</td>\n",
              "      <td>17.12</td>\n",
              "      <td>33.70</td>\n",
              "      <td>1.99</td>\n",
              "      <td>17.24</td>\n",
              "      <td>0.00</td>\n",
              "      <td>144.0</td>\n",
              "      <td>Moderate</td>\n",
              "    </tr>\n",
              "  </tbody>\n",
              "</table>\n",
              "</div>"
            ],
            "text/plain": [
              "        City        Date  PM2.5    PM10  ...  Toluene  Xylene    AQI    AQI_Bucket\n",
              "11237  Delhi  2020-04-27  27.18   53.02  ...     6.39    0.00   98.0  Satisfactory\n",
              "11238  Delhi  2020-04-28  41.75   80.36  ...     8.30    0.00  105.0      Moderate\n",
              "11239  Delhi  2020-04-29  55.18  114.91  ...    13.02    0.01  123.0      Moderate\n",
              "11240  Delhi  2020-04-30  49.96  115.63  ...     9.27    0.00  128.0      Moderate\n",
              "11241  Delhi  2020-05-01  61.75  128.23  ...    17.24    0.00  144.0      Moderate\n",
              "\n",
              "[5 rows x 16 columns]"
            ]
          },
          "metadata": {
            "tags": []
          },
          "execution_count": 13
        }
      ]
    },
    {
      "cell_type": "code",
      "metadata": {
        "id": "sdSPgib0rKvv",
        "colab_type": "code",
        "colab": {}
      },
      "source": [
        "mask = (dataset_delhi['Date'] >= \"2020-01-01\") & (dataset_delhi['Date'] <= \"2020-05-01\")"
      ],
      "execution_count": 0,
      "outputs": []
    },
    {
      "cell_type": "code",
      "metadata": {
        "id": "0gHNiq7dfuCo",
        "colab_type": "code",
        "colab": {}
      },
      "source": [
        "dataset_delhi_2020 = dataset_delhi.loc[mask]"
      ],
      "execution_count": 0,
      "outputs": []
    },
    {
      "cell_type": "code",
      "metadata": {
        "id": "9vT7vg7Yrr4e",
        "colab_type": "code",
        "outputId": "51dd2f0a-637b-4b97-9a6f-065b0574a19b",
        "colab": {
          "base_uri": "https://localhost:8080/",
          "height": 34
        }
      },
      "source": [
        "dataset_delhi_2020.shape"
      ],
      "execution_count": 0,
      "outputs": [
        {
          "output_type": "execute_result",
          "data": {
            "text/plain": [
              "(122, 16)"
            ]
          },
          "metadata": {
            "tags": []
          },
          "execution_count": 17
        }
      ]
    },
    {
      "cell_type": "code",
      "metadata": {
        "id": "kiGuqRStr184",
        "colab_type": "code",
        "colab": {}
      },
      "source": [
        "mask1 = (dataset_delhi['Date'] >= \"2019-01-01\") & (dataset_delhi['Date'] <= \"2019-05-02\")"
      ],
      "execution_count": 0,
      "outputs": []
    },
    {
      "cell_type": "code",
      "metadata": {
        "id": "kq5YFm_Rry-t",
        "colab_type": "code",
        "colab": {}
      },
      "source": [
        "dataset_delhi_2019 = dataset_delhi.loc[mask1]"
      ],
      "execution_count": 0,
      "outputs": []
    },
    {
      "cell_type": "code",
      "metadata": {
        "id": "Ds05KB2PH98p",
        "colab_type": "code",
        "outputId": "8a8c098c-6a12-4463-a19e-1a1fe0503a3b",
        "colab": {
          "base_uri": "https://localhost:8080/",
          "height": 402
        }
      },
      "source": [
        "date = dataset_delhi_2020['Date']\n",
        "dataset_delhi_2020.drop(columns = ['City', 'Date', 'AQI_Bucket'])\n",
        "dataset_delhi_2019.drop(columns = ['City', 'Date', 'AQI_Bucket'])"
      ],
      "execution_count": 0,
      "outputs": [
        {
          "output_type": "execute_result",
          "data": {
            "text/html": [
              "<div>\n",
              "<style scoped>\n",
              "    .dataframe tbody tr th:only-of-type {\n",
              "        vertical-align: middle;\n",
              "    }\n",
              "\n",
              "    .dataframe tbody tr th {\n",
              "        vertical-align: top;\n",
              "    }\n",
              "\n",
              "    .dataframe thead th {\n",
              "        text-align: right;\n",
              "    }\n",
              "</style>\n",
              "<table border=\"1\" class=\"dataframe\">\n",
              "  <thead>\n",
              "    <tr style=\"text-align: right;\">\n",
              "      <th></th>\n",
              "      <th>PM2.5</th>\n",
              "      <th>PM10</th>\n",
              "      <th>NO</th>\n",
              "      <th>NO2</th>\n",
              "      <th>NOx</th>\n",
              "      <th>NH3</th>\n",
              "      <th>CO</th>\n",
              "      <th>SO2</th>\n",
              "      <th>O3</th>\n",
              "      <th>Benzene</th>\n",
              "      <th>Toluene</th>\n",
              "      <th>Xylene</th>\n",
              "      <th>AQI</th>\n",
              "    </tr>\n",
              "  </thead>\n",
              "  <tbody>\n",
              "    <tr>\n",
              "      <th>10755</th>\n",
              "      <td>287.34</td>\n",
              "      <td>461.02</td>\n",
              "      <td>92.04</td>\n",
              "      <td>69.46</td>\n",
              "      <td>121.07</td>\n",
              "      <td>56.66</td>\n",
              "      <td>2.54</td>\n",
              "      <td>17.77</td>\n",
              "      <td>39.58</td>\n",
              "      <td>8.09</td>\n",
              "      <td>48.84</td>\n",
              "      <td>2.21</td>\n",
              "      <td>475.0</td>\n",
              "    </tr>\n",
              "    <tr>\n",
              "      <th>10756</th>\n",
              "      <td>331.20</td>\n",
              "      <td>515.72</td>\n",
              "      <td>101.08</td>\n",
              "      <td>75.06</td>\n",
              "      <td>133.85</td>\n",
              "      <td>63.63</td>\n",
              "      <td>2.78</td>\n",
              "      <td>18.27</td>\n",
              "      <td>43.30</td>\n",
              "      <td>10.04</td>\n",
              "      <td>58.70</td>\n",
              "      <td>2.42</td>\n",
              "      <td>501.0</td>\n",
              "    </tr>\n",
              "    <tr>\n",
              "      <th>10757</th>\n",
              "      <td>355.40</td>\n",
              "      <td>519.34</td>\n",
              "      <td>77.92</td>\n",
              "      <td>66.20</td>\n",
              "      <td>106.99</td>\n",
              "      <td>61.02</td>\n",
              "      <td>2.55</td>\n",
              "      <td>15.12</td>\n",
              "      <td>39.77</td>\n",
              "      <td>8.91</td>\n",
              "      <td>56.57</td>\n",
              "      <td>3.28</td>\n",
              "      <td>537.0</td>\n",
              "    </tr>\n",
              "    <tr>\n",
              "      <th>10758</th>\n",
              "      <td>246.46</td>\n",
              "      <td>388.79</td>\n",
              "      <td>47.83</td>\n",
              "      <td>57.53</td>\n",
              "      <td>74.39</td>\n",
              "      <td>53.09</td>\n",
              "      <td>2.01</td>\n",
              "      <td>13.22</td>\n",
              "      <td>28.75</td>\n",
              "      <td>6.78</td>\n",
              "      <td>40.50</td>\n",
              "      <td>0.93</td>\n",
              "      <td>432.0</td>\n",
              "    </tr>\n",
              "    <tr>\n",
              "      <th>10759</th>\n",
              "      <td>262.53</td>\n",
              "      <td>411.49</td>\n",
              "      <td>64.97</td>\n",
              "      <td>60.35</td>\n",
              "      <td>90.67</td>\n",
              "      <td>56.49</td>\n",
              "      <td>2.23</td>\n",
              "      <td>15.59</td>\n",
              "      <td>36.33</td>\n",
              "      <td>8.50</td>\n",
              "      <td>51.69</td>\n",
              "      <td>1.29</td>\n",
              "      <td>440.0</td>\n",
              "    </tr>\n",
              "    <tr>\n",
              "      <th>...</th>\n",
              "      <td>...</td>\n",
              "      <td>...</td>\n",
              "      <td>...</td>\n",
              "      <td>...</td>\n",
              "      <td>...</td>\n",
              "      <td>...</td>\n",
              "      <td>...</td>\n",
              "      <td>...</td>\n",
              "      <td>...</td>\n",
              "      <td>...</td>\n",
              "      <td>...</td>\n",
              "      <td>...</td>\n",
              "      <td>...</td>\n",
              "    </tr>\n",
              "    <tr>\n",
              "      <th>10872</th>\n",
              "      <td>76.44</td>\n",
              "      <td>285.73</td>\n",
              "      <td>17.66</td>\n",
              "      <td>40.90</td>\n",
              "      <td>35.31</td>\n",
              "      <td>25.63</td>\n",
              "      <td>1.06</td>\n",
              "      <td>20.02</td>\n",
              "      <td>54.00</td>\n",
              "      <td>2.53</td>\n",
              "      <td>25.12</td>\n",
              "      <td>0.86</td>\n",
              "      <td>269.0</td>\n",
              "    </tr>\n",
              "    <tr>\n",
              "      <th>10873</th>\n",
              "      <td>84.04</td>\n",
              "      <td>274.83</td>\n",
              "      <td>33.17</td>\n",
              "      <td>52.04</td>\n",
              "      <td>53.91</td>\n",
              "      <td>27.82</td>\n",
              "      <td>1.33</td>\n",
              "      <td>23.71</td>\n",
              "      <td>50.32</td>\n",
              "      <td>4.05</td>\n",
              "      <td>31.90</td>\n",
              "      <td>0.85</td>\n",
              "      <td>256.0</td>\n",
              "    </tr>\n",
              "    <tr>\n",
              "      <th>10874</th>\n",
              "      <td>95.72</td>\n",
              "      <td>284.13</td>\n",
              "      <td>32.91</td>\n",
              "      <td>59.32</td>\n",
              "      <td>57.61</td>\n",
              "      <td>31.91</td>\n",
              "      <td>1.62</td>\n",
              "      <td>26.58</td>\n",
              "      <td>57.54</td>\n",
              "      <td>4.92</td>\n",
              "      <td>33.92</td>\n",
              "      <td>0.75</td>\n",
              "      <td>257.0</td>\n",
              "    </tr>\n",
              "    <tr>\n",
              "      <th>10875</th>\n",
              "      <td>111.57</td>\n",
              "      <td>323.97</td>\n",
              "      <td>35.18</td>\n",
              "      <td>63.15</td>\n",
              "      <td>58.94</td>\n",
              "      <td>36.73</td>\n",
              "      <td>1.61</td>\n",
              "      <td>27.67</td>\n",
              "      <td>65.95</td>\n",
              "      <td>4.87</td>\n",
              "      <td>31.18</td>\n",
              "      <td>0.72</td>\n",
              "      <td>285.0</td>\n",
              "    </tr>\n",
              "    <tr>\n",
              "      <th>10876</th>\n",
              "      <td>77.72</td>\n",
              "      <td>282.83</td>\n",
              "      <td>20.46</td>\n",
              "      <td>43.19</td>\n",
              "      <td>36.46</td>\n",
              "      <td>36.44</td>\n",
              "      <td>1.19</td>\n",
              "      <td>18.26</td>\n",
              "      <td>65.33</td>\n",
              "      <td>3.25</td>\n",
              "      <td>24.40</td>\n",
              "      <td>0.69</td>\n",
              "      <td>275.0</td>\n",
              "    </tr>\n",
              "  </tbody>\n",
              "</table>\n",
              "<p>122 rows × 13 columns</p>\n",
              "</div>"
            ],
            "text/plain": [
              "        PM2.5    PM10      NO    NO2  ...  Benzene  Toluene  Xylene    AQI\n",
              "10755  287.34  461.02   92.04  69.46  ...     8.09    48.84    2.21  475.0\n",
              "10756  331.20  515.72  101.08  75.06  ...    10.04    58.70    2.42  501.0\n",
              "10757  355.40  519.34   77.92  66.20  ...     8.91    56.57    3.28  537.0\n",
              "10758  246.46  388.79   47.83  57.53  ...     6.78    40.50    0.93  432.0\n",
              "10759  262.53  411.49   64.97  60.35  ...     8.50    51.69    1.29  440.0\n",
              "...       ...     ...     ...    ...  ...      ...      ...     ...    ...\n",
              "10872   76.44  285.73   17.66  40.90  ...     2.53    25.12    0.86  269.0\n",
              "10873   84.04  274.83   33.17  52.04  ...     4.05    31.90    0.85  256.0\n",
              "10874   95.72  284.13   32.91  59.32  ...     4.92    33.92    0.75  257.0\n",
              "10875  111.57  323.97   35.18  63.15  ...     4.87    31.18    0.72  285.0\n",
              "10876   77.72  282.83   20.46  43.19  ...     3.25    24.40    0.69  275.0\n",
              "\n",
              "[122 rows x 13 columns]"
            ]
          },
          "metadata": {
            "tags": []
          },
          "execution_count": 12
        }
      ]
    },
    {
      "cell_type": "code",
      "metadata": {
        "id": "Y4ndkMLGw8Sn",
        "colab_type": "code",
        "outputId": "a560543a-7c29-4311-b60f-b01a3e414e3f",
        "colab": {
          "base_uri": "https://localhost:8080/",
          "height": 34
        }
      },
      "source": [
        "dataset_delhi_2020.shape"
      ],
      "execution_count": 0,
      "outputs": [
        {
          "output_type": "execute_result",
          "data": {
            "text/plain": [
              "(122, 16)"
            ]
          },
          "metadata": {
            "tags": []
          },
          "execution_count": 14
        }
      ]
    },
    {
      "cell_type": "code",
      "metadata": {
        "id": "2QrOnpiTJovx",
        "colab_type": "code",
        "outputId": "39fbbc11-36fa-4fd6-9fab-35bfaf58ce47",
        "colab": {
          "base_uri": "https://localhost:8080/",
          "height": 252
        }
      },
      "source": [
        "dataset_delhi_2020_mean = dataset_delhi_2020.mean(axis = 0, skipna = True)\n",
        "dataset_delhi_2019_mean = dataset_delhi_2019.mean(axis = 0, skipna = True)\n",
        "dataset_delhi_2020_mean"
      ],
      "execution_count": 0,
      "outputs": [
        {
          "output_type": "execute_result",
          "data": {
            "text/plain": [
              "PM2.5       94.968689\n",
              "PM10       170.762459\n",
              "NO          29.522377\n",
              "NO2         37.688770\n",
              "NOx         47.436803\n",
              "NH3         35.586639\n",
              "CO           1.130656\n",
              "SO2         13.948361\n",
              "O3          36.841066\n",
              "Benzene      3.147705\n",
              "Toluene     21.444262\n",
              "Xylene       0.904590\n",
              "AQI        204.172131\n",
              "dtype: float64"
            ]
          },
          "metadata": {
            "tags": []
          },
          "execution_count": 30
        }
      ]
    },
    {
      "cell_type": "code",
      "metadata": {
        "id": "ElznliPXMlhW",
        "colab_type": "code",
        "outputId": "6c86089a-72be-4a3a-b99f-8e724c303bb5",
        "colab": {
          "base_uri": "https://localhost:8080/",
          "height": 252
        }
      },
      "source": [
        "dataset_delhi_2019_mean"
      ],
      "execution_count": 0,
      "outputs": [
        {
          "output_type": "execute_result",
          "data": {
            "text/plain": [
              "PM2.5      123.171475\n",
              "PM10       237.615246\n",
              "NO          38.852787\n",
              "NO2         50.845164\n",
              "NOx         62.558197\n",
              "NH3         38.396967\n",
              "CO           1.447131\n",
              "SO2         18.217459\n",
              "O3          40.556475\n",
              "Benzene      4.499508\n",
              "Toluene     32.541967\n",
              "Xylene       1.185000\n",
              "AQI        260.877049\n",
              "dtype: float64"
            ]
          },
          "metadata": {
            "tags": []
          },
          "execution_count": 31
        }
      ]
    },
    {
      "cell_type": "code",
      "metadata": {
        "id": "k3vzEqZoLrxH",
        "colab_type": "code",
        "outputId": "b86877d2-084b-44a6-c6cb-c5fc8b34a6d0",
        "colab": {
          "base_uri": "https://localhost:8080/",
          "height": 235
        }
      },
      "source": [
        "labels = list(dataset_delhi_2020.columns)\n",
        "labels.remove('City')\n",
        "labels.remove('Date')\n",
        "labels.remove('AQI_Bucket')\n",
        "labels"
      ],
      "execution_count": 0,
      "outputs": [
        {
          "output_type": "execute_result",
          "data": {
            "text/plain": [
              "['PM2.5',\n",
              " 'PM10',\n",
              " 'NO',\n",
              " 'NO2',\n",
              " 'NOx',\n",
              " 'NH3',\n",
              " 'CO',\n",
              " 'SO2',\n",
              " 'O3',\n",
              " 'Benzene',\n",
              " 'Toluene',\n",
              " 'Xylene',\n",
              " 'AQI']"
            ]
          },
          "metadata": {
            "tags": []
          },
          "execution_count": 25
        }
      ]
    },
    {
      "cell_type": "markdown",
      "metadata": {
        "id": "xqM1JAcFjbrL",
        "colab_type": "text"
      },
      "source": [
        "Data of diff chemicals of year 2019 jan - may to 2020 jan - may"
      ]
    },
    {
      "cell_type": "code",
      "metadata": {
        "id": "8erz6kqMsplI",
        "colab_type": "code",
        "colab": {}
      },
      "source": [
        "import matplotlib.pyplot as plt"
      ],
      "execution_count": 0,
      "outputs": []
    },
    {
      "cell_type": "code",
      "metadata": {
        "id": "gZ1JQX1QKl3g",
        "colab_type": "code",
        "outputId": "0a8f8552-cd64-4d0f-8f1e-65e2ac75e522",
        "colab": {
          "base_uri": "https://localhost:8080/",
          "height": 353
        }
      },
      "source": [
        "data1 = dataset_delhi_2019_mean['PM2.5']\n",
        "data2 =  dataset_delhi_2020_mean['PM2.5']\n",
        "X = np.arange(len(labels))\n",
        "fig = plt.figure()\n",
        "ax = fig.add_axes([0,0,1,1])\n",
        "ax.bar(X + 0.00, data1, color = 'b', width = 0.25)\n",
        "ax.bar(X + 0.25, data2, color = 'g', width = 0.25)"
      ],
      "execution_count": 0,
      "outputs": [
        {
          "output_type": "execute_result",
          "data": {
            "text/plain": [
              "<BarContainer object of 13 artists>"
            ]
          },
          "metadata": {
            "tags": []
          },
          "execution_count": 32
        },
        {
          "output_type": "display_data",
          "data": {
            "image/png": "[encoded data removed]",
            "text/plain": [
              "<Figure size 432x288 with 1 Axes>"
            ]
          },
          "metadata": {
            "tags": [],
            "needs_background": "light"
          }
        }
      ]
    },
    {
      "cell_type": "markdown",
      "metadata": {
        "id": "pnmo-xIcAq9F",
        "colab_type": "text"
      },
      "source": [
        "blue is 2019\n",
        "\n",
        "green in 2020"
      ]
    },
    {
      "cell_type": "code",
      "metadata": {
        "id": "eOsGfLxEKUIQ",
        "colab_type": "code",
        "outputId": "fc896b46-aec0-4104-ad4c-c7d8c5cbce67",
        "colab": {
          "base_uri": "https://localhost:8080/",
          "height": 34
        }
      },
      "source": [
        "dataset_delhi_2019_mean.shape"
      ],
      "execution_count": 0,
      "outputs": [
        {
          "output_type": "execute_result",
          "data": {
            "text/plain": [
              "(13,)"
            ]
          },
          "metadata": {
            "tags": []
          },
          "execution_count": 21
        }
      ]
    },
    {
      "cell_type": "code",
      "metadata": {
        "id": "r4ZfTmWQr_ot",
        "colab_type": "code",
        "outputId": "06840668-47f5-4113-d526-9c4de9195d56",
        "colab": {
          "base_uri": "https://localhost:8080/",
          "height": 745
        }
      },
      "source": [
        "# Create figure and plot space\n",
        "fig, ax = plt.subplots(figsize=(12, 12))\n",
        "\n",
        "# Add x-axis and y-axis\n",
        "ax.bar(x = dataset_delhi_2020['Date'],\n",
        "       dataset_delhi_2020['PM2.5'],\n",
        "       color='purple')\n",
        "\n",
        "# Set title and labels for axes\n",
        "ax.set(xlabel=\"Date\",\n",
        "       ylabel=\"chemicals\",\n",
        "       title=\"2019 - 2020\")\n",
        "\n",
        "plt.show()"
      ],
      "execution_count": 0,
      "outputs": [
        {
          "output_type": "display_data",
          "data": {
            "image/png": "[encoded data removed]",
            "text/plain": [
              "<Figure size 864x864 with 1 Axes>"
            ]
          },
          "metadata": {
            "tags": [],
            "needs_background": "light"
          }
        }
      ]
    },
    {
      "cell_type": "code",
      "metadata": {
        "id": "7Z3pJ6KQudhO",
        "colab_type": "code",
        "outputId": "624baf1a-5eee-4319-ac0d-6039d20d5a67",
        "colab": {
          "base_uri": "https://localhost:8080/",
          "height": 392
        }
      },
      "source": [
        "labels = dataset_delhi_2020['Date']\n",
        "men_means = dataset_delhi_2019['PM2.5']\n",
        "women_means = dataset_delhi_2020['PM2.5']\n",
        "\n",
        "x = np.arange(len(labels))  # the label locations\n",
        "width = 0.35  # the width of the bars\n",
        "\n",
        "fig, ax = plt.subplots()\n",
        "rects1 = ax.bar(x - width/2, men_means, width, label='2019')\n",
        "rects2 = ax.bar(x + width/2, women_means, width, label='2020')\n",
        "\n",
        "ax.set_ylabel('Value')\n",
        "ax.set_title('air value')\n",
        "ax.set_xticks(x)\n",
        "ax.set_xticklabels(labels)\n",
        "ax.legend()\n",
        "\n",
        "fig.tight_layout()\n",
        "plt.xticks(rotation='vertical')\n",
        "plt.show()"
      ],
      "execution_count": 0,
      "outputs": [
        {
          "output_type": "display_data",
          "data": {
            "image/png": "[encoded data removed]",
            "text/plain": [
              "<Figure size 432x288 with 1 Axes>"
            ]
          },
          "metadata": {
            "tags": [],
            "needs_background": "light"
          }
        }
      ]
    },
    {
      "cell_type": "code",
      "metadata": {
        "id": "Db6VcCW4vyOV",
        "colab_type": "code",
        "outputId": "a69f3f42-baa5-46ac-a7d7-ed6c252ebf06",
        "colab": {
          "base_uri": "https://localhost:8080/",
          "height": 353
        }
      },
      "source": [
        "labels = dataset_delhi_2020['Date'] \n",
        "data1 = dataset_delhi_2019['PM2.5']\n",
        "data2 =  dataset_delhi_2020['PM2.5']\n",
        "X = np.arange(len(labels))\n",
        "fig = plt.figure()\n",
        "ax = fig.add_axes([0,0,1,1])\n",
        "ax.bar(X + 0.00, data1, color = 'b', width = 0.25)\n",
        "ax.bar(X + 0.25, data2, color = 'g', width = 0.25)"
      ],
      "execution_count": 0,
      "outputs": [
        {
          "output_type": "execute_result",
          "data": {
            "text/plain": [
              "<BarContainer object of 122 artists>"
            ]
          },
          "metadata": {
            "tags": []
          },
          "execution_count": 22
        },
        {
          "output_type": "display_data",
          "data": {
            "image/png": "[encoded data removed]",
            "text/plain": [
              "<Figure size 432x288 with 1 Axes>"
            ]
          },
          "metadata": {
            "tags": [],
            "needs_background": "light"
          }
        }
      ]
    },
    {
      "cell_type": "markdown",
      "metadata": {
        "id": "EDwcmrGVA8Pu",
        "colab_type": "text"
      },
      "source": [
        "As you acn see in the above figures there as been a vast difference in the emmisions of the pollutants in 2019 and in the quarantine in delhi.\n",
        "\n",
        "There is a constant decrease in all pollutants not just CO alone but all pollutants have been seen a constant decrease in growth in 2020.\n",
        "\n",
        "As the effect of the quarantine is seen to lose the pollutants show their usual numbers as compared to 2019."
      ]
    }
  ]
}