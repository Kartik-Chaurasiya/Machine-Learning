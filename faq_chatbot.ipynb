{
  "nbformat": 4,
  "nbformat_minor": 0,
  "metadata": {
    "colab": {
      "name": "faq chatbot.ipynb",
      "provenance": [],
      "collapsed_sections": [],
      "authorship_tag": "ABX9TyPAooOKzLq6zuOmbEcayM6o",
      "include_colab_link": true
    },
    "kernelspec": {
      "name": "python3",
      "display_name": "Python 3"
    },
    "language_info": {
      "name": "python"
    }
  },
  "cells": [
    {
      "cell_type": "markdown",
      "metadata": {
        "id": "view-in-github",
        "colab_type": "text"
      },
      "source": [
        "<a href=\"https://colab.research.google.com/github/Kartik-Chaurasiya/Machine-Learning/blob/master/faq_chatbot.ipynb\" target=\"_parent\"><img src=\"https://colab.research.google.com/assets/colab-badge.svg\" alt=\"Open In Colab\"/></a>"
      ]
    },
    {
      "cell_type": "code",
      "metadata": {
        "colab": {
          "base_uri": "https://localhost:8080/"
        },
        "id": "2rhUAnzN76qh",
        "outputId": "dd64759e-7922-440b-b2f6-ae7e8d5fb4a1"
      },
      "source": [
        "from google.colab import drive\n",
        "drive.mount('/gdrive')\n",
        "%cd /gdrive"
      ],
      "execution_count": 1,
      "outputs": [
        {
          "output_type": "stream",
          "name": "stdout",
          "text": [
            "Mounted at /gdrive\n",
            "/gdrive\n"
          ]
        }
      ]
    },
    {
      "cell_type": "code",
      "metadata": {
        "id": "k3wtbWwv8_Z9"
      },
      "source": [
        "import pandas as pd"
      ],
      "execution_count": 3,
      "outputs": []
    },
    {
      "cell_type": "code",
      "metadata": {
        "colab": {
          "base_uri": "https://localhost:8080/",
          "height": 202
        },
        "id": "XOfTzImb77NJ",
        "outputId": "9adf384b-0272-4bee-d196-4f287b09d60b"
      },
      "source": [
        "#importing data\n",
        "data = pd.read_excel('/gdrive/MyDrive/csv/faqs.xlsx')\n",
        "data.head()"
      ],
      "execution_count": 17,
      "outputs": [
        {
          "output_type": "execute_result",
          "data": {
            "text/html": [
              "<div>\n",
              "<style scoped>\n",
              "    .dataframe tbody tr th:only-of-type {\n",
              "        vertical-align: middle;\n",
              "    }\n",
              "\n",
              "    .dataframe tbody tr th {\n",
              "        vertical-align: top;\n",
              "    }\n",
              "\n",
              "    .dataframe thead th {\n",
              "        text-align: right;\n",
              "    }\n",
              "</style>\n",
              "<table border=\"1\" class=\"dataframe\">\n",
              "  <thead>\n",
              "    <tr style=\"text-align: right;\">\n",
              "      <th></th>\n",
              "      <th>ID</th>\n",
              "      <th>CATEGORY</th>\n",
              "      <th>PRODUCT/FEATURE</th>\n",
              "      <th>TOPIC</th>\n",
              "      <th>INFO</th>\n",
              "      <th>VIDEO</th>\n",
              "      <th>IMAGES</th>\n",
              "      <th>ADDITIONAL INFO</th>\n",
              "    </tr>\n",
              "  </thead>\n",
              "  <tbody>\n",
              "    <tr>\n",
              "      <th>0</th>\n",
              "      <td>1.0</td>\n",
              "      <td>general</td>\n",
              "      <td>NaN</td>\n",
              "      <td>Will my policy divided in to 2 insurance company?</td>\n",
              "      <td>No</td>\n",
              "      <td>NaN</td>\n",
              "      <td>NaN</td>\n",
              "      <td>NaN</td>\n",
              "    </tr>\n",
              "    <tr>\n",
              "      <th>1</th>\n",
              "      <td>2.0</td>\n",
              "      <td>general</td>\n",
              "      <td>NaN</td>\n",
              "      <td>CWO is an Insurance Company?</td>\n",
              "      <td>No. CWO is not an insurance company and does n...</td>\n",
              "      <td>NaN</td>\n",
              "      <td>NaN</td>\n",
              "      <td>NaN</td>\n",
              "    </tr>\n",
              "    <tr>\n",
              "      <th>2</th>\n",
              "      <td>3.0</td>\n",
              "      <td>general</td>\n",
              "      <td>NaN</td>\n",
              "      <td>Who manages the Insurance Policy?</td>\n",
              "      <td>The Policy is serviced by the following three ...</td>\n",
              "      <td>NaN</td>\n",
              "      <td>NaN</td>\n",
              "      <td>NaN</td>\n",
              "    </tr>\n",
              "    <tr>\n",
              "      <th>3</th>\n",
              "      <td>4.0</td>\n",
              "      <td>general</td>\n",
              "      <td>NaN</td>\n",
              "      <td>Is CWO is making profits from the policies?</td>\n",
              "      <td>NO\\nCWO is not a profit making Organization an...</td>\n",
              "      <td>NaN</td>\n",
              "      <td>NaN</td>\n",
              "      <td>NaN</td>\n",
              "    </tr>\n",
              "    <tr>\n",
              "      <th>4</th>\n",
              "      <td>5.0</td>\n",
              "      <td>enrolment</td>\n",
              "      <td>NaN</td>\n",
              "      <td>What is the procedure to enroll into this Heal...</td>\n",
              "      <td>A member is required to visit the designated w...</td>\n",
              "      <td>NaN</td>\n",
              "      <td>NaN</td>\n",
              "      <td>NaN</td>\n",
              "    </tr>\n",
              "  </tbody>\n",
              "</table>\n",
              "</div>"
            ],
            "text/plain": [
              "    ID   CATEGORY  PRODUCT/FEATURE  ... VIDEO IMAGES  ADDITIONAL INFO\n",
              "0  1.0    general              NaN  ...   NaN    NaN              NaN\n",
              "1  2.0    general              NaN  ...   NaN    NaN              NaN\n",
              "2  3.0    general              NaN  ...   NaN    NaN              NaN\n",
              "3  4.0    general              NaN  ...   NaN    NaN              NaN\n",
              "4  5.0  enrolment              NaN  ...   NaN    NaN              NaN\n",
              "\n",
              "[5 rows x 8 columns]"
            ]
          },
          "metadata": {},
          "execution_count": 17
        }
      ]
    },
    {
      "cell_type": "code",
      "metadata": {
        "colab": {
          "base_uri": "https://localhost:8080/"
        },
        "id": "Wvic6wIU9BV7",
        "outputId": "5c8c7d5c-b955-42d0-e13f-a3fcd93ad08a"
      },
      "source": [
        "data.shape"
      ],
      "execution_count": 6,
      "outputs": [
        {
          "output_type": "execute_result",
          "data": {
            "text/plain": [
              "(99, 8)"
            ]
          },
          "metadata": {},
          "execution_count": 6
        }
      ]
    },
    {
      "cell_type": "code",
      "metadata": {
        "colab": {
          "base_uri": "https://localhost:8080/"
        },
        "id": "vAYaWvAj9Roc",
        "outputId": "3cfc60c1-8698-40f6-fa7f-1fd210dc9de2"
      },
      "source": [
        "data.dtypes"
      ],
      "execution_count": 9,
      "outputs": [
        {
          "output_type": "execute_result",
          "data": {
            "text/plain": [
              "ID                 float64\n",
              "CATEGORY            object\n",
              "PRODUCT/FEATURE    float64\n",
              "TOPIC               object\n",
              "INFO                object\n",
              "VIDEO              float64\n",
              "IMAGES             float64\n",
              "ADDITIONAL INFO    float64\n",
              "dtype: object"
            ]
          },
          "metadata": {},
          "execution_count": 9
        }
      ]
    },
    {
      "cell_type": "code",
      "metadata": {
        "colab": {
          "base_uri": "https://localhost:8080/",
          "height": 294
        },
        "id": "K1ze20G29KnX",
        "outputId": "a8a631e0-9253-4f7d-de05-f5bf5dcde8ee"
      },
      "source": [
        "data.describe()"
      ],
      "execution_count": 8,
      "outputs": [
        {
          "output_type": "execute_result",
          "data": {
            "text/html": [
              "<div>\n",
              "<style scoped>\n",
              "    .dataframe tbody tr th:only-of-type {\n",
              "        vertical-align: middle;\n",
              "    }\n",
              "\n",
              "    .dataframe tbody tr th {\n",
              "        vertical-align: top;\n",
              "    }\n",
              "\n",
              "    .dataframe thead th {\n",
              "        text-align: right;\n",
              "    }\n",
              "</style>\n",
              "<table border=\"1\" class=\"dataframe\">\n",
              "  <thead>\n",
              "    <tr style=\"text-align: right;\">\n",
              "      <th></th>\n",
              "      <th>ID</th>\n",
              "      <th>PRODUCT/FEATURE</th>\n",
              "      <th>VIDEO</th>\n",
              "      <th>IMAGES</th>\n",
              "      <th>ADDITIONAL INFO</th>\n",
              "    </tr>\n",
              "  </thead>\n",
              "  <tbody>\n",
              "    <tr>\n",
              "      <th>count</th>\n",
              "      <td>10.00000</td>\n",
              "      <td>0.0</td>\n",
              "      <td>0.0</td>\n",
              "      <td>0.0</td>\n",
              "      <td>0.0</td>\n",
              "    </tr>\n",
              "    <tr>\n",
              "      <th>mean</th>\n",
              "      <td>5.50000</td>\n",
              "      <td>NaN</td>\n",
              "      <td>NaN</td>\n",
              "      <td>NaN</td>\n",
              "      <td>NaN</td>\n",
              "    </tr>\n",
              "    <tr>\n",
              "      <th>std</th>\n",
              "      <td>3.02765</td>\n",
              "      <td>NaN</td>\n",
              "      <td>NaN</td>\n",
              "      <td>NaN</td>\n",
              "      <td>NaN</td>\n",
              "    </tr>\n",
              "    <tr>\n",
              "      <th>min</th>\n",
              "      <td>1.00000</td>\n",
              "      <td>NaN</td>\n",
              "      <td>NaN</td>\n",
              "      <td>NaN</td>\n",
              "      <td>NaN</td>\n",
              "    </tr>\n",
              "    <tr>\n",
              "      <th>25%</th>\n",
              "      <td>3.25000</td>\n",
              "      <td>NaN</td>\n",
              "      <td>NaN</td>\n",
              "      <td>NaN</td>\n",
              "      <td>NaN</td>\n",
              "    </tr>\n",
              "    <tr>\n",
              "      <th>50%</th>\n",
              "      <td>5.50000</td>\n",
              "      <td>NaN</td>\n",
              "      <td>NaN</td>\n",
              "      <td>NaN</td>\n",
              "      <td>NaN</td>\n",
              "    </tr>\n",
              "    <tr>\n",
              "      <th>75%</th>\n",
              "      <td>7.75000</td>\n",
              "      <td>NaN</td>\n",
              "      <td>NaN</td>\n",
              "      <td>NaN</td>\n",
              "      <td>NaN</td>\n",
              "    </tr>\n",
              "    <tr>\n",
              "      <th>max</th>\n",
              "      <td>10.00000</td>\n",
              "      <td>NaN</td>\n",
              "      <td>NaN</td>\n",
              "      <td>NaN</td>\n",
              "      <td>NaN</td>\n",
              "    </tr>\n",
              "  </tbody>\n",
              "</table>\n",
              "</div>"
            ],
            "text/plain": [
              "             ID  PRODUCT/FEATURE  VIDEO  IMAGES  ADDITIONAL INFO\n",
              "count  10.00000              0.0    0.0     0.0              0.0\n",
              "mean    5.50000              NaN    NaN     NaN              NaN\n",
              "std     3.02765              NaN    NaN     NaN              NaN\n",
              "min     1.00000              NaN    NaN     NaN              NaN\n",
              "25%     3.25000              NaN    NaN     NaN              NaN\n",
              "50%     5.50000              NaN    NaN     NaN              NaN\n",
              "75%     7.75000              NaN    NaN     NaN              NaN\n",
              "max    10.00000              NaN    NaN     NaN              NaN"
            ]
          },
          "metadata": {},
          "execution_count": 8
        }
      ]
    },
    {
      "cell_type": "code",
      "metadata": {
        "colab": {
          "base_uri": "https://localhost:8080/"
        },
        "id": "SBsjrVaO9Mak",
        "outputId": "8fbcad31-bf34-49bf-f2d2-4ebc8e6845f6"
      },
      "source": [
        "data.isnull().sum()"
      ],
      "execution_count": 10,
      "outputs": [
        {
          "output_type": "execute_result",
          "data": {
            "text/plain": [
              "ID                 89\n",
              "CATEGORY            0\n",
              "PRODUCT/FEATURE    99\n",
              "TOPIC               0\n",
              "INFO                0\n",
              "VIDEO              99\n",
              "IMAGES             99\n",
              "ADDITIONAL INFO    99\n",
              "dtype: int64"
            ]
          },
          "metadata": {},
          "execution_count": 10
        }
      ]
    },
    {
      "cell_type": "code",
      "metadata": {
        "colab": {
          "base_uri": "https://localhost:8080/",
          "height": 202
        },
        "id": "iBFXe7cu9Wjk",
        "outputId": "50c87919-a8c3-4dd7-acb0-861c53fca187"
      },
      "source": [
        "#droping empty columns\n",
        "data = data.drop(['CATEGORY', 'ID', 'PRODUCT/FEATURE', 'VIDEO', 'IMAGES', 'ADDITIONAL INFO'], axis = 1)\n",
        "data.head()"
      ],
      "execution_count": 18,
      "outputs": [
        {
          "output_type": "execute_result",
          "data": {
            "text/html": [
              "<div>\n",
              "<style scoped>\n",
              "    .dataframe tbody tr th:only-of-type {\n",
              "        vertical-align: middle;\n",
              "    }\n",
              "\n",
              "    .dataframe tbody tr th {\n",
              "        vertical-align: top;\n",
              "    }\n",
              "\n",
              "    .dataframe thead th {\n",
              "        text-align: right;\n",
              "    }\n",
              "</style>\n",
              "<table border=\"1\" class=\"dataframe\">\n",
              "  <thead>\n",
              "    <tr style=\"text-align: right;\">\n",
              "      <th></th>\n",
              "      <th>TOPIC</th>\n",
              "      <th>INFO</th>\n",
              "    </tr>\n",
              "  </thead>\n",
              "  <tbody>\n",
              "    <tr>\n",
              "      <th>0</th>\n",
              "      <td>Will my policy divided in to 2 insurance company?</td>\n",
              "      <td>No</td>\n",
              "    </tr>\n",
              "    <tr>\n",
              "      <th>1</th>\n",
              "      <td>CWO is an Insurance Company?</td>\n",
              "      <td>No. CWO is not an insurance company and does n...</td>\n",
              "    </tr>\n",
              "    <tr>\n",
              "      <th>2</th>\n",
              "      <td>Who manages the Insurance Policy?</td>\n",
              "      <td>The Policy is serviced by the following three ...</td>\n",
              "    </tr>\n",
              "    <tr>\n",
              "      <th>3</th>\n",
              "      <td>Is CWO is making profits from the policies?</td>\n",
              "      <td>NO\\nCWO is not a profit making Organization an...</td>\n",
              "    </tr>\n",
              "    <tr>\n",
              "      <th>4</th>\n",
              "      <td>What is the procedure to enroll into this Heal...</td>\n",
              "      <td>A member is required to visit the designated w...</td>\n",
              "    </tr>\n",
              "  </tbody>\n",
              "</table>\n",
              "</div>"
            ],
            "text/plain": [
              "                                               TOPIC                                               INFO\n",
              "0  Will my policy divided in to 2 insurance company?                                                 No\n",
              "1                       CWO is an Insurance Company?  No. CWO is not an insurance company and does n...\n",
              "2                  Who manages the Insurance Policy?  The Policy is serviced by the following three ...\n",
              "3        Is CWO is making profits from the policies?  NO\\nCWO is not a profit making Organization an...\n",
              "4  What is the procedure to enroll into this Heal...  A member is required to visit the designated w..."
            ]
          },
          "metadata": {},
          "execution_count": 18
        }
      ]
    },
    {
      "cell_type": "code",
      "metadata": {
        "id": "GSsz1EMf9x1m"
      },
      "source": [
        "data.rename(columns={'TOPIC': 'Question',\n",
        "                   'INFO': 'Answer'},\n",
        "          inplace=True, errors='raise')"
      ],
      "execution_count": 21,
      "outputs": []
    },
    {
      "cell_type": "code",
      "metadata": {
        "colab": {
          "base_uri": "https://localhost:8080/",
          "height": 202
        },
        "id": "TebA8sZ79_iW",
        "outputId": "88fb9dc9-dfa3-4a4c-89f9-c299d40c697d"
      },
      "source": [
        "data.head()"
      ],
      "execution_count": 22,
      "outputs": [
        {
          "output_type": "execute_result",
          "data": {
            "text/html": [
              "<div>\n",
              "<style scoped>\n",
              "    .dataframe tbody tr th:only-of-type {\n",
              "        vertical-align: middle;\n",
              "    }\n",
              "\n",
              "    .dataframe tbody tr th {\n",
              "        vertical-align: top;\n",
              "    }\n",
              "\n",
              "    .dataframe thead th {\n",
              "        text-align: right;\n",
              "    }\n",
              "</style>\n",
              "<table border=\"1\" class=\"dataframe\">\n",
              "  <thead>\n",
              "    <tr style=\"text-align: right;\">\n",
              "      <th></th>\n",
              "      <th>Question</th>\n",
              "      <th>Answer</th>\n",
              "    </tr>\n",
              "  </thead>\n",
              "  <tbody>\n",
              "    <tr>\n",
              "      <th>0</th>\n",
              "      <td>Will my policy divided in to 2 insurance company?</td>\n",
              "      <td>No</td>\n",
              "    </tr>\n",
              "    <tr>\n",
              "      <th>1</th>\n",
              "      <td>CWO is an Insurance Company?</td>\n",
              "      <td>No. CWO is not an insurance company and does n...</td>\n",
              "    </tr>\n",
              "    <tr>\n",
              "      <th>2</th>\n",
              "      <td>Who manages the Insurance Policy?</td>\n",
              "      <td>The Policy is serviced by the following three ...</td>\n",
              "    </tr>\n",
              "    <tr>\n",
              "      <th>3</th>\n",
              "      <td>Is CWO is making profits from the policies?</td>\n",
              "      <td>NO\\nCWO is not a profit making Organization an...</td>\n",
              "    </tr>\n",
              "    <tr>\n",
              "      <th>4</th>\n",
              "      <td>What is the procedure to enroll into this Heal...</td>\n",
              "      <td>A member is required to visit the designated w...</td>\n",
              "    </tr>\n",
              "  </tbody>\n",
              "</table>\n",
              "</div>"
            ],
            "text/plain": [
              "                                            Question                                             Answer\n",
              "0  Will my policy divided in to 2 insurance company?                                                 No\n",
              "1                       CWO is an Insurance Company?  No. CWO is not an insurance company and does n...\n",
              "2                  Who manages the Insurance Policy?  The Policy is serviced by the following three ...\n",
              "3        Is CWO is making profits from the policies?  NO\\nCWO is not a profit making Organization an...\n",
              "4  What is the procedure to enroll into this Heal...  A member is required to visit the designated w..."
            ]
          },
          "metadata": {},
          "execution_count": 22
        }
      ]
    },
    {
      "cell_type": "code",
      "metadata": {
        "colab": {
          "base_uri": "https://localhost:8080/",
          "height": 415
        },
        "id": "Xwa34QYE_i0u",
        "outputId": "8c1d4922-577a-4d69-c17b-596a27171a25"
      },
      "source": [
        "# this function is used to get printable results\n",
        "def getResults(questions, fn):\n",
        "    def getResult(q):\n",
        "        answer, score, prediction = fn(q)\n",
        "        return [q, prediction, answer, score]\n",
        "\n",
        "    return pd.DataFrame(list(map(getResult, questions)), columns=[\"Q\", \"Prediction\", \"A\", \"Score\"])\n",
        "\n",
        "test_data = [\n",
        "    \"manager of Insurance Policy?\",\n",
        "    \"Is CWO making profits?\",\n",
        "    \"Is Health declaration compulsory?\"\n",
        "]\n",
        "\n",
        "data"
      ],
      "execution_count": 25,
      "outputs": [
        {
          "output_type": "execute_result",
          "data": {
            "text/html": [
              "<div>\n",
              "<style scoped>\n",
              "    .dataframe tbody tr th:only-of-type {\n",
              "        vertical-align: middle;\n",
              "    }\n",
              "\n",
              "    .dataframe tbody tr th {\n",
              "        vertical-align: top;\n",
              "    }\n",
              "\n",
              "    .dataframe thead th {\n",
              "        text-align: right;\n",
              "    }\n",
              "</style>\n",
              "<table border=\"1\" class=\"dataframe\">\n",
              "  <thead>\n",
              "    <tr style=\"text-align: right;\">\n",
              "      <th></th>\n",
              "      <th>Question</th>\n",
              "      <th>Answer</th>\n",
              "    </tr>\n",
              "  </thead>\n",
              "  <tbody>\n",
              "    <tr>\n",
              "      <th>0</th>\n",
              "      <td>Will my policy divided in to 2 insurance company?</td>\n",
              "      <td>No</td>\n",
              "    </tr>\n",
              "    <tr>\n",
              "      <th>1</th>\n",
              "      <td>CWO is an Insurance Company?</td>\n",
              "      <td>No. CWO is not an insurance company and does n...</td>\n",
              "    </tr>\n",
              "    <tr>\n",
              "      <th>2</th>\n",
              "      <td>Who manages the Insurance Policy?</td>\n",
              "      <td>The Policy is serviced by the following three ...</td>\n",
              "    </tr>\n",
              "    <tr>\n",
              "      <th>3</th>\n",
              "      <td>Is CWO is making profits from the policies?</td>\n",
              "      <td>NO\\nCWO is not a profit making Organization an...</td>\n",
              "    </tr>\n",
              "    <tr>\n",
              "      <th>4</th>\n",
              "      <td>What is the procedure to enroll into this Heal...</td>\n",
              "      <td>A member is required to visit the designated w...</td>\n",
              "    </tr>\n",
              "    <tr>\n",
              "      <th>...</th>\n",
              "      <td>...</td>\n",
              "      <td>...</td>\n",
              "    </tr>\n",
              "    <tr>\n",
              "      <th>94</th>\n",
              "      <td>How you ensure that there won’t be any hassle ...</td>\n",
              "      <td>We will provide 100% support in claim settleme...</td>\n",
              "    </tr>\n",
              "    <tr>\n",
              "      <th>95</th>\n",
              "      <td>How many procedure are covered in Day Care t...</td>\n",
              "      <td>DAY CARE PROCEDURES: Covered under the policy,...</td>\n",
              "    </tr>\n",
              "    <tr>\n",
              "      <th>96</th>\n",
              "      <td>Whether Health declaration is compulsory?</td>\n",
              "      <td>Yes, it is necessary to declare all existing a...</td>\n",
              "    </tr>\n",
              "    <tr>\n",
              "      <th>97</th>\n",
              "      <td>What are common reason of deduction / Repudia...</td>\n",
              "      <td>o Policy holder reasons: 1) Mistake in name / ...</td>\n",
              "    </tr>\n",
              "    <tr>\n",
              "      <th>98</th>\n",
              "      <td>Whom to approach in case of Grievances / Legal...</td>\n",
              "      <td>CWO will help in providing legal aid to its me...</td>\n",
              "    </tr>\n",
              "  </tbody>\n",
              "</table>\n",
              "<p>99 rows × 2 columns</p>\n",
              "</div>"
            ],
            "text/plain": [
              "                                             Question                                             Answer\n",
              "0   Will my policy divided in to 2 insurance company?                                                 No\n",
              "1                        CWO is an Insurance Company?  No. CWO is not an insurance company and does n...\n",
              "2                   Who manages the Insurance Policy?  The Policy is serviced by the following three ...\n",
              "3         Is CWO is making profits from the policies?  NO\\nCWO is not a profit making Organization an...\n",
              "4   What is the procedure to enroll into this Heal...  A member is required to visit the designated w...\n",
              "..                                                ...                                                ...\n",
              "94  How you ensure that there won’t be any hassle ...  We will provide 100% support in claim settleme...\n",
              "95    How many procedure are covered in Day Care t...  DAY CARE PROCEDURES: Covered under the policy,...\n",
              "96          Whether Health declaration is compulsory?  Yes, it is necessary to declare all existing a...\n",
              "97   What are common reason of deduction / Repudia...  o Policy holder reasons: 1) Mistake in name / ...\n",
              "98  Whom to approach in case of Grievances / Legal...  CWO will help in providing legal aid to its me...\n",
              "\n",
              "[99 rows x 2 columns]"
            ]
          },
          "metadata": {},
          "execution_count": 25
        }
      ]
    },
    {
      "cell_type": "markdown",
      "metadata": {
        "id": "nj91TNGtYx9y"
      },
      "source": [
        "string searching Levenshtein"
      ]
    },
    {
      "cell_type": "code",
      "metadata": {
        "colab": {
          "base_uri": "https://localhost:8080/"
        },
        "id": "K12D6f-HZvcF",
        "outputId": "7996f5bc-a2d7-48bf-c8d3-9c3a4b25de63"
      },
      "source": [
        "!pip install Levenshtein"
      ],
      "execution_count": 28,
      "outputs": [
        {
          "output_type": "stream",
          "name": "stdout",
          "text": [
            "Collecting Levenshtein\n",
            "  Downloading Levenshtein-0.15.0-cp37-cp37m-manylinux2010_x86_64.whl (110 kB)\n",
            "\u001b[K     |████████████████████████████████| 110 kB 8.3 MB/s \n",
            "\u001b[?25hCollecting rapidfuzz<1.7,>=1.5.1\n",
            "  Downloading rapidfuzz-1.6.2-cp37-cp37m-manylinux_2_5_x86_64.manylinux1_x86_64.manylinux_2_12_x86_64.manylinux2010_x86_64.whl (2.0 MB)\n",
            "\u001b[K     |████████████████████████████████| 2.0 MB 25.6 MB/s \n",
            "\u001b[?25hRequirement already satisfied: numpy in /usr/local/lib/python3.7/dist-packages (from rapidfuzz<1.7,>=1.5.1->Levenshtein) (1.19.5)\n",
            "Installing collected packages: rapidfuzz, Levenshtein\n",
            "Successfully installed Levenshtein-0.15.0 rapidfuzz-1.6.2\n"
          ]
        }
      ]
    },
    {
      "cell_type": "code",
      "metadata": {
        "colab": {
          "base_uri": "https://localhost:8080/",
          "height": 141
        },
        "id": "JUZDfZw5Yhas",
        "outputId": "7f72cd3b-9d20-4b27-b48f-1322bd7cf3ef"
      },
      "source": [
        "from Levenshtein import ratio\n",
        "\n",
        "def getApproximateAnswer(q):\n",
        "    max_score = 0\n",
        "    answer = \"\"\n",
        "    prediction = \"\"\n",
        "    for idx, row in data.iterrows():\n",
        "        score = ratio(row[\"Question\"], q)\n",
        "        if score >= 0.9: # I'm sure, stop here\n",
        "            return row[\"Answer\"], score, row[\"Question\"]\n",
        "        elif score > max_score: # I'm unsure, continue\n",
        "            max_score = score\n",
        "            answer = row[\"Answer\"]\n",
        "            prediction = row[\"Question\"]\n",
        "\n",
        "    if max_score > 0.3: # treshold is lowered\n",
        "        return answer, max_score, prediction\n",
        "    return \"Sorry, I didn't get you.\", max_score, prediction\n",
        "\n",
        "getResults(test_data, getApproximateAnswer)"
      ],
      "execution_count": 29,
      "outputs": [
        {
          "output_type": "execute_result",
          "data": {
            "text/html": [
              "<div>\n",
              "<style scoped>\n",
              "    .dataframe tbody tr th:only-of-type {\n",
              "        vertical-align: middle;\n",
              "    }\n",
              "\n",
              "    .dataframe tbody tr th {\n",
              "        vertical-align: top;\n",
              "    }\n",
              "\n",
              "    .dataframe thead th {\n",
              "        text-align: right;\n",
              "    }\n",
              "</style>\n",
              "<table border=\"1\" class=\"dataframe\">\n",
              "  <thead>\n",
              "    <tr style=\"text-align: right;\">\n",
              "      <th></th>\n",
              "      <th>Q</th>\n",
              "      <th>Prediction</th>\n",
              "      <th>A</th>\n",
              "      <th>Score</th>\n",
              "    </tr>\n",
              "  </thead>\n",
              "  <tbody>\n",
              "    <tr>\n",
              "      <th>0</th>\n",
              "      <td>manager of Insurance Policy?</td>\n",
              "      <td>Who manages the Insurance Policy?</td>\n",
              "      <td>The Policy is serviced by the following three ...</td>\n",
              "      <td>0.819672</td>\n",
              "    </tr>\n",
              "    <tr>\n",
              "      <th>1</th>\n",
              "      <td>Is CWO making profits?</td>\n",
              "      <td>Is CWO is making profits from the policies?</td>\n",
              "      <td>NO\\nCWO is not a profit making Organization an...</td>\n",
              "      <td>0.676923</td>\n",
              "    </tr>\n",
              "    <tr>\n",
              "      <th>2</th>\n",
              "      <td>Is Health declaration compulsory?</td>\n",
              "      <td>Whether Health declaration is compulsory?</td>\n",
              "      <td>Yes, it is necessary to declare all existing a...</td>\n",
              "      <td>0.837838</td>\n",
              "    </tr>\n",
              "  </tbody>\n",
              "</table>\n",
              "</div>"
            ],
            "text/plain": [
              "                                   Q  ...     Score\n",
              "0       manager of Insurance Policy?  ...  0.819672\n",
              "1             Is CWO making profits?  ...  0.676923\n",
              "2  Is Health declaration compulsory?  ...  0.837838\n",
              "\n",
              "[3 rows x 4 columns]"
            ]
          },
          "metadata": {},
          "execution_count": 29
        }
      ]
    }
  ]
}