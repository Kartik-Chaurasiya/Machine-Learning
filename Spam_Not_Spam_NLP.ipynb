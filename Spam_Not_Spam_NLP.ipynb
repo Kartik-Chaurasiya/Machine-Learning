{
  "nbformat": 4,
  "nbformat_minor": 0,
  "metadata": {
    "colab": {
      "name": "Spam/Not-Spam NLP.ipynb",
      "provenance": [],
      "collapsed_sections": [],
      "authorship_tag": "ABX9TyOmPoUms6odvykAuqSK/QxD",
      "include_colab_link": true
    },
    "kernelspec": {
      "name": "python3",
      "display_name": "Python 3"
    }
  },
  "cells": [
    {
      "cell_type": "markdown",
      "metadata": {
        "id": "view-in-github",
        "colab_type": "text"
      },
      "source": [
        "<a href=\"https://colab.research.google.com/github/Syntax-code/Machine-Learning/blob/master/Spam_Not_Spam_NLP.ipynb\" target=\"_parent\"><img src=\"https://colab.research.google.com/assets/colab-badge.svg\" alt=\"Open In Colab\"/></a>"
      ]
    },
    {
      "cell_type": "code",
      "metadata": {
        "id": "-0qngzepOekT",
        "colab_type": "code",
        "colab": {
          "base_uri": "https://localhost:8080/",
          "height": 1000
        },
        "outputId": "e75a7166-abe2-43e9-b43c-6609251a1458"
      },
      "source": [
        "\t  import nltk\n",
        "\t  nltk.download()"
      ],
      "execution_count": 33,
      "outputs": [
        {
          "output_type": "stream",
          "text": [
            "NLTK Downloader\n",
            "---------------------------------------------------------------------------\n",
            "    d) Download   l) List    u) Update   c) Config   h) Help   q) Quit\n",
            "---------------------------------------------------------------------------\n",
            "Downloader> d\n",
            "\n",
            "Download which package (l=list; x=cancel)?\n",
            "  Identifier> all\n",
            "    Downloading collection 'all'\n",
            "       | \n",
            "       | Downloading package abc to /root/nltk_data...\n",
            "       |   Unzipping corpora/abc.zip.\n",
            "       | Downloading package alpino to /root/nltk_data...\n",
            "       |   Unzipping corpora/alpino.zip.\n",
            "       | Downloading package biocreative_ppi to /root/nltk_data...\n",
            "       |   Unzipping corpora/biocreative_ppi.zip.\n",
            "       | Downloading package brown to /root/nltk_data...\n",
            "       |   Unzipping corpora/brown.zip.\n",
            "       | Downloading package brown_tei to /root/nltk_data...\n",
            "       |   Unzipping corpora/brown_tei.zip.\n",
            "       | Downloading package cess_cat to /root/nltk_data...\n",
            "       |   Unzipping corpora/cess_cat.zip.\n",
            "       | Downloading package cess_esp to /root/nltk_data...\n",
            "       |   Unzipping corpora/cess_esp.zip.\n",
            "       | Downloading package chat80 to /root/nltk_data...\n",
            "       |   Unzipping corpora/chat80.zip.\n",
            "       | Downloading package city_database to /root/nltk_data...\n",
            "       |   Unzipping corpora/city_database.zip.\n",
            "       | Downloading package cmudict to /root/nltk_data...\n",
            "       |   Unzipping corpora/cmudict.zip.\n",
            "       | Downloading package comparative_sentences to\n",
            "       |     /root/nltk_data...\n",
            "       |   Unzipping corpora/comparative_sentences.zip.\n",
            "       | Downloading package comtrans to /root/nltk_data...\n",
            "       | Downloading package conll2000 to /root/nltk_data...\n",
            "       |   Unzipping corpora/conll2000.zip.\n",
            "       | Downloading package conll2002 to /root/nltk_data...\n",
            "       |   Unzipping corpora/conll2002.zip.\n",
            "       | Downloading package conll2007 to /root/nltk_data...\n",
            "       | Downloading package crubadan to /root/nltk_data...\n",
            "       |   Unzipping corpora/crubadan.zip.\n",
            "       | Downloading package dependency_treebank to /root/nltk_data...\n",
            "       |   Unzipping corpora/dependency_treebank.zip.\n",
            "       | Downloading package dolch to /root/nltk_data...\n",
            "       |   Unzipping corpora/dolch.zip.\n",
            "       | Downloading package europarl_raw to /root/nltk_data...\n",
            "       |   Unzipping corpora/europarl_raw.zip.\n",
            "       | Downloading package floresta to /root/nltk_data...\n",
            "       |   Unzipping corpora/floresta.zip.\n",
            "       | Downloading package framenet_v15 to /root/nltk_data...\n",
            "       |   Unzipping corpora/framenet_v15.zip.\n",
            "       | Downloading package framenet_v17 to /root/nltk_data...\n",
            "       |   Unzipping corpora/framenet_v17.zip.\n",
            "       | Downloading package gazetteers to /root/nltk_data...\n",
            "       |   Unzipping corpora/gazetteers.zip.\n",
            "       | Downloading package genesis to /root/nltk_data...\n",
            "       |   Unzipping corpora/genesis.zip.\n",
            "       | Downloading package gutenberg to /root/nltk_data...\n",
            "       |   Unzipping corpora/gutenberg.zip.\n",
            "       | Downloading package ieer to /root/nltk_data...\n",
            "       |   Unzipping corpora/ieer.zip.\n",
            "       | Downloading package inaugural to /root/nltk_data...\n",
            "       |   Unzipping corpora/inaugural.zip.\n",
            "       | Downloading package indian to /root/nltk_data...\n",
            "       |   Unzipping corpora/indian.zip.\n",
            "       | Downloading package jeita to /root/nltk_data...\n",
            "       | Downloading package kimmo to /root/nltk_data...\n",
            "       |   Unzipping corpora/kimmo.zip.\n",
            "       | Downloading package knbc to /root/nltk_data...\n",
            "       | Downloading package lin_thesaurus to /root/nltk_data...\n",
            "       |   Unzipping corpora/lin_thesaurus.zip.\n",
            "       | Downloading package mac_morpho to /root/nltk_data...\n",
            "       |   Unzipping corpora/mac_morpho.zip.\n",
            "       | Downloading package machado to /root/nltk_data...\n",
            "       | Downloading package masc_tagged to /root/nltk_data...\n",
            "       | Downloading package moses_sample to /root/nltk_data...\n",
            "       |   Unzipping models/moses_sample.zip.\n",
            "       | Downloading package movie_reviews to /root/nltk_data...\n",
            "       |   Unzipping corpora/movie_reviews.zip.\n",
            "       | Downloading package names to /root/nltk_data...\n",
            "       |   Unzipping corpora/names.zip.\n",
            "       | Downloading package nombank.1.0 to /root/nltk_data...\n",
            "       | Downloading package nps_chat to /root/nltk_data...\n",
            "       |   Unzipping corpora/nps_chat.zip.\n",
            "       | Downloading package omw to /root/nltk_data...\n",
            "       |   Unzipping corpora/omw.zip.\n",
            "       | Downloading package opinion_lexicon to /root/nltk_data...\n",
            "       |   Unzipping corpora/opinion_lexicon.zip.\n",
            "       | Downloading package paradigms to /root/nltk_data...\n",
            "       |   Unzipping corpora/paradigms.zip.\n",
            "       | Downloading package pil to /root/nltk_data...\n",
            "       |   Unzipping corpora/pil.zip.\n",
            "       | Downloading package pl196x to /root/nltk_data...\n",
            "       |   Unzipping corpora/pl196x.zip.\n",
            "       | Downloading package ppattach to /root/nltk_data...\n",
            "       |   Unzipping corpora/ppattach.zip.\n",
            "       | Downloading package problem_reports to /root/nltk_data...\n",
            "       |   Unzipping corpora/problem_reports.zip.\n",
            "       | Downloading package propbank to /root/nltk_data...\n",
            "       | Downloading package ptb to /root/nltk_data...\n",
            "       |   Unzipping corpora/ptb.zip.\n",
            "       | Downloading package product_reviews_1 to /root/nltk_data...\n",
            "       |   Unzipping corpora/product_reviews_1.zip.\n",
            "       | Downloading package product_reviews_2 to /root/nltk_data...\n",
            "       |   Unzipping corpora/product_reviews_2.zip.\n",
            "       | Downloading package pros_cons to /root/nltk_data...\n",
            "       |   Unzipping corpora/pros_cons.zip.\n",
            "       | Downloading package qc to /root/nltk_data...\n",
            "       |   Unzipping corpora/qc.zip.\n",
            "       | Downloading package reuters to /root/nltk_data...\n",
            "       | Downloading package rte to /root/nltk_data...\n",
            "       |   Unzipping corpora/rte.zip.\n",
            "       | Downloading package semcor to /root/nltk_data...\n",
            "       | Downloading package senseval to /root/nltk_data...\n",
            "       |   Unzipping corpora/senseval.zip.\n",
            "       | Downloading package sentiwordnet to /root/nltk_data...\n",
            "       |   Unzipping corpora/sentiwordnet.zip.\n",
            "       | Downloading package sentence_polarity to /root/nltk_data...\n",
            "       |   Unzipping corpora/sentence_polarity.zip.\n",
            "       | Downloading package shakespeare to /root/nltk_data...\n",
            "       |   Unzipping corpora/shakespeare.zip.\n",
            "       | Downloading package sinica_treebank to /root/nltk_data...\n",
            "       |   Unzipping corpora/sinica_treebank.zip.\n",
            "       | Downloading package smultron to /root/nltk_data...\n",
            "       |   Unzipping corpora/smultron.zip.\n",
            "       | Downloading package state_union to /root/nltk_data...\n",
            "       |   Unzipping corpora/state_union.zip.\n",
            "       | Downloading package stopwords to /root/nltk_data...\n",
            "       |   Unzipping corpora/stopwords.zip.\n",
            "       | Downloading package subjectivity to /root/nltk_data...\n",
            "       |   Unzipping corpora/subjectivity.zip.\n",
            "       | Downloading package swadesh to /root/nltk_data...\n",
            "       |   Unzipping corpora/swadesh.zip.\n",
            "       | Downloading package switchboard to /root/nltk_data...\n",
            "       |   Unzipping corpora/switchboard.zip.\n",
            "       | Downloading package timit to /root/nltk_data...\n",
            "       |   Unzipping corpora/timit.zip.\n",
            "       | Downloading package toolbox to /root/nltk_data...\n",
            "       |   Unzipping corpora/toolbox.zip.\n",
            "       | Downloading package treebank to /root/nltk_data...\n",
            "       |   Unzipping corpora/treebank.zip.\n",
            "       | Downloading package twitter_samples to /root/nltk_data...\n",
            "       |   Unzipping corpora/twitter_samples.zip.\n",
            "       | Downloading package udhr to /root/nltk_data...\n",
            "       |   Unzipping corpora/udhr.zip.\n",
            "       | Downloading package udhr2 to /root/nltk_data...\n",
            "       |   Unzipping corpora/udhr2.zip.\n",
            "       | Downloading package unicode_samples to /root/nltk_data...\n",
            "       |   Unzipping corpora/unicode_samples.zip.\n",
            "       | Downloading package universal_treebanks_v20 to\n",
            "       |     /root/nltk_data...\n",
            "       | Downloading package verbnet to /root/nltk_data...\n",
            "       |   Unzipping corpora/verbnet.zip.\n",
            "       | Downloading package verbnet3 to /root/nltk_data...\n",
            "       |   Unzipping corpora/verbnet3.zip.\n",
            "       | Downloading package webtext to /root/nltk_data...\n",
            "       |   Unzipping corpora/webtext.zip.\n",
            "       | Downloading package wordnet to /root/nltk_data...\n",
            "       |   Unzipping corpora/wordnet.zip.\n",
            "       | Downloading package wordnet_ic to /root/nltk_data...\n",
            "       |   Unzipping corpora/wordnet_ic.zip.\n",
            "       | Downloading package words to /root/nltk_data...\n",
            "       |   Unzipping corpora/words.zip.\n",
            "       | Downloading package ycoe to /root/nltk_data...\n",
            "       |   Unzipping corpora/ycoe.zip.\n",
            "       | Downloading package rslp to /root/nltk_data...\n",
            "       |   Unzipping stemmers/rslp.zip.\n",
            "       | Downloading package maxent_treebank_pos_tagger to\n",
            "       |     /root/nltk_data...\n",
            "       |   Unzipping taggers/maxent_treebank_pos_tagger.zip.\n",
            "       | Downloading package universal_tagset to /root/nltk_data...\n",
            "       |   Unzipping taggers/universal_tagset.zip.\n",
            "       | Downloading package maxent_ne_chunker to /root/nltk_data...\n",
            "       |   Unzipping chunkers/maxent_ne_chunker.zip.\n",
            "       | Downloading package punkt to /root/nltk_data...\n",
            "       |   Unzipping tokenizers/punkt.zip.\n",
            "       | Downloading package book_grammars to /root/nltk_data...\n",
            "       |   Unzipping grammars/book_grammars.zip.\n",
            "       | Downloading package sample_grammars to /root/nltk_data...\n",
            "       |   Unzipping grammars/sample_grammars.zip.\n",
            "       | Downloading package spanish_grammars to /root/nltk_data...\n",
            "       |   Unzipping grammars/spanish_grammars.zip.\n",
            "       | Downloading package basque_grammars to /root/nltk_data...\n",
            "       |   Unzipping grammars/basque_grammars.zip.\n",
            "       | Downloading package large_grammars to /root/nltk_data...\n",
            "       |   Unzipping grammars/large_grammars.zip.\n",
            "       | Downloading package tagsets to /root/nltk_data...\n",
            "       |   Unzipping help/tagsets.zip.\n",
            "       | Downloading package snowball_data to /root/nltk_data...\n",
            "       | Downloading package bllip_wsj_no_aux to /root/nltk_data...\n",
            "       |   Unzipping models/bllip_wsj_no_aux.zip.\n",
            "       | Downloading package word2vec_sample to /root/nltk_data...\n",
            "       |   Unzipping models/word2vec_sample.zip.\n",
            "       | Downloading package panlex_swadesh to /root/nltk_data...\n",
            "       | Downloading package mte_teip5 to /root/nltk_data...\n",
            "       |   Unzipping corpora/mte_teip5.zip.\n",
            "       | Downloading package averaged_perceptron_tagger to\n",
            "       |     /root/nltk_data...\n",
            "       |   Unzipping taggers/averaged_perceptron_tagger.zip.\n",
            "       | Downloading package averaged_perceptron_tagger_ru to\n",
            "       |     /root/nltk_data...\n",
            "       |   Unzipping taggers/averaged_perceptron_tagger_ru.zip.\n",
            "       | Downloading package perluniprops to /root/nltk_data...\n",
            "       |   Unzipping misc/perluniprops.zip.\n",
            "       | Downloading package nonbreaking_prefixes to\n",
            "       |     /root/nltk_data...\n",
            "       |   Unzipping corpora/nonbreaking_prefixes.zip.\n",
            "       | Downloading package vader_lexicon to /root/nltk_data...\n",
            "       | Downloading package porter_test to /root/nltk_data...\n",
            "       |   Unzipping stemmers/porter_test.zip.\n",
            "       | Downloading package wmt15_eval to /root/nltk_data...\n",
            "       |   Unzipping models/wmt15_eval.zip.\n",
            "       | Downloading package mwa_ppdb to /root/nltk_data...\n",
            "       |   Unzipping misc/mwa_ppdb.zip.\n",
            "       | \n",
            "     Done downloading collection all\n",
            "\n",
            "---------------------------------------------------------------------------\n",
            "    d) Download   l) List    u) Update   c) Config   h) Help   q) Quit\n",
            "---------------------------------------------------------------------------\n",
            "Downloader> q\n"
          ],
          "name": "stdout"
        },
        {
          "output_type": "execute_result",
          "data": {
            "text/plain": [
              "True"
            ]
          },
          "metadata": {
            "tags": []
          },
          "execution_count": 33
        }
      ]
    },
    {
      "cell_type": "code",
      "metadata": {
        "id": "0xkPvKiLnR7d",
        "colab_type": "code",
        "colab": {
          "resources": {
            "http://localhost:8080/nbextensions/google.colab/files.js": {
              "data": "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",
              "ok": true,
              "headers": [
                [
                  "content-type",
                  "application/javascript"
                ]
              ],
              "status": 200,
              "status_text": ""
            }
          },
          "base_uri": "https://localhost:8080/",
          "height": 409
        },
        "outputId": "9a76e017-fcc2-4bde-c75a-afc6c089590d"
      },
      "source": [
        "!pip install kaggle --upgrade\n",
        "!kaggle --version\n",
        "from google.colab import files\n",
        "files.upload()"
      ],
      "execution_count": 1,
      "outputs": [
        {
          "output_type": "stream",
          "text": [
            "Requirement already up-to-date: kaggle in /usr/local/lib/python3.6/dist-packages (1.5.6)\n",
            "Requirement already satisfied, skipping upgrade: python-dateutil in /usr/local/lib/python3.6/dist-packages (from kaggle) (2.8.1)\n",
            "Requirement already satisfied, skipping upgrade: six>=1.10 in /usr/local/lib/python3.6/dist-packages (from kaggle) (1.15.0)\n",
            "Requirement already satisfied, skipping upgrade: requests in /usr/local/lib/python3.6/dist-packages (from kaggle) (2.23.0)\n",
            "Requirement already satisfied, skipping upgrade: certifi in /usr/local/lib/python3.6/dist-packages (from kaggle) (2020.6.20)\n",
            "Requirement already satisfied, skipping upgrade: tqdm in /usr/local/lib/python3.6/dist-packages (from kaggle) (4.41.1)\n",
            "Requirement already satisfied, skipping upgrade: urllib3<1.25,>=1.21.1 in /usr/local/lib/python3.6/dist-packages (from kaggle) (1.24.3)\n",
            "Requirement already satisfied, skipping upgrade: python-slugify in /usr/local/lib/python3.6/dist-packages (from kaggle) (4.0.1)\n",
            "Requirement already satisfied, skipping upgrade: idna<3,>=2.5 in /usr/local/lib/python3.6/dist-packages (from requests->kaggle) (2.10)\n",
            "Requirement already satisfied, skipping upgrade: chardet<4,>=3.0.2 in /usr/local/lib/python3.6/dist-packages (from requests->kaggle) (3.0.4)\n",
            "Requirement already satisfied, skipping upgrade: text-unidecode>=1.3 in /usr/local/lib/python3.6/dist-packages (from python-slugify->kaggle) (1.3)\n",
            "Traceback (most recent call last):\n",
            "  File \"/usr/local/bin/kaggle\", line 5, in <module>\n",
            "    from kaggle.cli import main\n",
            "  File \"/usr/local/lib/python2.7/dist-packages/kaggle/__init__.py\", line 23, in <module>\n",
            "    api.authenticate()\n",
            "  File \"/usr/local/lib/python2.7/dist-packages/kaggle/api/kaggle_api_extended.py\", line 146, in authenticate\n",
            "    self.config_file, self.config_dir))\n",
            "IOError: Could not find kaggle.json. Make sure it's located in /root/.kaggle. Or use the environment method.\n"
          ],
          "name": "stdout"
        },
        {
          "output_type": "display_data",
          "data": {
            "text/html": [
              "\n",
              "     <input type=\"file\" id=\"files-063a6030-2270-4d5b-9a53-5e96941ee8c7\" name=\"files[]\" multiple disabled\n",
              "        style=\"border:none\" />\n",
              "     <output id=\"result-063a6030-2270-4d5b-9a53-5e96941ee8c7\">\n",
              "      Upload widget is only available when the cell has been executed in the\n",
              "      current browser session. Please rerun this cell to enable.\n",
              "      </output>\n",
              "      <script src=\"/nbextensions/google.colab/files.js\"></script> "
            ],
            "text/plain": [
              "<IPython.core.display.HTML object>"
            ]
          },
          "metadata": {
            "tags": []
          }
        },
        {
          "output_type": "stream",
          "text": [
            "Saving kaggle.json to kaggle.json\n"
          ],
          "name": "stdout"
        },
        {
          "output_type": "execute_result",
          "data": {
            "text/plain": [
              "{'kaggle.json': b'{\"username\":\"kartikchourasiya\",\"key\":\"807c8d14f49cd514a2015f84a2a567f1\"}'}"
            ]
          },
          "metadata": {
            "tags": []
          },
          "execution_count": 1
        }
      ]
    },
    {
      "cell_type": "code",
      "metadata": {
        "id": "EOVDdeQJZZMS",
        "colab_type": "code",
        "colab": {}
      },
      "source": [
        "!mkdir -p ~/.kaggle\n",
        "!cp kaggle.json ~/.kaggle/\n",
        "\n",
        "#chamge permission\n",
        "!chmod 600 ~/.kaggle/kaggle.json"
      ],
      "execution_count": 2,
      "outputs": []
    },
    {
      "cell_type": "code",
      "metadata": {
        "id": "6sK36fnaZcgE",
        "colab_type": "code",
        "colab": {
          "base_uri": "https://localhost:8080/",
          "height": 67
        },
        "outputId": "3bb50333-8fdc-440e-fb4b-d4bbbc4bc018"
      },
      "source": [
        "!kaggle datasets download -d uciml/sms-spam-collection-dataset"
      ],
      "execution_count": 3,
      "outputs": [
        {
          "output_type": "stream",
          "text": [
            "Downloading sms-spam-collection-dataset.zip to /content\n",
            "\r  0% 0.00/211k [00:00<?, ?B/s]\n",
            "\r100% 211k/211k [00:00<00:00, 31.1MB/s]\n"
          ],
          "name": "stdout"
        }
      ]
    },
    {
      "cell_type": "code",
      "metadata": {
        "id": "_-Sbj9PEZksH",
        "colab_type": "code",
        "colab": {
          "base_uri": "https://localhost:8080/",
          "height": 50
        },
        "outputId": "07da2e03-66ca-45da-d15e-28fafcb811be"
      },
      "source": [
        "!unzip sms-spam-collection-dataset.zip"
      ],
      "execution_count": 4,
      "outputs": [
        {
          "output_type": "stream",
          "text": [
            "Archive:  sms-spam-collection-dataset.zip\n",
            "  inflating: spam.csv                \n"
          ],
          "name": "stdout"
        }
      ]
    },
    {
      "cell_type": "code",
      "metadata": {
        "id": "kfc_RFTPaI7Z",
        "colab_type": "code",
        "colab": {}
      },
      "source": [
        "import numpy as np\n",
        "import pandas as pd\n",
        "import string\n",
        "from sklearn.feature_extraction.text import TfidfVectorizer\n",
        "from sklearn.model_selection import train_test_split\n",
        "import nltk\n",
        "from nltk.corpus import stopwords\n",
        "from nltk.stem import SnowballStemmer"
      ],
      "execution_count": 29,
      "outputs": []
    },
    {
      "cell_type": "code",
      "metadata": {
        "id": "eUkVpe3eafnR",
        "colab_type": "code",
        "colab": {}
      },
      "source": [
        "df = pd.read_csv('spam.csv', encoding='latin-1')"
      ],
      "execution_count": 9,
      "outputs": []
    },
    {
      "cell_type": "code",
      "metadata": {
        "id": "-otm84h5anWp",
        "colab_type": "code",
        "colab": {
          "base_uri": "https://localhost:8080/",
          "height": 195
        },
        "outputId": "41f80324-3d01-41d8-c291-15be04d9f59a"
      },
      "source": [
        "df.head()"
      ],
      "execution_count": 10,
      "outputs": [
        {
          "output_type": "execute_result",
          "data": {
            "text/html": [
              "<div>\n",
              "<style scoped>\n",
              "    .dataframe tbody tr th:only-of-type {\n",
              "        vertical-align: middle;\n",
              "    }\n",
              "\n",
              "    .dataframe tbody tr th {\n",
              "        vertical-align: top;\n",
              "    }\n",
              "\n",
              "    .dataframe thead th {\n",
              "        text-align: right;\n",
              "    }\n",
              "</style>\n",
              "<table border=\"1\" class=\"dataframe\">\n",
              "  <thead>\n",
              "    <tr style=\"text-align: right;\">\n",
              "      <th></th>\n",
              "      <th>v1</th>\n",
              "      <th>v2</th>\n",
              "      <th>Unnamed: 2</th>\n",
              "      <th>Unnamed: 3</th>\n",
              "      <th>Unnamed: 4</th>\n",
              "    </tr>\n",
              "  </thead>\n",
              "  <tbody>\n",
              "    <tr>\n",
              "      <th>0</th>\n",
              "      <td>ham</td>\n",
              "      <td>Go until jurong point, crazy.. Available only ...</td>\n",
              "      <td>NaN</td>\n",
              "      <td>NaN</td>\n",
              "      <td>NaN</td>\n",
              "    </tr>\n",
              "    <tr>\n",
              "      <th>1</th>\n",
              "      <td>ham</td>\n",
              "      <td>Ok lar... Joking wif u oni...</td>\n",
              "      <td>NaN</td>\n",
              "      <td>NaN</td>\n",
              "      <td>NaN</td>\n",
              "    </tr>\n",
              "    <tr>\n",
              "      <th>2</th>\n",
              "      <td>spam</td>\n",
              "      <td>Free entry in 2 a wkly comp to win FA Cup fina...</td>\n",
              "      <td>NaN</td>\n",
              "      <td>NaN</td>\n",
              "      <td>NaN</td>\n",
              "    </tr>\n",
              "    <tr>\n",
              "      <th>3</th>\n",
              "      <td>ham</td>\n",
              "      <td>U dun say so early hor... U c already then say...</td>\n",
              "      <td>NaN</td>\n",
              "      <td>NaN</td>\n",
              "      <td>NaN</td>\n",
              "    </tr>\n",
              "    <tr>\n",
              "      <th>4</th>\n",
              "      <td>ham</td>\n",
              "      <td>Nah I don't think he goes to usf, he lives aro...</td>\n",
              "      <td>NaN</td>\n",
              "      <td>NaN</td>\n",
              "      <td>NaN</td>\n",
              "    </tr>\n",
              "  </tbody>\n",
              "</table>\n",
              "</div>"
            ],
            "text/plain": [
              "     v1  ... Unnamed: 4\n",
              "0   ham  ...        NaN\n",
              "1   ham  ...        NaN\n",
              "2  spam  ...        NaN\n",
              "3   ham  ...        NaN\n",
              "4   ham  ...        NaN\n",
              "\n",
              "[5 rows x 5 columns]"
            ]
          },
          "metadata": {
            "tags": []
          },
          "execution_count": 10
        }
      ]
    },
    {
      "cell_type": "code",
      "metadata": {
        "id": "5HbueBl-bOU3",
        "colab_type": "code",
        "colab": {
          "base_uri": "https://localhost:8080/",
          "height": 195
        },
        "outputId": "c9d6430b-c468-4a3e-82fa-f2249777b3b4"
      },
      "source": [
        "df = df.iloc[:, 0:2]\n",
        "df.head()"
      ],
      "execution_count": 11,
      "outputs": [
        {
          "output_type": "execute_result",
          "data": {
            "text/html": [
              "<div>\n",
              "<style scoped>\n",
              "    .dataframe tbody tr th:only-of-type {\n",
              "        vertical-align: middle;\n",
              "    }\n",
              "\n",
              "    .dataframe tbody tr th {\n",
              "        vertical-align: top;\n",
              "    }\n",
              "\n",
              "    .dataframe thead th {\n",
              "        text-align: right;\n",
              "    }\n",
              "</style>\n",
              "<table border=\"1\" class=\"dataframe\">\n",
              "  <thead>\n",
              "    <tr style=\"text-align: right;\">\n",
              "      <th></th>\n",
              "      <th>v1</th>\n",
              "      <th>v2</th>\n",
              "    </tr>\n",
              "  </thead>\n",
              "  <tbody>\n",
              "    <tr>\n",
              "      <th>0</th>\n",
              "      <td>ham</td>\n",
              "      <td>Go until jurong point, crazy.. Available only ...</td>\n",
              "    </tr>\n",
              "    <tr>\n",
              "      <th>1</th>\n",
              "      <td>ham</td>\n",
              "      <td>Ok lar... Joking wif u oni...</td>\n",
              "    </tr>\n",
              "    <tr>\n",
              "      <th>2</th>\n",
              "      <td>spam</td>\n",
              "      <td>Free entry in 2 a wkly comp to win FA Cup fina...</td>\n",
              "    </tr>\n",
              "    <tr>\n",
              "      <th>3</th>\n",
              "      <td>ham</td>\n",
              "      <td>U dun say so early hor... U c already then say...</td>\n",
              "    </tr>\n",
              "    <tr>\n",
              "      <th>4</th>\n",
              "      <td>ham</td>\n",
              "      <td>Nah I don't think he goes to usf, he lives aro...</td>\n",
              "    </tr>\n",
              "  </tbody>\n",
              "</table>\n",
              "</div>"
            ],
            "text/plain": [
              "     v1                                                 v2\n",
              "0   ham  Go until jurong point, crazy.. Available only ...\n",
              "1   ham                      Ok lar... Joking wif u oni...\n",
              "2  spam  Free entry in 2 a wkly comp to win FA Cup fina...\n",
              "3   ham  U dun say so early hor... U c already then say...\n",
              "4   ham  Nah I don't think he goes to usf, he lives aro..."
            ]
          },
          "metadata": {
            "tags": []
          },
          "execution_count": 11
        }
      ]
    },
    {
      "cell_type": "code",
      "metadata": {
        "id": "uOQAc3qzjvqt",
        "colab_type": "code",
        "colab": {
          "base_uri": "https://localhost:8080/",
          "height": 166
        },
        "outputId": "ac175e7c-52ea-4a78-e38e-de19d4d540ec"
      },
      "source": [
        "df.describe()"
      ],
      "execution_count": 13,
      "outputs": [
        {
          "output_type": "execute_result",
          "data": {
            "text/html": [
              "<div>\n",
              "<style scoped>\n",
              "    .dataframe tbody tr th:only-of-type {\n",
              "        vertical-align: middle;\n",
              "    }\n",
              "\n",
              "    .dataframe tbody tr th {\n",
              "        vertical-align: top;\n",
              "    }\n",
              "\n",
              "    .dataframe thead th {\n",
              "        text-align: right;\n",
              "    }\n",
              "</style>\n",
              "<table border=\"1\" class=\"dataframe\">\n",
              "  <thead>\n",
              "    <tr style=\"text-align: right;\">\n",
              "      <th></th>\n",
              "      <th>v1</th>\n",
              "      <th>v2</th>\n",
              "    </tr>\n",
              "  </thead>\n",
              "  <tbody>\n",
              "    <tr>\n",
              "      <th>count</th>\n",
              "      <td>5572</td>\n",
              "      <td>5572</td>\n",
              "    </tr>\n",
              "    <tr>\n",
              "      <th>unique</th>\n",
              "      <td>2</td>\n",
              "      <td>5169</td>\n",
              "    </tr>\n",
              "    <tr>\n",
              "      <th>top</th>\n",
              "      <td>ham</td>\n",
              "      <td>Sorry, I'll call later</td>\n",
              "    </tr>\n",
              "    <tr>\n",
              "      <th>freq</th>\n",
              "      <td>4825</td>\n",
              "      <td>30</td>\n",
              "    </tr>\n",
              "  </tbody>\n",
              "</table>\n",
              "</div>"
            ],
            "text/plain": [
              "          v1                      v2\n",
              "count   5572                    5572\n",
              "unique     2                    5169\n",
              "top      ham  Sorry, I'll call later\n",
              "freq    4825                      30"
            ]
          },
          "metadata": {
            "tags": []
          },
          "execution_count": 13
        }
      ]
    },
    {
      "cell_type": "code",
      "metadata": {
        "id": "WONwbnNvkLfD",
        "colab_type": "code",
        "colab": {
          "base_uri": "https://localhost:8080/",
          "height": 168
        },
        "outputId": "0d05dacf-3834-4543-e629-13e637baadaf"
      },
      "source": [
        "df.info()"
      ],
      "execution_count": 14,
      "outputs": [
        {
          "output_type": "stream",
          "text": [
            "<class 'pandas.core.frame.DataFrame'>\n",
            "RangeIndex: 5572 entries, 0 to 5571\n",
            "Data columns (total 2 columns):\n",
            " #   Column  Non-Null Count  Dtype \n",
            "---  ------  --------------  ----- \n",
            " 0   v1      5572 non-null   object\n",
            " 1   v2      5572 non-null   object\n",
            "dtypes: object(2)\n",
            "memory usage: 87.2+ KB\n"
          ],
          "name": "stdout"
        }
      ]
    },
    {
      "cell_type": "code",
      "metadata": {
        "id": "KPmDLHHqbe7l",
        "colab_type": "code",
        "colab": {
          "base_uri": "https://localhost:8080/",
          "height": 67
        },
        "outputId": "ff7d6440-84ab-41b6-d4c0-9323d6ea3398"
      },
      "source": [
        "df['v1'].value_counts()"
      ],
      "execution_count": 12,
      "outputs": [
        {
          "output_type": "execute_result",
          "data": {
            "text/plain": [
              "ham     4825\n",
              "spam     747\n",
              "Name: v1, dtype: int64"
            ]
          },
          "metadata": {
            "tags": []
          },
          "execution_count": 12
        }
      ]
    },
    {
      "cell_type": "code",
      "metadata": {
        "id": "TUA39cRykmQ9",
        "colab_type": "code",
        "colab": {
          "base_uri": "https://localhost:8080/",
          "height": 195
        },
        "outputId": "dddffc5f-f573-4ac3-df66-eea7aca3d24b"
      },
      "source": [
        "df['v1'] = df['v1'].apply(lambda x : 0 if x == 'ham' else 1)\n",
        "df.head()"
      ],
      "execution_count": 17,
      "outputs": [
        {
          "output_type": "execute_result",
          "data": {
            "text/html": [
              "<div>\n",
              "<style scoped>\n",
              "    .dataframe tbody tr th:only-of-type {\n",
              "        vertical-align: middle;\n",
              "    }\n",
              "\n",
              "    .dataframe tbody tr th {\n",
              "        vertical-align: top;\n",
              "    }\n",
              "\n",
              "    .dataframe thead th {\n",
              "        text-align: right;\n",
              "    }\n",
              "</style>\n",
              "<table border=\"1\" class=\"dataframe\">\n",
              "  <thead>\n",
              "    <tr style=\"text-align: right;\">\n",
              "      <th></th>\n",
              "      <th>v1</th>\n",
              "      <th>v2</th>\n",
              "    </tr>\n",
              "  </thead>\n",
              "  <tbody>\n",
              "    <tr>\n",
              "      <th>0</th>\n",
              "      <td>0</td>\n",
              "      <td>Go until jurong point, crazy.. Available only ...</td>\n",
              "    </tr>\n",
              "    <tr>\n",
              "      <th>1</th>\n",
              "      <td>0</td>\n",
              "      <td>Ok lar... Joking wif u oni...</td>\n",
              "    </tr>\n",
              "    <tr>\n",
              "      <th>2</th>\n",
              "      <td>1</td>\n",
              "      <td>Free entry in 2 a wkly comp to win FA Cup fina...</td>\n",
              "    </tr>\n",
              "    <tr>\n",
              "      <th>3</th>\n",
              "      <td>0</td>\n",
              "      <td>U dun say so early hor... U c already then say...</td>\n",
              "    </tr>\n",
              "    <tr>\n",
              "      <th>4</th>\n",
              "      <td>0</td>\n",
              "      <td>Nah I don't think he goes to usf, he lives aro...</td>\n",
              "    </tr>\n",
              "  </tbody>\n",
              "</table>\n",
              "</div>"
            ],
            "text/plain": [
              "   v1                                                 v2\n",
              "0   0  Go until jurong point, crazy.. Available only ...\n",
              "1   0                      Ok lar... Joking wif u oni...\n",
              "2   1  Free entry in 2 a wkly comp to win FA Cup fina...\n",
              "3   0  U dun say so early hor... U c already then say...\n",
              "4   0  Nah I don't think he goes to usf, he lives aro..."
            ]
          },
          "metadata": {
            "tags": []
          },
          "execution_count": 17
        }
      ]
    },
    {
      "cell_type": "code",
      "metadata": {
        "id": "p_3hpr94k12o",
        "colab_type": "code",
        "colab": {
          "base_uri": "https://localhost:8080/",
          "height": 67
        },
        "outputId": "22928ef5-283d-49fc-a20e-07f1dcb61148"
      },
      "source": [
        "df['v1'].value_counts()"
      ],
      "execution_count": 18,
      "outputs": [
        {
          "output_type": "execute_result",
          "data": {
            "text/plain": [
              "0    4825\n",
              "1     747\n",
              "Name: v1, dtype: int64"
            ]
          },
          "metadata": {
            "tags": []
          },
          "execution_count": 18
        }
      ]
    },
    {
      "cell_type": "code",
      "metadata": {
        "id": "8c_51N8ckeWr",
        "colab_type": "code",
        "colab": {}
      },
      "source": [
        "df = df.rename(columns = {'v1' : 'Spam/Not_Spam', 'v2' : 'message'})"
      ],
      "execution_count": 23,
      "outputs": []
    },
    {
      "cell_type": "code",
      "metadata": {
        "id": "CzJueyVQnoU-",
        "colab_type": "code",
        "colab": {
          "base_uri": "https://localhost:8080/",
          "height": 218
        },
        "outputId": "5606a5c1-31ce-4f84-be97-db0aed45e554"
      },
      "source": [
        "message = df.iloc[:, 1].copy()\n",
        "test = message[0]\n",
        "message"
      ],
      "execution_count": 37,
      "outputs": [
        {
          "output_type": "execute_result",
          "data": {
            "text/plain": [
              "0       Go until jurong point, crazy.. Available only ...\n",
              "1                           Ok lar... Joking wif u oni...\n",
              "2       Free entry in 2 a wkly comp to win FA Cup fina...\n",
              "3       U dun say so early hor... U c already then say...\n",
              "4       Nah I don't think he goes to usf, he lives aro...\n",
              "                              ...                        \n",
              "5567    This is the 2nd time we have tried 2 contact u...\n",
              "5568                Will Ì_ b going to esplanade fr home?\n",
              "5569    Pity, * was in mood for that. So...any other s...\n",
              "5570    The guy did some bitching but I acted like i'd...\n",
              "5571                           Rofl. Its true to its name\n",
              "Name: message, Length: 5572, dtype: object"
            ]
          },
          "metadata": {
            "tags": []
          },
          "execution_count": 37
        }
      ]
    },
    {
      "cell_type": "code",
      "metadata": {
        "id": "qPw4AEBcn_1v",
        "colab_type": "code",
        "colab": {}
      },
      "source": [
        "def text_preprocess(text):\n",
        "    text = text.translate(str.maketrans('', '', string.punctuation))\n",
        "    text = [word for word in text.split() if word.lower() not in stopwords.words('english')]\n",
        "    return \" \".join(text)"
      ],
      "execution_count": 43,
      "outputs": []
    },
    {
      "cell_type": "code",
      "metadata": {
        "id": "LTYWJgXZp2U7",
        "colab_type": "code",
        "colab": {
          "base_uri": "https://localhost:8080/",
          "height": 52
        },
        "outputId": "7f2fd3a5-0481-457b-b259-8a6c6c6ff5cc"
      },
      "source": [
        "text_preprocess(test)"
      ],
      "execution_count": null,
      "outputs": [
        {
          "output_type": "stream",
          "text": [
            "Go until jurong point crazy Available only in bugis n great world la e buffet Cine there got amore wat\n"
          ],
          "name": "stdout"
        },
        {
          "output_type": "execute_result",
          "data": {
            "application/vnd.google.colaboratory.intrinsic+json": {
              "type": "string"
            },
            "text/plain": [
              "'Go jurong point crazy Available bugis n great world la e buffet Cine got amore wat'"
            ]
          },
          "metadata": {
            "tags": []
          },
          "execution_count": 42
        }
      ]
    },
    {
      "cell_type": "code",
      "metadata": {
        "id": "rwxe6eeroqIG",
        "colab_type": "code",
        "colab": {
          "base_uri": "https://localhost:8080/",
          "height": 218
        },
        "outputId": "aac696bd-7e24-4682-cf74-239e14e2e849"
      },
      "source": [
        "message = message.apply(text_preprocess)\n",
        "message"
      ],
      "execution_count": 44,
      "outputs": [
        {
          "output_type": "execute_result",
          "data": {
            "text/plain": [
              "0       Go jurong point crazy Available bugis n great ...\n",
              "1                                 Ok lar Joking wif u oni\n",
              "2       Free entry 2 wkly comp win FA Cup final tkts 2...\n",
              "3                     U dun say early hor U c already say\n",
              "4             Nah dont think goes usf lives around though\n",
              "                              ...                        \n",
              "5567    2nd time tried 2 contact u U å£750 Pound prize...\n",
              "5568                          Ì b going esplanade fr home\n",
              "5569                          Pity mood Soany suggestions\n",
              "5570    guy bitching acted like id interested buying s...\n",
              "5571                                       Rofl true name\n",
              "Name: message, Length: 5572, dtype: object"
            ]
          },
          "metadata": {
            "tags": []
          },
          "execution_count": 44
        }
      ]
    },
    {
      "cell_type": "markdown",
      "metadata": {
        "id": "owOdk858sLxO",
        "colab_type": "text"
      },
      "source": [
        "<h3>Term Frequency (TF)\n",
        "\n",
        "The number of times a word appears in a document divded by the total number of words in the document. Every document has its own term frequency.\n",
        "\n",
        "![image.png](data:image/png;base64,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)\n",
        "\n",
        "\n",
        "\n",
        "<h3>Inverse Data Frequency (IDF)\n",
        "\n",
        "The log of the number of documents divided by the number of documents that contain the word w. Inverse data frequency determines the weight of rare words across all documents in the corpus.\n",
        "\n",
        "![image.png](data:image/png;base64,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)\n",
        "\n",
        "<h3> TF-IDF\n",
        "\n",
        "TF-IDF is simply the TF multiplied by IDF.\n",
        "\n",
        "![image.png](data:image/png;base64,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)\n",
        "\n",
        "<h2>The more common the word across documents, the lower its score and the more unique a word is to our first document the higher the score. "
      ]
    },
    {
      "cell_type": "code",
      "metadata": {
        "id": "yJUqhxTIo0zW",
        "colab_type": "code",
        "colab": {}
      },
      "source": [
        "vectorizer = TfidfVectorizer(\"english\")"
      ],
      "execution_count": 45,
      "outputs": []
    },
    {
      "cell_type": "code",
      "metadata": {
        "id": "PSxyrbynvSe9",
        "colab_type": "code",
        "colab": {
          "base_uri": "https://localhost:8080/",
          "height": 50
        },
        "outputId": "1241c45f-c0fc-4b1c-a4f9-539d2a67f21c"
      },
      "source": [
        "message_mat = vectorizer.fit_transform(message)\n",
        "message_mat"
      ],
      "execution_count": 48,
      "outputs": [
        {
          "output_type": "execute_result",
          "data": {
            "text/plain": [
              "<5572x9376 sparse matrix of type '<class 'numpy.float64'>'\n",
              "\twith 47254 stored elements in Compressed Sparse Row format>"
            ]
          },
          "metadata": {
            "tags": []
          },
          "execution_count": 48
        }
      ]
    },
    {
      "cell_type": "code",
      "metadata": {
        "id": "ZSUeQhj3vs8N",
        "colab_type": "code",
        "colab": {}
      },
      "source": [
        "X_train, X_test, Y_train, Y_test = train_test_split(message_mat, \n",
        "                                                        df['Spam/Not_Spam'], test_size=0.3, random_state=20)"
      ],
      "execution_count": 54,
      "outputs": []
    },
    {
      "cell_type": "code",
      "metadata": {
        "id": "MCAm_XzHv6nd",
        "colab_type": "code",
        "colab": {}
      },
      "source": [
        "from sklearn import model_selection\n",
        "from sklearn.linear_model import LogisticRegression\n",
        "from sklearn.tree import DecisionTreeClassifier\n",
        "from sklearn.neighbors import KNeighborsClassifier\n",
        "from sklearn.svm import SVC\n",
        "from sklearn.naive_bayes import GaussianNB\n",
        "from sklearn.linear_model import SGDClassifier\n",
        "from sklearn.ensemble import RandomForestClassifier"
      ],
      "execution_count": 50,
      "outputs": []
    },
    {
      "cell_type": "code",
      "metadata": {
        "id": "IxdZYc1MwOfx",
        "colab_type": "code",
        "colab": {
          "base_uri": "https://localhost:8080/",
          "height": 373
        },
        "outputId": "854fb50c-b61a-4bf1-9b41-fabcc0d48821"
      },
      "source": [
        "models = []\n",
        "models.append(('LR', LogisticRegression()))\n",
        "models.append(('KNN', KNeighborsClassifier()))\n",
        "models.append(('CART', DecisionTreeClassifier()))\n",
        "models.append(('NB', GaussianNB()))\n",
        "models.append(('SVM', SVC()))\n",
        "models.append(('SGD', SGDClassifier()))\n",
        "print(models)"
      ],
      "execution_count": 51,
      "outputs": [
        {
          "output_type": "stream",
          "text": [
            "[('LR', LogisticRegression(C=1.0, class_weight=None, dual=False, fit_intercept=True,\n",
            "                   intercept_scaling=1, l1_ratio=None, max_iter=100,\n",
            "                   multi_class='auto', n_jobs=None, penalty='l2',\n",
            "                   random_state=None, solver='lbfgs', tol=0.0001, verbose=0,\n",
            "                   warm_start=False)), ('KNN', KNeighborsClassifier(algorithm='auto', leaf_size=30, metric='minkowski',\n",
            "                     metric_params=None, n_jobs=None, n_neighbors=5, p=2,\n",
            "                     weights='uniform')), ('CART', DecisionTreeClassifier(ccp_alpha=0.0, class_weight=None, criterion='gini',\n",
            "                       max_depth=None, max_features=None, max_leaf_nodes=None,\n",
            "                       min_impurity_decrease=0.0, min_impurity_split=None,\n",
            "                       min_samples_leaf=1, min_samples_split=2,\n",
            "                       min_weight_fraction_leaf=0.0, presort='deprecated',\n",
            "                       random_state=None, splitter='best')), ('NB', GaussianNB(priors=None, var_smoothing=1e-09)), ('SVM', SVC(C=1.0, break_ties=False, cache_size=200, class_weight=None, coef0=0.0,\n",
            "    decision_function_shape='ovr', degree=3, gamma='scale', kernel='rbf',\n",
            "    max_iter=-1, probability=False, random_state=None, shrinking=True,\n",
            "    tol=0.001, verbose=False)), ('SGD', SGDClassifier(alpha=0.0001, average=False, class_weight=None,\n",
            "              early_stopping=False, epsilon=0.1, eta0=0.0, fit_intercept=True,\n",
            "              l1_ratio=0.15, learning_rate='optimal', loss='hinge',\n",
            "              max_iter=1000, n_iter_no_change=5, n_jobs=None, penalty='l2',\n",
            "              power_t=0.5, random_state=None, shuffle=True, tol=0.001,\n",
            "              validation_fraction=0.1, verbose=0, warm_start=False))]\n"
          ],
          "name": "stdout"
        }
      ]
    },
    {
      "cell_type": "code",
      "metadata": {
        "id": "brN-5ntzwQOk",
        "colab_type": "code",
        "colab": {}
      },
      "source": [
        "seed = 7\n",
        "scoring = 'accuracy'"
      ],
      "execution_count": 53,
      "outputs": []
    },
    {
      "cell_type": "code",
      "metadata": {
        "id": "WT5WI1sPwUcU",
        "colab_type": "code",
        "colab": {
          "base_uri": "https://localhost:8080/",
          "height": 205
        },
        "outputId": "73f1d1f0-8cbc-4a25-98b9-3b0b4c63f3cd"
      },
      "source": [
        "results = []\n",
        "names = []\n",
        "for name, model in models:\n",
        " kfold = model_selection.KFold(n_splits=10)\n",
        " cv_results = model_selection.cross_val_score(model, X_train, Y_train, cv=kfold, scoring=scoring)\n",
        " results.append(cv_results)\n",
        " names.append(name)\n",
        " msg = \"%s: %f (%f)\" % (name, cv_results.mean(), cv_results.std())\n",
        " print(msg)"
      ],
      "execution_count": 55,
      "outputs": [
        {
          "output_type": "stream",
          "text": [
            "LR: 0.938974 (0.012286)\n",
            "KNN: 0.899487 (0.006364)\n",
            "CART: 0.963077 (0.008520)\n",
            "NB: nan (nan)\n"
          ],
          "name": "stdout"
        },
        {
          "output_type": "stream",
          "text": [
            "/usr/local/lib/python3.6/dist-packages/sklearn/model_selection/_validation.py:536: FitFailedWarning: Estimator fit failed. The score on this train-test partition for these parameters will be set to nan. Details: \n",
            "TypeError: A sparse matrix was passed, but dense data is required. Use X.toarray() to convert to a dense numpy array.\n",
            "\n",
            "  FitFailedWarning)\n"
          ],
          "name": "stderr"
        },
        {
          "output_type": "stream",
          "text": [
            "SVM: 0.968205 (0.009116)\n",
            "SGD: 0.976154 (0.008737)\n"
          ],
          "name": "stdout"
        }
      ]
    },
    {
      "cell_type": "code",
      "metadata": {
        "id": "-i1j9SS6wz_I",
        "colab_type": "code",
        "colab": {
          "base_uri": "https://localhost:8080/",
          "height": 34
        },
        "outputId": "cc548afc-47d7-45c2-b39a-4da91ce5dec5"
      },
      "source": [
        "RFC = RandomForestClassifier()\n",
        "res = model_selection.cross_val_score(model, X_train, Y_train)\n",
        "res.mean()"
      ],
      "execution_count": 56,
      "outputs": [
        {
          "output_type": "execute_result",
          "data": {
            "text/plain": [
              "0.9758974358974358"
            ]
          },
          "metadata": {
            "tags": []
          },
          "execution_count": 56
        }
      ]
    },
    {
      "cell_type": "code",
      "metadata": {
        "id": "aYx644f-w1zj",
        "colab_type": "code",
        "colab": {
          "base_uri": "https://localhost:8080/",
          "height": 34
        },
        "outputId": "42d27c11-e72b-4cd6-dede-f933a2381820"
      },
      "source": [
        "from sklearn.metrics import accuracy_score\n",
        "\n",
        "Spam_model = SGDClassifier()\n",
        "Spam_model.fit(X_train, Y_train)\n",
        "pred = Spam_model.predict(X_test)\n",
        "accuracy_score(Y_test,pred)"
      ],
      "execution_count": 57,
      "outputs": [
        {
          "output_type": "execute_result",
          "data": {
            "text/plain": [
              "0.9742822966507177"
            ]
          },
          "metadata": {
            "tags": []
          },
          "execution_count": 57
        }
      ]
    },
    {
      "cell_type": "markdown",
      "metadata": {
        "id": "xLDFceNQxu24",
        "colab_type": "text"
      },
      "source": [
        "<h2>Stemming\n",
        "\n",
        "Stemming is the process of reducing a word to its word stem that affixes to suffixes and prefixes or to the roots of words known as a lemma. Stemming is important in natural language understanding (NLU) and natural language processing (NLP)"
      ]
    },
    {
      "cell_type": "code",
      "metadata": {
        "id": "cQcM4-W6xTbE",
        "colab_type": "code",
        "colab": {}
      },
      "source": [
        "def stemmer(text):\n",
        "    text = text.split()\n",
        "    words = \"\"\n",
        "    for i in text:\n",
        "            stemmer = SnowballStemmer(\"english\")\n",
        "            words += (stemmer.stem(i))+\" \"\n",
        "    return words"
      ],
      "execution_count": 58,
      "outputs": []
    },
    {
      "cell_type": "code",
      "metadata": {
        "id": "SZZmK_aPyfGd",
        "colab_type": "code",
        "colab": {}
      },
      "source": [
        "message = message.apply(stemmer)\n",
        "vectorizer = TfidfVectorizer(\"english\")\n",
        "message_mat = vectorizer.fit_transform(message)"
      ],
      "execution_count": 59,
      "outputs": []
    },
    {
      "cell_type": "code",
      "metadata": {
        "id": "ttc_XEbjyrAl",
        "colab_type": "code",
        "colab": {}
      },
      "source": [
        "X_train, X_test, Y_train, Y_test = train_test_split(message_mat, \n",
        "                                                        df['Spam/Not_Spam'], test_size=0.3, random_state=20)"
      ],
      "execution_count": 60,
      "outputs": []
    },
    {
      "cell_type": "code",
      "metadata": {
        "id": "Yn1b783kywTV",
        "colab_type": "code",
        "colab": {
          "base_uri": "https://localhost:8080/",
          "height": 34
        },
        "outputId": "ae54ddb2-9e6c-44d8-d118-a0af031c9a4d"
      },
      "source": [
        "from sklearn.metrics import accuracy_score\n",
        "\n",
        "Spam_model = SGDClassifier()\n",
        "Spam_model.fit(X_train, Y_train)\n",
        "pred = Spam_model.predict(X_test)\n",
        "accuracy_score(Y_test,pred)"
      ],
      "execution_count": 61,
      "outputs": [
        {
          "output_type": "execute_result",
          "data": {
            "text/plain": [
              "0.9766746411483254"
            ]
          },
          "metadata": {
            "tags": []
          },
          "execution_count": 61
        }
      ]
    },
    {
      "cell_type": "code",
      "metadata": {
        "id": "GATCB0h1y1sX",
        "colab_type": "code",
        "colab": {
          "base_uri": "https://localhost:8080/",
          "height": 195
        },
        "outputId": "39a86157-b6be-4d8e-b9f0-847e72272c37"
      },
      "source": [
        "df['length'] = df['message'].apply(len)\n",
        "df.head()"
      ],
      "execution_count": 62,
      "outputs": [
        {
          "output_type": "execute_result",
          "data": {
            "text/html": [
              "<div>\n",
              "<style scoped>\n",
              "    .dataframe tbody tr th:only-of-type {\n",
              "        vertical-align: middle;\n",
              "    }\n",
              "\n",
              "    .dataframe tbody tr th {\n",
              "        vertical-align: top;\n",
              "    }\n",
              "\n",
              "    .dataframe thead th {\n",
              "        text-align: right;\n",
              "    }\n",
              "</style>\n",
              "<table border=\"1\" class=\"dataframe\">\n",
              "  <thead>\n",
              "    <tr style=\"text-align: right;\">\n",
              "      <th></th>\n",
              "      <th>Spam/Not_Spam</th>\n",
              "      <th>message</th>\n",
              "      <th>length</th>\n",
              "    </tr>\n",
              "  </thead>\n",
              "  <tbody>\n",
              "    <tr>\n",
              "      <th>0</th>\n",
              "      <td>0</td>\n",
              "      <td>Go until jurong point, crazy.. Available only ...</td>\n",
              "      <td>111</td>\n",
              "    </tr>\n",
              "    <tr>\n",
              "      <th>1</th>\n",
              "      <td>0</td>\n",
              "      <td>Ok lar... Joking wif u oni...</td>\n",
              "      <td>29</td>\n",
              "    </tr>\n",
              "    <tr>\n",
              "      <th>2</th>\n",
              "      <td>1</td>\n",
              "      <td>Free entry in 2 a wkly comp to win FA Cup fina...</td>\n",
              "      <td>155</td>\n",
              "    </tr>\n",
              "    <tr>\n",
              "      <th>3</th>\n",
              "      <td>0</td>\n",
              "      <td>U dun say so early hor... U c already then say...</td>\n",
              "      <td>49</td>\n",
              "    </tr>\n",
              "    <tr>\n",
              "      <th>4</th>\n",
              "      <td>0</td>\n",
              "      <td>Nah I don't think he goes to usf, he lives aro...</td>\n",
              "      <td>61</td>\n",
              "    </tr>\n",
              "  </tbody>\n",
              "</table>\n",
              "</div>"
            ],
            "text/plain": [
              "   Spam/Not_Spam                                            message  length\n",
              "0              0  Go until jurong point, crazy.. Available only ...     111\n",
              "1              0                      Ok lar... Joking wif u oni...      29\n",
              "2              1  Free entry in 2 a wkly comp to win FA Cup fina...     155\n",
              "3              0  U dun say so early hor... U c already then say...      49\n",
              "4              0  Nah I don't think he goes to usf, he lives aro...      61"
            ]
          },
          "metadata": {
            "tags": []
          },
          "execution_count": 62
        }
      ]
    }
  ]
}