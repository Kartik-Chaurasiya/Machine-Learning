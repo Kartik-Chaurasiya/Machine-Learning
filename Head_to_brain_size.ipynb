{
  "nbformat": 4,
  "nbformat_minor": 0,
  "metadata": {
    "colab": {
      "name": "Head to brain size.ipynb",
      "provenance": [],
      "authorship_tag": "ABX9TyM35BZhufQJO4FV01IcdBcC",
      "include_colab_link": true
    },
    "kernelspec": {
      "name": "python3",
      "display_name": "Python 3"
    }
  },
  "cells": [
    {
      "cell_type": "markdown",
      "metadata": {
        "id": "view-in-github",
        "colab_type": "text"
      },
      "source": [
        "<a href=\"https://colab.research.google.com/github/Syntax-code/Machine-Learning/blob/master/Head_to_brain_size.ipynb\" target=\"_parent\"><img src=\"https://colab.research.google.com/assets/colab-badge.svg\" alt=\"Open In Colab\"/></a>"
      ]
    },
    {
      "cell_type": "code",
      "metadata": {
        "id": "E2qBWwd3_qEK",
        "colab_type": "code",
        "colab": {
          "base_uri": "https://localhost:8080/",
          "height": 134
        },
        "outputId": "95e8f6fb-2d3c-48ed-d06e-3e65683101ec"
      },
      "source": [
        "# Clone the entire repo.\n",
        "!git clone -l -s https://github.com/FeezyHendrix/LinearRegressionfromscrath.git cloned-repo\n",
        "%cd cloned-repo\n",
        "!ls"
      ],
      "execution_count": 1,
      "outputs": [
        {
          "output_type": "stream",
          "text": [
            "Cloning into 'cloned-repo'...\n",
            "warning: --local is ignored\n",
            "remote: Enumerating objects: 6, done.\u001b[K\n",
            "Unpacking objects:  16% (1/6)   \rUnpacking objects:  33% (2/6)   \rUnpacking objects:  50% (3/6)   \rUnpacking objects:  66% (4/6)   \rremote: Total 6 (delta 0), reused 0 (delta 0), pack-reused 6\u001b[K\n",
            "Unpacking objects:  83% (5/6)   \rUnpacking objects: 100% (6/6)   \rUnpacking objects: 100% (6/6), done.\n",
            "/content/cloned-repo\n",
            " dataset.csv  'Linear Regression From Scratch.ipynb'\n"
          ],
          "name": "stdout"
        }
      ]
    },
    {
      "cell_type": "code",
      "metadata": {
        "id": "wabK16nRAdI3",
        "colab_type": "code",
        "colab": {}
      },
      "source": [
        "import pandas as pd\n",
        "import numpy as np\n",
        "import matplotlib.pyplot as plt"
      ],
      "execution_count": 5,
      "outputs": []
    },
    {
      "cell_type": "code",
      "metadata": {
        "id": "FR98xLrXA1mL",
        "colab_type": "code",
        "colab": {
          "base_uri": "https://localhost:8080/",
          "height": 196
        },
        "outputId": "b99b18d1-2f20-4d97-c8c8-02e64539f23a"
      },
      "source": [
        "data = pd.read_csv('dataset.csv')\n",
        "data.head()"
      ],
      "execution_count": 4,
      "outputs": [
        {
          "output_type": "execute_result",
          "data": {
            "text/html": [
              "<div>\n",
              "<style scoped>\n",
              "    .dataframe tbody tr th:only-of-type {\n",
              "        vertical-align: middle;\n",
              "    }\n",
              "\n",
              "    .dataframe tbody tr th {\n",
              "        vertical-align: top;\n",
              "    }\n",
              "\n",
              "    .dataframe thead th {\n",
              "        text-align: right;\n",
              "    }\n",
              "</style>\n",
              "<table border=\"1\" class=\"dataframe\">\n",
              "  <thead>\n",
              "    <tr style=\"text-align: right;\">\n",
              "      <th></th>\n",
              "      <th>Gender</th>\n",
              "      <th>Age Range</th>\n",
              "      <th>Head Size(cm^3)</th>\n",
              "      <th>Brain Weight(grams)</th>\n",
              "    </tr>\n",
              "  </thead>\n",
              "  <tbody>\n",
              "    <tr>\n",
              "      <th>0</th>\n",
              "      <td>1</td>\n",
              "      <td>1</td>\n",
              "      <td>4512</td>\n",
              "      <td>1530</td>\n",
              "    </tr>\n",
              "    <tr>\n",
              "      <th>1</th>\n",
              "      <td>1</td>\n",
              "      <td>1</td>\n",
              "      <td>3738</td>\n",
              "      <td>1297</td>\n",
              "    </tr>\n",
              "    <tr>\n",
              "      <th>2</th>\n",
              "      <td>1</td>\n",
              "      <td>1</td>\n",
              "      <td>4261</td>\n",
              "      <td>1335</td>\n",
              "    </tr>\n",
              "    <tr>\n",
              "      <th>3</th>\n",
              "      <td>1</td>\n",
              "      <td>1</td>\n",
              "      <td>3777</td>\n",
              "      <td>1282</td>\n",
              "    </tr>\n",
              "    <tr>\n",
              "      <th>4</th>\n",
              "      <td>1</td>\n",
              "      <td>1</td>\n",
              "      <td>4177</td>\n",
              "      <td>1590</td>\n",
              "    </tr>\n",
              "  </tbody>\n",
              "</table>\n",
              "</div>"
            ],
            "text/plain": [
              "   Gender  Age Range  Head Size(cm^3)  Brain Weight(grams)\n",
              "0       1          1             4512                 1530\n",
              "1       1          1             3738                 1297\n",
              "2       1          1             4261                 1335\n",
              "3       1          1             3777                 1282\n",
              "4       1          1             4177                 1590"
            ]
          },
          "metadata": {
            "tags": []
          },
          "execution_count": 4
        }
      ]
    },
    {
      "cell_type": "code",
      "metadata": {
        "id": "2WBi7G-oBi4j",
        "colab_type": "code",
        "colab": {
          "base_uri": "https://localhost:8080/",
          "height": 67
        },
        "outputId": "76cf743c-b91e-4b00-e427-cf0012197ac8"
      },
      "source": [
        "data['Age Range'].value_counts()"
      ],
      "execution_count": 7,
      "outputs": [
        {
          "output_type": "execute_result",
          "data": {
            "text/plain": [
              "2    127\n",
              "1    110\n",
              "Name: Age Range, dtype: int64"
            ]
          },
          "metadata": {
            "tags": []
          },
          "execution_count": 7
        }
      ]
    },
    {
      "cell_type": "code",
      "metadata": {
        "id": "cnRrphuSDePY",
        "colab_type": "code",
        "colab": {}
      },
      "source": [
        "col = {'Head Size(cm^3)' : 'HeadV', 'Brain Weight(grams)' : 'BrainG'}\n",
        "data = data.rename(columns=col)"
      ],
      "execution_count": 16,
      "outputs": []
    },
    {
      "cell_type": "code",
      "metadata": {
        "id": "1euuxHLFZKQ_",
        "colab_type": "code",
        "colab": {
          "base_uri": "https://localhost:8080/",
          "height": 196
        },
        "outputId": "7948f483-1785-4d1e-8de6-b1cc73fab2f0"
      },
      "source": [
        "data.head()"
      ],
      "execution_count": 18,
      "outputs": [
        {
          "output_type": "execute_result",
          "data": {
            "text/html": [
              "<div>\n",
              "<style scoped>\n",
              "    .dataframe tbody tr th:only-of-type {\n",
              "        vertical-align: middle;\n",
              "    }\n",
              "\n",
              "    .dataframe tbody tr th {\n",
              "        vertical-align: top;\n",
              "    }\n",
              "\n",
              "    .dataframe thead th {\n",
              "        text-align: right;\n",
              "    }\n",
              "</style>\n",
              "<table border=\"1\" class=\"dataframe\">\n",
              "  <thead>\n",
              "    <tr style=\"text-align: right;\">\n",
              "      <th></th>\n",
              "      <th>Gender</th>\n",
              "      <th>Age Range</th>\n",
              "      <th>HeadV</th>\n",
              "      <th>BrainG</th>\n",
              "    </tr>\n",
              "  </thead>\n",
              "  <tbody>\n",
              "    <tr>\n",
              "      <th>0</th>\n",
              "      <td>1</td>\n",
              "      <td>1</td>\n",
              "      <td>4512</td>\n",
              "      <td>1530</td>\n",
              "    </tr>\n",
              "    <tr>\n",
              "      <th>1</th>\n",
              "      <td>1</td>\n",
              "      <td>1</td>\n",
              "      <td>3738</td>\n",
              "      <td>1297</td>\n",
              "    </tr>\n",
              "    <tr>\n",
              "      <th>2</th>\n",
              "      <td>1</td>\n",
              "      <td>1</td>\n",
              "      <td>4261</td>\n",
              "      <td>1335</td>\n",
              "    </tr>\n",
              "    <tr>\n",
              "      <th>3</th>\n",
              "      <td>1</td>\n",
              "      <td>1</td>\n",
              "      <td>3777</td>\n",
              "      <td>1282</td>\n",
              "    </tr>\n",
              "    <tr>\n",
              "      <th>4</th>\n",
              "      <td>1</td>\n",
              "      <td>1</td>\n",
              "      <td>4177</td>\n",
              "      <td>1590</td>\n",
              "    </tr>\n",
              "  </tbody>\n",
              "</table>\n",
              "</div>"
            ],
            "text/plain": [
              "   Gender  Age Range  HeadV  BrainG\n",
              "0       1          1   4512    1530\n",
              "1       1          1   3738    1297\n",
              "2       1          1   4261    1335\n",
              "3       1          1   3777    1282\n",
              "4       1          1   4177    1590"
            ]
          },
          "metadata": {
            "tags": []
          },
          "execution_count": 18
        }
      ]
    },
    {
      "cell_type": "code",
      "metadata": {
        "id": "6XOdovNRDAz9",
        "colab_type": "code",
        "colab": {
          "base_uri": "https://localhost:8080/",
          "height": 281
        },
        "outputId": "f655eb7f-095e-4a5a-9ee4-4fd7725f01f1"
      },
      "source": [
        "plt.scatter(data['HeadV'], data['BrainG'])\n",
        "plt.plot()"
      ],
      "execution_count": 19,
      "outputs": [
        {
          "output_type": "execute_result",
          "data": {
            "text/plain": [
              "[]"
            ]
          },
          "metadata": {
            "tags": []
          },
          "execution_count": 19
        },
        {
          "output_type": "display_data",
          "data": {
            "image/png": "[encoded data removed]",
            "text/plain": [
              "<Figure size 432x288 with 1 Axes>"
            ]
          },
          "metadata": {
            "tags": [],
            "needs_background": "light"
          }
        }
      ]
    },
    {
      "cell_type": "code",
      "metadata": {
        "id": "gi5VUN3mat3t",
        "colab_type": "code",
        "colab": {}
      },
      "source": [
        "x = data['HeadV'].values\n",
        "y = data['BrainG'].values"
      ],
      "execution_count": 29,
      "outputs": []
    },
    {
      "cell_type": "code",
      "metadata": {
        "id": "HuiVvI_zblKX",
        "colab_type": "code",
        "colab": {}
      },
      "source": [
        "x_mean = np.mean(x)\n",
        "y_mean = np.mean(y)"
      ],
      "execution_count": 30,
      "outputs": []
    },
    {
      "cell_type": "code",
      "metadata": {
        "id": "PU-pn5NCbsQU",
        "colab_type": "code",
        "colab": {}
      },
      "source": [
        "l = len(x)"
      ],
      "execution_count": 33,
      "outputs": []
    },
    {
      "cell_type": "markdown",
      "metadata": {
        "id": "UWJlCVOddBsA",
        "colab_type": "text"
      },
      "source": [
        "![image.png](data:image/png;base64,iVBORw0KGgoAAAANSUhEUgAAAKIAAABYCAYAAAB2+yxkAAAM1ElEQVR4Ae2cjZHUMAyFrwVaoAVaoAVaoAVaoAVaoAVaoAVaoIVlvoO3aLWS42TjbHKRZzxO/Cfp6Vm2cwsvl0qFwA4QeNmBDotV+PHjx3Usz1++fLn8+vXrWlcPx0HgEER8//795eXl5TV/+PDh8vHjx7ts+3z79q3pgZ8/f16+fv3a7LN1Iwspyiws6r9//56qRB9s3otNv3//vrNFymfYH4KIgCwifvr06YKhPuEM2uiH47IEEJB5Twl9ZZ8vtaiI9hEZZXeEybNsRNfMDnTCDm/LIYiI8ta4jIyQ7N27d6/RIXICzmLsXiKH1REyoj+lzepDG1Gf0qbPnz9fyHtKUURkwSjRzq6GnUqHISIK95ARp2BklBRZLQDqh4O9k/27+o4qrbOQ4eVjlyUd/Yk8Prpk+kEA8h6St+VQRARAS8aIcDjHO1TA05+o4tt5p962ZX0115olC8PLI2pDMptkuxYSY3wf2582S1z6k0cnbwv6oov0Rr7qpMutpardeSknYVwvsDI86692HLdk69ZlgbFkSBM9Z9BKPiVzRQtKfWQD9pOzhA7qSx+Nz/rbeuRL/1bpF7WVwzgl9LDv0kV1uRWaYaclBsgRFuxMXRne6ksbc9J3bmIMOomAKn1da94p+dYGPbeIiGxrr3Rs6aC2XiLqMqVxlNLNykYX6pXUB5xIhyUiymOEyBgBIqMpZbgFx7bzzBzMF61y33fEu+yxDrNyrA3q2yKi7GEcZ0PIYG0beV4EZ2GNTHtEwCbZovpDExEDcYRWlXWaf5bhAse3czGgjVs3DvOJ9imy+zFz3/mshD2ZHGuDSNYiIvJpZ1z0yQQSWGLO1bfVX0Rk/ghz2XJ4IrKaMaKHhAAGIJAsAkXRgpJ2gWOdRJt9bzlhSRt2QHbImH3nvHPexBkRPSAi9jDWJ2walcARO3wUljxsRTct+kNGRADMwJWhUQk4kBEQSBCLecj6BKItj74iHvKIQBoXzb2kTvMiUw5BFy0Y6aS5aVOEo45bPu+tRHv03RV7JLM1fmkb+CF7KroL47YVS7UYOA6n2c8sXhQrHxCipIhio0O0Yr2DonHR/EvqcJTVhzmoixyIXdY26eX1tXpkWDEGLEcl9Gzp5dsPRUScQ1TQKopAxHjrLN/HRh/flr3j8Myh2Zi160U6T1psBZMogYXvr35Eq1FE1E4jWb6kHTytbochohyhP9EBsrLIpa2rRURAyRznAdM7803Nqb6jShZhRpxocYJXS+epLf0ROzhSTAULb8vuiYhBAApwvbnlAAEcbX1q8yXzeeB8n5HvYNCSTzv2QAAISGaRZom5wLJFlmxsVs9c0qMlm7YI+8MQETK0Mjc0tftDfgZebz3zrT1nr+zeflx8cDIEA4sWyWiDrGsmsGe7bZEQeZleuyfimmC99bkgIwSj3Do9Su7DEhGws9W1tRNK3uMIHJaIj67Ax6GrGdZE4LBEXBOEmuv5CHQTkQi0l62QcxCH8rUP3M93x3k1mCQiV21uRFz5+V7V+oywFYwQ0P6pbiu5JWccAk0iQkIij25hlHwaiL4DjVPxfmYtjvuWqjkqAk0iEgH5NmSToqOt2/oZHaa+V22tU8l7DIEmEYmGdivm1ydsic8mAUSc+2e6x2Cq0aMRSImor/T2QkAdJKhUCKyNQEpE/T0SgURGcvTH9ZZCkFZjW6Ule2u+ats3ArpLLNEyJSLEUfTjcqDz4tafcCApi4JorJLnrTIyJdeXW+mAHHCwn9DwieSP1kvzI88+e/l6Vxn1VZstIW5IRIyEiHS2ac7ZjNUBeRkzlVu/fKaNjCP2kMEEPcBoS32mMLQ/+qCvSLCGjsIf26UHvkUG89tf/SyRlxIRgRDRRz+UoN6m7FcpELFXqUdCutWlno+LwC2r/tnBj0894SALq85/zsmIeFxISvNnIBASUZGP7Ucp2q6JeJUKgTUQuCMi27H+PQFnAEjJeSA6M1J3dDKiP0cRMvbqbKXSH0/WAP0Ic7DT4V+4YAPSKN3viIhj/LacCe/tl43fQz02KAO6CKiSOrX32svCPQqBIVmkq+qxnxz1WdN/d0QkAhIdppKiyFS/vbfrGALJeI4SpBQZo3Zbxxx72iXQRWTSotIiQ28Ihs4Z0eib4WLtfvT5hohc03v/hIdjUPLoiUuYLmctm3RGzuzFkTh6i20s0yGqRy/IGGX1J4JzEY2+XkDCLWy6ISKKoXikkJRWuZWCkjey7CEjfVq/PFLU7NUzi0C949fspwDkv4AIlx4+PKrPHREfnfCo4wW6tuAo2nMcyaIDC5OI6BOEI+JqPuQQgegLAUYnIiG6WZJhB3U28Y5eStLTjlPbiLKIaFAFfBwiMvaclRmuiJL1V7SElCIBTkdeT4q2VV+XkRqZRHJtvRALG72uslv6oLMWHXP36qrxc8siYoCYnAIhcfhUok/rfMl4kbtnPi+PMRAHcpB51rueRRo/lnfp17JHNjO/nqUz0Xv0UaKIGHnucrk6o8cJcjSkyJKcm7WPrIdE2IEOWZJ+smE08bweRUSPiHmfinLq2kNERRf6+kRdVO/7LX0XEXsj4lI5j4wrIgboyXGKDkGXm6opIrJtqg9bn0/IGxWBdOlALkTMLh+KiKP08Db79yKiQwRH4JQ5EQpncxmwJKOOOSChzm/6Xse7LhfImyPLqZu+Mq/mhnzSER2Q52ViM9v3s1IR0SCv6IEDoyTnRm18osGZSkRT/jhAPfOSGA9h7Y2ZfkSqtRPzQiwtAuZHLrJ8pBdJff3aOrXmWx+BlrQdtxEhpiIhEc9GPWsOJPMXm+izh0ipscwHQdZO6OOjHrJ9HXKpa23ba+sWzVdEvFxeIwSOiJwk0ES0VtRgvI2KGtsq6d+aszV2rbY96HB6Imq7gog9eYo0kLFFaE+eucT14x99x54syj8695zxpyYiTughn+3TAy7RszdBRF1ceses1Q897RlyrXmXzHNqIuocpSjWUy4BucZMI3BqImbwzIlo2RxVPw+BImKAF2emOee8YIqqmolAETEArCJiAMrgqiKiA5gLzLNvsk6lU7wWEZ2b2ZaLiA6UDV6LiA5kvitOfSt0Q+p1BQSKiA5EomGdER0oG7wWEQ3IEJC/F9eN2YCy0WMR0QH9rL9yODVO91pEPJ3L92lwEXGffjmdVkXE07l8nwYXEffpl9Np1SQit0hukP5XxadDqQwejkBKRH3K4Ld49t9dDNfoSQL0M3r/U7BahNs4JCUi39P4CwOOgYgj/l3FNib2Scl+qc0/duIjt3LfbNVrLgIpEe1HXaLCW/++pv8TRoTDfshJVt0eflI/18FH6Z8SEQNwxtn/7soRhVxpLAIhESEgUYAIQPb/THKsSvuYHQx0PCEqnhGDLT0REhES2kiorWlLxSQLQth/vMTzFlskcjwG9l36+dLrqveesX6uM73fEVGOtyBARAClbeukT0jIVh59k4Xo2GuTMLB10bN09GVt7xFa/+tu0f7331KwFdnEzZE8mgBW5jOf2YbJNvUS0Y6p534EbogI0SCc3fpYyUSHJf/+lfmIDIpqvqRtitzoAgmUuL2zUKbGqf+SEnvtVsqNmv/HxuKSzYtuVj/05H0JfpmMt1h/Q0SIgRMAXgQgMlhge0GAMJCa+ZgjKqlj7lZCD/ppa2NeSIGuWaIP7a2s+fwcEAZ5lGQWwRwMmFfjISGEZo5Mnpd/1vcbIgIaIMrJewERnWw0wrHSMXKcFhJjyNjhy2w8/ZBHgjwsFIg4h0iaw0bySM+q+4/ADREBzoMHqHMdISdCAEsC/8w7pJlKlogQiHGjUoQB8uZggI52QY/S9S3NeyUiKx6wPRFxggVV/w8g/bKoAkDMB4nJzKFs33nuOTuJiMyJ3DnRaa6zmB9dbRKxrK5ESvSPEv3Q2c8T9a26vwhciSiwPREBW0TUuU/gUT/y0mDl4FQcPFKeMPAEgnSeWNR5rNBXC/BsXxrkq6XllYhEOsD2n2mIkqoDfOskEXSp8N5xyEEPK7t37Jx+imTYqQTxsZ8LEgtRCV0sEWmzEVtz0W9kBJc+Ry+vRNQK5swGeEQHgIYEOsfxbrejrYk4Gmzsg4TYSAkGLFBIKAykA31ERIimY41IB4E1lnkqtRG4EhFSWWABGgAtiLTbqLQVEXGyHNw2Z3krEc1+K0QetmOvjYSSQL3wok4RUe2UkDEaa/vU818EbohoSRcBBPhbR0RkTukV6Tq3DhlzFpYn4lx51f8WgVciQq4eJxAl7PmJMSOTotJIGZq7FwPb30ZE1Ve5DIErkzhc9ySIiAPIIyIV5GMr1lmN9y0S9vdigD5ExC2ODFvYvgcZVyLuQRnpQHSCFCM/1UjW0pIFUue/pejdj9slEe/VrJq3jsAfaCojDZyIS+oAAAAASUVORK5CYII=)"
      ]
    },
    {
      "cell_type": "code",
      "metadata": {
        "id": "hfDNpqj-cha8",
        "colab_type": "code",
        "colab": {
          "base_uri": "https://localhost:8080/",
          "height": 33
        },
        "outputId": "5a717606-aa3e-47d4-abc4-a9f2ab65b0b2"
      },
      "source": [
        "b1_num = 0\n",
        "b1_deno = 0\n",
        "for n in range(l):\n",
        "  b1_num += (x[n] - x_mean) * (y[n] - y_mean)\n",
        "  b1_deno += (x[n] - x_mean)**2\n",
        "b1 = b1_num/b1_deno\n",
        "b1"
      ],
      "execution_count": 36,
      "outputs": [
        {
          "output_type": "execute_result",
          "data": {
            "text/plain": [
              "0.26342933948939945"
            ]
          },
          "metadata": {
            "tags": []
          },
          "execution_count": 36
        }
      ]
    },
    {
      "cell_type": "code",
      "metadata": {
        "id": "b-Cc1vqrdSp2",
        "colab_type": "code",
        "colab": {
          "base_uri": "https://localhost:8080/",
          "height": 33
        },
        "outputId": "fbe7a1af-8cea-474d-94ee-a836ea153e03"
      },
      "source": [
        "b0 = y_mean - (b1 * x_mean)\n",
        "b0"
      ],
      "execution_count": 37,
      "outputs": [
        {
          "output_type": "execute_result",
          "data": {
            "text/plain": [
              "325.57342104944223"
            ]
          },
          "metadata": {
            "tags": []
          },
          "execution_count": 37
        }
      ]
    },
    {
      "cell_type": "markdown",
      "metadata": {
        "id": "9Og3fK2xf5bQ",
        "colab_type": "text"
      },
      "source": [
        "We need to able to measure how good our model is (accuracy).\n",
        "\n",
        " There are many methods to achieve this but we would implement Root mean squared error and coefficient of Determination (R² Score)."
      ]
    },
    {
      "cell_type": "markdown",
      "metadata": {
        "id": "4WN5oR8Rebk4",
        "colab_type": "text"
      },
      "source": [
        "![image.png](data:image/png;base64,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)"
      ]
    },
    {
      "cell_type": "code",
      "metadata": {
        "id": "GCHO-nbidoOy",
        "colab_type": "code",
        "colab": {
          "base_uri": "https://localhost:8080/",
          "height": 33
        },
        "outputId": "309ffef9-6171-43fe-8a3c-cae5422e49ca"
      },
      "source": [
        "rm,rmse = 0,0\n",
        "for n in range(l):\n",
        "  y_pred = b0 + b1*x[n]\n",
        "  rm += (y[n] - y_pred)**2\n",
        "rmse = np.sqrt((1/n) * rm)\n",
        "rmse"
      ],
      "execution_count": 38,
      "outputs": [
        {
          "output_type": "execute_result",
          "data": {
            "text/plain": [
              "72.27325778483248"
            ]
          },
          "metadata": {
            "tags": []
          },
          "execution_count": 38
        }
      ]
    },
    {
      "cell_type": "markdown",
      "metadata": {
        "id": "NgqB2osMfZuu",
        "colab_type": "text"
      },
      "source": [
        "![image.png](data:image/png;base64,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)"
      ]
    },
    {
      "cell_type": "code",
      "metadata": {
        "id": "YPsasbD-fX3B",
        "colab_type": "code",
        "colab": {
          "base_uri": "https://localhost:8080/",
          "height": 33
        },
        "outputId": "24a57390-2fca-4af6-ac1d-6fbef4175653"
      },
      "source": [
        "ssr, sst = 0,0\n",
        "for n in range(l):\n",
        "  y_pred = b0 + b1*x[n]\n",
        "  ssr += (y[n] - y_mean) ** 2\n",
        "  sst += (y[n] - y_pred) ** 2\n",
        "r2 = sst/ssr\n",
        "score = 1 - r2\n",
        "score"
      ],
      "execution_count": 41,
      "outputs": [
        {
          "output_type": "execute_result",
          "data": {
            "text/plain": [
              "0.6393117199570003"
            ]
          },
          "metadata": {
            "tags": []
          },
          "execution_count": 41
        }
      ]
    }
  ]
}