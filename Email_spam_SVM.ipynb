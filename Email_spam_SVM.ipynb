{
  "nbformat": 4,
  "nbformat_minor": 0,
  "metadata": {
    "colab": {
      "name": "Email spam SVM.ipynb",
      "provenance": [],
      "authorship_tag": "ABX9TyPNdkA2fTr3i/1vT1bIJFIr",
      "include_colab_link": true
    },
    "kernelspec": {
      "name": "python3",
      "display_name": "Python 3"
    }
  },
  "cells": [
    {
      "cell_type": "markdown",
      "metadata": {
        "id": "view-in-github",
        "colab_type": "text"
      },
      "source": [
        "<a href=\"https://colab.research.google.com/github/Syntax-code/Machine-Learning/blob/master/Email_spam_SVM.ipynb\" target=\"_parent\"><img src=\"https://colab.research.google.com/assets/colab-badge.svg\" alt=\"Open In Colab\"/></a>"
      ]
    },
    {
      "cell_type": "code",
      "metadata": {
        "id": "W5LsYQf4N4FD",
        "colab_type": "code",
        "colab": {}
      },
      "source": [
        "import os\n",
        "import numpy as np\n",
        "from collections import Counter\n",
        "from sklearn.naive_bayes import GaussianNB\n",
        "from sklearn.metrics import accuracy_score\n",
        "\n",
        "\n",
        "def make_Dictionary(root_dir):\n",
        "    all_words = []\n",
        "    emails = [os.path.join(root_dir,f) for f in os.listdir(root_dir)]\n",
        "    for mail in emails:\n",
        "        with open(mail) as m:\n",
        "            for line in m:\n",
        "                words = line.split()\n",
        "                all_words += words\n",
        "    dictionary = Counter(all_words)\n",
        "    list_to_remove = dictionary.keys()\n",
        "\n",
        "    for item in list_to_remove:\n",
        "        if item.isalpha() == False:\n",
        "            del dictionary[item]\n",
        "        elif len(item) == 1:\n",
        "            del dictionary[item]\n",
        "    dictionary = dictionary.most_common(3000)\n",
        "\n",
        "    return dictionary\n",
        "\n",
        "\n",
        "\n",
        "def extract_features(mail_dir):\n",
        "    files = [os.path.join(mail_dir,fi) for fi in os.listdir(mail_dir)]\n",
        "    features_matrix = np.zeros((len(files),3000))\n",
        "    train_labels = np.zeros(len(files))\n",
        "    count = 0;\n",
        "    docID = 0;\n",
        "    for fil in files:\n",
        "      with open(fil) as fi:\n",
        "        for i,line in enumerate(fi):\n",
        "          if i == 2:\n",
        "            words = line.split()\n",
        "            for word in words:\n",
        "              wordID = 0\n",
        "              for i,d in enumerate(dictionary):\n",
        "                if d[0] == word:\n",
        "                  wordID = i\n",
        "                  features_matrix[docID,wordID] = words.count(word)\n",
        "        train_labels[docID] = 0;\n",
        "        filepathTokens = fil.split('/')\n",
        "        lastToken = filepathTokens[len(filepathTokens) - 1]\n",
        "        if lastToken.startswith(\"spmsg\"):\n",
        "            train_labels[docID] = 1;\n",
        "            count = count + 1\n",
        "        docID = docID + 1\n",
        "    return features_matrix, train_labels\n"
      ],
      "execution_count": 0,
      "outputs": []
    },
    {
      "cell_type": "code",
      "metadata": {
        "id": "LLlhjNDzORkG",
        "colab_type": "code",
        "colab": {
          "base_uri": "https://localhost:8080/",
          "height": 128
        },
        "outputId": "6b2b0fde-f2b0-4ea1-ecc8-4be6bbdbcd46"
      },
      "source": [
        "TRAIN_DIR = \"C:\\Users\\Kartik\\Desktop\\Fpro\\Email spam\\pro\\train-mails\"\n",
        "TEST_DIR = \"C:\\Users\\Kartik\\Desktop\\Fpro\\Email spam\\pro\\test-mails\""
      ],
      "execution_count": 1,
      "outputs": [
        {
          "output_type": "error",
          "ename": "SyntaxError",
          "evalue": "ignored",
          "traceback": [
            "\u001b[0;36m  File \u001b[0;32m\"<ipython-input-2-93d09693249c>\"\u001b[0;36m, line \u001b[0;32m1\u001b[0m\n\u001b[0;31m    TRAIN_DIR = \"C:\\Users\\Kartik\\Desktop\\Fpro\\Email spam\\pro\\train-mails\"\u001b[0m\n\u001b[0m               ^\u001b[0m\n\u001b[0;31mSyntaxError\u001b[0m\u001b[0;31m:\u001b[0m (unicode error) 'unicodeescape' codec can't decode bytes in position 2-3: truncated \\UXXXXXXXX escape\n"
          ]
        }
      ]
    },
    {
      "cell_type": "code",
      "metadata": {
        "id": "V2QCC2F8OcSs",
        "colab_type": "code",
        "colab": {}
      },
      "source": [
        "dictionary = make_Dictionary(TRAIN_DIR)\n"
      ],
      "execution_count": 0,
      "outputs": []
    }
  ]
}