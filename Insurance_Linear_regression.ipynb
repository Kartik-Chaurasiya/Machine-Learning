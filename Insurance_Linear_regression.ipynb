{
  "nbformat": 4,
  "nbformat_minor": 0,
  "metadata": {
    "colab": {
      "name": "Insurance Linear regression.ipynb",
      "provenance": [],
      "authorship_tag": "ABX9TyO4Yk6ylKIkHwqMVgIa+IDL",
      "include_colab_link": true
    },
    "kernelspec": {
      "name": "python3",
      "display_name": "Python 3"
    }
  },
  "cells": [
    {
      "cell_type": "markdown",
      "metadata": {
        "id": "view-in-github",
        "colab_type": "text"
      },
      "source": [
        "<a href=\"https://colab.research.google.com/github/Syntax-code/Machine-Learning/blob/master/Insurance_Linear_regression.ipynb\" target=\"_parent\"><img src=\"https://colab.research.google.com/assets/colab-badge.svg\" alt=\"Open In Colab\"/></a>"
      ]
    },
    {
      "cell_type": "code",
      "metadata": {
        "id": "auRzcn86bn7g",
        "colab_type": "code",
        "outputId": "d04d3737-a287-435c-b16e-438f0522fdfb",
        "colab": {
          "resources": {
            "http://localhost:8080/nbextensions/google.colab/files.js": {
              "data": "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",
              "ok": true,
              "headers": [
                [
                  "content-type",
                  "application/javascript"
                ]
              ],
              "status": 200,
              "status_text": ""
            }
          },
          "base_uri": "https://localhost:8080/",
          "height": 91
        }
      },
      "source": [
        "from google.colab import files\n",
        "\n",
        "uploaded = files.upload()\n",
        "\n",
        "for fn in uploaded.keys():\n",
        "  print('User uploaded file \"{name}\" with length {length} bytes'.format(\n",
        "      name=fn, length=len(uploaded[fn])))"
      ],
      "execution_count": 0,
      "outputs": [
        {
          "output_type": "display_data",
          "data": {
            "text/html": [
              "\n",
              "     <input type=\"file\" id=\"files-14ccb6d2-b80c-4a93-9803-53a04ef54e32\" name=\"files[]\" multiple disabled />\n",
              "     <output id=\"result-14ccb6d2-b80c-4a93-9803-53a04ef54e32\">\n",
              "      Upload widget is only available when the cell has been executed in the\n",
              "      current browser session. Please rerun this cell to enable.\n",
              "      </output>\n",
              "      <script src=\"/nbextensions/google.colab/files.js\"></script> "
            ],
            "text/plain": [
              "<IPython.core.display.HTML object>"
            ]
          },
          "metadata": {
            "tags": []
          }
        },
        {
          "output_type": "stream",
          "text": [
            "Saving insurance.txt to insurance.txt\n",
            "User uploaded file \"insurance.txt\" with length 866 bytes\n"
          ],
          "name": "stdout"
        }
      ]
    },
    {
      "cell_type": "code",
      "metadata": {
        "id": "qzcf8utUcqQQ",
        "colab_type": "code",
        "colab": {}
      },
      "source": [
        "import numpy as np\n",
        "import pandas as pd\n",
        "import matplotlib.pyplot as plt"
      ],
      "execution_count": 0,
      "outputs": []
    },
    {
      "cell_type": "code",
      "metadata": {
        "id": "BEWxU5BLfK_W",
        "colab_type": "code",
        "colab": {}
      },
      "source": [
        "file = open('insurance.txt', 'r')\n",
        "text = file.read()"
      ],
      "execution_count": 0,
      "outputs": []
    },
    {
      "cell_type": "code",
      "metadata": {
        "id": "gRBM2_u3fVAu",
        "colab_type": "code",
        "outputId": "4a8c3a42-ac8c-4e63-adb5-31da928fec43",
        "colab": {
          "base_uri": "https://localhost:8080/",
          "height": 1000
        }
      },
      "source": [
        "print(text)"
      ],
      "execution_count": 0,
      "outputs": [
        {
          "output_type": "stream",
          "text": [
            "Auto Insurance in Sweden\n",
            "\n",
            "In the following data\n",
            "X = number of claims\n",
            "Y = total payment for all the claims in thousands of Swedish Kronor\n",
            "for geographical zones in Sweden\n",
            "Reference: Swedish Committee on Analysis of Risk Premium in Motor Insurance\n",
            "http://college.hmco.com/mathematics/brase/understandable_statistics/7e/students/datasets/\n",
            "       slr/frames/frame.html\n",
            "\n",
            "X\tY\n",
            "108\t392,5\n",
            "19\t46,2\n",
            "13\t15,7\n",
            "124\t422,2\n",
            "40\t119,4\n",
            "57\t170,9\n",
            "23\t56,9\n",
            "14\t77,5\n",
            "45\t214\n",
            "10\t65,3\n",
            "5\t20,9\n",
            "48\t248,1\n",
            "11\t23,5\n",
            "23\t39,6\n",
            "7\t48,8\n",
            "2\t6,6\n",
            "24\t134,9\n",
            "6\t50,9\n",
            "3\t4,4\n",
            "23\t113\n",
            "6\t14,8\n",
            "9\t48,7\n",
            "9\t52,1\n",
            "3\t13,2\n",
            "29\t103,9\n",
            "7\t77,5\n",
            "4\t11,8\n",
            "20\t98,1\n",
            "7\t27,9\n",
            "4\t38,1\n",
            "0\t0\n",
            "25\t69,2\n",
            "6\t14,6\n",
            "5\t40,3\n",
            "22\t161,5\n",
            "11\t57,2\n",
            "61\t217,6\n",
            "12\t58,1\n",
            "4\t12,6\n",
            "16\t59,6\n",
            "13\t89,9\n",
            "60\t202,4\n",
            "41\t181,3\n",
            "37\t152,8\n",
            "55\t162,8\n",
            "41\t73,4\n",
            "11\t21,3\n",
            "27\t92,6\n",
            "8\t76,1\n",
            "3\t39,9\n",
            "17\t142,1\n",
            "13\t93\n",
            "13\t31,9\n",
            "15\t32,1\n",
            "8\t55,6\n",
            "29\t133,3\n",
            "30\t194,5\n",
            "24\t137,9\n",
            "9\t87,4\n",
            "31\t209,8\n",
            "14\t95,5\n",
            "53\t244,6\n",
            "26\t187,5\n",
            "\n"
          ],
          "name": "stdout"
        }
      ]
    },
    {
      "cell_type": "code",
      "metadata": {
        "id": "B-tl7oOofXT2",
        "colab_type": "code",
        "colab": {}
      },
      "source": [
        "text_lines = text.split('\\n')"
      ],
      "execution_count": 0,
      "outputs": []
    },
    {
      "cell_type": "code",
      "metadata": {
        "id": "mqJTLXc0fryO",
        "colab_type": "code",
        "outputId": "aed65966-97bc-4dc8-b1ec-06db9fdf88c4",
        "colab": {
          "base_uri": "https://localhost:8080/",
          "height": 53
        }
      },
      "source": [
        "print(text_lines)"
      ],
      "execution_count": 0,
      "outputs": [
        {
          "output_type": "stream",
          "text": [
            "['Auto Insurance in Sweden', '', 'In the following data', 'X = number of claims', 'Y = total payment for all the claims in thousands of Swedish Kronor', 'for geographical zones in Sweden', 'Reference: Swedish Committee on Analysis of Risk Premium in Motor Insurance', 'http://college.hmco.com/mathematics/brase/understandable_statistics/7e/students/datasets/', '       slr/frames/frame.html', '', 'X\\tY', '108\\t392,5', '19\\t46,2', '13\\t15,7', '124\\t422,2', '40\\t119,4', '57\\t170,9', '23\\t56,9', '14\\t77,5', '45\\t214', '10\\t65,3', '5\\t20,9', '48\\t248,1', '11\\t23,5', '23\\t39,6', '7\\t48,8', '2\\t6,6', '24\\t134,9', '6\\t50,9', '3\\t4,4', '23\\t113', '6\\t14,8', '9\\t48,7', '9\\t52,1', '3\\t13,2', '29\\t103,9', '7\\t77,5', '4\\t11,8', '20\\t98,1', '7\\t27,9', '4\\t38,1', '0\\t0', '25\\t69,2', '6\\t14,6', '5\\t40,3', '22\\t161,5', '11\\t57,2', '61\\t217,6', '12\\t58,1', '4\\t12,6', '16\\t59,6', '13\\t89,9', '60\\t202,4', '41\\t181,3', '37\\t152,8', '55\\t162,8', '41\\t73,4', '11\\t21,3', '27\\t92,6', '8\\t76,1', '3\\t39,9', '17\\t142,1', '13\\t93', '13\\t31,9', '15\\t32,1', '8\\t55,6', '29\\t133,3', '30\\t194,5', '24\\t137,9', '9\\t87,4', '31\\t209,8', '14\\t95,5', '53\\t244,6', '26\\t187,5', '']\n"
          ],
          "name": "stdout"
        }
      ]
    },
    {
      "cell_type": "code",
      "metadata": {
        "id": "dqKM4lnv3xe4",
        "colab_type": "code",
        "colab": {}
      },
      "source": [
        "for i in range(11):\n",
        "  text_lines.pop(0)"
      ],
      "execution_count": 0,
      "outputs": []
    },
    {
      "cell_type": "code",
      "metadata": {
        "id": "EEtjSzsHLReO",
        "colab_type": "code",
        "outputId": "3c8de9d9-f239-4dd3-ca8c-ff2b27522657",
        "colab": {
          "base_uri": "https://localhost:8080/",
          "height": 33
        }
      },
      "source": [
        "text_lines.pop(63)"
      ],
      "execution_count": 0,
      "outputs": [
        {
          "output_type": "execute_result",
          "data": {
            "text/plain": [
              "''"
            ]
          },
          "metadata": {
            "tags": []
          },
          "execution_count": 33
        }
      ]
    },
    {
      "cell_type": "code",
      "metadata": {
        "id": "E-jikryd36iv",
        "colab_type": "code",
        "outputId": "da0daf7c-bbcd-46d0-c996-e5ccf8be1884",
        "colab": {
          "base_uri": "https://localhost:8080/",
          "height": 53
        }
      },
      "source": [
        "print(text_lines)"
      ],
      "execution_count": 0,
      "outputs": [
        {
          "output_type": "stream",
          "text": [
            "['108\\t392,5', '19\\t46,2', '13\\t15,7', '124\\t422,2', '40\\t119,4', '57\\t170,9', '23\\t56,9', '14\\t77,5', '45\\t214', '10\\t65,3', '5\\t20,9', '48\\t248,1', '11\\t23,5', '23\\t39,6', '7\\t48,8', '2\\t6,6', '24\\t134,9', '6\\t50,9', '3\\t4,4', '23\\t113', '6\\t14,8', '9\\t48,7', '9\\t52,1', '3\\t13,2', '29\\t103,9', '7\\t77,5', '4\\t11,8', '20\\t98,1', '7\\t27,9', '4\\t38,1', '0\\t0', '25\\t69,2', '6\\t14,6', '5\\t40,3', '22\\t161,5', '11\\t57,2', '61\\t217,6', '12\\t58,1', '4\\t12,6', '16\\t59,6', '13\\t89,9', '60\\t202,4', '41\\t181,3', '37\\t152,8', '55\\t162,8', '41\\t73,4', '11\\t21,3', '27\\t92,6', '8\\t76,1', '3\\t39,9', '17\\t142,1', '13\\t93', '13\\t31,9', '15\\t32,1', '8\\t55,6', '29\\t133,3', '30\\t194,5', '24\\t137,9', '9\\t87,4', '31\\t209,8', '14\\t95,5', '53\\t244,6', '26\\t187,5']\n"
          ],
          "name": "stdout"
        }
      ]
    },
    {
      "cell_type": "code",
      "metadata": {
        "id": "G-E6dd-P3_9e",
        "colab_type": "code",
        "colab": {}
      },
      "source": [
        "line = []\n",
        "for text_line in text_lines:\n",
        "  line.append(text_line.split('\\t'))"
      ],
      "execution_count": 0,
      "outputs": []
    },
    {
      "cell_type": "code",
      "metadata": {
        "id": "M_S1qbnIDtTr",
        "colab_type": "code",
        "outputId": "4b8e9e3f-e880-4778-e1c5-69b8b1ff5503",
        "colab": {
          "base_uri": "https://localhost:8080/",
          "height": 1000
        }
      },
      "source": [
        "line"
      ],
      "execution_count": 0,
      "outputs": [
        {
          "output_type": "execute_result",
          "data": {
            "text/plain": [
              "[['108', '392,5'],\n",
              " ['19', '46,2'],\n",
              " ['13', '15,7'],\n",
              " ['124', '422,2'],\n",
              " ['40', '119,4'],\n",
              " ['57', '170,9'],\n",
              " ['23', '56,9'],\n",
              " ['14', '77,5'],\n",
              " ['45', '214'],\n",
              " ['10', '65,3'],\n",
              " ['5', '20,9'],\n",
              " ['48', '248,1'],\n",
              " ['11', '23,5'],\n",
              " ['23', '39,6'],\n",
              " ['7', '48,8'],\n",
              " ['2', '6,6'],\n",
              " ['24', '134,9'],\n",
              " ['6', '50,9'],\n",
              " ['3', '4,4'],\n",
              " ['23', '113'],\n",
              " ['6', '14,8'],\n",
              " ['9', '48,7'],\n",
              " ['9', '52,1'],\n",
              " ['3', '13,2'],\n",
              " ['29', '103,9'],\n",
              " ['7', '77,5'],\n",
              " ['4', '11,8'],\n",
              " ['20', '98,1'],\n",
              " ['7', '27,9'],\n",
              " ['4', '38,1'],\n",
              " ['0', '0'],\n",
              " ['25', '69,2'],\n",
              " ['6', '14,6'],\n",
              " ['5', '40,3'],\n",
              " ['22', '161,5'],\n",
              " ['11', '57,2'],\n",
              " ['61', '217,6'],\n",
              " ['12', '58,1'],\n",
              " ['4', '12,6'],\n",
              " ['16', '59,6'],\n",
              " ['13', '89,9'],\n",
              " ['60', '202,4'],\n",
              " ['41', '181,3'],\n",
              " ['37', '152,8'],\n",
              " ['55', '162,8'],\n",
              " ['41', '73,4'],\n",
              " ['11', '21,3'],\n",
              " ['27', '92,6'],\n",
              " ['8', '76,1'],\n",
              " ['3', '39,9'],\n",
              " ['17', '142,1'],\n",
              " ['13', '93'],\n",
              " ['13', '31,9'],\n",
              " ['15', '32,1'],\n",
              " ['8', '55,6'],\n",
              " ['29', '133,3'],\n",
              " ['30', '194,5'],\n",
              " ['24', '137,9'],\n",
              " ['9', '87,4'],\n",
              " ['31', '209,8'],\n",
              " ['14', '95,5'],\n",
              " ['53', '244,6'],\n",
              " ['26', '187,5']]"
            ]
          },
          "metadata": {
            "tags": []
          },
          "execution_count": 36
        }
      ]
    },
    {
      "cell_type": "code",
      "metadata": {
        "id": "80Kqvqiep5YA",
        "colab_type": "code",
        "colab": {}
      },
      "source": [
        "x =[]\n",
        "y =[]\n",
        "for i in line:\n",
        "  y.append(i[1].replace(',', '.') )\n",
        "  x.append(i[0])"
      ],
      "execution_count": 0,
      "outputs": []
    },
    {
      "cell_type": "code",
      "metadata": {
        "id": "k_-1H7mbql4t",
        "colab_type": "code",
        "outputId": "241ad403-a9d0-4161-a4b6-40b058724d58",
        "colab": {
          "base_uri": "https://localhost:8080/",
          "height": 33
        }
      },
      "source": [
        "print(len(x), len(y))"
      ],
      "execution_count": 0,
      "outputs": [
        {
          "output_type": "stream",
          "text": [
            "63 63\n"
          ],
          "name": "stdout"
        }
      ]
    },
    {
      "cell_type": "code",
      "metadata": {
        "id": "c7DP4fOhrBG8",
        "colab_type": "code",
        "outputId": "95873f53-6815-4b46-c99d-6f084b9a35dc",
        "colab": {
          "base_uri": "https://localhost:8080/",
          "height": 53
        }
      },
      "source": [
        "print(x)"
      ],
      "execution_count": 0,
      "outputs": [
        {
          "output_type": "stream",
          "text": [
            "['108', '19', '13', '124', '40', '57', '23', '14', '45', '10', '5', '48', '11', '23', '7', '2', '24', '6', '3', '23', '6', '9', '9', '3', '29', '7', '4', '20', '7', '4', '0', '25', '6', '5', '22', '11', '61', '12', '4', '16', '13', '60', '41', '37', '55', '41', '11', '27', '8', '3', '17', '13', '13', '15', '8', '29', '30', '24', '9', '31', '14', '53', '26']\n"
          ],
          "name": "stdout"
        }
      ]
    },
    {
      "cell_type": "code",
      "metadata": {
        "id": "mhzwBFZ5rDBL",
        "colab_type": "code",
        "outputId": "d80ece3a-0605-4b74-d52d-774109f35aa7",
        "colab": {
          "base_uri": "https://localhost:8080/",
          "height": 53
        }
      },
      "source": [
        "print(y)"
      ],
      "execution_count": 0,
      "outputs": [
        {
          "output_type": "stream",
          "text": [
            "['392.5', '46.2', '15.7', '422.2', '119.4', '170.9', '56.9', '77.5', '214', '65.3', '20.9', '248.1', '23.5', '39.6', '48.8', '6.6', '134.9', '50.9', '4.4', '113', '14.8', '48.7', '52.1', '13.2', '103.9', '77.5', '11.8', '98.1', '27.9', '38.1', '0', '69.2', '14.6', '40.3', '161.5', '57.2', '217.6', '58.1', '12.6', '59.6', '89.9', '202.4', '181.3', '152.8', '162.8', '73.4', '21.3', '92.6', '76.1', '39.9', '142.1', '93', '31.9', '32.1', '55.6', '133.3', '194.5', '137.9', '87.4', '209.8', '95.5', '244.6', '187.5']\n"
          ],
          "name": "stdout"
        }
      ]
    },
    {
      "cell_type": "code",
      "metadata": {
        "id": "h7SufGZ-20dN",
        "colab_type": "code",
        "colab": {}
      },
      "source": [
        "x1 =[]\n",
        "for i in x:\n",
        "  x1.append(int(i))"
      ],
      "execution_count": 0,
      "outputs": []
    },
    {
      "cell_type": "code",
      "metadata": {
        "id": "NzLs-YFA3AqS",
        "colab_type": "code",
        "colab": {}
      },
      "source": [
        "y1 =[]\n",
        "for i in y:\n",
        "  y1.append(float(i))"
      ],
      "execution_count": 0,
      "outputs": []
    },
    {
      "cell_type": "code",
      "metadata": {
        "id": "WPy78Rqcq44S",
        "colab_type": "code",
        "outputId": "9881a64c-af5b-470c-c619-25b7894ed7e1",
        "colab": {
          "base_uri": "https://localhost:8080/",
          "height": 313
        }
      },
      "source": [
        "plt.scatter(x1,y1)\n",
        "plt.plot(np.min(x1), np.max(x1), color = 'green')\n",
        "plt.xlabel('x_points')\n",
        "plt.ylabel('y_points')\n",
        "plt.title('points')\n",
        "plt.show"
      ],
      "execution_count": 0,
      "outputs": [
        {
          "output_type": "execute_result",
          "data": {
            "text/plain": [
              "<function matplotlib.pyplot.show>"
            ]
          },
          "metadata": {
            "tags": []
          },
          "execution_count": 43
        },
        {
          "output_type": "display_data",
          "data": {
            "image/png": "[encoded data removed]",
            "text/plain": [
              "<Figure size 432x288 with 1 Axes>"
            ]
          },
          "metadata": {
            "tags": [],
            "needs_background": "light"
          }
        }
      ]
    },
    {
      "cell_type": "code",
      "metadata": {
        "id": "9yvNpASpctUe",
        "colab_type": "code",
        "outputId": "7fb56ce4-fc22-457d-c07b-087b5cc58bc6",
        "colab": {
          "base_uri": "https://localhost:8080/",
          "height": 33
        }
      },
      "source": [
        "print(np.min(x1), np.max(x1))"
      ],
      "execution_count": 0,
      "outputs": [
        {
          "output_type": "stream",
          "text": [
            "0 124\n"
          ],
          "name": "stdout"
        }
      ]
    },
    {
      "cell_type": "code",
      "metadata": {
        "id": "rtJZEUFRo3-L",
        "colab_type": "code",
        "colab": {}
      },
      "source": [
        "def mean(df):\n",
        "  return sum(df)/float(len(df))"
      ],
      "execution_count": 0,
      "outputs": []
    },
    {
      "cell_type": "code",
      "metadata": {
        "id": "-pP-BXYupMjr",
        "colab_type": "code",
        "colab": {}
      },
      "source": [
        "def variance(df, df_mean):\n",
        "  return sum([(float(x)-df_mean)**2 for x in df])"
      ],
      "execution_count": 0,
      "outputs": []
    },
    {
      "cell_type": "code",
      "metadata": {
        "id": "vx3802iqpq2i",
        "colab_type": "code",
        "colab": {}
      },
      "source": [
        "mean_x, mean_y = mean(x1), mean(y1)\n",
        "var_x, var_y = variance(x1, mean_x), variance(y1, mean_y)"
      ],
      "execution_count": 0,
      "outputs": []
    },
    {
      "cell_type": "markdown",
      "metadata": {
        "id": "Li13iRHwqqOJ",
        "colab_type": "text"
      },
      "source": [
        "<h2>Calculate Covariance\n",
        "\n",
        "The covariance of two groups of numbers describes how those numbers change together.\n",
        "\n",
        "Covariance is a generalization of correlation. Correlation describes the relationship between two groups of numbers, whereas covariance can describe the relationship between two or more groups of numbers."
      ]
    },
    {
      "cell_type": "code",
      "metadata": {
        "id": "cELbLtG_qKsT",
        "colab_type": "code",
        "colab": {}
      },
      "source": [
        "def covariance(x1, mean_x, y1, mean_y):\n",
        "\tcovar = 0.0\n",
        "\tfor i in range(len(x)):\n",
        "\t\tcovar += (float(x[i]) - mean_x) * (float(y[i]) - mean_y)\n",
        "\treturn covar"
      ],
      "execution_count": 0,
      "outputs": []
    },
    {
      "cell_type": "code",
      "metadata": {
        "id": "TGTo7v8bqZSk",
        "colab_type": "code",
        "outputId": "f296a404-507a-4d4f-9159-bd4e40f3783b",
        "colab": {
          "base_uri": "https://localhost:8080/",
          "height": 33
        }
      },
      "source": [
        "covar = covariance(x1, mean_x, y1, mean_y)\n",
        "covar"
      ],
      "execution_count": 0,
      "outputs": [
        {
          "output_type": "execute_result",
          "data": {
            "text/plain": [
              "115419.42380952384"
            ]
          },
          "metadata": {
            "tags": []
          },
          "execution_count": 53
        }
      ]
    },
    {
      "cell_type": "markdown",
      "metadata": {
        "id": "_ijJDClwrQ8j",
        "colab_type": "text"
      },
      "source": [
        "\n",
        "<h2>y = b0 + b1*x\n",
        "\n",
        "<h2>b1 = Σ [ (xi - x_mean)(yi - y_mean) ] / Σ [ (xi - x_mean)2]\n",
        "\n",
        "<h2>b0 = y - b1 * x"
      ]
    },
    {
      "cell_type": "code",
      "metadata": {
        "id": "itvYNwbZrHzL",
        "colab_type": "code",
        "colab": {}
      },
      "source": [
        "# Calculate coefficients\n",
        "def coefficients(x1, y1, x_mean, y_mean):\n",
        "\tb1 = covariance(x, x_mean, y, y_mean) / variance(x, x_mean)\n",
        "\tb0 = y_mean - b1 * x_mean\n",
        "\treturn [b0, b1]"
      ],
      "execution_count": 0,
      "outputs": []
    },
    {
      "cell_type": "code",
      "metadata": {
        "id": "lyzaUEYfrqJx",
        "colab_type": "code",
        "colab": {}
      },
      "source": [
        "b0,b1 = coefficients(x1, y1, mean_x, mean_y)"
      ],
      "execution_count": 0,
      "outputs": []
    },
    {
      "cell_type": "markdown",
      "metadata": {
        "id": "PjE-cYxXumm9",
        "colab_type": "text"
      },
      "source": [
        "bunch of crap"
      ]
    },
    {
      "cell_type": "code",
      "metadata": {
        "id": "s-uBmhEVt9j8",
        "colab_type": "code",
        "colab": {}
      },
      "source": [
        "\n",
        "2\n",
        "3\n",
        "4\n",
        "5\n",
        "6\n",
        "7\n",
        "8\n",
        "9\n",
        "10\n",
        "11\n",
        "12\n",
        "13\n",
        "14\n",
        "15\n",
        "16\n",
        "17\n",
        "18\n",
        "19\n",
        "20\n",
        "21\n",
        "22\n",
        "23\n",
        "24\n",
        "25\n",
        "26\n",
        "27\n",
        "28\n",
        "29\n",
        "30\n",
        "31\n",
        "32\n",
        "33\n",
        "34\n",
        "35\n",
        "36\n",
        "37\n",
        "38\n",
        "39\n",
        "40\n",
        "41\n",
        "42\n",
        "43\n",
        "44\n",
        "45\n",
        "46\n",
        "47\n",
        "48\n",
        "49\n",
        "50\n",
        "51\n",
        "52\n",
        "53\n",
        "54\n",
        "55\n",
        "56\n",
        "57\n",
        "58\n",
        "59\n",
        "60\n",
        "61\n",
        "62\n",
        "63\n",
        "64\n",
        "65\n",
        "66\n",
        "67\n",
        "68\n",
        "69\n",
        "70\n",
        "71\n",
        "72\n",
        "73\n",
        "74\n",
        "75\n",
        "76\n",
        "77\n",
        "78\n",
        "79\n",
        "80\n",
        "81\n",
        "82\n",
        "83\n",
        "84\n",
        "85\n",
        "86\n",
        "87\n",
        "88\n",
        "89\n",
        "90\n",
        "91\n",
        "92\n",
        "93\n",
        "94\n",
        "95\n",
        "96\n",
        "97\n",
        "98\n",
        "# Simple Linear Regression on the Swedish Insurance Dataset\n",
        "from random import seed\n",
        "from random import randrange\n",
        "from csv import reader\n",
        "from math import sqrt\n",
        " \n",
        "# Load a CSV file\n",
        "def load_csv(filename):\n",
        "\tdataset = list()\n",
        "\twith open(filename, 'r') as file:\n",
        "\t\tcsv_reader = reader(file)\n",
        "\t\tfor row in csv_reader:\n",
        "\t\t\tif not row:\n",
        "\t\t\t\tcontinue\n",
        "\t\t\tdataset.append(row)\n",
        "\treturn dataset\n",
        " \n",
        "# Convert string column to float\n",
        "def str_column_to_float(dataset, column):\n",
        "\tfor row in dataset:\n",
        "\t\trow[column] = float(row[column].strip())\n",
        " \n",
        "# Split a dataset into a train and test set\n",
        "def train_test_split(dataset, split):\n",
        "\ttrain = list()\n",
        "\ttrain_size = split * len(dataset)\n",
        "\tdataset_copy = list(dataset)\n",
        "\twhile len(train) < train_size:\n",
        "\t\tindex = randrange(len(dataset_copy))\n",
        "\t\ttrain.append(dataset_copy.pop(index))\n",
        "\treturn train, dataset_copy\n",
        " \n",
        "# Calculate root mean squared error\n",
        "def rmse_metric(actual, predicted):\n",
        "\tsum_error = 0.0\n",
        "\tfor i in range(len(actual)):\n",
        "\t\tprediction_error = predicted[i] - actual[i]\n",
        "\t\tsum_error += (prediction_error ** 2)\n",
        "\tmean_error = sum_error / float(len(actual))\n",
        "\treturn sqrt(mean_error)\n",
        " \n",
        "# Evaluate an algorithm using a train/test split\n",
        "def evaluate_algorithm(dataset, algorithm, split, *args):\n",
        "\ttrain, test = train_test_split(dataset, split)\n",
        "\ttest_set = list()\n",
        "\tfor row in test:\n",
        "\t\trow_copy = list(row)\n",
        "\t\trow_copy[-1] = None\n",
        "\t\ttest_set.append(row_copy)\n",
        "\tpredicted = algorithm(train, test_set, *args)\n",
        "\tactual = [row[-1] for row in test]\n",
        "\trmse = rmse_metric(actual, predicted)\n",
        "\treturn rmse\n",
        " \n",
        "# Calculate the mean value of a list of numbers\n",
        "def mean(values):\n",
        "\treturn sum(values) / float(len(values))\n",
        " \n",
        "# Calculate covariance between x and y\n",
        "def covariance(x, mean_x, y, mean_y):\n",
        "\tcovar = 0.0\n",
        "\tfor i in range(len(x)):\n",
        "\t\tcovar += (x[i] - mean_x) * (y[i] - mean_y)\n",
        "\treturn covar\n",
        " \n",
        "# Calculate the variance of a list of numbers\n",
        "def variance(values, mean):\n",
        "\treturn sum([(x-mean)**2 for x in values])\n",
        " \n",
        "# Calculate coefficients\n",
        "def coefficients(dataset):\n",
        "\tx = [row[0] for row in dataset]\n",
        "\ty = [row[1] for row in dataset]\n",
        "\tx_mean, y_mean = mean(x), mean(y)\n",
        "\tb1 = covariance(x, x_mean, y, y_mean) / variance(x, x_mean)\n",
        "\tb0 = y_mean - b1 * x_mean\n",
        "\treturn [b0, b1]\n",
        " \n",
        "# Simple linear regression algorithm\n",
        "def simple_linear_regression(train, test):\n",
        "\tpredictions = list()\n",
        "\tb0, b1 = coefficients(train)\n",
        "\tfor row in test:\n",
        "\t\tyhat = b0 + b1 * row[0]\n",
        "\t\tpredictions.append(yhat)\n",
        "\treturn predictions\n",
        " \n",
        "# Simple linear regression on insurance dataset\n",
        "seed(1)\n",
        "# load and prepare data\n",
        "filename = 'insurance.csv'\n",
        "dataset = load_csv(filename)\n",
        "for i in range(len(dataset[0])):\n",
        "\tstr_column_to_float(dataset, i)\n",
        "# evaluate algorithm\n",
        "split = 0.6\n",
        "rmse = evaluate_algorithm(dataset, simple_linear_regression, split)\n",
        "print('RMSE: %.3f' % (rmse))"
      ],
      "execution_count": 0,
      "outputs": []
    }
  ]
}