{
  "nbformat": 4,
  "nbformat_minor": 0,
  "metadata": {
    "colab": {
      "name": "Insurance Linear regression.ipynb",
      "provenance": [],
      "authorship_tag": "ABX9TyMz9nvhRdZn7cqRxViK6Rp8",
      "include_colab_link": true
    },
    "kernelspec": {
      "name": "python3",
      "display_name": "Python 3"
    }
  },
  "cells": [
    {
      "cell_type": "markdown",
      "metadata": {
        "id": "view-in-github",
        "colab_type": "text"
      },
      "source": [
        "<a href=\"https://colab.research.google.com/github/Syntax-code/Machine-Learning/blob/master/Insurance_Linear_regression.ipynb\" target=\"_parent\"><img src=\"https://colab.research.google.com/assets/colab-badge.svg\" alt=\"Open In Colab\"/></a>"
      ]
    },
    {
      "cell_type": "code",
      "metadata": {
        "id": "auRzcn86bn7g",
        "colab_type": "code",
        "colab": {}
      },
      "source": [
        "from google.colab import files\n",
        "\n",
        "uploaded = files.upload()\n",
        "\n",
        "for fn in uploaded.keys():\n",
        "  print('User uploaded file \"{name}\" with length {length} bytes'.format(\n",
        "      name=fn, length=len(uploaded[fn])))"
      ],
      "execution_count": 0,
      "outputs": []
    },
    {
      "cell_type": "code",
      "metadata": {
        "id": "qzcf8utUcqQQ",
        "colab_type": "code",
        "colab": {}
      },
      "source": [
        "import numpy as np\n",
        "import pandas as pd\n",
        "import matplotlib.pyplot as plt\n",
        "import re"
      ],
      "execution_count": 0,
      "outputs": []
    },
    {
      "cell_type": "code",
      "metadata": {
        "id": "BEWxU5BLfK_W",
        "colab_type": "code",
        "colab": {}
      },
      "source": [
        "file = open('insurance.txt', 'r')\n",
        "text = file.read()"
      ],
      "execution_count": 0,
      "outputs": []
    },
    {
      "cell_type": "code",
      "metadata": {
        "id": "gRBM2_u3fVAu",
        "colab_type": "code",
        "colab": {
          "base_uri": "https://localhost:8080/",
          "height": 1000
        },
        "outputId": "22e39ce7-4beb-48bb-a239-5244a0d56b36"
      },
      "source": [
        "print(text)"
      ],
      "execution_count": 8,
      "outputs": [
        {
          "output_type": "stream",
          "text": [
            "Auto Insurance in Sweden\n",
            "\n",
            "In the following data\n",
            "X = number of claims\n",
            "Y = total payment for all the claims in thousands of Swedish Kronor\n",
            "for geographical zones in Sweden\n",
            "Reference: Swedish Committee on Analysis of Risk Premium in Motor Insurance\n",
            "http://college.hmco.com/mathematics/brase/understandable_statistics/7e/students/datasets/\n",
            "       slr/frames/frame.html\n",
            "\n",
            "X\tY\n",
            "108\t392,5\n",
            "19\t46,2\n",
            "13\t15,7\n",
            "124\t422,2\n",
            "40\t119,4\n",
            "57\t170,9\n",
            "23\t56,9\n",
            "14\t77,5\n",
            "45\t214\n",
            "10\t65,3\n",
            "5\t20,9\n",
            "48\t248,1\n",
            "11\t23,5\n",
            "23\t39,6\n",
            "7\t48,8\n",
            "2\t6,6\n",
            "24\t134,9\n",
            "6\t50,9\n",
            "3\t4,4\n",
            "23\t113\n",
            "6\t14,8\n",
            "9\t48,7\n",
            "9\t52,1\n",
            "3\t13,2\n",
            "29\t103,9\n",
            "7\t77,5\n",
            "4\t11,8\n",
            "20\t98,1\n",
            "7\t27,9\n",
            "4\t38,1\n",
            "0\t0\n",
            "25\t69,2\n",
            "6\t14,6\n",
            "5\t40,3\n",
            "22\t161,5\n",
            "11\t57,2\n",
            "61\t217,6\n",
            "12\t58,1\n",
            "4\t12,6\n",
            "16\t59,6\n",
            "13\t89,9\n",
            "60\t202,4\n",
            "41\t181,3\n",
            "37\t152,8\n",
            "55\t162,8\n",
            "41\t73,4\n",
            "11\t21,3\n",
            "27\t92,6\n",
            "8\t76,1\n",
            "3\t39,9\n",
            "17\t142,1\n",
            "13\t93\n",
            "13\t31,9\n",
            "15\t32,1\n",
            "8\t55,6\n",
            "29\t133,3\n",
            "30\t194,5\n",
            "24\t137,9\n",
            "9\t87,4\n",
            "31\t209,8\n",
            "14\t95,5\n",
            "53\t244,6\n",
            "26\t187,5\n",
            "\n"
          ],
          "name": "stdout"
        }
      ]
    },
    {
      "cell_type": "code",
      "metadata": {
        "id": "B-tl7oOofXT2",
        "colab_type": "code",
        "colab": {}
      },
      "source": [
        "text_lines = text.split('\\n')"
      ],
      "execution_count": 0,
      "outputs": []
    },
    {
      "cell_type": "code",
      "metadata": {
        "id": "mqJTLXc0fryO",
        "colab_type": "code",
        "colab": {
          "base_uri": "https://localhost:8080/",
          "height": 53
        },
        "outputId": "87077921-01a1-4e0b-8e59-525f802b42be"
      },
      "source": [
        "print(text_lines)"
      ],
      "execution_count": 16,
      "outputs": [
        {
          "output_type": "stream",
          "text": [
            "['Auto Insurance in Sweden', '', 'In the following data', 'X = number of claims', 'Y = total payment for all the claims in thousands of Swedish Kronor', 'for geographical zones in Sweden', 'Reference: Swedish Committee on Analysis of Risk Premium in Motor Insurance', 'http://college.hmco.com/mathematics/brase/understandable_statistics/7e/students/datasets/', '       slr/frames/frame.html', '', 'X\\tY', '108\\t392,5', '19\\t46,2', '13\\t15,7', '124\\t422,2', '40\\t119,4', '57\\t170,9', '23\\t56,9', '14\\t77,5', '45\\t214', '10\\t65,3', '5\\t20,9', '48\\t248,1', '11\\t23,5', '23\\t39,6', '7\\t48,8', '2\\t6,6', '24\\t134,9', '6\\t50,9', '3\\t4,4', '23\\t113', '6\\t14,8', '9\\t48,7', '9\\t52,1', '3\\t13,2', '29\\t103,9', '7\\t77,5', '4\\t11,8', '20\\t98,1', '7\\t27,9', '4\\t38,1', '0\\t0', '25\\t69,2', '6\\t14,6', '5\\t40,3', '22\\t161,5', '11\\t57,2', '61\\t217,6', '12\\t58,1', '4\\t12,6', '16\\t59,6', '13\\t89,9', '60\\t202,4', '41\\t181,3', '37\\t152,8', '55\\t162,8', '41\\t73,4', '11\\t21,3', '27\\t92,6', '8\\t76,1', '3\\t39,9', '17\\t142,1', '13\\t93', '13\\t31,9', '15\\t32,1', '8\\t55,6', '29\\t133,3', '30\\t194,5', '24\\t137,9', '9\\t87,4', '31\\t209,8', '14\\t95,5', '53\\t244,6', '26\\t187,5', '']\n"
          ],
          "name": "stdout"
        }
      ]
    },
    {
      "cell_type": "code",
      "metadata": {
        "id": "dqKM4lnv3xe4",
        "colab_type": "code",
        "colab": {}
      },
      "source": [
        "for i in range(11):\n",
        "  text_lines.pop(0)"
      ],
      "execution_count": 0,
      "outputs": []
    },
    {
      "cell_type": "code",
      "metadata": {
        "id": "EEtjSzsHLReO",
        "colab_type": "code",
        "colab": {
          "base_uri": "https://localhost:8080/",
          "height": 161
        },
        "outputId": "b045af0a-3a9e-4791-cca7-9d1391bfa9a8"
      },
      "source": [
        "text_lines.pop(63)"
      ],
      "execution_count": 72,
      "outputs": [
        {
          "output_type": "error",
          "ename": "IndexError",
          "evalue": "ignored",
          "traceback": [
            "\u001b[0;31m---------------------------------------------------------------------------\u001b[0m",
            "\u001b[0;31mIndexError\u001b[0m                                Traceback (most recent call last)",
            "\u001b[0;32m<ipython-input-72-f856498dfab6>\u001b[0m in \u001b[0;36m<module>\u001b[0;34m()\u001b[0m\n\u001b[0;32m----> 1\u001b[0;31m \u001b[0mtext_lines\u001b[0m\u001b[0;34m.\u001b[0m\u001b[0mpop\u001b[0m\u001b[0;34m(\u001b[0m\u001b[0;36m63\u001b[0m\u001b[0;34m)\u001b[0m\u001b[0;34m\u001b[0m\u001b[0;34m\u001b[0m\u001b[0m\n\u001b[0m",
            "\u001b[0;31mIndexError\u001b[0m: pop index out of range"
          ]
        }
      ]
    },
    {
      "cell_type": "code",
      "metadata": {
        "id": "E-jikryd36iv",
        "colab_type": "code",
        "colab": {
          "base_uri": "https://localhost:8080/",
          "height": 53
        },
        "outputId": "10155f31-1bf1-436a-f6c6-f720a4b0d0c9"
      },
      "source": [
        "print(text_lines)"
      ],
      "execution_count": 48,
      "outputs": [
        {
          "output_type": "stream",
          "text": [
            "['108\\t392,5', '19\\t46,2', '13\\t15,7', '124\\t422,2', '40\\t119,4', '57\\t170,9', '23\\t56,9', '14\\t77,5', '45\\t214', '10\\t65,3', '5\\t20,9', '48\\t248,1', '11\\t23,5', '23\\t39,6', '7\\t48,8', '2\\t6,6', '24\\t134,9', '6\\t50,9', '3\\t4,4', '23\\t113', '6\\t14,8', '9\\t48,7', '9\\t52,1', '3\\t13,2', '29\\t103,9', '7\\t77,5', '4\\t11,8', '20\\t98,1', '7\\t27,9', '4\\t38,1', '0\\t0', '25\\t69,2', '6\\t14,6', '5\\t40,3', '22\\t161,5', '11\\t57,2', '61\\t217,6', '12\\t58,1', '4\\t12,6', '16\\t59,6', '13\\t89,9', '60\\t202,4', '41\\t181,3', '37\\t152,8', '55\\t162,8', '41\\t73,4', '11\\t21,3', '27\\t92,6', '8\\t76,1', '3\\t39,9', '17\\t142,1', '13\\t93', '13\\t31,9', '15\\t32,1', '8\\t55,6', '29\\t133,3', '30\\t194,5', '24\\t137,9', '9\\t87,4', '31\\t209,8', '14\\t95,5', '53\\t244,6', '26\\t187,5']\n"
          ],
          "name": "stdout"
        }
      ]
    },
    {
      "cell_type": "code",
      "metadata": {
        "id": "G-E6dd-P3_9e",
        "colab_type": "code",
        "colab": {}
      },
      "source": [
        "x = []\n",
        "line = []\n",
        "for text_line in text_lines:\n",
        "  line.append(text_line.split('\\t'))"
      ],
      "execution_count": 0,
      "outputs": []
    },
    {
      "cell_type": "code",
      "metadata": {
        "id": "M_S1qbnIDtTr",
        "colab_type": "code",
        "colab": {
          "base_uri": "https://localhost:8080/",
          "height": 1000
        },
        "outputId": "8b04ecbf-c697-4652-b7fc-f42fd32d9715"
      },
      "source": [
        "line"
      ],
      "execution_count": 67,
      "outputs": [
        {
          "output_type": "execute_result",
          "data": {
            "text/plain": [
              "[['108', '392,5'],\n",
              " ['19', '46,2'],\n",
              " ['13', '15,7'],\n",
              " ['124', '422,2'],\n",
              " ['40', '119,4'],\n",
              " ['57', '170,9'],\n",
              " ['23', '56,9'],\n",
              " ['14', '77,5'],\n",
              " ['10', '65,3'],\n",
              " ['5', '20,9'],\n",
              " ['48', '248,1'],\n",
              " ['11', '23,5'],\n",
              " ['23', '39,6'],\n",
              " ['7', '48,8'],\n",
              " ['2', '6,6'],\n",
              " ['24', '134,9'],\n",
              " ['6', '50,9'],\n",
              " ['3', '4,4'],\n",
              " ['6', '14,8'],\n",
              " ['9', '48,7'],\n",
              " ['9', '52,1'],\n",
              " ['3', '13,2'],\n",
              " ['29', '103,9'],\n",
              " ['7', '77,5'],\n",
              " ['4', '11,8'],\n",
              " ['20', '98,1'],\n",
              " ['7', '27,9'],\n",
              " ['4', '38,1'],\n",
              " ['25', '69,2'],\n",
              " ['6', '14,6'],\n",
              " ['5', '40,3'],\n",
              " ['22', '161,5'],\n",
              " ['11', '57,2'],\n",
              " ['61', '217,6'],\n",
              " ['12', '58,1'],\n",
              " ['4', '12,6'],\n",
              " ['16', '59,6'],\n",
              " ['13', '89,9'],\n",
              " ['60', '202,4'],\n",
              " ['41', '181,3'],\n",
              " ['37', '152,8'],\n",
              " ['55', '162,8'],\n",
              " ['41', '73,4'],\n",
              " ['11', '21,3'],\n",
              " ['27', '92,6'],\n",
              " ['8', '76,1'],\n",
              " ['3', '39,9'],\n",
              " ['17', '142,1'],\n",
              " ['13', '31,9'],\n",
              " ['15', '32,1'],\n",
              " ['8', '55,6'],\n",
              " ['29', '133,3'],\n",
              " ['30', '194,5'],\n",
              " ['24', '137,9'],\n",
              " ['9', '87,4'],\n",
              " ['31', '209,8'],\n",
              " ['14', '95,5'],\n",
              " ['53', '244,6'],\n",
              " ['26', '187,5']]"
            ]
          },
          "metadata": {
            "tags": []
          },
          "execution_count": 67
        }
      ]
    }
  ]
}