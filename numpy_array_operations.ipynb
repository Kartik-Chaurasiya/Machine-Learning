{
  "nbformat": 4,
  "nbformat_minor": 0,
  "metadata": {
    "kernelspec": {
      "display_name": "Python 3",
      "language": "python",
      "name": "python3"
    },
    "language_info": {
      "codemirror_mode": {
        "name": "ipython",
        "version": 3
      },
      "file_extension": ".py",
      "mimetype": "text/x-python",
      "name": "python",
      "nbconvert_exporter": "python",
      "pygments_lexer": "ipython3",
      "version": "3.8.5"
    },
    "colab": {
      "name": "numpy-array-operations.ipynb",
      "provenance": [],
      "include_colab_link": true
    }
  },
  "cells": [
    {
      "cell_type": "markdown",
      "metadata": {
        "id": "view-in-github",
        "colab_type": "text"
      },
      "source": [
        "<a href=\"https://colab.research.google.com/github/Syntax-code/Machine-Learning/blob/master/numpy_array_operations.ipynb\" target=\"_parent\"><img src=\"https://colab.research.google.com/assets/colab-badge.svg\" alt=\"Open In Colab\"/></a>"
      ]
    },
    {
      "cell_type": "code",
      "metadata": {
        "id": "tDw1rUiaxE8Z",
        "outputId": "b1b8d8e8-6068-45e1-ffb5-7babaebe0f50",
        "colab": {
          "base_uri": "https://localhost:8080/",
          "height": 52
        }
      },
      "source": [
        "# Jovian Commit Essentials\n",
        "# Please retain and execute this cell without modifying the contents for `jovian.commit` to work\n",
        "!pip install jovian --upgrade -q\n",
        "import jovian\n",
        "jovian.utils.colab.set_colab_file_id('1wKmpi5UJiq6435C0oj5XDouFXepZ5mFh')"
      ],
      "execution_count": 1,
      "outputs": [
        {
          "output_type": "stream",
          "text": [
            "\u001b[?25l\r\u001b[K     |█████                           | 10kB 28.7MB/s eta 0:00:01\r\u001b[K     |██████████                      | 20kB 6.3MB/s eta 0:00:01\r\u001b[K     |███████████████                 | 30kB 7.7MB/s eta 0:00:01\r\u001b[K     |███████████████████▉            | 40kB 8.4MB/s eta 0:00:01\r\u001b[K     |████████████████████████▉       | 51kB 6.9MB/s eta 0:00:01\r\u001b[K     |█████████████████████████████▉  | 61kB 7.5MB/s eta 0:00:01\r\u001b[K     |████████████████████████████████| 71kB 3.8MB/s \n",
            "\u001b[?25h  Building wheel for uuid (setup.py) ... \u001b[?25l\u001b[?25hdone\n"
          ],
          "name": "stdout"
        }
      ]
    },
    {
      "cell_type": "markdown",
      "metadata": {
        "id": "PxEimPVHxE8c"
      },
      "source": [
        "> ### **Assignment 2 - Numpy Array Operations** \n",
        ">\n",
        "> This assignment is part of the course [\"Data Analysis with Python: Zero to Pandas\"](http://zerotopandas.com). The objective of this assignment is to develop a solid understanding of Numpy array operations. In this assignment you will:\n",
        "> \n",
        "> 1. Pick 5 interesting Numpy array functions by going through the documentation: https://numpy.org/doc/stable/reference/routines.html \n",
        "> 2. Run and modify this Jupyter notebook to illustrate their usage (some explanation and 3 examples for each function). Use your imagination to come up with interesting and unique examples.\n",
        "> 3. Upload this notebook to your Jovian profile using `jovian.commit` and make a submission here: https://jovian.ml/learn/data-analysis-with-python-zero-to-pandas/assignment/assignment-2-numpy-array-operations\n",
        "> 4. (Optional) Share your notebook online (on Twitter, LinkedIn, Facebook) and on the community forum thread: https://jovian.ml/forum/t/assignment-2-numpy-array-operations-share-your-work/10575 . \n",
        "> 5. (Optional) Check out the notebooks [shared by other participants](https://jovian.ml/forum/t/assignment-2-numpy-array-operations-share-your-work/10575) and give feedback & appreciation.\n",
        ">\n",
        "> The recommended way to run this notebook is to click the \"Run\" button at the top of this page, and select \"Run on Binder\". This will run the notebook on mybinder.org, a free online service for running Jupyter notebooks.\n",
        ">\n",
        "> Try to give your notebook a catchy title & subtitle e.g. \"All about Numpy array operations\", \"5 Numpy functions you didn't know you needed\", \"A beginner's guide to broadcasting in Numpy\", \"Interesting ways to create Numpy arrays\", \"Trigonometic functions in Numpy\", \"How to use Python for Linear Algebra\" etc.\n",
        ">\n",
        "> **NOTE**: Remove this block of explanation text before submitting or sharing your notebook online - to make it more presentable.\n",
        "\n",
        "\n",
        "# No more Matrix fear when Numpy is here.\n",
        "\n",
        "\n",
        "### Matrix Initializations using numpy.matlib library.\n",
        "\n",
        "The most important object defined in NumPy is an N-dimensional array type called ndarray. Matrix is a special case of two dimensional array where each data element is of strictly same size. So every matrix is also a two dimensional array but not vice versa. Matrices are very important data structures for many mathematical and scientific calculations. \n",
        "\n",
        "NumPy package contains a Matrix library numpy.matlib. This module has functions that return matrices instead of ndarray objects.\n",
        "\n",
        "- function 1 = intialize a empty matrix = numpy.matlib.empty()\n",
        "- function 2 = matrix filled with zeros & ones = numpy.matlib.zeros(), numpy.matlib.ones()\n",
        "- function 3 = diagonal matrix = numpy.matlib.eye()\n",
        "- function 4 = Identity matrix = numpy.matlib.identity()\n",
        "- function 5 = Matrix with random values = numpy.matlib.rand() \n",
        "\n",
        "The recommended way to run this notebook is to click the \"Run\" button at the top of this page, and select \"Run on Binder\". This will run the notebook on mybinder.org, a free online service for running Jupyter notebooks."
      ]
    },
    {
      "cell_type": "code",
      "metadata": {
        "id": "yX5VmRlexE8d"
      },
      "source": [
        "!pip install jovian --upgrade -q"
      ],
      "execution_count": 2,
      "outputs": []
    },
    {
      "cell_type": "code",
      "metadata": {
        "id": "vR99Ie32xE8f"
      },
      "source": [
        "import jovian"
      ],
      "execution_count": 3,
      "outputs": []
    },
    {
      "cell_type": "code",
      "metadata": {
        "id": "irTOyMmaxE8h",
        "outputId": "ee758300-632d-4a1c-b8a4-b46547fe0764",
        "colab": {
          "base_uri": "https://localhost:8080/",
          "height": 138
        }
      },
      "source": [
        "jovian.commit(project='numpy-array-operations')"
      ],
      "execution_count": 4,
      "outputs": [
        {
          "output_type": "stream",
          "text": [
            "[jovian] Detected Colab notebook...\u001b[0m\n",
            "[jovian] Please enter your API key ( from https://jovian.ai/ ):\u001b[0m\n",
            "API KEY: ··········\n",
            "[jovian] Uploading colab notebook to Jovian...\u001b[0m\n",
            "[jovian] Capturing environment..\u001b[0m\n",
            "[jovian] Committed successfully! https://jovian.ai/kartikjchourasiya001/numpy-array-operations\u001b[0m\n"
          ],
          "name": "stdout"
        },
        {
          "output_type": "execute_result",
          "data": {
            "application/vnd.google.colaboratory.intrinsic+json": {
              "type": "string"
            },
            "text/plain": [
              "'https://jovian.ai/kartikjchourasiya001/numpy-array-operations'"
            ]
          },
          "metadata": {
            "tags": []
          },
          "execution_count": 4
        }
      ]
    },
    {
      "cell_type": "markdown",
      "metadata": {
        "id": "bjJKWfFuxE8k"
      },
      "source": [
        "Let's begin by importing Numpy and listing out the functions covered in this notebook."
      ]
    },
    {
      "cell_type": "code",
      "metadata": {
        "id": "xbF_9xaLxE8l"
      },
      "source": [
        "import numpy.matlib \n",
        "import numpy as np"
      ],
      "execution_count": 8,
      "outputs": []
    },
    {
      "cell_type": "code",
      "metadata": {
        "id": "67i1C_nlxE8n"
      },
      "source": [
        "# List of functions explained \n",
        "function1 = np.matlib.empty\n",
        "function2 = np.matlib.zeros, np.matlib.ones\n",
        "function3 = np.matlib.eye\n",
        "function4 = np.matlib.identity\n",
        "function5 = np.matlib.rand"
      ],
      "execution_count": null,
      "outputs": []
    },
    {
      "cell_type": "markdown",
      "metadata": {
        "id": "39KgpE7LxE8q"
      },
      "source": [
        "## Function 1 - np.matlib.empty\n",
        "\n",
        "The matlib.empty() function returns a new matrix without initializing the entries.\n",
        "\n",
        "- numpy.matlib.empty(shape, dtype, order)"
      ]
    },
    {
      "cell_type": "code",
      "metadata": {
        "id": "vvJb4VtDxE8r",
        "outputId": "f7b444a0-5efd-4d95-ad7e-5fbfc83cd394",
        "colab": {
          "base_uri": "https://localhost:8080/",
          "height": 155
        }
      },
      "source": [
        "# Example 1 - working (change this)\n",
        "arr1 = np.matlib.empty((2,2)) \n",
        "\n",
        "arr2 = np.matlib.empty((3,2), dtype = str) \n",
        "\n",
        "print('arr 1 :\\n {}\\n'.format(arr1))\n",
        "print('arr 2 :\\n {}'.format(arr2))"
      ],
      "execution_count": 34,
      "outputs": [
        {
          "output_type": "stream",
          "text": [
            "arr 1 :\n",
            " [[1. 1.]\n",
            " [1. 1.]]\n",
            "\n",
            "arr 2 :\n",
            " [['' '']\n",
            " ['' '']\n",
            " ['' '']]\n"
          ],
          "name": "stdout"
        }
      ]
    },
    {
      "cell_type": "markdown",
      "metadata": {
        "id": "G4D2UMRPxE8t"
      },
      "source": [
        "arr1 is filled with random data and the arr2 is empty str matrix. "
      ]
    },
    {
      "cell_type": "code",
      "metadata": {
        "id": "N0iopesxxE8u",
        "outputId": "f59f108d-53b1-4f64-da60-3d316bb91770",
        "colab": {
          "base_uri": "https://localhost:8080/",
          "height": 52
        }
      },
      "source": [
        "# Example 2 - working\n",
        "arr1 = np.matlib.empty((2,2)) \n",
        "\n",
        "arr2 = np.matlib.empty((3,2), dtype = str) \n",
        "\n",
        "print('arr1 : {}'.format(arr1.dtype))\n",
        "print('arr2 : {}'.format(arr2.dtype))"
      ],
      "execution_count": 22,
      "outputs": [
        {
          "output_type": "stream",
          "text": [
            "arr1 : float64\n",
            "arr2 : <U0\n"
          ],
          "name": "stdout"
        }
      ]
    },
    {
      "cell_type": "markdown",
      "metadata": {
        "id": "qbfIYLzCxE8v"
      },
      "source": [
        "data type of the arrays  ----- U - Unicode Strings"
      ]
    },
    {
      "cell_type": "code",
      "metadata": {
        "id": "Y5qgShXZxE8w",
        "outputId": "d9b63ee5-29b7-4ac6-b9ff-ecf21d1726e3",
        "colab": {
          "base_uri": "https://localhost:8080/",
          "height": 253
        }
      },
      "source": [
        "# Example 3 - breaking (to illustrate when it breaks)\n",
        "arr2 = np.matlib.empty((3,2), dtype = str) \n",
        "\n",
        "print('arr2 : {}'.format(arr2))\n",
        "\n",
        "arr1 = np.matlib.empty() "
      ],
      "execution_count": 28,
      "outputs": [
        {
          "output_type": "stream",
          "text": [
            "arr2 : [['' '']\n",
            " ['' '']\n",
            " ['' '']]\n"
          ],
          "name": "stdout"
        },
        {
          "output_type": "error",
          "ename": "TypeError",
          "evalue": "ignored",
          "traceback": [
            "\u001b[0;31m---------------------------------------------------------------------------\u001b[0m",
            "\u001b[0;31mTypeError\u001b[0m                                 Traceback (most recent call last)",
            "\u001b[0;32m<ipython-input-28-63278e25887c>\u001b[0m in \u001b[0;36m<module>\u001b[0;34m()\u001b[0m\n\u001b[1;32m      4\u001b[0m \u001b[0mprint\u001b[0m\u001b[0;34m(\u001b[0m\u001b[0;34m'arr2 : {}'\u001b[0m\u001b[0;34m.\u001b[0m\u001b[0mformat\u001b[0m\u001b[0;34m(\u001b[0m\u001b[0marr2\u001b[0m\u001b[0;34m)\u001b[0m\u001b[0;34m)\u001b[0m\u001b[0;34m\u001b[0m\u001b[0;34m\u001b[0m\u001b[0m\n\u001b[1;32m      5\u001b[0m \u001b[0;34m\u001b[0m\u001b[0m\n\u001b[0;32m----> 6\u001b[0;31m \u001b[0marr1\u001b[0m \u001b[0;34m=\u001b[0m \u001b[0mnp\u001b[0m\u001b[0;34m.\u001b[0m\u001b[0mmatlib\u001b[0m\u001b[0;34m.\u001b[0m\u001b[0mempty\u001b[0m\u001b[0;34m(\u001b[0m\u001b[0;34m)\u001b[0m\u001b[0;34m\u001b[0m\u001b[0;34m\u001b[0m\u001b[0m\n\u001b[0m",
            "\u001b[0;31mTypeError\u001b[0m: empty() missing 1 required positional argument: 'shape'"
          ]
        }
      ]
    },
    {
      "cell_type": "markdown",
      "metadata": {
        "id": "mNfHuEQbxE8y"
      },
      "source": [
        "Until and unless the parameters are passed there would be no errors "
      ]
    },
    {
      "cell_type": "markdown",
      "metadata": {
        "id": "tDdAwYKGxE8y"
      },
      "source": [
        "So this is how we initialize a empty matrix."
      ]
    },
    {
      "cell_type": "code",
      "metadata": {
        "id": "2rhCitbixE8z",
        "outputId": "9ac83db0-b929-478e-d078-33ef0ea1ba47",
        "colab": {
          "base_uri": "https://localhost:8080/",
          "height": 104
        }
      },
      "source": [
        "jovian.commit(project = 'numpy-array-operations')"
      ],
      "execution_count": 36,
      "outputs": [
        {
          "output_type": "stream",
          "text": [
            "[jovian] Detected Colab notebook...\u001b[0m\n",
            "[jovian] Uploading colab notebook to Jovian...\u001b[0m\n",
            "[jovian] Capturing environment..\u001b[0m\n",
            "[jovian] Committed successfully! https://jovian.ai/kartikjchourasiya001/numpy-array-operations\u001b[0m\n"
          ],
          "name": "stdout"
        },
        {
          "output_type": "execute_result",
          "data": {
            "application/vnd.google.colaboratory.intrinsic+json": {
              "type": "string"
            },
            "text/plain": [
              "'https://jovian.ai/kartikjchourasiya001/numpy-array-operations'"
            ]
          },
          "metadata": {
            "tags": []
          },
          "execution_count": 36
        }
      ]
    },
    {
      "cell_type": "markdown",
      "metadata": {
        "id": "7b-YA7lkxE83"
      },
      "source": [
        "## Function 2 - np.matlib.zeros, np.matlib.ones\n",
        "\n",
        "numpy.matlib.zeros()\n",
        "- This function returns the matrix filled with zeros.\n",
        "\n",
        "numpy.matlib.ones()\n",
        "- This function returns the matrix filled with 1s."
      ]
    },
    {
      "cell_type": "code",
      "metadata": {
        "id": "_Yc4r_xPxE83",
        "outputId": "8e156814-3e15-460e-d375-e224f8a0b9af",
        "colab": {
          "base_uri": "https://localhost:8080/",
          "height": 155
        }
      },
      "source": [
        "# Example 1 - working\n",
        "arr0 = np.matlib.zeros((2,2)) \n",
        "\n",
        "arr1 = np.matlib.ones((2,2))\n",
        "\n",
        "print('Matrix of zeros :\\n {}\\n'.format(arr0))\n",
        "print('Matrix of ones :\\n {}\\n'.format(arr1))"
      ],
      "execution_count": 37,
      "outputs": [
        {
          "output_type": "stream",
          "text": [
            "Matrix of zeros :\n",
            " [[0. 0.]\n",
            " [0. 0.]]\n",
            "\n",
            "Matrix of ones :\n",
            " [[1. 1.]\n",
            " [1. 1.]]\n",
            "\n"
          ],
          "name": "stdout"
        }
      ]
    },
    {
      "cell_type": "markdown",
      "metadata": {
        "id": "kGk9IhwTxE85"
      },
      "source": [
        "Create matrix filled with ones and zeros"
      ]
    },
    {
      "cell_type": "code",
      "metadata": {
        "id": "QZjuI6hJxE85",
        "outputId": "3058f210-bf1b-48bd-8a0f-3cbfa5382fe1",
        "colab": {
          "base_uri": "https://localhost:8080/",
          "height": 121
        }
      },
      "source": [
        "# Example 2 - working\n",
        "arr0 = np.matlib.zeros((2,2)) \n",
        "\n",
        "arr1 = np.matlib.ones((2,2))\n",
        "\n",
        "print('shape of zeros matrix :\\n {}\\n'.format(arr0.shape))\n",
        "print('shape of ones matrix :\\n {}\\n'.format(arr1.shape))"
      ],
      "execution_count": 39,
      "outputs": [
        {
          "output_type": "stream",
          "text": [
            "shape of zeros matrix :\n",
            " (2, 2)\n",
            "\n",
            "shape of ones matrix :\n",
            " (2, 2)\n",
            "\n"
          ],
          "name": "stdout"
        }
      ]
    },
    {
      "cell_type": "markdown",
      "metadata": {
        "id": "ikINH8QCxE87"
      },
      "source": [
        "Shape of matrix"
      ]
    },
    {
      "cell_type": "code",
      "metadata": {
        "id": "sDR5W0SqxE88",
        "outputId": "d234dfe5-2135-4404-9399-6a1cd79c91b8",
        "colab": {
          "base_uri": "https://localhost:8080/",
          "height": 287
        }
      },
      "source": [
        "# Example 3 - breaking (to illustrate when it breaks)\n",
        "arr0 = np.matlib.zeros((2,2)) \n",
        "print('Matrix of zeros :\\n {}\\n'.format(arr0))\n",
        "\n",
        "arr1 = np.matlib.ones()\n",
        "print('Matrix of ones :\\n {}\\n'.format(arr1))"
      ],
      "execution_count": 40,
      "outputs": [
        {
          "output_type": "stream",
          "text": [
            "Matrix of zeros :\n",
            " [[0. 0.]\n",
            " [0. 0.]]\n",
            "\n"
          ],
          "name": "stdout"
        },
        {
          "output_type": "error",
          "ename": "TypeError",
          "evalue": "ignored",
          "traceback": [
            "\u001b[0;31m---------------------------------------------------------------------------\u001b[0m",
            "\u001b[0;31mTypeError\u001b[0m                                 Traceback (most recent call last)",
            "\u001b[0;32m<ipython-input-40-eea98ad529d0>\u001b[0m in \u001b[0;36m<module>\u001b[0;34m()\u001b[0m\n\u001b[1;32m      3\u001b[0m \u001b[0mprint\u001b[0m\u001b[0;34m(\u001b[0m\u001b[0;34m'Matrix of zeros :\\n {}\\n'\u001b[0m\u001b[0;34m.\u001b[0m\u001b[0mformat\u001b[0m\u001b[0;34m(\u001b[0m\u001b[0marr0\u001b[0m\u001b[0;34m)\u001b[0m\u001b[0;34m)\u001b[0m\u001b[0;34m\u001b[0m\u001b[0;34m\u001b[0m\u001b[0m\n\u001b[1;32m      4\u001b[0m \u001b[0;34m\u001b[0m\u001b[0m\n\u001b[0;32m----> 5\u001b[0;31m \u001b[0marr1\u001b[0m \u001b[0;34m=\u001b[0m \u001b[0mnp\u001b[0m\u001b[0;34m.\u001b[0m\u001b[0mmatlib\u001b[0m\u001b[0;34m.\u001b[0m\u001b[0mones\u001b[0m\u001b[0;34m(\u001b[0m\u001b[0;34m)\u001b[0m\u001b[0;34m\u001b[0m\u001b[0;34m\u001b[0m\u001b[0m\n\u001b[0m\u001b[1;32m      6\u001b[0m \u001b[0mprint\u001b[0m\u001b[0;34m(\u001b[0m\u001b[0;34m'Matrix of ones :\\n {}\\n'\u001b[0m\u001b[0;34m.\u001b[0m\u001b[0mformat\u001b[0m\u001b[0;34m(\u001b[0m\u001b[0marr1\u001b[0m\u001b[0;34m)\u001b[0m\u001b[0;34m)\u001b[0m\u001b[0;34m\u001b[0m\u001b[0;34m\u001b[0m\u001b[0m\n",
            "\u001b[0;31mTypeError\u001b[0m: ones() missing 1 required positional argument: 'shape'"
          ]
        }
      ]
    },
    {
      "cell_type": "markdown",
      "metadata": {
        "id": "FfzTdqv4xE8-"
      },
      "source": [
        "Until and unless the parameters are passed there would be no errors "
      ]
    },
    {
      "cell_type": "markdown",
      "metadata": {
        "id": "umJgrJraxE8-"
      },
      "source": [
        "This is how we initialize a zeros and ones matrix"
      ]
    },
    {
      "cell_type": "code",
      "metadata": {
        "id": "Kx71ZPCoxE8_",
        "outputId": "b37fe102-2eda-43ec-9299-03b48373b09b",
        "colab": {
          "base_uri": "https://localhost:8080/",
          "height": 104
        }
      },
      "source": [
        "jovian.commit(project = 'numpy-array-operations')"
      ],
      "execution_count": 42,
      "outputs": [
        {
          "output_type": "stream",
          "text": [
            "[jovian] Detected Colab notebook...\u001b[0m\n",
            "[jovian] Uploading colab notebook to Jovian...\u001b[0m\n",
            "[jovian] Capturing environment..\u001b[0m\n",
            "[jovian] Committed successfully! https://jovian.ai/kartikjchourasiya001/numpy-array-operations\u001b[0m\n"
          ],
          "name": "stdout"
        },
        {
          "output_type": "execute_result",
          "data": {
            "application/vnd.google.colaboratory.intrinsic+json": {
              "type": "string"
            },
            "text/plain": [
              "'https://jovian.ai/kartikjchourasiya001/numpy-array-operations'"
            ]
          },
          "metadata": {
            "tags": []
          },
          "execution_count": 42
        }
      ]
    },
    {
      "cell_type": "markdown",
      "metadata": {
        "id": "IiPh0p9TxE9A"
      },
      "source": [
        "## Function 3 - np.matlib.eye\n",
        "\n",
        "This function returns a matrix with 1 along the diagonal elements and the zeros elsewhere.\n",
        "- numpy.matlib.eye(n, M,k, dtype)\n",
        "\n",
        "n int\n",
        "> Number of rows in the output.\n",
        "\n",
        "M int, optional\n",
        "> Number of columns in the output, defaults to n.\n",
        "\n",
        "k int, optional\n",
        "> Index of the diagonal: 0 refers to the main diagonal, a positive value refers to an upper diagonal, and a negative value to a lower diagonal."
      ]
    },
    {
      "cell_type": "code",
      "metadata": {
        "id": "vPKzBQC9xE9B",
        "outputId": "e6c9b3d9-693a-4aac-d383-c8df2a346a8a",
        "colab": {
          "base_uri": "https://localhost:8080/",
          "height": 69
        }
      },
      "source": [
        "# Example 1 - working\n",
        "arr = np.matlib.eye(n = 3, M = 4, k = 0, dtype = int)\n",
        "\n",
        "print(arr)"
      ],
      "execution_count": 47,
      "outputs": [
        {
          "output_type": "stream",
          "text": [
            "[[1 0 0 0]\n",
            " [0 1 0 0]\n",
            " [0 0 1 0]]\n"
          ],
          "name": "stdout"
        }
      ]
    },
    {
      "cell_type": "markdown",
      "metadata": {
        "id": "0ygS5b2wxE9D"
      },
      "source": [
        "Diagonal matrix with main diagonal elements"
      ]
    },
    {
      "cell_type": "code",
      "metadata": {
        "id": "iCo4n1XhxE9E",
        "outputId": "3185b635-4011-4494-fa00-4cbbc8bc0365",
        "colab": {
          "base_uri": "https://localhost:8080/",
          "height": 190
        }
      },
      "source": [
        "# Example 2 - working\n",
        "arr1 = np.matlib.eye(n = 3, M = 4, k = -1, dtype = int)\n",
        "arr2 = np.matlib.eye(n = 3, M = 4, k = 1, dtype = int) \n",
        "\n",
        "print('lower diagonal :\\n {}\\n'.format(arr1))\n",
        "print('upper diagonal :\\n {}\\n'.format(arr2))"
      ],
      "execution_count": 49,
      "outputs": [
        {
          "output_type": "stream",
          "text": [
            "lower diagonal :\n",
            " [[0 0 0 0]\n",
            " [1 0 0 0]\n",
            " [0 1 0 0]]\n",
            "\n",
            "upper diagonal :\n",
            " [[0 1 0 0]\n",
            " [0 0 1 0]\n",
            " [0 0 0 1]]\n",
            "\n"
          ],
          "name": "stdout"
        }
      ]
    },
    {
      "cell_type": "markdown",
      "metadata": {
        "id": "1U-AsXbWxE9G"
      },
      "source": [
        "a positive value of k refers to an upper diagonal, and a negative value of k to a lower diagonal."
      ]
    },
    {
      "cell_type": "code",
      "metadata": {
        "id": "PiiDe69kxE9G",
        "outputId": "faaa3a8a-5d61-40a5-9a7f-cc6f9bc30283",
        "colab": {
          "base_uri": "https://localhost:8080/",
          "height": 218
        }
      },
      "source": [
        "# Example 3 - breaking (to illustrate when it breaks)\n",
        "arr = np.matlib.eye( M = 4, k = 0, dtype = int)\n",
        "\n",
        "print(arr)"
      ],
      "execution_count": 50,
      "outputs": [
        {
          "output_type": "error",
          "ename": "TypeError",
          "evalue": "ignored",
          "traceback": [
            "\u001b[0;31m---------------------------------------------------------------------------\u001b[0m",
            "\u001b[0;31mTypeError\u001b[0m                                 Traceback (most recent call last)",
            "\u001b[0;32m<ipython-input-50-4b4379ac887c>\u001b[0m in \u001b[0;36m<module>\u001b[0;34m()\u001b[0m\n\u001b[1;32m      1\u001b[0m \u001b[0;31m# Example 3 - breaking (to illustrate when it breaks)\u001b[0m\u001b[0;34m\u001b[0m\u001b[0;34m\u001b[0m\u001b[0;34m\u001b[0m\u001b[0m\n\u001b[0;32m----> 2\u001b[0;31m \u001b[0marr\u001b[0m \u001b[0;34m=\u001b[0m \u001b[0mnp\u001b[0m\u001b[0;34m.\u001b[0m\u001b[0mmatlib\u001b[0m\u001b[0;34m.\u001b[0m\u001b[0meye\u001b[0m\u001b[0;34m(\u001b[0m \u001b[0mM\u001b[0m \u001b[0;34m=\u001b[0m \u001b[0;36m4\u001b[0m\u001b[0;34m,\u001b[0m \u001b[0mk\u001b[0m \u001b[0;34m=\u001b[0m \u001b[0;36m0\u001b[0m\u001b[0;34m,\u001b[0m \u001b[0mdtype\u001b[0m \u001b[0;34m=\u001b[0m \u001b[0mint\u001b[0m\u001b[0;34m)\u001b[0m\u001b[0;34m\u001b[0m\u001b[0;34m\u001b[0m\u001b[0m\n\u001b[0m\u001b[1;32m      3\u001b[0m \u001b[0;34m\u001b[0m\u001b[0m\n\u001b[1;32m      4\u001b[0m \u001b[0mprint\u001b[0m\u001b[0;34m(\u001b[0m\u001b[0marr\u001b[0m\u001b[0;34m)\u001b[0m\u001b[0;34m\u001b[0m\u001b[0;34m\u001b[0m\u001b[0m\n",
            "\u001b[0;31mTypeError\u001b[0m: eye() missing 1 required positional argument: 'n'"
          ]
        }
      ]
    },
    {
      "cell_type": "markdown",
      "metadata": {
        "id": "GALhEY5LxE9I"
      },
      "source": [
        "Until and unless the parameters are passed there would be no errors "
      ]
    },
    {
      "cell_type": "markdown",
      "metadata": {
        "id": "wtLCj1zMxE9J"
      },
      "source": [
        "Here's how we initialize a diagonal matrix"
      ]
    },
    {
      "cell_type": "code",
      "metadata": {
        "id": "gfX_UIwUxE9J",
        "outputId": "acfee5b8-5228-4560-ed7a-e71c222688a4",
        "colab": {
          "base_uri": "https://localhost:8080/",
          "height": 104
        }
      },
      "source": [
        "jovian.commit(project = 'numpy-array-operations')"
      ],
      "execution_count": 51,
      "outputs": [
        {
          "output_type": "stream",
          "text": [
            "[jovian] Detected Colab notebook...\u001b[0m\n",
            "[jovian] Uploading colab notebook to Jovian...\u001b[0m\n",
            "[jovian] Capturing environment..\u001b[0m\n",
            "[jovian] Committed successfully! https://jovian.ai/kartikjchourasiya001/numpy-array-operations\u001b[0m\n"
          ],
          "name": "stdout"
        },
        {
          "output_type": "execute_result",
          "data": {
            "application/vnd.google.colaboratory.intrinsic+json": {
              "type": "string"
            },
            "text/plain": [
              "'https://jovian.ai/kartikjchourasiya001/numpy-array-operations'"
            ]
          },
          "metadata": {
            "tags": []
          },
          "execution_count": 51
        }
      ]
    },
    {
      "cell_type": "markdown",
      "metadata": {
        "id": "RzlXspQTxE9W"
      },
      "source": [
        "## Function 4 - np.matlib.identity\n",
        "\n",
        "The numpy.matlib.identity() function returns the Identity matrix of the given size.\n",
        "- np.matlib.identity(n, dtype=None)"
      ]
    },
    {
      "cell_type": "code",
      "metadata": {
        "id": "b9_KG6P1xE9W",
        "outputId": "4345d1ff-ffbb-4067-e2aa-912d3b85c90b",
        "colab": {
          "base_uri": "https://localhost:8080/",
          "height": 104
        }
      },
      "source": [
        "# Example 1 - working\n",
        "arr = np.matlib.identity(5, dtype = float)\n",
        "\n",
        "print(arr)"
      ],
      "execution_count": 52,
      "outputs": [
        {
          "output_type": "stream",
          "text": [
            "[[1. 0. 0. 0. 0.]\n",
            " [0. 1. 0. 0. 0.]\n",
            " [0. 0. 1. 0. 0.]\n",
            " [0. 0. 0. 1. 0.]\n",
            " [0. 0. 0. 0. 1.]]\n"
          ],
          "name": "stdout"
        }
      ]
    },
    {
      "cell_type": "markdown",
      "metadata": {
        "id": "DuKf-ifwxE9Y"
      },
      "source": [
        "Identity matrix"
      ]
    },
    {
      "cell_type": "code",
      "metadata": {
        "id": "ELYwKXBtxE9Y",
        "outputId": "3e629779-a8f0-4ba7-ebf0-a2355493f961",
        "colab": {
          "base_uri": "https://localhost:8080/",
          "height": 34
        }
      },
      "source": [
        "# Example 2 - working\n",
        "arr = np.matlib.identity(5, dtype = int)\n",
        "\n",
        "print('Sum of all elements of an matrix : {}'.format(np.sum(arr)))"
      ],
      "execution_count": 55,
      "outputs": [
        {
          "output_type": "stream",
          "text": [
            "Sum of all elements of an matrix : 5\n"
          ],
          "name": "stdout"
        }
      ]
    },
    {
      "cell_type": "markdown",
      "metadata": {
        "id": "KU_9jL2hxE9a"
      },
      "source": [
        "Sum of all elements of an identity matrix == n"
      ]
    },
    {
      "cell_type": "code",
      "metadata": {
        "id": "XUj3s2A-xE9b",
        "outputId": "cbb6d8dd-0eb8-438f-c3fe-a780bbc11f0e",
        "colab": {
          "base_uri": "https://localhost:8080/",
          "height": 218
        }
      },
      "source": [
        "# Example 3 - breaking (to illustrate when it breaks)\n",
        "arr = np.matlib.identity( dtype = float)\n",
        "\n",
        "print(arr)"
      ],
      "execution_count": 56,
      "outputs": [
        {
          "output_type": "error",
          "ename": "TypeError",
          "evalue": "ignored",
          "traceback": [
            "\u001b[0;31m---------------------------------------------------------------------------\u001b[0m",
            "\u001b[0;31mTypeError\u001b[0m                                 Traceback (most recent call last)",
            "\u001b[0;32m<ipython-input-56-257451f47fed>\u001b[0m in \u001b[0;36m<module>\u001b[0;34m()\u001b[0m\n\u001b[1;32m      1\u001b[0m \u001b[0;31m# Example 3 - breaking (to illustrate when it breaks)\u001b[0m\u001b[0;34m\u001b[0m\u001b[0;34m\u001b[0m\u001b[0;34m\u001b[0m\u001b[0m\n\u001b[0;32m----> 2\u001b[0;31m \u001b[0marr\u001b[0m \u001b[0;34m=\u001b[0m \u001b[0mnp\u001b[0m\u001b[0;34m.\u001b[0m\u001b[0mmatlib\u001b[0m\u001b[0;34m.\u001b[0m\u001b[0midentity\u001b[0m\u001b[0;34m(\u001b[0m \u001b[0mdtype\u001b[0m \u001b[0;34m=\u001b[0m \u001b[0mfloat\u001b[0m\u001b[0;34m)\u001b[0m\u001b[0;34m\u001b[0m\u001b[0;34m\u001b[0m\u001b[0m\n\u001b[0m\u001b[1;32m      3\u001b[0m \u001b[0;34m\u001b[0m\u001b[0m\n\u001b[1;32m      4\u001b[0m \u001b[0mprint\u001b[0m\u001b[0;34m(\u001b[0m\u001b[0marr\u001b[0m\u001b[0;34m)\u001b[0m\u001b[0;34m\u001b[0m\u001b[0;34m\u001b[0m\u001b[0m\n",
            "\u001b[0;31mTypeError\u001b[0m: identity() missing 1 required positional argument: 'n'"
          ]
        }
      ]
    },
    {
      "cell_type": "markdown",
      "metadata": {
        "id": "tkNu3FQLxE9c"
      },
      "source": [
        "Until and unless the parameters are passed there would be no errors "
      ]
    },
    {
      "cell_type": "markdown",
      "metadata": {
        "id": "laddqEN7xE9d"
      },
      "source": [
        "Here's how we create a identity matrix"
      ]
    },
    {
      "cell_type": "code",
      "metadata": {
        "id": "wwFMkWoWxE9d",
        "outputId": "fd70943c-d026-4625-b454-4008458d3767",
        "colab": {
          "base_uri": "https://localhost:8080/",
          "height": 104
        }
      },
      "source": [
        "jovian.commit(project = 'numpy-array-operations')"
      ],
      "execution_count": 57,
      "outputs": [
        {
          "output_type": "stream",
          "text": [
            "[jovian] Detected Colab notebook...\u001b[0m\n",
            "[jovian] Uploading colab notebook to Jovian...\u001b[0m\n",
            "[jovian] Capturing environment..\u001b[0m\n",
            "[jovian] Committed successfully! https://jovian.ai/kartikjchourasiya001/numpy-array-operations\u001b[0m\n"
          ],
          "name": "stdout"
        },
        {
          "output_type": "execute_result",
          "data": {
            "application/vnd.google.colaboratory.intrinsic+json": {
              "type": "string"
            },
            "text/plain": [
              "'https://jovian.ai/kartikjchourasiya001/numpy-array-operations'"
            ]
          },
          "metadata": {
            "tags": []
          },
          "execution_count": 57
        }
      ]
    },
    {
      "cell_type": "markdown",
      "metadata": {
        "id": "sLgKrxc4xE9f"
      },
      "source": [
        "## Function 5 - np.matlib.rand\n",
        "\n",
        "The numpy.matlib.rand() function returns a matrix of the given size filled with random values."
      ]
    },
    {
      "cell_type": "code",
      "metadata": {
        "id": "IJXplNtYxE9g",
        "outputId": "ac25bef1-7612-4a23-ed2f-4638d41c41d3",
        "colab": {
          "base_uri": "https://localhost:8080/",
          "height": 69
        }
      },
      "source": [
        "# Example 1 - working\n",
        "arr =np.matlib.rand(3,3) \n",
        "\n",
        "print(arr)"
      ],
      "execution_count": 58,
      "outputs": [
        {
          "output_type": "stream",
          "text": [
            "[[0.37921614 0.79637346 0.11623672]\n",
            " [0.90454757 0.50637468 0.08601273]\n",
            " [0.60560438 0.80867143 0.62241797]]\n"
          ],
          "name": "stdout"
        }
      ]
    },
    {
      "cell_type": "markdown",
      "metadata": {
        "id": "0FTz8N_exE9i"
      },
      "source": [
        "matrix filled with random elements"
      ]
    },
    {
      "cell_type": "code",
      "metadata": {
        "id": "BPddSPvSxE9i",
        "outputId": "7dd6598e-1907-4afa-db11-081e39534da7",
        "colab": {
          "base_uri": "https://localhost:8080/",
          "height": 34
        }
      },
      "source": [
        "# Example 2 - working\n",
        "arr =np.matlib.rand(3,3) \n",
        "\n",
        "print('Shape of arr : {}'.format(arr.shape))"
      ],
      "execution_count": 61,
      "outputs": [
        {
          "output_type": "stream",
          "text": [
            "Shape of arr : (3, 3)\n"
          ],
          "name": "stdout"
        }
      ]
    },
    {
      "cell_type": "markdown",
      "metadata": {
        "id": "4wcmgVPwxE9k"
      },
      "source": [
        "Shape of matrix"
      ]
    },
    {
      "cell_type": "code",
      "metadata": {
        "id": "OA2DdLe-xE9k",
        "outputId": "ff10c53d-c1b3-4140-d829-e4da11a64440",
        "colab": {
          "base_uri": "https://localhost:8080/",
          "height": 339
        }
      },
      "source": [
        "# Example 3 - breaking (to illustrate when it breaks)\n",
        "arr =np.matlib.rand() \n",
        "\n",
        "print(arr)"
      ],
      "execution_count": 62,
      "outputs": [
        {
          "output_type": "error",
          "ename": "IndexError",
          "evalue": "ignored",
          "traceback": [
            "\u001b[0;31m---------------------------------------------------------------------------\u001b[0m",
            "\u001b[0;31mIndexError\u001b[0m                                Traceback (most recent call last)",
            "\u001b[0;32m<ipython-input-62-4d8b57271d2c>\u001b[0m in \u001b[0;36m<module>\u001b[0;34m()\u001b[0m\n\u001b[1;32m      1\u001b[0m \u001b[0;31m# Example 3 - breaking (to illustrate when it breaks)\u001b[0m\u001b[0;34m\u001b[0m\u001b[0;34m\u001b[0m\u001b[0;34m\u001b[0m\u001b[0m\n\u001b[0;32m----> 2\u001b[0;31m \u001b[0marr\u001b[0m \u001b[0;34m=\u001b[0m\u001b[0mnp\u001b[0m\u001b[0;34m.\u001b[0m\u001b[0mmatlib\u001b[0m\u001b[0;34m.\u001b[0m\u001b[0mrand\u001b[0m\u001b[0;34m(\u001b[0m\u001b[0;34m)\u001b[0m\u001b[0;34m\u001b[0m\u001b[0;34m\u001b[0m\u001b[0m\n\u001b[0m\u001b[1;32m      3\u001b[0m \u001b[0;34m\u001b[0m\u001b[0m\n\u001b[1;32m      4\u001b[0m \u001b[0mprint\u001b[0m\u001b[0;34m(\u001b[0m\u001b[0marr\u001b[0m\u001b[0;34m)\u001b[0m\u001b[0;34m\u001b[0m\u001b[0;34m\u001b[0m\u001b[0m\n",
            "\u001b[0;32m/usr/local/lib/python3.6/dist-packages/numpy/matlib.py\u001b[0m in \u001b[0;36mrand\u001b[0;34m(*args)\u001b[0m\n\u001b[1;32m    260\u001b[0m \u001b[0;34m\u001b[0m\u001b[0m\n\u001b[1;32m    261\u001b[0m     \"\"\"\n\u001b[0;32m--> 262\u001b[0;31m     \u001b[0;32mif\u001b[0m \u001b[0misinstance\u001b[0m\u001b[0;34m(\u001b[0m\u001b[0margs\u001b[0m\u001b[0;34m[\u001b[0m\u001b[0;36m0\u001b[0m\u001b[0;34m]\u001b[0m\u001b[0;34m,\u001b[0m \u001b[0mtuple\u001b[0m\u001b[0;34m)\u001b[0m\u001b[0;34m:\u001b[0m\u001b[0;34m\u001b[0m\u001b[0;34m\u001b[0m\u001b[0m\n\u001b[0m\u001b[1;32m    263\u001b[0m         \u001b[0margs\u001b[0m \u001b[0;34m=\u001b[0m \u001b[0margs\u001b[0m\u001b[0;34m[\u001b[0m\u001b[0;36m0\u001b[0m\u001b[0;34m]\u001b[0m\u001b[0;34m\u001b[0m\u001b[0;34m\u001b[0m\u001b[0m\n\u001b[1;32m    264\u001b[0m     \u001b[0;32mreturn\u001b[0m \u001b[0masmatrix\u001b[0m\u001b[0;34m(\u001b[0m\u001b[0mnp\u001b[0m\u001b[0;34m.\u001b[0m\u001b[0mrandom\u001b[0m\u001b[0;34m.\u001b[0m\u001b[0mrand\u001b[0m\u001b[0;34m(\u001b[0m\u001b[0;34m*\u001b[0m\u001b[0margs\u001b[0m\u001b[0;34m)\u001b[0m\u001b[0;34m)\u001b[0m\u001b[0;34m\u001b[0m\u001b[0;34m\u001b[0m\u001b[0m\n",
            "\u001b[0;31mIndexError\u001b[0m: tuple index out of range"
          ]
        }
      ]
    },
    {
      "cell_type": "markdown",
      "metadata": {
        "id": "-AJqRNycxE9n"
      },
      "source": [
        "Until and unless the parameters are passed there would be no errors "
      ]
    },
    {
      "cell_type": "markdown",
      "metadata": {
        "id": "twfHa5AExE9n"
      },
      "source": [
        "Here's how we initialize a matrix with random elements"
      ]
    },
    {
      "cell_type": "code",
      "metadata": {
        "id": "0Ngh0-UoxE9o",
        "outputId": "5835ad9e-54f2-438f-dcb7-44ea9e8c3a5e",
        "colab": {
          "base_uri": "https://localhost:8080/",
          "height": 104
        }
      },
      "source": [
        "jovian.commit(project = 'numpy-array-operations')"
      ],
      "execution_count": 63,
      "outputs": [
        {
          "output_type": "stream",
          "text": [
            "[jovian] Detected Colab notebook...\u001b[0m\n",
            "[jovian] Uploading colab notebook to Jovian...\u001b[0m\n",
            "[jovian] Capturing environment..\u001b[0m\n",
            "[jovian] Committed successfully! https://jovian.ai/kartikjchourasiya001/numpy-array-operations\u001b[0m\n"
          ],
          "name": "stdout"
        },
        {
          "output_type": "execute_result",
          "data": {
            "application/vnd.google.colaboratory.intrinsic+json": {
              "type": "string"
            },
            "text/plain": [
              "'https://jovian.ai/kartikjchourasiya001/numpy-array-operations'"
            ]
          },
          "metadata": {
            "tags": []
          },
          "execution_count": 63
        }
      ]
    },
    {
      "cell_type": "markdown",
      "metadata": {
        "id": "uh-A-JOcxE9q"
      },
      "source": [
        "## Conclusion\n",
        "\n",
        "Initialize arrays with ease with numpy.matlib library"
      ]
    },
    {
      "cell_type": "markdown",
      "metadata": {
        "id": "NP3dkxXgxE9q"
      },
      "source": [
        "## Reference Links\n",
        "Provide links to your references and other interesting articles about Numpy arrays:\n",
        "* Numpy official tutorial : https://numpy.org/doc/stable/user/quickstart.html\n",
        "* ..."
      ]
    },
    {
      "cell_type": "code",
      "metadata": {
        "id": "msvXUL0mxE9r",
        "outputId": "786d2357-3c0f-4e04-8d42-0b0381c7783b",
        "colab": {
          "base_uri": "https://localhost:8080/",
          "height": 104
        }
      },
      "source": [
        "jovian.commit(project = 'numpy-array-operations')"
      ],
      "execution_count": 65,
      "outputs": [
        {
          "output_type": "stream",
          "text": [
            "[jovian] Detected Colab notebook...\u001b[0m\n",
            "[jovian] Uploading colab notebook to Jovian...\u001b[0m\n",
            "[jovian] Capturing environment..\u001b[0m\n",
            "[jovian] Committed successfully! https://jovian.ai/kartikjchourasiya001/numpy-array-operations\u001b[0m\n"
          ],
          "name": "stdout"
        },
        {
          "output_type": "execute_result",
          "data": {
            "application/vnd.google.colaboratory.intrinsic+json": {
              "type": "string"
            },
            "text/plain": [
              "'https://jovian.ai/kartikjchourasiya001/numpy-array-operations'"
            ]
          },
          "metadata": {
            "tags": []
          },
          "execution_count": 65
        }
      ]
    },
    {
      "cell_type": "code",
      "metadata": {
        "id": "_VU7wyZvxE9s"
      },
      "source": [
        ""
      ],
      "execution_count": null,
      "outputs": []
    }
  ]
}