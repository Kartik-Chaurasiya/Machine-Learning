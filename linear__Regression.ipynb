{
  "nbformat": 4,
  "nbformat_minor": 0,
  "metadata": {
    "colab": {
      "name": "linear_ Regression.ipynb",
      "provenance": [],
      "authorship_tag": "ABX9TyOxVtqK6te7UuZ0EFcTWnuG",
      "include_colab_link": true
    },
    "kernelspec": {
      "name": "python3",
      "display_name": "Python 3"
    }
  },
  "cells": [
    {
      "cell_type": "markdown",
      "metadata": {
        "id": "view-in-github",
        "colab_type": "text"
      },
      "source": [
        "<a href=\"https://colab.research.google.com/github/Syntax-code/Machine-Learning/blob/master/linear__Regression.ipynb\" target=\"_parent\"><img src=\"https://colab.research.google.com/assets/colab-badge.svg\" alt=\"Open In Colab\"/></a>"
      ]
    },
    {
      "cell_type": "code",
      "metadata": {
        "id": "WIQd3GwNVKVP",
        "colab_type": "code",
        "colab": {}
      },
      "source": [
        "import numpy as np\n",
        "import pandas as pd\n",
        "import matplotlib.pyplot as plt"
      ],
      "execution_count": 0,
      "outputs": []
    },
    {
      "cell_type": "code",
      "metadata": {
        "id": "AnD309G_V62r",
        "colab_type": "code",
        "colab": {}
      },
      "source": [
        "Celcius = np.random.randint(0,1000,100)"
      ],
      "execution_count": 0,
      "outputs": []
    },
    {
      "cell_type": "code",
      "metadata": {
        "id": "zJALdwQZWbqA",
        "colab_type": "code",
        "colab": {
          "base_uri": "https://localhost:8080/",
          "height": 118
        },
        "outputId": "4fca37c8-b864-4e62-f92e-78bacf1af011"
      },
      "source": [
        "print(Celcius)"
      ],
      "execution_count": 3,
      "outputs": [
        {
          "output_type": "stream",
          "text": [
            "[748 127 383 887 656 976 383  46 412 197 538 470 533 185 157 511 770  24\n",
            " 857  37 170  19 479 976 375 584  63 798 329 361 675 371  52  63 267 803\n",
            " 512 619 355 470 701 613 715 376 636 976 536 500 203 162 707 367 838  44\n",
            " 968 358 768 503 548 963 234  37 530  96 723 960 823 594 997 967 775 761\n",
            " 643 214 117 600 827 457 990 396 167 642 711 315 662 553 609  39 646 125\n",
            " 312 769 736 976 233 337 856 567 366 388]\n"
          ],
          "name": "stdout"
        }
      ]
    },
    {
      "cell_type": "code",
      "metadata": {
        "id": "wtZf4rM9WnMw",
        "colab_type": "code",
        "colab": {
          "base_uri": "https://localhost:8080/",
          "height": 54
        },
        "outputId": "2e3ce191-f2c9-46bd-bae7-104ea3cab105"
      },
      "source": [
        "faren = []\n",
        "for deg in Celcius:\n",
        "  faren.append((deg*9/5) +32)"
      ],
      "execution_count": 6,
      "outputs": [
        {
          "output_type": "stream",
          "text": [
            "[1378.4, 260.6, 721.4, 1628.6, 1212.8, 1788.8, 721.4, 114.8, 773.6, 386.6, 1000.4, 878.0, 991.4, 365.0, 314.6, 951.8, 1418.0, 75.2, 1574.6, 98.6, 338.0, 66.2, 894.2, 1788.8, 707.0, 1083.2, 145.4, 1468.4, 624.2, 681.8, 1247.0, 699.8, 125.6, 145.4, 512.6, 1477.4, 953.6, 1146.2, 671.0, 878.0, 1293.8, 1135.4, 1319.0, 708.8, 1176.8, 1788.8, 996.8, 932.0, 397.4, 323.6, 1304.6, 692.6, 1540.4, 111.2, 1774.4, 676.4, 1414.4, 937.4, 1018.4, 1765.4, 453.2, 98.6, 986.0, 204.8, 1333.4, 1760.0, 1513.4, 1101.2, 1826.6, 1772.6, 1427.0, 1401.8, 1189.4, 417.2, 242.6, 1112.0, 1520.6, 854.6, 1814.0, 744.8, 332.6, 1187.6, 1311.8, 599.0, 1223.6, 1027.4, 1128.2, 102.2, 1194.8, 257.0, 593.6, 1416.2, 1356.8, 1788.8, 451.4, 638.6, 1572.8, 1052.6, 690.8, 730.4]\n"
          ],
          "name": "stdout"
        }
      ]
    },
    {
      "cell_type": "code",
      "metadata": {
        "id": "Wqhv9jPdXza5",
        "colab_type": "code",
        "colab": {
          "base_uri": "https://localhost:8080/",
          "height": 54
        },
        "outputId": "c6d991b0-0168-4471-c61d-f5509bee4870"
      },
      "source": [
        "print(faren)"
      ],
      "execution_count": 7,
      "outputs": [
        {
          "output_type": "stream",
          "text": [
            "[1378.4, 260.6, 721.4, 1628.6, 1212.8, 1788.8, 721.4, 114.8, 773.6, 386.6, 1000.4, 878.0, 991.4, 365.0, 314.6, 951.8, 1418.0, 75.2, 1574.6, 98.6, 338.0, 66.2, 894.2, 1788.8, 707.0, 1083.2, 145.4, 1468.4, 624.2, 681.8, 1247.0, 699.8, 125.6, 145.4, 512.6, 1477.4, 953.6, 1146.2, 671.0, 878.0, 1293.8, 1135.4, 1319.0, 708.8, 1176.8, 1788.8, 996.8, 932.0, 397.4, 323.6, 1304.6, 692.6, 1540.4, 111.2, 1774.4, 676.4, 1414.4, 937.4, 1018.4, 1765.4, 453.2, 98.6, 986.0, 204.8, 1333.4, 1760.0, 1513.4, 1101.2, 1826.6, 1772.6, 1427.0, 1401.8, 1189.4, 417.2, 242.6, 1112.0, 1520.6, 854.6, 1814.0, 744.8, 332.6, 1187.6, 1311.8, 599.0, 1223.6, 1027.4, 1128.2, 102.2, 1194.8, 257.0, 593.6, 1416.2, 1356.8, 1788.8, 451.4, 638.6, 1572.8, 1052.6, 690.8, 730.4]\n"
          ],
          "name": "stdout"
        }
      ]
    },
    {
      "cell_type": "code",
      "metadata": {
        "id": "R871sdl3X31h",
        "colab_type": "code",
        "colab": {}
      },
      "source": [
        "data = pd.DataFrame()"
      ],
      "execution_count": 0,
      "outputs": []
    },
    {
      "cell_type": "code",
      "metadata": {
        "id": "8dt9OmMyX8TH",
        "colab_type": "code",
        "colab": {}
      },
      "source": [
        "data['Celcius'] = Celcius\n",
        "data[\"faren\"] = faren"
      ],
      "execution_count": 0,
      "outputs": []
    },
    {
      "cell_type": "code",
      "metadata": {
        "id": "VXy85-jQYSXf",
        "colab_type": "code",
        "colab": {
          "base_uri": "https://localhost:8080/",
          "height": 195
        },
        "outputId": "3afc008d-99c5-4dd3-b341-b3fc3a1d86b1"
      },
      "source": [
        "data.head()"
      ],
      "execution_count": 10,
      "outputs": [
        {
          "output_type": "execute_result",
          "data": {
            "text/html": [
              "<div>\n",
              "<style scoped>\n",
              "    .dataframe tbody tr th:only-of-type {\n",
              "        vertical-align: middle;\n",
              "    }\n",
              "\n",
              "    .dataframe tbody tr th {\n",
              "        vertical-align: top;\n",
              "    }\n",
              "\n",
              "    .dataframe thead th {\n",
              "        text-align: right;\n",
              "    }\n",
              "</style>\n",
              "<table border=\"1\" class=\"dataframe\">\n",
              "  <thead>\n",
              "    <tr style=\"text-align: right;\">\n",
              "      <th></th>\n",
              "      <th>Celcius</th>\n",
              "      <th>faren</th>\n",
              "    </tr>\n",
              "  </thead>\n",
              "  <tbody>\n",
              "    <tr>\n",
              "      <th>0</th>\n",
              "      <td>748</td>\n",
              "      <td>1378.4</td>\n",
              "    </tr>\n",
              "    <tr>\n",
              "      <th>1</th>\n",
              "      <td>127</td>\n",
              "      <td>260.6</td>\n",
              "    </tr>\n",
              "    <tr>\n",
              "      <th>2</th>\n",
              "      <td>383</td>\n",
              "      <td>721.4</td>\n",
              "    </tr>\n",
              "    <tr>\n",
              "      <th>3</th>\n",
              "      <td>887</td>\n",
              "      <td>1628.6</td>\n",
              "    </tr>\n",
              "    <tr>\n",
              "      <th>4</th>\n",
              "      <td>656</td>\n",
              "      <td>1212.8</td>\n",
              "    </tr>\n",
              "  </tbody>\n",
              "</table>\n",
              "</div>"
            ],
            "text/plain": [
              "   Celcius   faren\n",
              "0      748  1378.4\n",
              "1      127   260.6\n",
              "2      383   721.4\n",
              "3      887  1628.6\n",
              "4      656  1212.8"
            ]
          },
          "metadata": {
            "tags": []
          },
          "execution_count": 10
        }
      ]
    },
    {
      "cell_type": "code",
      "metadata": {
        "id": "3aaoEv1MYVK5",
        "colab_type": "code",
        "colab": {
          "base_uri": "https://localhost:8080/",
          "height": 35
        },
        "outputId": "d66471d3-9e4d-4aff-dc76-0d49df6fb070"
      },
      "source": [
        "data.shape"
      ],
      "execution_count": 11,
      "outputs": [
        {
          "output_type": "execute_result",
          "data": {
            "text/plain": [
              "(100, 2)"
            ]
          },
          "metadata": {
            "tags": []
          },
          "execution_count": 11
        }
      ]
    },
    {
      "cell_type": "code",
      "metadata": {
        "id": "vHseu5a4YYJo",
        "colab_type": "code",
        "colab": {
          "base_uri": "https://localhost:8080/",
          "height": 297
        },
        "outputId": "8ec18cc8-ebce-487f-9683-b959b6a38819"
      },
      "source": [
        "plt.plot(data['Celcius'], data['faren'])\n",
        "plt.xlabel('Celcius')\n",
        "plt.ylabel('faren')"
      ],
      "execution_count": 17,
      "outputs": [
        {
          "output_type": "execute_result",
          "data": {
            "text/plain": [
              "Text(0, 0.5, 'faren')"
            ]
          },
          "metadata": {
            "tags": []
          },
          "execution_count": 17
        },
        {
          "output_type": "display_data",
          "data": {
            "image/png": "[encoded data removed]",
            "text/plain": [
              "<Figure size 432x288 with 1 Axes>"
            ]
          },
          "metadata": {
            "tags": []
          }
        }
      ]
    },
    {
      "cell_type": "markdown",
      "metadata": {
        "id": "96L-iD_DbfO9",
        "colab_type": "text"
      },
      "source": [
        "Split train and test"
      ]
    },
    {
      "cell_type": "code",
      "metadata": {
        "id": "rA915nzHcD8M",
        "colab_type": "code",
        "colab": {}
      },
      "source": [
        "X = data['Celcius']\n",
        "Y = data['faren']"
      ],
      "execution_count": 0,
      "outputs": []
    },
    {
      "cell_type": "code",
      "metadata": {
        "id": "TIIwZGpybOJH",
        "colab_type": "code",
        "colab": {
          "base_uri": "https://localhost:8080/",
          "height": 33
        },
        "outputId": "9a6fa8bf-eef6-4cd0-b8b0-6e56e8b374de"
      },
      "source": [
        "from sklearn.model_selection import train_test_split\n",
        "X_train, X_test, Y_train, Y_test = train_test_split(X, Y, test_size = 0.2)\n",
        "print(X_train.shape, Y_train.shape)"
      ],
      "execution_count": 20,
      "outputs": [
        {
          "output_type": "stream",
          "text": [
            "(80,) (80,)\n"
          ],
          "name": "stdout"
        }
      ]
    },
    {
      "cell_type": "code",
      "metadata": {
        "id": "SWF73BIddZ-e",
        "colab_type": "code",
        "colab": {}
      },
      "source": [
        "X_train = np.array(X_train)\n",
        "Y_train = np.array(Y_train)\n",
        "X_test = np.array(X_test)\n",
        "Y_test = np.array(Y_test)"
      ],
      "execution_count": 0,
      "outputs": []
    },
    {
      "cell_type": "code",
      "metadata": {
        "id": "LNjXdM_kdRuv",
        "colab_type": "code",
        "colab": {}
      },
      "source": [
        "X_train = X_train.reshape(-1,1)\n",
        "X_test = X_test.reshape(-1,1)\n",
        "Y_train = Y_train.reshape(-1,1)\n",
        "Y_test = Y_test.reshape(-1,1)"
      ],
      "execution_count": 0,
      "outputs": []
    },
    {
      "cell_type": "code",
      "metadata": {
        "id": "yamUfGkxcf6-",
        "colab_type": "code",
        "colab": {
          "base_uri": "https://localhost:8080/",
          "height": 33
        },
        "outputId": "41156dc2-031a-4427-8d71-fdcb27e28ab6"
      },
      "source": [
        "from sklearn.linear_model import LinearRegression \n",
        "from sklearn.metrics import r2_score\n",
        "\n",
        "clf = LinearRegression(normalize=True)\n",
        "clf.fit(X_train,Y_train)\n",
        "Y_pred = clf.predict(X_test)\n",
        "print(r2_score(Y_test,Y_pred))\n"
      ],
      "execution_count": 26,
      "outputs": [
        {
          "output_type": "stream",
          "text": [
            "1.0\n"
          ],
          "name": "stdout"
        }
      ]
    },
    {
      "cell_type": "code",
      "metadata": {
        "id": "g_tAVxtMezSv",
        "colab_type": "code",
        "colab": {
          "base_uri": "https://localhost:8080/",
          "height": 33
        },
        "outputId": "904e09c8-ed4c-4457-e8a2-135dda6c41e1"
      },
      "source": [
        "x = np.array(200)\n",
        "x= x.reshape(-1,1)\n",
        "print(clf.predict(x))"
      ],
      "execution_count": 37,
      "outputs": [
        {
          "output_type": "stream",
          "text": [
            "[392.]\n"
          ],
          "name": "stdout"
        }
      ]
    },
    {
      "cell_type": "code",
      "metadata": {
        "id": "lkKK3eTQgodz",
        "colab_type": "code",
        "colab": {
          "base_uri": "https://localhost:8080/",
          "height": 296
        },
        "outputId": "c8b54281-912a-448b-98ae-c5d2888a2d70"
      },
      "source": [
        "plt.plot(X_test, Y_test)\n",
        "plt.scatter(data['Celcius'], data['faren'])\n",
        "plt.xlabel('Celcius')\n",
        "plt.ylabel('faren')"
      ],
      "execution_count": 38,
      "outputs": [
        {
          "output_type": "execute_result",
          "data": {
            "text/plain": [
              "Text(0, 0.5, 'faren')"
            ]
          },
          "metadata": {
            "tags": []
          },
          "execution_count": 38
        },
        {
          "output_type": "display_data",
          "data": {
            "image/png": "[encoded data removed]",
            "text/plain": [
              "<Figure size 432x288 with 1 Axes>"
            ]
          },
          "metadata": {
            "tags": []
          }
        }
      ]
    }
  ]
}