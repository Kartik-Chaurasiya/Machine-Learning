{
  "nbformat": 4,
  "nbformat_minor": 0,
  "metadata": {
    "colab": {
      "name": "Simple chatbot.ipynb",
      "provenance": [],
      "authorship_tag": "ABX9TyPB1TxKLsh149cRGuamgJGB",
      "include_colab_link": true
    },
    "kernelspec": {
      "name": "python3",
      "display_name": "Python 3"
    }
  },
  "cells": [
    {
      "cell_type": "markdown",
      "metadata": {
        "id": "view-in-github",
        "colab_type": "text"
      },
      "source": [
        "<a href=\"https://colab.research.google.com/github/Syntax-code/Machine-Learning/blob/master/Simple_chatbot.ipynb\" target=\"_parent\"><img src=\"https://colab.research.google.com/assets/colab-badge.svg\" alt=\"Open In Colab\"/></a>"
      ]
    },
    {
      "cell_type": "code",
      "metadata": {
        "id": "wTBYJzNCeitK",
        "colab_type": "code",
        "outputId": "87a1e915-6a9c-4980-8e47-1f6c9e409feb",
        "colab": {
          "resources": {
            "http://localhost:8080/nbextensions/google.colab/files.js": {
              "data": "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",
              "ok": true,
              "headers": [
                [
                  "content-type",
                  "application/javascript"
                ]
              ],
              "status": 200,
              "status_text": ""
            }
          },
          "base_uri": "https://localhost:8080/",
          "height": 91
        }
      },
      "source": [
        "from google.colab import files\n",
        "\n",
        "uploaded = files.upload()\n",
        "\n",
        "for fn in uploaded.keys():\n",
        "  print('User uploaded file \"{name}\" with length {length} bytes'.format(\n",
        "      name=fn, length=len(uploaded[fn])))"
      ],
      "execution_count": 0,
      "outputs": [
        {
          "output_type": "display_data",
          "data": {
            "text/html": [
              "\n",
              "     <input type=\"file\" id=\"files-0fc6b102-f008-45c4-aefc-4c64378e3376\" name=\"files[]\" multiple disabled />\n",
              "     <output id=\"result-0fc6b102-f008-45c4-aefc-4c64378e3376\">\n",
              "      Upload widget is only available when the cell has been executed in the\n",
              "      current browser session. Please rerun this cell to enable.\n",
              "      </output>\n",
              "      <script src=\"/nbextensions/google.colab/files.js\"></script> "
            ],
            "text/plain": [
              "<IPython.core.display.HTML object>"
            ]
          },
          "metadata": {
            "tags": []
          }
        },
        {
          "output_type": "stream",
          "text": [
            "Saving test.txt to test.txt\n",
            "User uploaded file \"test.txt\" with length 18765 bytes\n"
          ],
          "name": "stdout"
        }
      ]
    },
    {
      "cell_type": "code",
      "metadata": {
        "id": "sKvd-2DTgrVX",
        "colab_type": "code",
        "colab": {}
      },
      "source": [
        "import nltk\n",
        "import numpy as np\n",
        "import random\n",
        "import string # to process standard python strings"
      ],
      "execution_count": 0,
      "outputs": []
    },
    {
      "cell_type": "code",
      "metadata": {
        "id": "f26MJFNGgt2L",
        "colab_type": "code",
        "outputId": "ab2f30ec-3e09-441e-f5c8-afece9046a4c",
        "colab": {
          "base_uri": "https://localhost:8080/",
          "height": 84
        }
      },
      "source": [
        "f = open('test.txt', 'r', errors = 'ignore')\n",
        "raw = f.read()\n",
        "raw = raw.lower()\n",
        "nltk.download('punkt') # first-time use only\n",
        "nltk.download('wordnet') # first-time use only\n",
        "sent_tokens = nltk.sent_tokenize(raw)# converts to list of sentences \n",
        "word_tokens = nltk.word_tokenize(raw)# converts to list of words"
      ],
      "execution_count": 0,
      "outputs": [
        {
          "output_type": "stream",
          "text": [
            "[nltk_data] Downloading package punkt to /root/nltk_data...\n",
            "[nltk_data]   Unzipping tokenizers/punkt.zip.\n",
            "[nltk_data] Downloading package wordnet to /root/nltk_data...\n",
            "[nltk_data]   Unzipping corpora/wordnet.zip.\n"
          ],
          "name": "stdout"
        }
      ]
    },
    {
      "cell_type": "code",
      "metadata": {
        "id": "kZcgflHSizCI",
        "colab_type": "code",
        "outputId": "5ed82999-a68d-41f6-f256-fcfcf24df827",
        "colab": {
          "base_uri": "https://localhost:8080/",
          "height": 54
        }
      },
      "source": [
        "print(word_tokens)"
      ],
      "execution_count": 0,
      "outputs": [
        {
          "output_type": "stream",
          "text": [
            "['a', 'chatbot', 'is', 'a', 'software', 'application', 'used', 'to', 'conduct', 'an', 'on-line', 'chat', 'conversation', 'via', 'text', 'or', 'text-to-speech', ',', 'in', 'lieu', 'of', 'providing', 'direct', 'contact', 'with', 'a', 'live', 'human', 'agent', '.', '[', '1', ']', 'designed', 'to', 'convincingly', 'simulate', 'the', 'way', 'a', 'human', 'would', 'behave', 'as', 'a', 'conversational', 'partner', ',', 'chatbot', 'systems', 'typically', 'require', 'continuous', 'tuning', 'and', 'testing', ',', 'and', 'many', 'in', 'production', 'remain', 'unable', 'to', 'adequately', 'converse', 'or', 'pass', 'the', 'industry', 'standard', 'turing', 'test', '.', '[', '2', ']', 'the', 'term', '``', 'chatterbot', \"''\", 'was', 'originally', 'coined', 'by', 'michael', 'mauldin', '(', 'creator', 'of', 'the', 'first', 'verbot', ')', 'in', '1994', 'to', 'describe', 'these', 'conversational', 'programs', '.', '[', '3', ']', 'chatbots', 'are', 'typically', 'used', 'in', 'dialog', 'systems', 'for', 'various', 'purposes', 'including', 'customer', 'service', ',', 'request', 'routing', ',', 'or', 'for', 'information', 'gathering', '.', 'while', 'some', 'chatbot', 'applications', 'use', 'extensive', 'word-classification', 'processes', ',', 'natural', 'language', 'processors', ',', 'and', 'sophisticated', 'ai', ',', 'others', 'simply', 'scan', 'for', 'general', 'keywords', 'and', 'generate', 'responses', 'using', 'common', 'phrases', 'obtained', 'from', 'an', 'associated', 'library', 'or', 'database', '.', 'today', ',', 'most', 'chatbots', 'are', 'accessed', 'on-line', 'via', 'website', 'popups', ',', 'or', 'through', 'virtual', 'assistants', 'such', 'as', 'google', 'assistant', ',', 'amazon', 'alexa', ',', 'or', 'messaging', 'apps', 'such', 'as', 'facebook', 'messenger', 'or', 'wechat', '.', '[', '4', ']', '[', '5', ']', 'chatbots', 'are', 'typically', 'classified', 'into', 'usage', 'categories', 'that', 'include', ':', 'commerce', '(', 'e-commerce', 'via', 'chat', ')', ',', 'education', ',', 'entertainment', ',', 'finance', ',', 'health', ',', 'news', ',', 'and', 'productivity', '.', '[', '6', ']', 'background', 'in', '1950', ',', 'alan', 'turing', \"'s\", 'famous', 'article', '``', 'computing', 'machinery', 'and', 'intelligence', \"''\", 'was', 'published', ',', '[', '7', ']', 'which', 'proposed', 'what', 'is', 'now', 'called', 'the', 'turing', 'test', 'as', 'a', 'criterion', 'of', 'intelligence', '.', 'this', 'criterion', 'depends', 'on', 'the', 'ability', 'of', 'a', 'computer', 'program', 'to', 'impersonate', 'a', 'human', 'in', 'a', 'real-time', 'written', 'conversation', 'with', 'a', 'human', 'judge', 'to', 'the', 'extent', 'that', 'the', 'judge', 'is', 'unable', 'to', 'distinguish', 'reliably—on', 'the', 'basis', 'of', 'the', 'conversational', 'content', 'alone—between', 'the', 'program', 'and', 'a', 'real', 'human', '.', 'the', 'notoriety', 'of', 'turing', \"'s\", 'proposed', 'test', 'stimulated', 'great', 'interest', 'in', 'joseph', 'weizenbaum', \"'s\", 'program', 'eliza', ',', 'published', 'in', '1966', ',', 'which', 'seemed', 'to', 'be', 'able', 'to', 'fool', 'users', 'into', 'believing', 'that', 'they', 'were', 'conversing', 'with', 'a', 'real', 'human', '.', 'however', 'weizenbaum', 'himself', 'did', 'not', 'claim', 'that', 'eliza', 'was', 'genuinely', 'intelligent', ',', 'and', 'the', 'introduction', 'to', 'his', 'paper', 'presented', 'it', 'more', 'as', 'a', 'debunking', 'exercise', ':', '[', 'in', ']', 'artificial', 'intelligence', '...', 'machines', 'are', 'made', 'to', 'behave', 'in', 'wondrous', 'ways', ',', 'often', 'sufficient', 'to', 'dazzle', 'even', 'the', 'most', 'experienced', 'observer', '.', 'but', 'once', 'a', 'particular', 'program', 'is', 'unmasked', ',', 'once', 'its', 'inner', 'workings', 'are', 'explained', '...', 'its', 'magic', 'crumbles', 'away', ';', 'it', 'stands', 'revealed', 'as', 'a', 'mere', 'collection', 'of', 'procedures', '...', 'the', 'observer', 'says', 'to', 'himself', '``', 'i', 'could', 'have', 'written', 'that', \"''\", '.', 'with', 'that', 'thought', ',', 'he', 'moves', 'the', 'program', 'in', 'question', 'from', 'the', 'shelf', 'marked', '``', 'intelligent', \"''\", ',', 'to', 'that', 'reserved', 'for', 'curios', '...', 'the', 'object', 'of', 'this', 'paper', 'is', 'to', 'cause', 'just', 'such', 'a', 're-evaluation', 'of', 'the', 'program', 'about', 'to', 'be', '``', 'explained', \"''\", '.', 'few', 'programs', 'ever', 'needed', 'it', 'more', '.', '[', '8', ']', 'eliza', \"'s\", 'key', 'method', 'of', 'operation', '(', 'copied', 'by', 'chatbot', 'designers', 'ever', 'since', ')', 'involves', 'the', 'recognition', 'of', 'clue', 'words', 'or', 'phrases', 'in', 'the', 'input', ',', 'and', 'the', 'output', 'of', 'corresponding', 'pre-prepared', 'or', 'pre-programmed', 'responses', 'that', 'can', 'move', 'the', 'conversation', 'forward', 'in', 'an', 'apparently', 'meaningful', 'way', '(', 'e.g', '.', 'by', 'responding', 'to', 'any', 'input', 'that', 'contains', 'the', 'word', \"'mother\", \"'\", 'with', \"'tell\", 'me', 'more', 'about', 'your', 'family', \"'\", ')', '.', '[', '9', ']', 'thus', 'an', 'illusion', 'of', 'understanding', 'is', 'generated', ',', 'even', 'though', 'the', 'processing', 'involved', 'has', 'been', 'merely', 'superficial', '.', 'eliza', 'showed', 'that', 'such', 'an', 'illusion', 'is', 'surprisingly', 'easy', 'to', 'generate', 'because', 'human', 'judges', 'are', 'so', 'ready', 'to', 'give', 'the', 'benefit', 'of', 'the', 'doubt', 'when', 'conversational', 'responses', 'are', 'capable', 'of', 'being', 'interpreted', 'as', '``', 'intelligent', \"''\", '.', 'interface', 'designers', 'have', 'come', 'to', 'appreciate', 'that', 'humans', \"'\", 'readiness', 'to', 'interpret', 'computer', 'output', 'as', 'genuinely', 'conversational—even', 'when', 'it', 'is', 'actually', 'based', 'on', 'rather', 'simple', 'pattern-matching—can', 'be', 'exploited', 'for', 'useful', 'purposes', '.', 'most', 'people', 'prefer', 'to', 'engage', 'with', 'programs', 'that', 'are', 'human-like', ',', 'and', 'this', 'gives', 'chatbot-style', 'techniques', 'a', 'potentially', 'useful', 'role', 'in', 'interactive', 'systems', 'that', 'need', 'to', 'elicit', 'information', 'from', 'users', ',', 'as', 'long', 'as', 'that', 'information', 'is', 'relatively', 'straightforward', 'and', 'falls', 'into', 'predictable', 'categories', '.', 'thus', ',', 'for', 'example', ',', 'online', 'help', 'systems', 'can', 'usefully', 'employ', 'chatbot', 'techniques', 'to', 'identify', 'the', 'area', 'of', 'help', 'that', 'users', 'require', ',', 'potentially', 'providing', 'a', '``', 'friendlier', \"''\", 'interface', 'than', 'a', 'more', 'formal', 'search', 'or', 'menu', 'system', '.', 'this', 'sort', 'of', 'usage', 'holds', 'the', 'prospect', 'of', 'moving', 'chatbot', 'technology', 'from', 'weizenbaum', \"'s\", '``', 'shelf', '...', 'reserved', 'for', 'curios', \"''\", 'to', 'that', 'marked', '``', 'genuinely', 'useful', 'computational', 'methods', \"''\", '.', 'development', 'among', 'the', 'most', 'notable', 'early', 'chatbots', 'are', 'eliza', '(', '1966', ')', 'and', 'parry', '(', '1972', ')', '.', '[', '10', ']', '[', '11', ']', '[', '12', ']', '[', '13', ']', 'more', 'recent', 'notable', 'programs', 'include', 'a.l.i.c.e.', ',', 'jabberwacky', 'and', 'd.u.d.e', '(', 'agence', 'nationale', 'de', 'la', 'recherche', 'and', 'cnrs', '2006', ')', '.', 'while', 'eliza', 'and', 'parry', 'were', 'used', 'exclusively', 'to', 'simulate', 'typed', 'conversation', ',', 'many', 'chatbots', 'now', 'include', 'other', 'functional', 'features', ',', 'such', 'as', 'games', 'and', 'web', 'searching', 'abilities', '.', 'in', '1984', ',', 'a', 'book', 'called', 'the', 'policeman', \"'s\", 'beard', 'is', 'half', 'constructed', 'was', 'published', ',', 'allegedly', 'written', 'by', 'the', 'chatbot', 'racter', '(', 'though', 'the', 'program', 'as', 'released', 'would', 'not', 'have', 'been', 'capable', 'of', 'doing', 'so', ')', '.', '[', '14', ']', 'one', 'pertinent', 'field', 'of', 'ai', 'research', 'is', 'natural', 'language', 'processing', '.', 'usually', ',', 'weak', 'ai', 'fields', 'employ', 'specialized', 'software', 'or', 'programming', 'languages', 'created', 'specifically', 'for', 'the', 'narrow', 'function', 'required', '.', 'for', 'example', ',', 'a.l.i.c.e', '.', 'uses', 'a', 'markup', 'language', 'called', 'aiml', ',', 'which', 'is', 'specific', 'to', 'its', 'function', 'as', 'a', 'conversational', 'agent', ',', 'and', 'has', 'since', 'been', 'adopted', 'by', 'various', 'other', 'developers', 'of', ',', 'so-called', ',', 'alicebots', '.', 'nevertheless', ',', 'a.l.i.c.e', '.', 'is', 'still', 'purely', 'based', 'on', 'pattern', 'matching', 'techniques', 'without', 'any', 'reasoning', 'capabilities', ',', 'the', 'same', 'technique', 'eliza', 'was', 'using', 'back', 'in', '1966.', 'this', 'is', 'not', 'strong', 'ai', ',', 'which', 'would', 'require', 'sapience', 'and', 'logical', 'reasoning', 'abilities', '.', 'jabberwacky', 'learns', 'new', 'responses', 'and', 'context', 'based', 'on', 'real-time', 'user', 'interactions', ',', 'rather', 'than', 'being', 'driven', 'from', 'a', 'static', 'database', '.', 'some', 'more', 'recent', 'chatbots', 'also', 'combine', 'real-time', 'learning', 'with', 'evolutionary', 'algorithms', 'that', 'optimise', 'their', 'ability', 'to', 'communicate', 'based', 'on', 'each', 'conversation', 'held', '.', 'still', ',', 'there', 'is', 'currently', 'no', 'general', 'purpose', 'conversational', 'artificial', 'intelligence', ',', 'and', 'some', 'software', 'developers', 'focus', 'on', 'the', 'practical', 'aspect', ',', 'information', 'retrieval', '.', 'chatbot', 'competitions', 'focus', 'on', 'the', 'turing', 'test', 'or', 'more', 'specific', 'goals', '.', 'two', 'such', 'annual', 'contests', 'are', 'the', 'loebner', 'prize', 'and', 'the', 'chatterbox', 'challenge', '(', 'the', 'latter', 'has', 'been', 'offline', 'since', '2015', ',', 'however', ',', 'materials', 'can', 'still', 'be', 'found', 'from', 'web', 'archives', ')', '.', '[', '15', ']', 'dbpedia', 'created', 'a', 'chatbot', 'during', 'the', 'gsoc', 'of', '2017', '.', '[', '16', ']', '[', '17', ']', '[', '18', ']', 'and', 'can', 'communicate', 'through', 'facebook', 'messenger', '.', 'dbpedia', 'started', 'in', '2007', 'and', 'allows', 'to', 'extract', 'structured', 'content', 'from', 'the', 'wikipedia', 'dataset', ',', 'along', 'with', 'many', 'other', 'datasets', '.', 'dbpedia', 'is', 'currently', 'one', 'of', 'the', 'biggest', 'representatives', 'of', 'linked', 'open', 'data', '(', 'lod', ')', '.', '[', '19', ']', 'application', 'see', 'also', ':', 'virtual', 'assistant', 'aeromexico', 'airline', 'chatbot', 'running', 'on', 'facebook', 'messenger', ',', 'march', '2018', 'aeromexico', 'airline', 'chatbot', 'running', 'on', 'facebook', 'messenger', ',', 'march', '2018', 'messaging', 'apps', 'many', 'companies', \"'\", 'chatbots', 'run', 'on', 'messaging', 'apps', 'or', 'simply', 'via', 'sms', '.', 'they', 'are', 'used', 'for', 'b2c', 'customer', 'service', ',', 'sales', 'and', 'marketing', '.', '[', '20', ']', 'in', '2016', ',', 'facebook', 'messenger', 'allowed', 'developers', 'to', 'place', 'chatbots', 'on', 'their', 'platform', '.', 'there', 'were', '30,000', 'bots', 'created', 'for', 'messenger', 'in', 'the', 'first', 'six', 'months', ',', 'rising', 'to', '100,000', 'by', 'september', '2017', '.', '[', '21', ']', 'since', 'september', '2017', ',', 'this', 'has', 'also', 'been', 'as', 'part', 'of', 'a', 'pilot', 'program', 'on', 'whatsapp', '.', 'airlines', 'klm', 'and', 'aeroméxico', 'both', 'announced', 'their', 'participation', 'in', 'the', 'testing', ';', '[', '22', ']', '[', '23', ']', '[', '24', ']', '[', '25', ']', 'both', 'airlines', 'had', 'previously', 'launched', 'customer', 'services', 'on', 'the', 'facebook', 'messenger', 'platform', '.', 'the', 'bots', 'usually', 'appear', 'as', 'one', 'of', 'the', 'user', \"'s\", 'contacts', ',', 'but', 'can', 'sometimes', 'act', 'as', 'participants', 'in', 'a', 'group', 'chat', '.', 'many', 'banks', ',', 'insurers', ',', 'media', 'companies', ',', 'e-commerce', 'companies', ',', 'airlines', ',', 'hotel', 'chains', ',', 'retailers', ',', 'health', 'care', 'providers', ',', 'government', 'entities', 'and', 'restaurant', 'chains', 'have', 'used', 'chatbots', 'to', 'answer', 'simple', 'questions', ',', 'increase', 'customer', 'engagement', ',', '[', '26', ']', 'for', 'promotion', ',', 'and', 'to', 'offer', 'additional', 'ways', 'to', 'order', 'from', 'them', '.', '[', '27', ']', '[', '28', ']', 'a', '2017', 'study', 'showed', '4', '%', 'of', 'companies', 'used', 'chatbots', '.', '[', '29', ']', 'according', 'to', 'a', '2016', 'study', ',', '80', '%', 'of', 'businesses', 'said', 'they', 'intended', 'to', 'have', 'one', 'by', '2020', '.', '[', '30', ']', 'as', 'part', 'of', 'company', 'apps', 'and', 'websites', 'previous', 'generations', 'of', 'chatbots', 'were', 'present', 'on', 'company', 'websites', ',', 'e.g', '.', 'ask', 'jenn', 'from', 'alaska', 'airlines', 'which', 'debuted', 'in', '2008', '[', '31', ']', 'or', 'expedia', \"'s\", 'virtual', 'customer', 'service', 'agent', 'which', 'launched', 'in', '2011', '.', '[', '31', ']', '[', '32', ']', 'the', 'newer', 'generation', 'of', 'chatbots', 'includes', 'ibm', 'watson-powered', '``', 'rocky', \"''\", ',', 'introduced', 'in', 'february', '2017', 'by', 'the', 'new', 'york', 'city-based', 'e-commerce', 'company', 'rare', 'carat', 'to', 'provide', 'information', 'to', 'prospective', 'diamond', 'buyers', '.', '[', '33', ']', '[', '34', ']', 'chatbot', 'sequences', 'used', 'by', 'marketers', 'to', 'script', 'sequences', 'of', 'messages', ',', 'very', 'similar', 'to', 'an', 'autoresponder', 'sequence', '.', 'such', 'sequences', 'can', 'be', 'triggered', 'by', 'user', 'opt-in', 'or', 'the', 'use', 'of', 'keywords', 'within', 'user', 'interactions', '.', 'after', 'a', 'trigger', 'occurs', 'a', 'sequence', 'of', 'messages', 'is', 'delivered', 'until', 'the', 'next', 'anticipated', 'user', 'response', '.', 'each', 'user', 'response', 'is', 'used', 'in', 'the', 'decision', 'tree', 'to', 'help', 'the', 'chatbot', 'navigate', 'the', 'response', 'sequences', 'to', 'deliver', 'the', 'correct', 'response', 'message', '.', 'company', 'internal', 'platforms', 'other', 'companies', 'explore', 'ways', 'they', 'can', 'use', 'chatbots', 'internally', ',', 'for', 'example', 'for', 'customer', 'support', ',', 'human', 'resources', ',', 'or', 'even', 'in', 'internet-of-things', '(', 'iot', ')', 'projects', '.', 'overstock.com', ',', 'for', 'one', ',', 'has', 'reportedly', 'launched', 'a', 'chatbot', 'named', 'mila', 'to', 'automate', 'certain', 'simple', 'yet', 'time-consuming', 'processes', 'when', 'requesting', 'for', 'a', 'sick', 'leave', '.', '[', '35', ']', 'other', 'large', 'companies', 'such', 'as', 'lloyds', 'banking', 'group', ',', 'royal', 'bank', 'of', 'scotland', ',', 'renault', 'and', 'citroën', 'are', 'now', 'using', 'automated', 'online', 'assistants', 'instead', 'of', 'call', 'centres', 'with', 'humans', 'to', 'provide', 'a', 'first', 'point', 'of', 'contact', '.', 'a', 'saas', 'chatbot', 'business', 'ecosystem', 'has', 'been', 'steadily', 'growing', 'since', 'the', 'f8', 'conference', 'when', 'facebook', \"'s\", 'mark', 'zuckerberg', 'unveiled', 'that', 'messenger', 'would', 'allow', 'chatbots', 'into', 'the', 'app', '.', '[', '36', ']', 'in', 'large', 'companies', ',', 'like', 'in', 'hospitals', 'and', 'aviation', 'organizations', ',', 'it', 'architects', 'are', 'designing', 'reference', 'architectures', 'for', 'intelligent', 'chatbots', 'that', 'are', 'used', 'to', 'unlock', 'and', 'share', 'knowledge', 'and', 'experience', 'in', 'the', 'organization', 'more', 'efficiently', ',', 'and', 'reduce', 'the', 'errors', 'in', 'answers', 'from', 'expert', 'service', 'desks', 'significantly', '.', '[', '37', ']', 'these', 'intelligent', 'chatbots', 'make', 'use', 'of', 'all', 'kinds', 'of', 'artificial', 'intelligence', 'like', 'image', 'moderation', 'and', 'natural', 'language', 'understanding', '(', 'nlu', ')', ',', 'natural', 'language', 'generation', '(', 'nlg', ')', ',', 'machine', 'learning', 'and', 'deep', 'learning', '.', 'customer', 'service', 'many', 'high-tech', 'banking', 'organizations', 'are', 'looking', 'to', 'integrate', 'automated', 'ai-based', 'solutions', 'such', 'as', 'chatbots', 'into', 'their', 'customer', 'service', 'in', 'order', 'to', 'provide', 'faster', 'and', 'cheaper', 'assistance', 'to', 'their', 'clients', 'who', 'are', 'becoming', 'increasingly', 'comfortable', 'with', 'technology', '.', 'in', 'particular', ',', 'chatbots', 'can', 'efficiently', 'conduct', 'a', 'dialogue', ',', 'usually', 'replacing', 'other', 'communication', 'tools', 'such', 'as', 'email', ',', 'phone', ',', 'or', 'sms', '.', 'in', 'banking', ',', 'their', 'major', 'application', 'is', 'related', 'to', 'quick', 'customer', 'service', 'answering', 'common', 'requests', ',', 'as', 'well', 'as', 'transactional', 'support', '.', 'several', 'studies', 'report', 'significant', 'reduction', 'in', 'the', 'cost', 'of', 'customer', 'services', ',', 'expected', 'to', 'lead', 'to', 'billions', 'of', 'dollars', 'of', 'economic', 'savings', 'in', 'the', 'next', '10', 'years', '.', '[', '38', ']', 'in', '2019', ',', 'gartner', 'predicted', 'that', 'by', '2021', ',', '15', '%', 'of', 'all', 'customer', 'service', 'interactions', 'globally', 'will', 'be', 'handled', 'completely', 'by', 'ai', '.', '[', '39', ']', 'a', 'study', 'by', 'juniper', 'research', 'in', '2019', 'estimates', 'retail', 'sales', 'resulting', 'from', 'chatbot-based', 'interactions', 'will', 'reach', '$', '112', 'billion', 'by', '2023', '.', '[', '40', ']', 'since', '2016', 'when', 'facebook', 'allowed', 'businesses', 'to', 'deliver', 'automated', 'customer', 'support', ',', 'e-commerce', 'guidance', ',', 'content', 'and', 'interactive', 'experiences', 'through', 'chatbots', ',', 'a', 'large', 'variety', 'of', 'chatbots', 'were', 'developed', 'for', 'the', 'facebook', 'messenger', 'platform', '.', '[', '41', ']', 'in', '2016', ',', 'russia-based', 'tochka', 'bank', 'launched', 'the', 'world', \"'s\", 'first', 'facebook', 'bot', 'for', 'a', 'range', 'of', 'financial', 'services', ',', 'including', 'a', 'possibility', 'of', 'making', 'payments', '.', '[', '42', ']', 'in', 'july', '2016', ',', 'barclays', 'africa', 'also', 'launched', 'a', 'facebook', 'chatbot', ',', 'making', 'it', 'the', 'first', 'bank', 'to', 'do', 'so', 'in', 'africa', '.', '[', '43', ']', 'the', 'france', \"'s\", 'third', 'largest', 'bank', 'by', 'total', 'assets', '[', '44', ']', 'société', 'générale', 'launched', 'their', 'chatbot', 'called', 'sobot', 'in', 'march', '2018.', 'while', '80', '%', 'of', 'users', 'of', 'the', 'sobot', 'expressed', 'their', 'satisfaction', 'after', 'having', 'tested', 'it', ',', 'société', 'générale', 'deputy', 'director', 'bertrand', 'cozzarolo', 'stated', 'that', 'it', 'will', 'never', 'replace', 'the', 'expertise', 'provided', 'by', 'a', 'human', 'advisor', '.', '[', '45', ']', 'the', 'advantages', 'of', 'using', 'chatbots', 'for', 'customer', 'interactions', 'in', 'banking', 'include', 'cost', 'reduction', ',', 'financial', 'advice', ',', 'and', '24/7', 'support', '.', '[', '46', ']', '[', '47', ']', 'healthcare', 'see', 'also', ':', 'artificial', 'intelligence', 'in', 'healthcare', 'chatbots', 'are', 'also', 'appearing', 'in', 'the', 'healthcare', 'industry', '.', '[', '48', ']', '[', '49', ']', '[', '50', ']', 'a', 'study', 'suggested', 'that', 'physicians', 'in', 'the', 'united', 'states', 'believed', 'that', 'chatbots', 'would', 'be', 'most', 'beneficial', 'for', 'scheduling', 'doctor', 'appointments', ',', 'locating', 'health', 'clinics', ',', 'or', 'providing', 'medication', 'information', '.', '[', '51', ']', 'certain', 'patient', 'groups', 'are', 'still', 'reluctant', 'to', 'use', 'chatbots', '.', 'a', 'mixed-methods', 'study', 'showed', 'that', 'people', 'are', 'still', 'hesitant', 'to', 'use', 'chatbots', 'for', 'their', 'healthcare', 'due', 'to', 'poor', 'understanding', 'of', 'the', 'technological', 'complexity', ',', 'the', 'lack', 'of', 'empathy', 'and', 'concerns', 'about', 'cyber-security', '.', '[', '52', ']', 'the', 'analysis', 'showed', 'that', 'while', '6', '%', 'had', 'heard', 'of', 'a', 'health', 'chatbot', 'and', '3', '%', 'had', 'experience', 'of', 'using', 'it', ',', '67', '%', 'perceived', 'themselves', 'as', 'likely', 'to', 'use', 'one', 'within', '12', 'months', '.', 'the', 'majority', 'of', 'participants', 'would', 'use', 'a', 'health', 'chatbot', 'for', 'seeking', 'general', 'health', 'information', '(', '78', '%', ')', ',', 'booking', 'a', 'medical', 'appointment', '(', '78', '%', ')', 'and', 'looking', 'for', 'local', 'health', 'services', '(', '80', '%', ')', '.', 'however', ',', 'a', 'health', 'chatbot', 'was', 'perceived', 'as', 'less', 'suitable', 'for', 'seeking', 'results', 'of', 'medical', 'tests', 'and', 'seeking', 'specialist', 'advice', 'such', 'as', 'sexual', 'health', '.', 'the', 'analysis', 'of', 'attitudinal', 'variables', 'showed', 'that', 'most', 'participants', 'reported', 'their', 'preference', 'for', 'discussing', 'their', 'health', 'with', 'doctors', '(', '73', '%', ')', 'and', 'having', 'access', 'to', 'reliable', 'and', 'accurate', 'health', 'information', '(', '93', '%', ')', '.', 'while', '80', '%', 'were', 'curious', 'about', 'new', 'technologies', 'that', 'could', 'improve', 'their', 'health', ',', '66', '%', 'reported', 'only', 'seeking', 'a', 'doctor', 'when', 'experiencing', 'a', 'health', 'problem', 'and', '65', '%', 'thought', 'that', 'a', 'chatbot', 'was', 'a', 'good', 'idea', '.', 'interestingly', ',', '30', '%', 'reported', 'dislike', 'about', 'talking', 'to', 'computers', ',', '41', '%', 'felt', 'it', 'would', 'be', 'strange', 'to', 'discuss', 'health', 'matters', 'with', 'a', 'chatbot', 'and', 'about', 'half', 'were', 'unsure', 'if', 'they', 'could', 'trust', 'the', 'advice', 'given', 'by', 'a', 'chatbot', '.', 'therefore', ',', 'perceived', 'trustworthiness', ',', 'individual', 'attitudes', 'towards', 'bots', 'and', 'dislike', 'for', 'talking', 'to', 'computers', 'are', 'the', 'main', 'barriers', 'to', 'health', 'chatbots', '.', 'during', 'the', 'covid-19', 'pandemic', ',', 'many', 'chatbots', 'were', 'deployed', 'to', 'provide', 'information', 'to', 'end', 'users', '.', '[', '53', ']', 'politics', 'see', 'also', ':', 'government', 'by', 'algorithm', '§', 'ai', 'politicians', 'in', 'new', 'zealand', ',', 'the', 'chatbot', 'sam', '-short', 'for', 'semantic', 'analysis', 'machine-', '[', '54', ']', '(', 'made', 'by', 'nick', 'gerritsen', 'of', 'touchtech', '[', '55', ']', ')', 'has', 'been', 'developed', '.', 'it', 'is', 'designed', 'to', 'share', 'its', 'political', 'thoughts', ',', 'for', 'example', 'on', 'topics', 'such', 'as', 'climate', 'change', ',', 'healthcare', 'and', 'education', ',', 'etc', '.', 'it', 'talks', 'to', 'people', 'through', 'facebook', 'messenger', '.', '[', '56', ']', '[', '57', ']', '[', '58', ']', '[', '59', ']', 'toys', 'chatbots', 'have', 'also', 'been', 'incorporated', 'into', 'devices', 'not', 'primarily', 'meant', 'for', 'computing', ',', 'such', 'as', 'toys', '.', '[', '60', ']', 'hello', 'barbie', 'is', 'an', 'internet-connected', 'version', 'of', 'the', 'doll', 'that', 'uses', 'a', 'chatbot', 'provided', 'by', 'the', 'company', 'toytalk', ',', '[', '61', ']', 'which', 'previously', 'used', 'the', 'chatbot', 'for', 'a', 'range', 'of', 'smartphone-based', 'characters', 'for', 'children', '.', '[', '62', ']', 'these', 'characters', \"'\", 'behaviors', 'are', 'constrained', 'by', 'a', 'set', 'of', 'rules', 'that', 'in', 'effect', 'emulate', 'a', 'particular', 'character', 'and', 'produce', 'a', 'storyline', '.', '[', '63', ']', 'the', 'my', 'friend', 'cayla', 'doll', 'was', 'marketed', 'as', 'a', 'line', 'of', '18-inch', '(', '46', 'cm', ')', 'dolls', 'which', 'uses', 'speech', 'recognition', 'technology', 'in', 'conjunction', 'with', 'an', 'android', 'or', 'ios', 'mobile', 'app', 'to', 'recognize', 'the', 'child', \"'s\", 'speech', 'and', 'have', 'a', 'conversation', '.', 'it', ',', 'like', 'the', 'hello', 'barbie', 'doll', ',', 'attracted', 'controversy', 'due', 'to', 'vulnerabilities', 'with', 'the', 'doll', \"'s\", 'bluetooth', 'stack', 'and', 'its', 'use', 'of', 'data', 'collected', 'from', 'the', 'child', \"'s\", 'speech', '.', 'ibm', \"'s\", 'watson', 'computer', 'has', 'been', 'used', 'as', 'the', 'basis', 'for', 'chatbot-based', 'educational', 'toys', 'for', 'companies', 'such', 'as', 'cognitoys', '[', '60', ']', 'intended', 'to', 'interact', 'with', 'children', 'for', 'educational', 'purposes', '.', '[', '64', ']', 'malicious', 'use', 'malicious', 'chatbots', 'are', 'frequently', 'used', 'to', 'fill', 'chat', 'rooms', 'with', 'spam', 'and', 'advertisements', ',', 'by', 'mimicking', 'human', 'behavior', 'and', 'conversations', 'or', 'to', 'entice', 'people', 'into', 'revealing', 'personal', 'information', ',', 'such', 'as', 'bank', 'account', 'numbers', '.', 'they', 'are', 'commonly', 'found', 'on', 'yahoo', '!', 'messenger', ',', 'windows', 'live', 'messenger', ',', 'aol', 'instant', 'messenger', 'and', 'other', 'instant', 'messaging', 'protocols', '.', 'there', 'has', 'also', 'been', 'a', 'published', 'report', 'of', 'a', 'chatbot', 'used', 'in', 'a', 'fake', 'personal', 'ad', 'on', 'a', 'dating', 'service', \"'s\", 'website', '.', '[', '65', ']', 'tay', ',', 'an', 'ai', 'chatbot', 'that', 'learns', 'from', 'previous', 'interaction', ',', 'caused', 'major', 'controversy', 'due', 'to', 'it', 'being', 'targeted', 'by', 'internet', 'trolls', 'on', 'twitter', '.', 'the', 'bot', 'was', 'exploited', ',', 'and', 'after', '16', 'hours', 'began', 'to', 'send', 'extremely', 'offensive', 'tweets', 'to', 'users', '.', 'this', 'suggests', 'that', 'although', 'the', 'bot', 'learnt', 'effectively', 'from', 'experience', ',', 'adequate', 'protection', 'was', 'not', 'put', 'in', 'place', 'to', 'prevent', 'misuse', '.', '[', '66', ']', 'if', 'a', 'text-sending', 'algorithm', 'can', 'pass', 'itself', 'off', 'as', 'a', 'human', 'instead', 'of', 'a', 'chatbot', ',', 'its', 'message', 'would', 'be', 'more', 'credible', '.', 'therefore', ',', 'human-seeming', 'chatbots', 'with', 'well-crafted', 'online', 'identities', 'could', 'start', 'scattering', 'fake', 'news', 'that', 'seem', 'plausible', ',', 'for', 'instance', 'making', 'false', 'claims', 'during', 'a', 'presidential', 'election', '.', 'with', 'enough', 'chatbots', ',', 'it', 'might', 'be', 'even', 'possible', 'to', 'achieve', 'artificial', 'social', 'proof', '.', '[', '67', ']', '[', '68', ']', 'limitations', 'of', 'chatbots', 'the', 'creation', 'and', 'implementation', 'of', 'chatbots', 'is', 'still', 'a', 'developing', 'area', ',', 'heavily', 'related', 'to', 'artificial', 'intelligence', 'and', 'machine', 'learning', ',', 'so', 'the', 'provided', 'solutions', ',', 'while', 'possessing', 'obvious', 'advantages', ',', 'have', 'some', 'important', 'limitations', 'in', 'terms', 'of', 'functionalities', 'and', 'use', 'cases', '.', 'however', 'this', 'is', 'changing', 'over', 'time', '.', 'the', 'most', 'common', 'ones', 'are', 'listed', 'below', ':', '[', '69', ']', 'as', 'the', 'database', ',', 'used', 'for', 'output', 'generation', ',', 'is', 'fixed', 'and', 'limited', ',', 'chatbots', 'can', 'fail', 'while', 'dealing', 'with', 'an', 'unsaved', 'query', '.', '[', '47', ']', 'a', 'chatbot', \"'s\", 'efficiency', 'highly', 'depends', 'on', 'language', 'processing', 'and', 'is', 'limited', 'because', 'of', 'irregularities', ',', 'such', 'as', 'accents', 'and', 'mistakes', 'that', 'can', 'create', 'an', 'important', 'barrier', 'for', 'international', 'and', 'multi-cultural', 'organisations', '[', '70', ']', 'chatbots', 'are', 'unable', 'to', 'deal', 'with', 'multiple', 'questions', 'at', 'the', 'same', 'time', 'and', 'so', 'conversation', 'opportunities', 'are', 'limited', '.', '[', '69', ']', 'chatbots', 'require', 'a', 'large', 'amount', 'of', 'conversational', 'data', 'to', 'train', '.', 'as', 'it', 'happens', 'usually', 'with', 'technology-led', 'changes', 'in', 'existing', 'services', ',', 'some', 'consumers', ',', 'more', 'often', 'than', 'not', 'from', 'the', 'old', 'generation', ',', 'are', 'uncomfortable', 'with', 'chatbots', 'due', 'to', 'their', 'limited', 'understanding', ',', 'making', 'it', 'obvious', 'that', 'their', 'requests', 'are', 'being', 'dealt', 'with', 'by', 'machines', '.', '[', '69', ']', 'chatbots', 'and', 'jobs', 'chatbots', 'are', 'increasingly', 'present', 'in', 'businesses', 'and', 'often', 'are', 'used', 'to', 'automate', 'tasks', 'that', 'do', 'not', 'require', 'skill-based', 'talents', '.', 'with', 'customer', 'service', 'taking', 'place', 'via', 'messaging', 'apps', 'as', 'well', 'as', 'phone', 'calls', ',', 'there', 'are', 'growing', 'numbers', 'of', 'use-cases', 'where', 'chatbot', 'deployment', 'gives', 'organisations', 'a', 'clear', 'return', 'on', 'investment', '.', 'call', 'centre', 'workers', 'may', 'be', 'particularly', 'at', 'risk', 'from', 'ai-driven', 'chatbots', '.', '[', '71', ']', 'a', 'study', 'by', 'forrester', '(', 'june', '2017', ')', 'predicts', 'that', '25', '%', 'of', 'today', \"'s\", 'jobs', 'will', 'most', 'likely', 'be', 'impacted', 'by', 'ai', 'technologies', 'by', '2019', '.']\n"
          ],
          "name": "stdout"
        }
      ]
    },
    {
      "cell_type": "code",
      "metadata": {
        "id": "rRdHkTE6jOEh",
        "colab_type": "code",
        "colab": {}
      },
      "source": [
        "lemmer = nltk.stem.WordNetLemmatizer()\n",
        "#WordNet is a semantically-oriented dictionary of English included in NLTK.\n",
        "def LemTokens(tokens):\n",
        "    return [lemmer.lemmatize(token) for token in tokens]\n",
        "remove_punct_dict = dict((ord(punct), None) for punct in string.punctuation)\n",
        "def LemNormalize(text):\n",
        "    return LemTokens(nltk.word_tokenize(text.lower().translate(remove_punct_dict)))"
      ],
      "execution_count": 0,
      "outputs": []
    },
    {
      "cell_type": "code",
      "metadata": {
        "id": "QQgOBhcUozdy",
        "colab_type": "code",
        "colab": {}
      },
      "source": [
        "GREETING_INPUTS = (\"hello\", \"hi\", \"greetings\", \"sup\", \"what's up\",\"hey\",)\n",
        "GREETING_RESPONSES = [\"hi\", \"hey\", \"*nods*\", \"hi there\", \"hello\", \"I am glad! You are talking to me\"]\n",
        "def greeting(sentence):\n",
        " \n",
        "    for word in sentence.split():\n",
        "        if word.lower() in GREETING_INPUTS:\n",
        "            return random.choice(GREETING_RESPONSES)"
      ],
      "execution_count": 0,
      "outputs": []
    },
    {
      "cell_type": "code",
      "metadata": {
        "id": "-Y0AKh6ao7cJ",
        "colab_type": "code",
        "colab": {}
      },
      "source": [
        "from sklearn.feature_extraction.text import TfidfVectorizer"
      ],
      "execution_count": 0,
      "outputs": []
    },
    {
      "cell_type": "code",
      "metadata": {
        "id": "r3gQBiAvpNTf",
        "colab_type": "code",
        "colab": {}
      },
      "source": [
        "from sklearn.metrics.pairwise import cosine_similarity"
      ],
      "execution_count": 0,
      "outputs": []
    },
    {
      "cell_type": "code",
      "metadata": {
        "id": "gwN8ihjnpPb3",
        "colab_type": "code",
        "colab": {}
      },
      "source": [
        "def response(user_response):\n",
        "    robo_response=''\n",
        "    sent_tokens.append(user_response)\n",
        "    TfidfVec = TfidfVectorizer(tokenizer=LemNormalize, stop_words='english')\n",
        "    tfidf = TfidfVec.fit_transform(sent_tokens)\n",
        "    vals = cosine_similarity(tfidf[-1], tfidf)\n",
        "    idx=vals.argsort()[0][-2]\n",
        "    flat = vals.flatten()\n",
        "    flat.sort()\n",
        "    req_tfidf = flat[-2]\n",
        "    if(req_tfidf==0):\n",
        "        robo_response=robo_response+\"I am sorry! I don't understand you\"\n",
        "        return robo_response\n",
        "    else:\n",
        "        robo_response = robo_response+sent_tokens[idx]\n",
        "        return robo_response"
      ],
      "execution_count": 0,
      "outputs": []
    },
    {
      "cell_type": "code",
      "metadata": {
        "id": "btARwiawqC-A",
        "colab_type": "code",
        "outputId": "8cbf8a95-1a83-4aff-facd-5997aff9de81",
        "colab": {
          "base_uri": "https://localhost:8080/",
          "height": 406
        }
      },
      "source": [
        "flag=True\n",
        "print(\"ROBO: My name is Robo. I will answer your queries about Chatbots. If you want to exit, type Bye!\")\n",
        "while(flag==True):\n",
        "    user_response = input()\n",
        "    user_response=user_response.lower()\n",
        "    if(user_response!='bye'):\n",
        "        if(user_response=='thanks' or user_response=='thank you' ):\n",
        "            flag=False\n",
        "            print(\"ROBO: You are welcome..\")\n",
        "        else:\n",
        "            if(greeting(user_response)!=None):\n",
        "                print(\"ROBO: \"+greeting(user_response))\n",
        "            else:\n",
        "                print(\"ROBO: \",end=\"\")\n",
        "                print(response(user_response))\n",
        "                sent_tokens.remove(user_response)\n",
        "    else:\n",
        "        flag=False\n",
        "        print(\"ROBO: Bye! take care..\")"
      ],
      "execution_count": 0,
      "outputs": [
        {
          "output_type": "stream",
          "text": [
            "ROBO: My name is Robo. I will answer your queries about Chatbots. If you want to exit, type Bye!\n",
            "hello\n",
            "ROBO: hi there\n",
            "who is eliza\n"
          ],
          "name": "stdout"
        },
        {
          "output_type": "stream",
          "text": [
            "/usr/local/lib/python3.6/dist-packages/sklearn/feature_extraction/text.py:385: UserWarning: Your stop_words may be inconsistent with your preprocessing. Tokenizing the stop words generated tokens ['ha', 'le', 'u', 'wa'] not in stop_words.\n",
            "  'stop_words.' % sorted(inconsistent))\n"
          ],
          "name": "stderr"
        },
        {
          "output_type": "stream",
          "text": [
            "ROBO: development\n",
            "among the most notable early chatbots are eliza (1966) and parry (1972).\n",
            "what is Chatbots are typically used for\n"
          ],
          "name": "stdout"
        },
        {
          "output_type": "stream",
          "text": [
            "/usr/local/lib/python3.6/dist-packages/sklearn/feature_extraction/text.py:385: UserWarning: Your stop_words may be inconsistent with your preprocessing. Tokenizing the stop words generated tokens ['ha', 'le', 'u', 'wa'] not in stop_words.\n",
            "  'stop_words.' % sorted(inconsistent))\n"
          ],
          "name": "stderr"
        },
        {
          "output_type": "stream",
          "text": [
            "ROBO: [3]\n",
            "\n",
            "chatbots are typically used in dialog systems for various purposes including customer service, request routing, or for information gathering.\n",
            "what is natural language processing?\n"
          ],
          "name": "stdout"
        },
        {
          "output_type": "stream",
          "text": [
            "/usr/local/lib/python3.6/dist-packages/sklearn/feature_extraction/text.py:385: UserWarning: Your stop_words may be inconsistent with your preprocessing. Tokenizing the stop words generated tokens ['ha', 'le', 'u', 'wa'] not in stop_words.\n",
            "  'stop_words.' % sorted(inconsistent))\n"
          ],
          "name": "stderr"
        },
        {
          "output_type": "stream",
          "text": [
            "ROBO: [14]\n",
            "\n",
            "one pertinent field of ai research is natural language processing.\n",
            "thank you\n",
            "ROBO: You are welcome..\n"
          ],
          "name": "stdout"
        }
      ]
    },
    {
      "cell_type": "markdown",
      "metadata": {
        "id": "BPe24dvZsmKs",
        "colab_type": "text"
      },
      "source": [
        "TF-IDF Approach = term frequency * inverse document frequency\n",
        "\n",
        "term frequency of a word in a document.  \n",
        "\n",
        "inverse document frequency = This metric can be calculated by taking the total number of documents, dividing it by the number of documents that contain a word, and calculating the logarithm.\n",
        "So, if the word is very common and appears in many documents, this number will approach 0. Otherwise, it will approach 1.\n",
        "\n",
        "\n",
        "\n",
        "  ,    Cosine Similarity ????????"
      ]
    }
  ]
}